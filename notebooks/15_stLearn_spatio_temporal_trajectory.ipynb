{
 "cells": [
  {
   "cell_type": "markdown",
   "id": "019d9694-8133-44c3-bf09-28647804db71",
   "metadata": {},
   "source": [
    "# Spatial transcriptomics unveils the in situ cellular and molecular hallmarks of the lung in fatal COVID-19"
   ]
  },
  {
   "cell_type": "markdown",
   "id": "a649989d-0340-4a0f-a0a7-bb4d6baa871a",
   "metadata": {},
   "source": [
    "# Spatio-temporal trajectory inference analysis"
   ]
  },
  {
   "cell_type": "markdown",
   "id": "1080a15b-0edd-431c-b76b-404a734e1a43",
   "metadata": {},
   "source": [
    "**Author:** Carlos A. Garcia-Prieto\n",
    "\n",
    "* This notebook explains the spatio-temporal trajectory inference analysis to characterize AT2-AT1 differentiation using [stLearn.](https://stlearn.readthedocs.io/en/latest/)\n",
    "* We followed stLearn spatial trajectory inference analysis [tutorial.](https://stlearn.readthedocs.io/en/latest/tutorials/Pseudo-time-space-tutorial.html)"
   ]
  },
  {
   "cell_type": "markdown",
   "id": "60e8f2a8-c9eb-4c00-b305-b8612277ba5d",
   "metadata": {},
   "source": [
    "## Import modules"
   ]
  },
  {
   "cell_type": "code",
   "execution_count": 1,
   "id": "a48c3b49-4d58-4b01-9447-a27d3c8cceac",
   "metadata": {},
   "outputs": [],
   "source": [
    "import warnings\n",
    "warnings.filterwarnings(\"ignore\")\n",
    "import stlearn as st\n",
    "import scanpy as sc\n",
    "import numpy, warnings\n",
    "numpy.warnings = warnings\n",
    "import matplotlib.pyplot as plt \n",
    "import matplotlib as mpl\n",
    "import numpy as np\n",
    "import pandas as pd"
   ]
  },
  {
   "cell_type": "code",
   "execution_count": 2,
   "id": "1ec2105d-65eb-47d5-8a4c-983e683c9d34",
   "metadata": {},
   "outputs": [],
   "source": [
    "#Set result folders\n",
    "stlearn_folder = \"/Users/carlosgarciaprieto/Proyectos_IJC/Spatial/COVID/Results/Python/HLCA_publication/Results/cell2location_map_finest/Plots/stlearn/Paper/Laptop\"\n",
    "#stlearn_test_folder = \"/Users/carlosgarciaprieto/Proyectos_IJC/Spatial/COVID/Results/Python/HLCA_publication/Results/cell2location_map_finest/Plots/stlearn/Paper/Laptop\"\n",
    "#liana_folder = \"/Users/carlosgarciaprieto/Proyectos_IJC/Spatial/COVID/Results/Python/HLCA_publication/Results/cell2location_map_finest/Plots/stlearn/Paper/Laptop\"\n",
    "#results_folder = \"/Users/carlosgarciaprieto/Proyectos_IJC/Spatial/COVID/Results/Python/HLCA_publication/Results/cell2location_map_finest/Plots/stlearn/Paper/Laptop\""
   ]
  },
  {
   "cell_type": "code",
   "execution_count": 3,
   "id": "8de78b42-28ca-4c26-8220-89be879e9876",
   "metadata": {},
   "outputs": [],
   "source": [
    "#Read anndata with TF enrichment results:\n",
    "adata_file = f\"{stlearn_folder}/ad_vis_post_distrib_finest_discrete_region_NMF_lineage_decoupler_mlm_Paper.h5ad\"\n",
    "adata = sc.read_h5ad(adata_file)"
   ]
  },
  {
   "cell_type": "code",
   "execution_count": 4,
   "id": "39217729-09c3-46c1-9f5f-3b508a44163d",
   "metadata": {},
   "outputs": [],
   "source": [
    "# Convert AnnData object to work with stLearn\n",
    "adata.var_names = adata.var_names.astype(str)\n",
    "adata = st.convert_scanpy(adata)"
   ]
  },
  {
   "cell_type": "code",
   "execution_count": 5,
   "id": "ba564e1e-1e4e-4209-8fb6-88fd309240de",
   "metadata": {},
   "outputs": [],
   "source": [
    "#Set samples by condition\n",
    "covid19_proliferative = [\"L2P\",\"L19P\",\"L11P\",\"HRC5\",\"HRC6\",\"HRC8\",\"HRC10\",\"HRC11\",\"HRC12\",\"HRC13\",\"HRC16\",\"HRC17\"]\n",
    "covid19_acute = [\"L5P\",\"L14P\",\"L24P\",\"L12P\",\"HRC2\",\"HRC4\",\"HRC18\"]\n",
    "controls = [\"L3C\",\"L14C\",\"L2C\",\"CONTROL2\"]\n",
    "covid19 = [\"L5P\",\"L14P\",\"L24P\",\"L12P\",\"HRC2\",\"HRC4\",\"HRC18\",\"L2P\",\"L19P\",\"L11P\",\"HRC5\",\"HRC6\",\"HRC8\",\"HRC10\",\"HRC11\",\"HRC12\",\"HRC13\",\"HRC16\",\"HRC17\"]"
   ]
  },
  {
   "cell_type": "code",
   "execution_count": 6,
   "id": "cda8bb56-4437-4ac1-833c-ec5abd346332",
   "metadata": {},
   "outputs": [],
   "source": [
    "#Select proliferative DAD case with sufficient AT2 and AT1 cells\n",
    "sample = [\"HRC11\"]\n",
    "sample_name = \"HRC11\"\n",
    "adata_covid = adata[adata.obs['sample'].isin(sample)]"
   ]
  },
  {
   "cell_type": "markdown",
   "id": "4f70d66f-3cca-4bbb-b93b-694d17f57aa2",
   "metadata": {},
   "source": [
    "## Select cell types of interest: pneumocytes"
   ]
  },
  {
   "cell_type": "code",
   "execution_count": 7,
   "id": "079f8c2c-076d-4c56-a143-c1f0f414bc4d",
   "metadata": {},
   "outputs": [],
   "source": [
    "#Subset annData object with pneumocytes\n",
    "adata_covid_AT = adata_covid.copy()"
   ]
  },
  {
   "cell_type": "code",
   "execution_count": 8,
   "id": "3dc331e2-a93c-4537-8926-299f994cdce4",
   "metadata": {},
   "outputs": [],
   "source": [
    "#Select spots enriched in pneumocytes\n",
    "adata_covid_AT = adata_covid_AT[adata_covid_AT.obs[\"Max_Abundance_Cell\"].isin([\"AT1\",\"AT2\",\"AT2 proliferating\",\"AT0\"])]\n",
    "adata_covid_AT_quantile = adata_covid_AT.obs[\"Max_Abundance\"].quantile(0.7) #Pneumocytes represented at least 70% of the maximum abundance of the inferred spot composition\n",
    "adata_covid_AT = adata_covid_AT[adata_covid_AT.obs[\"Max_Abundance\"]>=adata_covid_AT_quantile]"
   ]
  },
  {
   "cell_type": "markdown",
   "id": "13a50786-07cf-415b-b9a7-63a54c5bec52",
   "metadata": {},
   "source": [
    "### Preparation"
   ]
  },
  {
   "cell_type": "code",
   "execution_count": 9,
   "id": "c70cd65f-67a7-45b9-8aad-4a4e30a59e3e",
   "metadata": {},
   "outputs": [],
   "source": [
    "#Filter .uns['spatial'] using list comprehension getting selective dictionary keys\n",
    "adata_covid.uns[\"spatial\"] = {key: adata_covid.uns[\"spatial\"][key] for key in sample}\n",
    "adata_covid_AT.uns[\"spatial\"] = {key: adata_covid_AT.uns[\"spatial\"][key] for key in sample}"
   ]
  },
  {
   "cell_type": "code",
   "execution_count": 10,
   "id": "48545339-8bca-41da-a0c9-d90a5d3358f3",
   "metadata": {},
   "outputs": [
    {
     "name": "stderr",
     "output_type": "stream",
     "text": [
      "Tiling image: 100%|██████████████████████████████████████████████████████████████████████████████████████████████████████████████████████████ [ time left: 00:00 ]\n"
     ]
    }
   ],
   "source": [
    "#Change code for tiling images\n",
    "##!nano +56 /Users/carlosgarciaprieto/anaconda3/envs/stlearn/lib/python3.8/site-packages/stlearn/image_preprocessingimage_tiling.py\n",
    "##Replace adata.uns[\"spatial\"][library_id][\"images\"][adata.uns[\"spatial\"][library_id][\"use_quality\"]] by adata.uns[\"spatial\"][library_id][\"images\"][\"hires\"]\n",
    "st.pp.tiling(adata_covid_AT,out_path=f\"{stlearn_folder}/tiling\",crop_size = 40, library_id = f\"{sample_name}\")"
   ]
  },
  {
   "cell_type": "code",
   "execution_count": 11,
   "id": "d44da6c6-79b7-4ef0-8418-4d92c749716b",
   "metadata": {},
   "outputs": [
    {
     "name": "stderr",
     "output_type": "stream",
     "text": [
      "2024-07-18 19:56:42.159710: I tensorflow/core/platform/cpu_feature_guard.cc:193] This TensorFlow binary is optimized with oneAPI Deep Neural Network Library (oneDNN) to use the following CPU instructions in performance-critical operations:  AVX2 FMA\n",
      "To enable them in other operations, rebuild TensorFlow with the appropriate compiler flags.\n",
      "2024-07-18 19:56:49.720031: I tensorflow/core/platform/cpu_feature_guard.cc:193] This TensorFlow binary is optimized with oneAPI Deep Neural Network Library (oneDNN) to use the following CPU instructions in performance-critical operations:  AVX2 FMA\n",
      "To enable them in other operations, rebuild TensorFlow with the appropriate compiler flags.\n",
      "Extract feature: 100%|███████████████████████████████████████████████████████████████████████████████████████████████████████████████████████ [ time left: 00:00 ]\n"
     ]
    },
    {
     "name": "stdout",
     "output_type": "stream",
     "text": [
      "The morphology feature is added to adata.obsm['X_morphology']!\n"
     ]
    }
   ],
   "source": [
    "#Deep Learning to extract feature\n",
    "st.pp.extract_feature(adata_covid_AT)"
   ]
  },
  {
   "cell_type": "markdown",
   "id": "c5dcc642-788b-4db0-b756-08ee66056487",
   "metadata": {},
   "source": [
    "### Run stSME clustering"
   ]
  },
  {
   "cell_type": "code",
   "execution_count": 12,
   "id": "ce509677-a73c-4b29-9178-f43b991e8066",
   "metadata": {},
   "outputs": [
    {
     "name": "stdout",
     "output_type": "stream",
     "text": [
      "PCA is done! Generated in adata.obsm['X_pca'], adata.uns['pca'] and adata.varm['PCs']\n"
     ]
    }
   ],
   "source": [
    "#Run PCA for gene expression data\n",
    "st.em.run_pca(adata_covid_AT,n_comps=50,random_state=0)"
   ]
  },
  {
   "cell_type": "code",
   "execution_count": 13,
   "id": "c55bff43-47a6-434a-b87c-46f24ffcf332",
   "metadata": {
    "scrolled": true
   },
   "outputs": [],
   "source": [
    "#Copy data\n",
    "data_SME = adata_covid_AT.copy()"
   ]
  },
  {
   "cell_type": "code",
   "execution_count": 14,
   "id": "51218260-04de-451a-83b9-5f583990b4b6",
   "metadata": {},
   "outputs": [
    {
     "name": "stderr",
     "output_type": "stream",
     "text": [
      "Adjusting data: 100%|████████████████████████████████████████████████████████████████████████████████████████████████████████████████████████ [ time left: 00:00 ]"
     ]
    },
    {
     "name": "stdout",
     "output_type": "stream",
     "text": [
      "The data adjusted by SME is added to adata.obsm['raw_SME_normalized']\n",
      "Scale step is finished in adata.X\n",
      "PCA is done! Generated in adata.obsm['X_pca'], adata.uns['pca'] and adata.varm['PCs']\n"
     ]
    },
    {
     "name": "stderr",
     "output_type": "stream",
     "text": [
      "\n"
     ]
    }
   ],
   "source": [
    "#Apply stSME to normalize log transformed data with weights from morphological Similarly and physical distance\n",
    "st.spatial.SME.SME_normalize(data_SME, use_data=\"raw\", weights=\"weights_matrix_pd_md\")\n",
    "data_SME.X = data_SME.obsm['raw_SME_normalized']\n",
    "st.pp.scale(data_SME)\n",
    "st.em.run_pca(data_SME,n_comps=50)"
   ]
  },
  {
   "cell_type": "code",
   "execution_count": 15,
   "id": "1d695182-55ef-4359-a1e1-0c6201da3f1c",
   "metadata": {},
   "outputs": [
    {
     "name": "stdout",
     "output_type": "stream",
     "text": [
      "Applying Kmeans cluster ...\n",
      "Kmeans cluster is done! The labels are stored in adata.obs[\"kmeans\"]\n"
     ]
    }
   ],
   "source": [
    "#K-means clustering on stSME normalized PCA\n",
    "st.tl.clustering.kmeans(data_SME,n_clusters=2, use_data=\"X_pca\", key_added=\"X_pca_kmeans\") #2 clusters (AT1 and AT2 cells)"
   ]
  },
  {
   "cell_type": "code",
   "execution_count": 16,
   "id": "aa497e03-41ac-4da0-8bb3-6dd0158e6ecf",
   "metadata": {},
   "outputs": [],
   "source": [
    "#Set cluster color\n",
    "data_SME.obs[\"X_pca_kmeans\"] = np.where(data_SME.obs[\"X_pca_kmeans\"] == \"0\", \"1\", \"0\") #May be run twice to label AT2 cells as cluster 1\n",
    "data_SME.obs = data_SME.obs.astype({\"X_pca_kmeans\":'category'}) "
   ]
  },
  {
   "cell_type": "code",
   "execution_count": 17,
   "id": "099e6a77-2505-4193-a79f-398267e137ff",
   "metadata": {},
   "outputs": [],
   "source": [
    "#Save results\n",
    "kmeans_abundance = data_SME.obs[['X_pca_kmeans', 'Max_Abundance_Cell']].value_counts()\n",
    "kmeans_abundance.to_csv(f\"{stlearn_folder}/{sample_name}_PSTS_kmeans_2_abundance_ATs_Paper.csv\", index=True)"
   ]
  },
  {
   "cell_type": "markdown",
   "id": "0fb26adc-18f4-4b50-8de2-9d198bb4ca15",
   "metadata": {},
   "source": [
    "# Spatial trajectory inference"
   ]
  },
  {
   "cell_type": "markdown",
   "id": "da236a09-4e22-4278-a855-acf8cf2e38d9",
   "metadata": {},
   "source": [
    "### Choosing root"
   ]
  },
  {
   "cell_type": "code",
   "execution_count": 18,
   "id": "c276e8c9-972c-4dbf-b3c5-968ffe146193",
   "metadata": {},
   "outputs": [],
   "source": [
    "#Create raw attribute\n",
    "data_SME.raw = data_SME\n",
    "#Select AT2 cluster\n",
    "data_SME.uns[\"iroot\"] = st.spatial.trajectory.set_root(data_SME,use_label=\"X_pca_kmeans\",cluster=1,use_raw=True) "
   ]
  },
  {
   "cell_type": "markdown",
   "id": "588bc7ad-26f3-4164-b433-976a632dfda9",
   "metadata": {},
   "source": [
    "### Perform pseudotime analysis"
   ]
  },
  {
   "cell_type": "code",
   "execution_count": 19,
   "id": "04c9974a-f5eb-4c8c-9269-14abdf450c83",
   "metadata": {},
   "outputs": [
    {
     "name": "stdout",
     "output_type": "stream",
     "text": [
      "WARNING: Transition matrix has many disconnected components!\n",
      "All available trajectory paths are stored in adata.uns['available_paths'] with length < 4 nodes\n"
     ]
    }
   ],
   "source": [
    "st.spatial.trajectory.pseudotime(data_SME,eps=25,use_label=\"X_pca_kmeans\", use_rep = \"raw\", n_neighbors=20) #eps=25 to avoid no convergence"
   ]
  },
  {
   "cell_type": "markdown",
   "id": "a386f182-1b32-4a6e-97ec-c67552c40ec1",
   "metadata": {},
   "source": [
    "### We run the global level of pseudo-time-space (PSTS) method to reconstruct the spatial trajectory between AT2 and AT1 cells"
   ]
  },
  {
   "cell_type": "code",
   "execution_count": 20,
   "id": "ee86888a-adbe-45f8-872c-b7d774fcb14a",
   "metadata": {},
   "outputs": [],
   "source": [
    "#Select AT2 and AT1 clusters\n",
    "subclusters = [\"1\",\"0\"] \n",
    "subclusters_name = \"1_0\""
   ]
  },
  {
   "cell_type": "code",
   "execution_count": 21,
   "id": "f548a25b-756e-4e59-a2df-2c5d11193dc5",
   "metadata": {},
   "outputs": [
    {
     "name": "stdout",
     "output_type": "stream",
     "text": [
      "Start to construct the trajectory: 1 -> 0\n"
     ]
    }
   ],
   "source": [
    "#Perform pseudo-time-space analysis with global level\n",
    "st.spatial.trajectory.pseudotimespace_global(data_SME,use_label=\"X_pca_kmeans\",list_clusters=subclusters)"
   ]
  },
  {
   "cell_type": "markdown",
   "id": "bd7c1729-9b67-4780-a6b7-a875a7f1edb4",
   "metadata": {},
   "source": [
    "# Plot spatial trajectory"
   ]
  },
  {
   "cell_type": "markdown",
   "id": "2ac3db28-f6e4-4e69-9d70-051939967634",
   "metadata": {},
   "source": [
    "<div class=\"alert alert-info\">\n",
    "<b>Paper Figure!</b>\n",
    "Panel Figure 5C\n",
    "</div>"
   ]
  },
  {
   "cell_type": "code",
   "execution_count": 22,
   "id": "b32c98b3-6972-4372-8093-626734022996",
   "metadata": {},
   "outputs": [],
   "source": [
    "with mpl.rc_context({'axes.facecolor':  'white',\n",
    "                        'figure.figsize': [6, 6]}):\n",
    "    st.pl.cluster_plot(data_SME,use_label=\"X_pca_kmeans\",show_trajectories=True,list_clusters=subclusters,show_subcluster=True, show_cluster_labels=False, margin=200)\n",
    "plt.savefig(f\"{stlearn_folder}/{sample_name}_PSTS_kmeans_{subclusters_name}_Paper.png\",dpi=300, format=\"png\",pad_inches=0.2,bbox_inches=\"tight\")  \n",
    "plt.close()"
   ]
  },
  {
   "cell_type": "code",
   "execution_count": 23,
   "id": "d8b37b8c-fbee-4315-a0ce-778b7f9f29a4",
   "metadata": {},
   "outputs": [],
   "source": [
    "with mpl.rc_context({'axes.facecolor':  'white',\n",
    "                        'figure.figsize': [4, 4]}):\n",
    "    st.pl.cluster_plot(data_SME,use_label=\"X_pca_kmeans\",show_trajectories=False,list_clusters=subclusters,show_subcluster=False, show_cluster_labels=False, margin=200)\n",
    "plt.savefig(f\"{stlearn_folder}/{sample_name}_PSTS_kmeans_{subclusters_name}_no_trajectory_no_subclusters_Paper.png\",dpi=300, format=\"png\",pad_inches=0.2,bbox_inches=\"tight\") \n",
    "plt.close()"
   ]
  },
  {
   "cell_type": "code",
   "execution_count": 24,
   "id": "412df9cf-52be-4b95-9823-7dbcc0adcef2",
   "metadata": {},
   "outputs": [],
   "source": [
    "with mpl.rc_context({'axes.facecolor':  'white',\n",
    "                        'figure.figsize': [1, 2]}):\n",
    "    st.pl.trajectory.tree_plot(data_SME, show_plot=False, show_all=True, ncols=4, use_label=\"X_pca_kmeans\", fontsize=5, zoom=0.1)\n",
    "plt.savefig(f\"{stlearn_folder}/{sample_name}_PSTS_kmeans_{subclusters_name}_trajectory_tree_Paper.png\",dpi=300, format=\"png\",pad_inches=0.2,bbox_inches=\"tight\") \n",
    "plt.close()"
   ]
  },
  {
   "cell_type": "markdown",
   "id": "e7bea5ea-269c-4c26-938b-325a51313cbf",
   "metadata": {},
   "source": [
    "# Transition markers detection"
   ]
  },
  {
   "cell_type": "code",
   "execution_count": 25,
   "id": "780201de-1c89-46d4-a7e8-f79394ab1065",
   "metadata": {},
   "outputs": [],
   "source": [
    "#Select clade\n",
    "clade_number = 6 #Repeat with clade 9\n",
    "clade_name = f\"clade_{clade_number}\""
   ]
  },
  {
   "cell_type": "code",
   "execution_count": 26,
   "id": "cf54c95c-b7ac-44d3-bb02-0d6cd5ba2a97",
   "metadata": {},
   "outputs": [
    {
     "name": "stdout",
     "output_type": "stream",
     "text": [
      "Detecting the transition markers of clade_6...\n",
      "Transition markers result is stored in adata.uns['clade_6']\n"
     ]
    }
   ],
   "source": [
    "#Transition markers detection of clade 6\n",
    "st.spatial.trajectory.detect_transition_markers_clades(data_SME,clade=clade_number,use_raw_count=False,cutoff_spearman=0.4) #0.4 default correlation"
   ]
  },
  {
   "cell_type": "code",
   "execution_count": 27,
   "id": "889e8fd5-1c56-4b41-b028-335fdf4a54ef",
   "metadata": {},
   "outputs": [],
   "source": [
    "#Select clade\n",
    "clade_number = 9 \n",
    "clade_name = f\"clade_{clade_number}\""
   ]
  },
  {
   "cell_type": "code",
   "execution_count": 28,
   "id": "b69d53ca-ac99-4a4a-9783-f2e643f9d550",
   "metadata": {},
   "outputs": [
    {
     "name": "stdout",
     "output_type": "stream",
     "text": [
      "Detecting the transition markers of clade_9...\n",
      "Transition markers result is stored in adata.uns['clade_9']\n"
     ]
    }
   ],
   "source": [
    "#Transition markers detection of clade 9\n",
    "st.spatial.trajectory.detect_transition_markers_clades(data_SME,clade=clade_number,use_raw_count=False,cutoff_spearman=0.4) #0.4 default correlation"
   ]
  },
  {
   "cell_type": "markdown",
   "id": "1f3790db-e8a6-44fd-8e32-1f770bf40c6d",
   "metadata": {},
   "source": [
    "# Plot top 10 transition markers"
   ]
  },
  {
   "cell_type": "markdown",
   "id": "6e5c9b9f-21d4-4d37-a2dd-28e53d8f9a6a",
   "metadata": {},
   "source": [
    "<div class=\"alert alert-info\">\n",
    "<b>Paper Figure!</b>\n",
    "Panel Figure 5C\n",
    "</div>"
   ]
  },
  {
   "cell_type": "code",
   "execution_count": 29,
   "id": "47f9fad0-0f67-4483-8137-cabcaf933633",
   "metadata": {},
   "outputs": [
    {
     "data": {
      "image/png": "[encoded data removed]",
      "text/plain": [
       "<Figure size 640x480 with 2 Axes>"
      ]
     },
     "metadata": {},
     "output_type": "display_data"
    }
   ],
   "source": [
    "st.pl.trajectory.transition_markers_plot(data_SME,top_genes=10,trajectory=f\"{clade_name}\", dpi=300, name=f\"{sample_name}_PSTS_kmeans_2_{subclusters_name}_{clade_name}_markers_Top10_Paper.png\", output=stlearn_folder)\n"
   ]
  },
  {
   "cell_type": "markdown",
   "id": "6c15c1d7-d56e-4740-860f-08428a108980",
   "metadata": {},
   "source": [
    "## Compare transition markers between the two clades"
   ]
  },
  {
   "cell_type": "code",
   "execution_count": 30,
   "id": "702c715b-3ee5-4280-af05-a434f8eac734",
   "metadata": {},
   "outputs": [
    {
     "name": "stdout",
     "output_type": "stream",
     "text": [
      "The result of comparison between clade_6 and clade_9 stored in 'adata.uns['compare_result']'\n"
     ]
    }
   ],
   "source": [
    "st.spatial.trajectory.compare_transitions(data_SME,trajectories=[\"clade_6\",\"clade_9\"])"
   ]
  },
  {
   "cell_type": "markdown",
   "id": "3d2cb209-bb17-4881-9bc3-659c36623ce2",
   "metadata": {},
   "source": [
    "## Plot differential expression between transition markers"
   ]
  },
  {
   "cell_type": "markdown",
   "id": "df6c84df-32c9-45be-a537-f81fb07dff0f",
   "metadata": {},
   "source": [
    "<div class=\"alert alert-info\">\n",
    "<b>Paper Figure!</b>\n",
    "Panel Figure 5C\n",
    "</div>"
   ]
  },
  {
   "cell_type": "code",
   "execution_count": 31,
   "id": "fa87bae6-bd66-480b-aa45-4f7c824e707e",
   "metadata": {},
   "outputs": [
    {
     "data": {
      "image/png": "[encoded data removed]",
      "text/plain": [
       "<Figure size 640x480 with 4 Axes>"
      ]
     },
     "metadata": {},
     "output_type": "display_data"
    }
   ],
   "source": [
    "st.pl.trajectory.DE_transition_plot(data_SME)"
   ]
  }
 ],
 "metadata": {
  "kernelspec": {
   "display_name": "stlearn",
   "language": "python",
   "name": "stlearn"
  },
  "language_info": {
   "codemirror_mode": {
    "name": "ipython",
    "version": 3
   },
   "file_extension": ".py",
   "mimetype": "text/x-python",
   "name": "python",
   "nbconvert_exporter": "python",
   "pygments_lexer": "ipython3",
   "version": "3.8.19"
  }
 },
 "nbformat": 4,
 "nbformat_minor": 5
}
