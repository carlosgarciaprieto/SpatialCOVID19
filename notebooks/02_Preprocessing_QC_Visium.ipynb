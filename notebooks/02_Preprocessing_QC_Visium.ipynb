{
 "cells": [
  {
   "cell_type": "markdown",
   "metadata": {},
   "source": [
    "# Spatial transcriptomics unveils the in situ cellular and molecular hallmarks of the lung in fatal COVID-19"
   ]
  },
  {
   "cell_type": "markdown",
   "metadata": {},
   "source": [
    "# Preprocessing and quality control (QC) of Visium spatial transcriptomics (ST) data"
   ]
  },
  {
   "cell_type": "markdown",
   "metadata": {},
   "source": [
    "**Author:** Carlos A. Garcia-Prieto\n",
    "\n",
    "* This notebook explains the preprocessing and QC steps performed with the Visium ST samples used in our study.\n",
    "* We have followed single-cell best practices [tutorial.](https://www.sc-best-practices.org/preprocessing_visualization/quality_control.html)"
   ]
  },
  {
   "cell_type": "markdown",
   "metadata": {},
   "source": [
    "## Import modules"
   ]
  },
  {
   "cell_type": "code",
   "execution_count": 1,
   "metadata": {},
   "outputs": [],
   "source": [
    "import scanpy as sc\n",
    "import pandas as pd\n",
    "import matplotlib.pyplot as plt\n",
    "import seaborn as sns\n",
    "import anndata\n",
    "import numpy as np\n",
    "from numpy import mean\n",
    "from numpy import std\n",
    "from scipy.stats import median_abs_deviation\n",
    "import os\n",
    "import anndata2ri\n",
    "import logging\n",
    "from scipy.sparse import issparse\n",
    "import rpy2.rinterface_lib.callbacks as rcb\n",
    "import rpy2.robjects as ro\n",
    "\n",
    "sc.settings.figdir = \"./\"\n",
    "sc.settings.verbosity = 0\n",
    "sc.settings.set_figure_params(\n",
    "    dpi=80,\n",
    "    facecolor=\"white\",\n",
    "    # color_map=\"YlGnBu\",\n",
    "    frameon=False,\n",
    ")\n",
    "\n",
    "rcb.logger.setLevel(logging.ERROR)\n",
    "ro.pandas2ri.activate()\n",
    "anndata2ri.activate()\n",
    "\n",
    "%load_ext rpy2.ipython"
   ]
  },
  {
   "cell_type": "markdown",
   "metadata": {},
   "source": [
    "## Read Visium ST data"
   ]
  },
  {
   "cell_type": "code",
   "execution_count": 2,
   "metadata": {},
   "outputs": [],
   "source": [
    "#Set Space Ranger output directory\n",
    "spaceranger=\"/Users/carlosgarciaprieto/Proyectos_IJC/Spatial/COVID/SpaceRanger\"\n",
    "#Set image directory\n",
    "tiff=\"/Users/carlosgarciaprieto/Proyectos_IJC/Spatial/COVID/Images\""
   ]
  },
  {
   "cell_type": "code",
   "execution_count": 3,
   "metadata": {},
   "outputs": [],
   "source": [
    "#Set Sample name\n",
    "sample=\"L25P\""
   ]
  },
  {
   "cell_type": "code",
   "execution_count": 4,
   "metadata": {
    "tags": []
   },
   "outputs": [
    {
     "name": "stderr",
     "output_type": "stream",
     "text": [
      "/Users/carlosgarciaprieto/anaconda3/envs/squidpy/lib/python3.11/site-packages/anndata/_core/anndata.py:1832: UserWarning: Variable names are not unique. To make them unique, call `.var_names_make_unique`.\n",
      "  utils.warn_names_duplicates(\"var\")\n"
     ]
    }
   ],
   "source": [
    "#Create annData object\n",
    "adata = sc.read_visium(path=f\"{spaceranger}/{sample}/\",genome=\"GRCh38\",source_image_path=f\"{tiff}/{sample}.tif\", library_id=f\"{sample}\")"
   ]
  },
  {
   "cell_type": "code",
   "execution_count": 5,
   "metadata": {},
   "outputs": [
    {
     "data": {
      "text/plain": [
       "Index(['SAMD11', 'NOC2L', 'KLHL17', 'PLEKHN1', 'PERM1', 'HES4', 'ISG15',\n",
       "       'AGRN', 'RNF223', 'C1orf159',\n",
       "       ...\n",
       "       'SRY', 'ZFY', 'PCDH11Y', 'AMELY', 'TBL1Y', 'TSPY1', 'USP9Y', 'DDX3Y',\n",
       "       'TMSB4Y', 'KDM5D'],\n",
       "      dtype='object', length=17943)"
      ]
     },
     "execution_count": 5,
     "metadata": {},
     "output_type": "execute_result"
    }
   ],
   "source": [
    "#Explore data\n",
    "adata.var_names"
   ]
  },
  {
   "cell_type": "code",
   "execution_count": 6,
   "metadata": {},
   "outputs": [],
   "source": [
    "#Mark genes for filtering\n",
    "# mitochondrial genes\n",
    "adata.var[\"mt\"] = adata.var_names.str.startswith(\"MT-\")\n",
    "# ribosomal genes\n",
    "adata.var[\"ribo\"] = adata.var_names.str.startswith((\"RPS\", \"RPL\"))\n",
    "# hemoglobin genes.\n",
    "adata.var[\"hb\"] = adata.var_names.str.contains((\"^HB[^(P)]\"))"
   ]
  },
  {
   "cell_type": "code",
   "execution_count": 7,
   "metadata": {},
   "outputs": [
    {
     "data": {
      "text/html": [
       "<div>\n",
       "<style scoped>\n",
       "    .dataframe tbody tr th:only-of-type {\n",
       "        vertical-align: middle;\n",
       "    }\n",
       "\n",
       "    .dataframe tbody tr th {\n",
       "        vertical-align: top;\n",
       "    }\n",
       "\n",
       "    .dataframe thead th {\n",
       "        text-align: right;\n",
       "    }\n",
       "</style>\n",
       "<table border=\"1\" class=\"dataframe\">\n",
       "  <thead>\n",
       "    <tr style=\"text-align: right;\">\n",
       "      <th></th>\n",
       "      <th>gene_ids</th>\n",
       "      <th>feature_types</th>\n",
       "      <th>genome</th>\n",
       "      <th>mt</th>\n",
       "      <th>ribo</th>\n",
       "      <th>hb</th>\n",
       "    </tr>\n",
       "  </thead>\n",
       "  <tbody>\n",
       "    <tr>\n",
       "      <th>SAMD11</th>\n",
       "      <td>ENSG00000187634</td>\n",
       "      <td>Gene Expression</td>\n",
       "      <td>GRCh38</td>\n",
       "      <td>False</td>\n",
       "      <td>False</td>\n",
       "      <td>False</td>\n",
       "    </tr>\n",
       "    <tr>\n",
       "      <th>NOC2L</th>\n",
       "      <td>ENSG00000188976</td>\n",
       "      <td>Gene Expression</td>\n",
       "      <td>GRCh38</td>\n",
       "      <td>False</td>\n",
       "      <td>False</td>\n",
       "      <td>False</td>\n",
       "    </tr>\n",
       "    <tr>\n",
       "      <th>KLHL17</th>\n",
       "      <td>ENSG00000187961</td>\n",
       "      <td>Gene Expression</td>\n",
       "      <td>GRCh38</td>\n",
       "      <td>False</td>\n",
       "      <td>False</td>\n",
       "      <td>False</td>\n",
       "    </tr>\n",
       "    <tr>\n",
       "      <th>PLEKHN1</th>\n",
       "      <td>ENSG00000187583</td>\n",
       "      <td>Gene Expression</td>\n",
       "      <td>GRCh38</td>\n",
       "      <td>False</td>\n",
       "      <td>False</td>\n",
       "      <td>False</td>\n",
       "    </tr>\n",
       "    <tr>\n",
       "      <th>PERM1</th>\n",
       "      <td>ENSG00000187642</td>\n",
       "      <td>Gene Expression</td>\n",
       "      <td>GRCh38</td>\n",
       "      <td>False</td>\n",
       "      <td>False</td>\n",
       "      <td>False</td>\n",
       "    </tr>\n",
       "    <tr>\n",
       "      <th>...</th>\n",
       "      <td>...</td>\n",
       "      <td>...</td>\n",
       "      <td>...</td>\n",
       "      <td>...</td>\n",
       "      <td>...</td>\n",
       "      <td>...</td>\n",
       "    </tr>\n",
       "    <tr>\n",
       "      <th>TSPY1</th>\n",
       "      <td>ENSG00000258992</td>\n",
       "      <td>Gene Expression</td>\n",
       "      <td>GRCh38</td>\n",
       "      <td>False</td>\n",
       "      <td>False</td>\n",
       "      <td>False</td>\n",
       "    </tr>\n",
       "    <tr>\n",
       "      <th>USP9Y</th>\n",
       "      <td>ENSG00000114374</td>\n",
       "      <td>Gene Expression</td>\n",
       "      <td>GRCh38</td>\n",
       "      <td>False</td>\n",
       "      <td>False</td>\n",
       "      <td>False</td>\n",
       "    </tr>\n",
       "    <tr>\n",
       "      <th>DDX3Y</th>\n",
       "      <td>ENSG00000067048</td>\n",
       "      <td>Gene Expression</td>\n",
       "      <td>GRCh38</td>\n",
       "      <td>False</td>\n",
       "      <td>False</td>\n",
       "      <td>False</td>\n",
       "    </tr>\n",
       "    <tr>\n",
       "      <th>TMSB4Y</th>\n",
       "      <td>ENSG00000154620</td>\n",
       "      <td>Gene Expression</td>\n",
       "      <td>GRCh38</td>\n",
       "      <td>False</td>\n",
       "      <td>False</td>\n",
       "      <td>False</td>\n",
       "    </tr>\n",
       "    <tr>\n",
       "      <th>KDM5D</th>\n",
       "      <td>ENSG00000012817</td>\n",
       "      <td>Gene Expression</td>\n",
       "      <td>GRCh38</td>\n",
       "      <td>False</td>\n",
       "      <td>False</td>\n",
       "      <td>False</td>\n",
       "    </tr>\n",
       "  </tbody>\n",
       "</table>\n",
       "<p>17943 rows × 6 columns</p>\n",
       "</div>"
      ],
      "text/plain": [
       "                gene_ids    feature_types  genome     mt   ribo     hb\n",
       "SAMD11   ENSG00000187634  Gene Expression  GRCh38  False  False  False\n",
       "NOC2L    ENSG00000188976  Gene Expression  GRCh38  False  False  False\n",
       "KLHL17   ENSG00000187961  Gene Expression  GRCh38  False  False  False\n",
       "PLEKHN1  ENSG00000187583  Gene Expression  GRCh38  False  False  False\n",
       "PERM1    ENSG00000187642  Gene Expression  GRCh38  False  False  False\n",
       "...                  ...              ...     ...    ...    ...    ...\n",
       "TSPY1    ENSG00000258992  Gene Expression  GRCh38  False  False  False\n",
       "USP9Y    ENSG00000114374  Gene Expression  GRCh38  False  False  False\n",
       "DDX3Y    ENSG00000067048  Gene Expression  GRCh38  False  False  False\n",
       "TMSB4Y   ENSG00000154620  Gene Expression  GRCh38  False  False  False\n",
       "KDM5D    ENSG00000012817  Gene Expression  GRCh38  False  False  False\n",
       "\n",
       "[17943 rows x 6 columns]"
      ]
     },
     "execution_count": 7,
     "metadata": {},
     "output_type": "execute_result"
    }
   ],
   "source": [
    "adata.var"
   ]
  },
  {
   "cell_type": "code",
   "execution_count": 8,
   "metadata": {},
   "outputs": [
    {
     "data": {
      "text/plain": [
       "0"
      ]
     },
     "execution_count": 8,
     "metadata": {},
     "output_type": "execute_result"
    }
   ],
   "source": [
    "adata.var[\"mt\"].sum()"
   ]
  },
  {
   "cell_type": "code",
   "execution_count": 9,
   "metadata": {},
   "outputs": [
    {
     "data": {
      "text/html": [
       "<div>\n",
       "<style scoped>\n",
       "    .dataframe tbody tr th:only-of-type {\n",
       "        vertical-align: middle;\n",
       "    }\n",
       "\n",
       "    .dataframe tbody tr th {\n",
       "        vertical-align: top;\n",
       "    }\n",
       "\n",
       "    .dataframe thead th {\n",
       "        text-align: right;\n",
       "    }\n",
       "</style>\n",
       "<table border=\"1\" class=\"dataframe\">\n",
       "  <thead>\n",
       "    <tr style=\"text-align: right;\">\n",
       "      <th></th>\n",
       "      <th>gene_ids</th>\n",
       "      <th>feature_types</th>\n",
       "      <th>genome</th>\n",
       "      <th>mt</th>\n",
       "      <th>ribo</th>\n",
       "      <th>hb</th>\n",
       "    </tr>\n",
       "  </thead>\n",
       "  <tbody>\n",
       "  </tbody>\n",
       "</table>\n",
       "</div>"
      ],
      "text/plain": [
       "Empty DataFrame\n",
       "Columns: [gene_ids, feature_types, genome, mt, ribo, hb]\n",
       "Index: []"
      ]
     },
     "execution_count": 9,
     "metadata": {},
     "output_type": "execute_result"
    }
   ],
   "source": [
    "adata.var[adata.var[\"mt\"]==True]"
   ]
  },
  {
   "cell_type": "code",
   "execution_count": 10,
   "metadata": {},
   "outputs": [
    {
     "data": {
      "text/plain": [
       "0"
      ]
     },
     "execution_count": 10,
     "metadata": {},
     "output_type": "execute_result"
    }
   ],
   "source": [
    "adata.var[\"ribo\"].sum()"
   ]
  },
  {
   "cell_type": "code",
   "execution_count": 11,
   "metadata": {},
   "outputs": [
    {
     "data": {
      "text/html": [
       "<div>\n",
       "<style scoped>\n",
       "    .dataframe tbody tr th:only-of-type {\n",
       "        vertical-align: middle;\n",
       "    }\n",
       "\n",
       "    .dataframe tbody tr th {\n",
       "        vertical-align: top;\n",
       "    }\n",
       "\n",
       "    .dataframe thead th {\n",
       "        text-align: right;\n",
       "    }\n",
       "</style>\n",
       "<table border=\"1\" class=\"dataframe\">\n",
       "  <thead>\n",
       "    <tr style=\"text-align: right;\">\n",
       "      <th></th>\n",
       "      <th>gene_ids</th>\n",
       "      <th>feature_types</th>\n",
       "      <th>genome</th>\n",
       "      <th>mt</th>\n",
       "      <th>ribo</th>\n",
       "      <th>hb</th>\n",
       "    </tr>\n",
       "  </thead>\n",
       "  <tbody>\n",
       "  </tbody>\n",
       "</table>\n",
       "</div>"
      ],
      "text/plain": [
       "Empty DataFrame\n",
       "Columns: [gene_ids, feature_types, genome, mt, ribo, hb]\n",
       "Index: []"
      ]
     },
     "execution_count": 11,
     "metadata": {},
     "output_type": "execute_result"
    }
   ],
   "source": [
    "adata.var[adata.var[\"ribo\"]==True]"
   ]
  },
  {
   "cell_type": "code",
   "execution_count": 12,
   "metadata": {},
   "outputs": [
    {
     "data": {
      "text/plain": [
       "8"
      ]
     },
     "execution_count": 12,
     "metadata": {},
     "output_type": "execute_result"
    }
   ],
   "source": [
    "adata.var[\"hb\"].sum()"
   ]
  },
  {
   "cell_type": "code",
   "execution_count": 13,
   "metadata": {},
   "outputs": [
    {
     "data": {
      "text/html": [
       "<div>\n",
       "<style scoped>\n",
       "    .dataframe tbody tr th:only-of-type {\n",
       "        vertical-align: middle;\n",
       "    }\n",
       "\n",
       "    .dataframe tbody tr th {\n",
       "        vertical-align: top;\n",
       "    }\n",
       "\n",
       "    .dataframe thead th {\n",
       "        text-align: right;\n",
       "    }\n",
       "</style>\n",
       "<table border=\"1\" class=\"dataframe\">\n",
       "  <thead>\n",
       "    <tr style=\"text-align: right;\">\n",
       "      <th></th>\n",
       "      <th>gene_ids</th>\n",
       "      <th>feature_types</th>\n",
       "      <th>genome</th>\n",
       "      <th>mt</th>\n",
       "      <th>ribo</th>\n",
       "      <th>hb</th>\n",
       "    </tr>\n",
       "  </thead>\n",
       "  <tbody>\n",
       "    <tr>\n",
       "      <th>HBEGF</th>\n",
       "      <td>ENSG00000113070</td>\n",
       "      <td>Gene Expression</td>\n",
       "      <td>GRCh38</td>\n",
       "      <td>False</td>\n",
       "      <td>False</td>\n",
       "      <td>True</td>\n",
       "    </tr>\n",
       "    <tr>\n",
       "      <th>HBS1L</th>\n",
       "      <td>ENSG00000112339</td>\n",
       "      <td>Gene Expression</td>\n",
       "      <td>GRCh38</td>\n",
       "      <td>False</td>\n",
       "      <td>False</td>\n",
       "      <td>True</td>\n",
       "    </tr>\n",
       "    <tr>\n",
       "      <th>HBG2</th>\n",
       "      <td>ENSG00000196565</td>\n",
       "      <td>Gene Expression</td>\n",
       "      <td>GRCh38</td>\n",
       "      <td>False</td>\n",
       "      <td>False</td>\n",
       "      <td>True</td>\n",
       "    </tr>\n",
       "    <tr>\n",
       "      <th>HBE1</th>\n",
       "      <td>ENSG00000213931</td>\n",
       "      <td>Gene Expression</td>\n",
       "      <td>GRCh38</td>\n",
       "      <td>False</td>\n",
       "      <td>False</td>\n",
       "      <td>True</td>\n",
       "    </tr>\n",
       "    <tr>\n",
       "      <th>HBM</th>\n",
       "      <td>ENSG00000206177</td>\n",
       "      <td>Gene Expression</td>\n",
       "      <td>GRCh38</td>\n",
       "      <td>False</td>\n",
       "      <td>False</td>\n",
       "      <td>True</td>\n",
       "    </tr>\n",
       "    <tr>\n",
       "      <th>HBA2</th>\n",
       "      <td>ENSG00000188536</td>\n",
       "      <td>Gene Expression</td>\n",
       "      <td>GRCh38</td>\n",
       "      <td>False</td>\n",
       "      <td>False</td>\n",
       "      <td>True</td>\n",
       "    </tr>\n",
       "    <tr>\n",
       "      <th>HBA1</th>\n",
       "      <td>ENSG00000206172</td>\n",
       "      <td>Gene Expression</td>\n",
       "      <td>GRCh38</td>\n",
       "      <td>False</td>\n",
       "      <td>False</td>\n",
       "      <td>True</td>\n",
       "    </tr>\n",
       "    <tr>\n",
       "      <th>HBQ1</th>\n",
       "      <td>ENSG00000086506</td>\n",
       "      <td>Gene Expression</td>\n",
       "      <td>GRCh38</td>\n",
       "      <td>False</td>\n",
       "      <td>False</td>\n",
       "      <td>True</td>\n",
       "    </tr>\n",
       "  </tbody>\n",
       "</table>\n",
       "</div>"
      ],
      "text/plain": [
       "              gene_ids    feature_types  genome     mt   ribo    hb\n",
       "HBEGF  ENSG00000113070  Gene Expression  GRCh38  False  False  True\n",
       "HBS1L  ENSG00000112339  Gene Expression  GRCh38  False  False  True\n",
       "HBG2   ENSG00000196565  Gene Expression  GRCh38  False  False  True\n",
       "HBE1   ENSG00000213931  Gene Expression  GRCh38  False  False  True\n",
       "HBM    ENSG00000206177  Gene Expression  GRCh38  False  False  True\n",
       "HBA2   ENSG00000188536  Gene Expression  GRCh38  False  False  True\n",
       "HBA1   ENSG00000206172  Gene Expression  GRCh38  False  False  True\n",
       "HBQ1   ENSG00000086506  Gene Expression  GRCh38  False  False  True"
      ]
     },
     "execution_count": 13,
     "metadata": {},
     "output_type": "execute_result"
    }
   ],
   "source": [
    "adata.var[adata.var[\"hb\"]==True]"
   ]
  },
  {
   "cell_type": "code",
   "execution_count": 14,
   "metadata": {},
   "outputs": [],
   "source": [
    "#Set ENSEMBL gene ids as row names\n",
    "adata.var['SYMBOL'] = adata.var_names\n",
    "adata.var.set_index('gene_ids', drop=True, inplace=True)"
   ]
  },
  {
   "cell_type": "code",
   "execution_count": 15,
   "metadata": {},
   "outputs": [],
   "source": [
    "#adata.var_names_make_unique()"
   ]
  },
  {
   "cell_type": "code",
   "execution_count": 16,
   "metadata": {},
   "outputs": [
    {
     "data": {
      "text/plain": [
       "AnnData object with n_obs × n_vars = 4682 × 17943\n",
       "    obs: 'in_tissue', 'array_row', 'array_col'\n",
       "    var: 'feature_types', 'genome', 'mt', 'ribo', 'hb', 'SYMBOL'\n",
       "    uns: 'spatial'\n",
       "    obsm: 'spatial'"
      ]
     },
     "execution_count": 16,
     "metadata": {},
     "output_type": "execute_result"
    }
   ],
   "source": [
    "#Data summary\n",
    "adata"
   ]
  },
  {
   "cell_type": "markdown",
   "metadata": {},
   "source": [
    "## Explore data"
   ]
  },
  {
   "cell_type": "code",
   "execution_count": 17,
   "metadata": {},
   "outputs": [
    {
     "data": {
      "text/html": [
       "<div>\n",
       "<style scoped>\n",
       "    .dataframe tbody tr th:only-of-type {\n",
       "        vertical-align: middle;\n",
       "    }\n",
       "\n",
       "    .dataframe tbody tr th {\n",
       "        vertical-align: top;\n",
       "    }\n",
       "\n",
       "    .dataframe thead th {\n",
       "        text-align: right;\n",
       "    }\n",
       "</style>\n",
       "<table border=\"1\" class=\"dataframe\">\n",
       "  <thead>\n",
       "    <tr style=\"text-align: right;\">\n",
       "      <th></th>\n",
       "      <th>in_tissue</th>\n",
       "      <th>array_row</th>\n",
       "      <th>array_col</th>\n",
       "    </tr>\n",
       "  </thead>\n",
       "  <tbody>\n",
       "    <tr>\n",
       "      <th>AAACAACGAATAGTTC-1</th>\n",
       "      <td>1</td>\n",
       "      <td>0</td>\n",
       "      <td>16</td>\n",
       "    </tr>\n",
       "    <tr>\n",
       "      <th>AAACAAGTATCTCCCA-1</th>\n",
       "      <td>1</td>\n",
       "      <td>50</td>\n",
       "      <td>102</td>\n",
       "    </tr>\n",
       "    <tr>\n",
       "      <th>AAACAATCTACTAGCA-1</th>\n",
       "      <td>1</td>\n",
       "      <td>3</td>\n",
       "      <td>43</td>\n",
       "    </tr>\n",
       "    <tr>\n",
       "      <th>AAACACCAATAACTGC-1</th>\n",
       "      <td>1</td>\n",
       "      <td>59</td>\n",
       "      <td>19</td>\n",
       "    </tr>\n",
       "    <tr>\n",
       "      <th>AAACAGAGCGACTCCT-1</th>\n",
       "      <td>1</td>\n",
       "      <td>14</td>\n",
       "      <td>94</td>\n",
       "    </tr>\n",
       "    <tr>\n",
       "      <th>...</th>\n",
       "      <td>...</td>\n",
       "      <td>...</td>\n",
       "      <td>...</td>\n",
       "    </tr>\n",
       "    <tr>\n",
       "      <th>TTGTTTCACATCCAGG-1</th>\n",
       "      <td>1</td>\n",
       "      <td>58</td>\n",
       "      <td>42</td>\n",
       "    </tr>\n",
       "    <tr>\n",
       "      <th>TTGTTTCATTAGTCTA-1</th>\n",
       "      <td>1</td>\n",
       "      <td>60</td>\n",
       "      <td>30</td>\n",
       "    </tr>\n",
       "    <tr>\n",
       "      <th>TTGTTTCCATACAACT-1</th>\n",
       "      <td>1</td>\n",
       "      <td>45</td>\n",
       "      <td>27</td>\n",
       "    </tr>\n",
       "    <tr>\n",
       "      <th>TTGTTTGTATTACACG-1</th>\n",
       "      <td>1</td>\n",
       "      <td>73</td>\n",
       "      <td>41</td>\n",
       "    </tr>\n",
       "    <tr>\n",
       "      <th>TTGTTTGTGTAAATTC-1</th>\n",
       "      <td>1</td>\n",
       "      <td>7</td>\n",
       "      <td>51</td>\n",
       "    </tr>\n",
       "  </tbody>\n",
       "</table>\n",
       "<p>4682 rows × 3 columns</p>\n",
       "</div>"
      ],
      "text/plain": [
       "                   in_tissue array_row array_col\n",
       "AAACAACGAATAGTTC-1         1         0        16\n",
       "AAACAAGTATCTCCCA-1         1        50       102\n",
       "AAACAATCTACTAGCA-1         1         3        43\n",
       "AAACACCAATAACTGC-1         1        59        19\n",
       "AAACAGAGCGACTCCT-1         1        14        94\n",
       "...                      ...       ...       ...\n",
       "TTGTTTCACATCCAGG-1         1        58        42\n",
       "TTGTTTCATTAGTCTA-1         1        60        30\n",
       "TTGTTTCCATACAACT-1         1        45        27\n",
       "TTGTTTGTATTACACG-1         1        73        41\n",
       "TTGTTTGTGTAAATTC-1         1         7        51\n",
       "\n",
       "[4682 rows x 3 columns]"
      ]
     },
     "execution_count": 17,
     "metadata": {},
     "output_type": "execute_result"
    }
   ],
   "source": [
    "adata.obs"
   ]
  },
  {
   "cell_type": "code",
   "execution_count": 18,
   "metadata": {},
   "outputs": [
    {
     "data": {
      "text/html": [
       "<div>\n",
       "<style scoped>\n",
       "    .dataframe tbody tr th:only-of-type {\n",
       "        vertical-align: middle;\n",
       "    }\n",
       "\n",
       "    .dataframe tbody tr th {\n",
       "        vertical-align: top;\n",
       "    }\n",
       "\n",
       "    .dataframe thead th {\n",
       "        text-align: right;\n",
       "    }\n",
       "</style>\n",
       "<table border=\"1\" class=\"dataframe\">\n",
       "  <thead>\n",
       "    <tr style=\"text-align: right;\">\n",
       "      <th></th>\n",
       "      <th>feature_types</th>\n",
       "      <th>genome</th>\n",
       "      <th>mt</th>\n",
       "      <th>ribo</th>\n",
       "      <th>hb</th>\n",
       "      <th>SYMBOL</th>\n",
       "    </tr>\n",
       "    <tr>\n",
       "      <th>gene_ids</th>\n",
       "      <th></th>\n",
       "      <th></th>\n",
       "      <th></th>\n",
       "      <th></th>\n",
       "      <th></th>\n",
       "      <th></th>\n",
       "    </tr>\n",
       "  </thead>\n",
       "  <tbody>\n",
       "    <tr>\n",
       "      <th>ENSG00000187634</th>\n",
       "      <td>Gene Expression</td>\n",
       "      <td>GRCh38</td>\n",
       "      <td>False</td>\n",
       "      <td>False</td>\n",
       "      <td>False</td>\n",
       "      <td>SAMD11</td>\n",
       "    </tr>\n",
       "    <tr>\n",
       "      <th>ENSG00000188976</th>\n",
       "      <td>Gene Expression</td>\n",
       "      <td>GRCh38</td>\n",
       "      <td>False</td>\n",
       "      <td>False</td>\n",
       "      <td>False</td>\n",
       "      <td>NOC2L</td>\n",
       "    </tr>\n",
       "    <tr>\n",
       "      <th>ENSG00000187961</th>\n",
       "      <td>Gene Expression</td>\n",
       "      <td>GRCh38</td>\n",
       "      <td>False</td>\n",
       "      <td>False</td>\n",
       "      <td>False</td>\n",
       "      <td>KLHL17</td>\n",
       "    </tr>\n",
       "    <tr>\n",
       "      <th>ENSG00000187583</th>\n",
       "      <td>Gene Expression</td>\n",
       "      <td>GRCh38</td>\n",
       "      <td>False</td>\n",
       "      <td>False</td>\n",
       "      <td>False</td>\n",
       "      <td>PLEKHN1</td>\n",
       "    </tr>\n",
       "    <tr>\n",
       "      <th>ENSG00000187642</th>\n",
       "      <td>Gene Expression</td>\n",
       "      <td>GRCh38</td>\n",
       "      <td>False</td>\n",
       "      <td>False</td>\n",
       "      <td>False</td>\n",
       "      <td>PERM1</td>\n",
       "    </tr>\n",
       "    <tr>\n",
       "      <th>...</th>\n",
       "      <td>...</td>\n",
       "      <td>...</td>\n",
       "      <td>...</td>\n",
       "      <td>...</td>\n",
       "      <td>...</td>\n",
       "      <td>...</td>\n",
       "    </tr>\n",
       "    <tr>\n",
       "      <th>ENSG00000258992</th>\n",
       "      <td>Gene Expression</td>\n",
       "      <td>GRCh38</td>\n",
       "      <td>False</td>\n",
       "      <td>False</td>\n",
       "      <td>False</td>\n",
       "      <td>TSPY1</td>\n",
       "    </tr>\n",
       "    <tr>\n",
       "      <th>ENSG00000114374</th>\n",
       "      <td>Gene Expression</td>\n",
       "      <td>GRCh38</td>\n",
       "      <td>False</td>\n",
       "      <td>False</td>\n",
       "      <td>False</td>\n",
       "      <td>USP9Y</td>\n",
       "    </tr>\n",
       "    <tr>\n",
       "      <th>ENSG00000067048</th>\n",
       "      <td>Gene Expression</td>\n",
       "      <td>GRCh38</td>\n",
       "      <td>False</td>\n",
       "      <td>False</td>\n",
       "      <td>False</td>\n",
       "      <td>DDX3Y</td>\n",
       "    </tr>\n",
       "    <tr>\n",
       "      <th>ENSG00000154620</th>\n",
       "      <td>Gene Expression</td>\n",
       "      <td>GRCh38</td>\n",
       "      <td>False</td>\n",
       "      <td>False</td>\n",
       "      <td>False</td>\n",
       "      <td>TMSB4Y</td>\n",
       "    </tr>\n",
       "    <tr>\n",
       "      <th>ENSG00000012817</th>\n",
       "      <td>Gene Expression</td>\n",
       "      <td>GRCh38</td>\n",
       "      <td>False</td>\n",
       "      <td>False</td>\n",
       "      <td>False</td>\n",
       "      <td>KDM5D</td>\n",
       "    </tr>\n",
       "  </tbody>\n",
       "</table>\n",
       "<p>17943 rows × 6 columns</p>\n",
       "</div>"
      ],
      "text/plain": [
       "                   feature_types  genome     mt   ribo     hb   SYMBOL\n",
       "gene_ids                                                              \n",
       "ENSG00000187634  Gene Expression  GRCh38  False  False  False   SAMD11\n",
       "ENSG00000188976  Gene Expression  GRCh38  False  False  False    NOC2L\n",
       "ENSG00000187961  Gene Expression  GRCh38  False  False  False   KLHL17\n",
       "ENSG00000187583  Gene Expression  GRCh38  False  False  False  PLEKHN1\n",
       "ENSG00000187642  Gene Expression  GRCh38  False  False  False    PERM1\n",
       "...                          ...     ...    ...    ...    ...      ...\n",
       "ENSG00000258992  Gene Expression  GRCh38  False  False  False    TSPY1\n",
       "ENSG00000114374  Gene Expression  GRCh38  False  False  False    USP9Y\n",
       "ENSG00000067048  Gene Expression  GRCh38  False  False  False    DDX3Y\n",
       "ENSG00000154620  Gene Expression  GRCh38  False  False  False   TMSB4Y\n",
       "ENSG00000012817  Gene Expression  GRCh38  False  False  False    KDM5D\n",
       "\n",
       "[17943 rows x 6 columns]"
      ]
     },
     "execution_count": 18,
     "metadata": {},
     "output_type": "execute_result"
    }
   ],
   "source": [
    "adata.var"
   ]
  },
  {
   "cell_type": "code",
   "execution_count": 19,
   "metadata": {},
   "outputs": [
    {
     "data": {
      "text/plain": [
       "AxisArrays with keys: spatial"
      ]
     },
     "execution_count": 19,
     "metadata": {},
     "output_type": "execute_result"
    }
   ],
   "source": [
    "adata.obsm"
   ]
  },
  {
   "cell_type": "code",
   "execution_count": 20,
   "metadata": {
    "scrolled": true
   },
   "outputs": [
    {
     "data": {
      "text/plain": [
       "OrderedDict([('spatial',\n",
       "              {'L25P': {'images': {'hires': array([[[0., 0., 0.],\n",
       "                         [0., 0., 0.],\n",
       "                         [0., 0., 0.],\n",
       "                         ...,\n",
       "                         [0., 0., 0.],\n",
       "                         [0., 0., 0.],\n",
       "                         [0., 0., 0.]],\n",
       "                 \n",
       "                        [[0., 0., 0.],\n",
       "                         [0., 0., 0.],\n",
       "                         [0., 0., 0.],\n",
       "                         ...,\n",
       "                         [0., 0., 0.],\n",
       "                         [0., 0., 0.],\n",
       "                         [0., 0., 0.]],\n",
       "                 \n",
       "                        [[0., 0., 0.],\n",
       "                         [0., 0., 0.],\n",
       "                         [0., 0., 0.],\n",
       "                         ...,\n",
       "                         [0., 0., 0.],\n",
       "                         [0., 0., 0.],\n",
       "                         [0., 0., 0.]],\n",
       "                 \n",
       "                        ...,\n",
       "                 \n",
       "                        [[0., 0., 0.],\n",
       "                         [0., 0., 0.],\n",
       "                         [0., 0., 0.],\n",
       "                         ...,\n",
       "                         [0., 0., 0.],\n",
       "                         [0., 0., 0.],\n",
       "                         [0., 0., 0.]],\n",
       "                 \n",
       "                        [[0., 0., 0.],\n",
       "                         [0., 0., 0.],\n",
       "                         [0., 0., 0.],\n",
       "                         ...,\n",
       "                         [0., 0., 0.],\n",
       "                         [0., 0., 0.],\n",
       "                         [0., 0., 0.]],\n",
       "                 \n",
       "                        [[0., 0., 0.],\n",
       "                         [0., 0., 0.],\n",
       "                         [0., 0., 0.],\n",
       "                         ...,\n",
       "                         [0., 0., 0.],\n",
       "                         [0., 0., 0.],\n",
       "                         [0., 0., 0.]]], dtype=float32),\n",
       "                 'lowres': array([[[0., 0., 0.],\n",
       "                         [0., 0., 0.],\n",
       "                         [0., 0., 0.],\n",
       "                         ...,\n",
       "                         [0., 0., 0.],\n",
       "                         [0., 0., 0.],\n",
       "                         [0., 0., 0.]],\n",
       "                 \n",
       "                        [[0., 0., 0.],\n",
       "                         [0., 0., 0.],\n",
       "                         [0., 0., 0.],\n",
       "                         ...,\n",
       "                         [0., 0., 0.],\n",
       "                         [0., 0., 0.],\n",
       "                         [0., 0., 0.]],\n",
       "                 \n",
       "                        [[0., 0., 0.],\n",
       "                         [0., 0., 0.],\n",
       "                         [0., 0., 0.],\n",
       "                         ...,\n",
       "                         [0., 0., 0.],\n",
       "                         [0., 0., 0.],\n",
       "                         [0., 0., 0.]],\n",
       "                 \n",
       "                        ...,\n",
       "                 \n",
       "                        [[0., 0., 0.],\n",
       "                         [0., 0., 0.],\n",
       "                         [0., 0., 0.],\n",
       "                         ...,\n",
       "                         [0., 0., 0.],\n",
       "                         [0., 0., 0.],\n",
       "                         [0., 0., 0.]],\n",
       "                 \n",
       "                        [[0., 0., 0.],\n",
       "                         [0., 0., 0.],\n",
       "                         [0., 0., 0.],\n",
       "                         ...,\n",
       "                         [0., 0., 0.],\n",
       "                         [0., 0., 0.],\n",
       "                         [0., 0., 0.]],\n",
       "                 \n",
       "                        [[0., 0., 0.],\n",
       "                         [0., 0., 0.],\n",
       "                         [0., 0., 0.],\n",
       "                         ...,\n",
       "                         [0., 0., 0.],\n",
       "                         [0., 0., 0.],\n",
       "                         [0., 0., 0.]]], dtype=float32)},\n",
       "                'scalefactors': {'tissue_hires_scalef': 0.21085925,\n",
       "                 'tissue_lowres_scalef': 0.063257776,\n",
       "                 'fiducial_diameter_fullres': 121.77127,\n",
       "                 'spot_diameter_fullres': 75.38222},\n",
       "                'metadata': {'chemistry_description': 'Visium V1 Slide',\n",
       "                 'software_version': 'spaceranger-2.0.0',\n",
       "                 'source_image_path': '/Users/carlosgarciaprieto/Proyectos_IJC/Spatial/COVID/Images/L25P.tif'}}})])"
      ]
     },
     "execution_count": 20,
     "metadata": {},
     "output_type": "execute_result"
    }
   ],
   "source": [
    "adata.uns"
   ]
  },
  {
   "cell_type": "markdown",
   "metadata": {},
   "source": [
    "### Calculate QC metrics"
   ]
  },
  {
   "cell_type": "code",
   "execution_count": 21,
   "metadata": {},
   "outputs": [],
   "source": [
    "sc.pp.calculate_qc_metrics(adata, qc_vars=[\"mt\", \"ribo\", \"hb\"], inplace=True, percent_top=[20], log1p=True)"
   ]
  },
  {
   "cell_type": "code",
   "execution_count": 22,
   "metadata": {},
   "outputs": [
    {
     "data": {
      "text/plain": [
       "AnnData object with n_obs × n_vars = 4682 × 17943\n",
       "    obs: 'in_tissue', 'array_row', 'array_col', 'n_genes_by_counts', 'log1p_n_genes_by_counts', 'total_counts', 'log1p_total_counts', 'pct_counts_in_top_20_genes', 'total_counts_mt', 'log1p_total_counts_mt', 'pct_counts_mt', 'total_counts_ribo', 'log1p_total_counts_ribo', 'pct_counts_ribo', 'total_counts_hb', 'log1p_total_counts_hb', 'pct_counts_hb'\n",
       "    var: 'feature_types', 'genome', 'mt', 'ribo', 'hb', 'SYMBOL', 'n_cells_by_counts', 'mean_counts', 'log1p_mean_counts', 'pct_dropout_by_counts', 'total_counts', 'log1p_total_counts'\n",
       "    uns: 'spatial'\n",
       "    obsm: 'spatial'"
      ]
     },
     "execution_count": 22,
     "metadata": {},
     "output_type": "execute_result"
    }
   ],
   "source": [
    "adata"
   ]
  },
  {
   "cell_type": "markdown",
   "metadata": {},
   "source": [
    "## Create directory & save QC metrics"
   ]
  },
  {
   "cell_type": "code",
   "execution_count": 23,
   "metadata": {},
   "outputs": [],
   "source": [
    "directory = f\"{sample}\"\n",
    "# Check if the directory exists\n",
    "if not os.path.exists(directory):\n",
    "    # If it doesn't exist, create it\n",
    "    os.makedirs(directory)"
   ]
  },
  {
   "cell_type": "code",
   "execution_count": 24,
   "metadata": {},
   "outputs": [],
   "source": [
    "stats_genes = adata.obs[\"n_genes_by_counts\"].describe() #the number of genes with positive counts in a barcode\n",
    "stats_genes.to_csv(f\"{sample}/{sample}_genes_stats_before_filtering.csv\")"
   ]
  },
  {
   "cell_type": "code",
   "execution_count": 25,
   "metadata": {},
   "outputs": [],
   "source": [
    "stats_library_size = adata.obs[\"total_counts\"].describe() #total number of counts per barcode, this might also be known as library size\n",
    "stats_library_size.to_csv(f\"{sample}/{sample}_library_size_stats_before_filtering.csv\")"
   ]
  },
  {
   "cell_type": "code",
   "execution_count": 26,
   "metadata": {},
   "outputs": [],
   "source": [
    "stats_mt = adata.obs[\"pct_counts_mt\"].describe() #proportion of total counts for a barcode which are mitochondrial\n",
    "stats_mt.to_csv(f\"{sample}/{sample}_mt_stats_before_filtering.csv\")"
   ]
  },
  {
   "cell_type": "markdown",
   "metadata": {},
   "source": [
    "## We now plot the three QC covariates n_genes_by_counts, total_counts and pct_counts_mt per sample to assess how well the respective cells were captured."
   ]
  },
  {
   "cell_type": "code",
   "execution_count": 27,
   "metadata": {},
   "outputs": [],
   "source": [
    "with plt.rc_context():  # Use this to set figure params like size and dpi\n",
    "    sns.displot(adata.obs[\"total_counts\"], kde=False, bins=100)\n",
    "    plt.savefig(f\"{sample}/{sample}_stats_library_size_before_filtering.png\",dpi=300, format=\"png\")\n",
    "    plt.close()"
   ]
  },
  {
   "cell_type": "code",
   "execution_count": 28,
   "metadata": {},
   "outputs": [],
   "source": [
    "with plt.rc_context():  # Use this to set figure params like size and dpi\n",
    "    sns.displot(adata.obs[\"n_genes_by_counts\"], kde=False, bins=100)\n",
    "    plt.savefig(f\"{sample}/{sample}_stats_gene_counts_before_filtering.png\",dpi=300, format=\"png\")\n",
    "    plt.close()"
   ]
  },
  {
   "cell_type": "code",
   "execution_count": 29,
   "metadata": {},
   "outputs": [],
   "source": [
    "with plt.rc_context():  # Use this to set figure params like size and dpi\n",
    "    sc.pl.violin(adata,[\"n_genes_by_counts\", \"total_counts\", \"pct_counts_mt\"],jitter=0.4,multi_panel=True, show=False)\n",
    "    plt.savefig(f\"{sample}/{sample}_counts_violin_before_filtering.png\",dpi=300, format=\"png\")\n",
    "    plt.close()"
   ]
  },
  {
   "cell_type": "code",
   "execution_count": 30,
   "metadata": {},
   "outputs": [],
   "source": [
    "with plt.rc_context():  # Use this to set figure params like size and dpi\n",
    "    sc.pl.scatter(adata, \"total_counts\", \"n_genes_by_counts\", color=\"pct_counts_mt\", show=False)\n",
    "    plt.savefig(f\"{sample}/{sample}_counts_scatter_before_filtering.png\",dpi=300, format=\"png\")\n",
    "    plt.close()"
   ]
  },
  {
   "cell_type": "markdown",
   "metadata": {},
   "source": [
    "## QC with automatic thresholding and filtering based on MAD (median absolute deviations). The MAD is given by the respective QC metric of an observation and describes a robust statistic of the variability of the metric. "
   ]
  },
  {
   "cell_type": "code",
   "execution_count": 31,
   "metadata": {},
   "outputs": [],
   "source": [
    "#First, we define a function that takes a metric, i.e. a column in .obs and the number of MADs that is still permissive within the filtering strategy.\n",
    "def is_outlier(adata, metric: str, nmads: int):\n",
    "    M = adata.obs[metric]\n",
    "    outlier = (M < np.median(M) - nmads * median_abs_deviation(M)) | (\n",
    "        np.median(M) + nmads * median_abs_deviation(M) < M\n",
    "    )\n",
    "    return outlier"
   ]
  },
  {
   "cell_type": "code",
   "execution_count": 32,
   "metadata": {},
   "outputs": [
    {
     "data": {
      "text/plain": [
       "False    4477\n",
       "True      205\n",
       "Name: outlier, dtype: int64"
      ]
     },
     "execution_count": 32,
     "metadata": {},
     "output_type": "execute_result"
    }
   ],
   "source": [
    "#We now apply this function to the log1p_total_counts, log1p_n_genes_by_counts and pct_counts_in_top_20_genes QC covariates each with a threshold of 5 MADs.\n",
    "adata.obs[\"outlier\"] = (\n",
    "    is_outlier(adata, \"log1p_total_counts\", 5)\n",
    "    | is_outlier(adata, \"log1p_n_genes_by_counts\", 5)\n",
    "    | is_outlier(adata, \"pct_counts_in_top_20_genes\", 5)\n",
    ")\n",
    "adata.obs.outlier.value_counts()"
   ]
  },
  {
   "cell_type": "code",
   "execution_count": 33,
   "metadata": {},
   "outputs": [
    {
     "data": {
      "text/plain": [
       "False    4682\n",
       "Name: mt_outlier, dtype: int64"
      ]
     },
     "execution_count": 33,
     "metadata": {},
     "output_type": "execute_result"
    }
   ],
   "source": [
    "#pct_counts_Mt is filtered with 3 MADs. Additionally, cells with a percentage of mitochondrial counts exceeding 8 % are filtered out.\n",
    "adata.obs[\"mt_outlier\"] = is_outlier(adata, \"pct_counts_mt\", 3) | (\n",
    "    adata.obs[\"pct_counts_mt\"] > 8\n",
    ")\n",
    "adata.obs.mt_outlier.value_counts()"
   ]
  },
  {
   "cell_type": "markdown",
   "metadata": {},
   "source": [
    "## SAVE STATS BEFORE FILTERING"
   ]
  },
  {
   "cell_type": "code",
   "execution_count": 34,
   "metadata": {},
   "outputs": [],
   "source": [
    "#We save stats before filtering\n",
    "with open(f\"{sample}/{sample}_stats_before_filtering.txt\", \"a\") as f:\n",
    "    print(f\"Total number of cells before filtering: {adata.n_obs}\", file=f)\n",
    "    print(f\"Total number of genes with positive counts before filtering: {adata.n_vars}\", file=f)"
   ]
  },
  {
   "cell_type": "code",
   "execution_count": 35,
   "metadata": {},
   "outputs": [
    {
     "name": "stdout",
     "output_type": "stream",
     "text": [
      "Total number of cells: 4682\n",
      "Number of cells after filtering of low quality cells: 4477\n"
     ]
    }
   ],
   "source": [
    "#We now filter our AnnData object based on these two additional columns.\n",
    "print(f\"Total number of cells: {adata.n_obs}\")\n",
    "adata = adata[(~adata.obs.outlier) & (~adata.obs.mt_outlier)].copy()\n",
    "print(f\"Number of cells after filtering of low quality cells: {adata.n_obs}\")"
   ]
  },
  {
   "cell_type": "markdown",
   "metadata": {},
   "source": [
    "## SAVE STATS AFTER FILTERING"
   ]
  },
  {
   "cell_type": "code",
   "execution_count": 36,
   "metadata": {},
   "outputs": [],
   "source": [
    "#We save stats after filtering\n",
    "with open(f\"{sample}/{sample}_stats_after_filtering.txt\", \"a\") as f:\n",
    "    print(f\"Number of cells after filtering of low quality cells: {adata.n_obs}\", file=f)\n",
    "    print(f\"Number of genes after filtering of low quality cells: {adata.n_vars}\", file=f)"
   ]
  },
  {
   "cell_type": "code",
   "execution_count": 37,
   "metadata": {},
   "outputs": [],
   "source": [
    "#QC plots\n",
    "with plt.rc_context():  # Use this to set figure params like size and dpi\n",
    "    sns.displot(adata.obs[\"total_counts\"], kde=False, bins=100)\n",
    "    plt.savefig(f\"{sample}/{sample}_stats_library_size_after_filtering.png\",dpi=300, format=\"png\")\n",
    "    plt.close()"
   ]
  },
  {
   "cell_type": "code",
   "execution_count": 38,
   "metadata": {},
   "outputs": [],
   "source": [
    "with plt.rc_context():  # Use this to set figure params like size and dpi\n",
    "    sns.displot(adata.obs[\"n_genes_by_counts\"], kde=False, bins=100)\n",
    "    plt.savefig(f\"{sample}/{sample}_stats_genes_counts_after_filtering.png\",dpi=300, format=\"png\")\n",
    "    plt.close()"
   ]
  },
  {
   "cell_type": "code",
   "execution_count": 39,
   "metadata": {},
   "outputs": [],
   "source": [
    "with plt.rc_context():  # Use this to set figure params like size and dpi\n",
    "    sc.pl.violin(adata,[\"n_genes_by_counts\", \"total_counts\", \"pct_counts_mt\"],jitter=0.4,multi_panel=True, show=False)\n",
    "    plt.savefig(f\"{sample}/{sample}_counts_violin_after_filtering.png\",dpi=300, format=\"png\")\n",
    "    plt.close()"
   ]
  },
  {
   "cell_type": "code",
   "execution_count": 40,
   "metadata": {},
   "outputs": [],
   "source": [
    "with plt.rc_context():  # Use this to set figure params like size and dpi\n",
    "    sc.pl.scatter(adata, \"total_counts\", \"n_genes_by_counts\", color=\"pct_counts_mt\", show=False)\n",
    "    plt.savefig(f\"{sample}/{sample}_counts_scatter_after_filtering.png\",dpi=300, format=\"png\")\n",
    "    plt.close()"
   ]
  },
  {
   "cell_type": "code",
   "execution_count": 41,
   "metadata": {},
   "outputs": [],
   "source": [
    "#Save filtering stats\n",
    "stats_genes = adata.obs[\"n_genes_by_counts\"].describe() #the number of genes with positive counts in a barcode\n",
    "stats_genes.to_csv(f\"{sample}/{sample}_genes_stats_after_filtering.csv\")"
   ]
  },
  {
   "cell_type": "code",
   "execution_count": 42,
   "metadata": {},
   "outputs": [],
   "source": [
    "stats_library_size = adata.obs[\"total_counts\"].describe() #total number of counts per barcode, this might also be known as library size\n",
    "stats_library_size.to_csv(f\"{sample}/{sample}_library_size_stats_after_filtering.csv\")"
   ]
  },
  {
   "cell_type": "code",
   "execution_count": 43,
   "metadata": {},
   "outputs": [],
   "source": [
    "stats_mt = adata.obs[\"pct_counts_mt\"].describe() #proportion of total counts for a barcode which are mitochondrial\n",
    "stats_mt.to_csv(f\"{sample}/{sample}_mt_stats_after_filtering.csv\")"
   ]
  },
  {
   "cell_type": "code",
   "execution_count": 44,
   "metadata": {},
   "outputs": [
    {
     "data": {
      "text/plain": [
       "AnnData object with n_obs × n_vars = 4477 × 17943\n",
       "    obs: 'in_tissue', 'array_row', 'array_col', 'n_genes_by_counts', 'log1p_n_genes_by_counts', 'total_counts', 'log1p_total_counts', 'pct_counts_in_top_20_genes', 'total_counts_mt', 'log1p_total_counts_mt', 'pct_counts_mt', 'total_counts_ribo', 'log1p_total_counts_ribo', 'pct_counts_ribo', 'total_counts_hb', 'log1p_total_counts_hb', 'pct_counts_hb', 'outlier', 'mt_outlier'\n",
       "    var: 'feature_types', 'genome', 'mt', 'ribo', 'hb', 'SYMBOL', 'n_cells_by_counts', 'mean_counts', 'log1p_mean_counts', 'pct_dropout_by_counts', 'total_counts', 'log1p_total_counts'\n",
       "    uns: 'spatial'\n",
       "    obsm: 'spatial'"
      ]
     },
     "execution_count": 44,
     "metadata": {},
     "output_type": "execute_result"
    }
   ],
   "source": [
    "#AnnData object summary\n",
    "adata"
   ]
  },
  {
   "cell_type": "markdown",
   "metadata": {},
   "source": [
    "## NORMALIZATION"
   ]
  },
  {
   "cell_type": "code",
   "execution_count": 45,
   "metadata": {},
   "outputs": [],
   "source": [
    "#Save raw counts as layer\n",
    "adata.layers[\"raw_counts\"] = adata.X.copy()"
   ]
  },
  {
   "cell_type": "markdown",
   "metadata": {},
   "source": [
    "### Shifted logarithm"
   ]
  },
  {
   "cell_type": "code",
   "execution_count": 46,
   "metadata": {},
   "outputs": [],
   "source": [
    "scales_counts = sc.pp.normalize_total(adata, target_sum=None, inplace=False)\n",
    "# log1p transform\n",
    "adata.layers[\"log1p_norm\"] = sc.pp.log1p(scales_counts[\"X\"], copy=True)"
   ]
  },
  {
   "cell_type": "code",
   "execution_count": 47,
   "metadata": {},
   "outputs": [],
   "source": [
    "#Plot normalized counts\n",
    "fig, axes = plt.subplots(1, 2, figsize=(10, 5))\n",
    "p1 = sns.histplot(adata.obs[\"total_counts\"], bins=100, kde=False, ax=axes[0])\n",
    "axes[0].set_title(\"Total counts\")\n",
    "p2 = sns.histplot(adata.layers[\"log1p_norm\"].sum(1), bins=100, kde=False, ax=axes[1])\n",
    "axes[1].set_title(\"Shifted logarithm\")\n",
    "fig.savefig(f\"{sample}/{sample}_counts_normalization_shifted_log.png\",dpi=300, format=\"png\")\n",
    "plt.close(fig)"
   ]
  },
  {
   "cell_type": "markdown",
   "metadata": {},
   "source": [
    "## FEATURE SELECTION USING DEVIANCE"
   ]
  },
  {
   "cell_type": "markdown",
   "metadata": {},
   "source": [
    "### Deviance works on raw counts so there is no need to replace adata.X with one of the normalized layers."
   ]
  },
  {
   "cell_type": "code",
   "execution_count": 48,
   "metadata": {},
   "outputs": [],
   "source": [
    "#TIP when transforming from anndata to R (https://github.com/theislab/anndata2ri/issues/50): \n",
    "#Ensure all of the dtypes on any pandas dataframe within your anndata object are NOT object type. \n",
    "#Cast any numpy.ndarray objects within your anndata object to scipy.sparse.csc_matrix. "
   ]
  },
  {
   "cell_type": "code",
   "execution_count": 49,
   "metadata": {},
   "outputs": [],
   "source": [
    "#Create new object\n",
    "adata_deviance = adata.copy()"
   ]
  },
  {
   "cell_type": "code",
   "execution_count": 50,
   "metadata": {},
   "outputs": [],
   "source": [
    "#Transform object to int for R import\n",
    "adata_deviance.obsm[\"spatial\"] = adata_deviance.obsm[\"spatial\"].astype(str).astype(int)"
   ]
  },
  {
   "cell_type": "code",
   "execution_count": 51,
   "metadata": {},
   "outputs": [
    {
     "data": {
      "text/plain": [
       "array([[ 724, 1931],\n",
       "       [5809, 6877],\n",
       "       [1040, 3494],\n",
       "       ...,\n",
       "       [5270, 2533],\n",
       "       [8101, 3322],\n",
       "       [1447, 3955]])"
      ]
     },
     "execution_count": 51,
     "metadata": {},
     "output_type": "execute_result"
    }
   ],
   "source": [
    "adata_deviance.obsm[\"spatial\"]"
   ]
  },
  {
   "cell_type": "code",
   "execution_count": 52,
   "metadata": {},
   "outputs": [],
   "source": [
    "# Delete uns as this can contain arbitrary objects which are difficult to convert\n",
    "del adata_deviance.uns"
   ]
  },
  {
   "cell_type": "code",
   "execution_count": 53,
   "metadata": {},
   "outputs": [
    {
     "data": {
      "text/plain": [
       "AnnData object with n_obs × n_vars = 4477 × 17943\n",
       "    obs: 'in_tissue', 'array_row', 'array_col', 'n_genes_by_counts', 'log1p_n_genes_by_counts', 'total_counts', 'log1p_total_counts', 'pct_counts_in_top_20_genes', 'total_counts_mt', 'log1p_total_counts_mt', 'pct_counts_mt', 'total_counts_ribo', 'log1p_total_counts_ribo', 'pct_counts_ribo', 'total_counts_hb', 'log1p_total_counts_hb', 'pct_counts_hb', 'outlier', 'mt_outlier'\n",
       "    var: 'feature_types', 'genome', 'mt', 'ribo', 'hb', 'SYMBOL', 'n_cells_by_counts', 'mean_counts', 'log1p_mean_counts', 'pct_dropout_by_counts', 'total_counts', 'log1p_total_counts'\n",
       "    obsm: 'spatial'\n",
       "    layers: 'raw_counts', 'log1p_norm'"
      ]
     },
     "execution_count": 53,
     "metadata": {},
     "output_type": "execute_result"
    }
   ],
   "source": [
    "adata_deviance"
   ]
  },
  {
   "cell_type": "code",
   "execution_count": 54,
   "metadata": {},
   "outputs": [
    {
     "data": {
      "text/plain": [
       "array(['scry', 'tools', 'stats', 'graphics', 'grDevices', 'utils',\n",
       "       'datasets', 'methods', 'base'], dtype='<U9')"
      ]
     },
     "execution_count": 54,
     "metadata": {},
     "output_type": "execute_result"
    }
   ],
   "source": [
    "%R library(scry)"
   ]
  },
  {
   "cell_type": "code",
   "execution_count": 55,
   "metadata": {},
   "outputs": [],
   "source": [
    "#Similar to before, we save the AnnData object in our R environment (you may need to run this cell twice, i.e: sometimes it raises an error)\n",
    "ro.globalenv[\"adata_deviance\"] = adata_deviance"
   ]
  },
  {
   "cell_type": "code",
   "execution_count": 56,
   "metadata": {},
   "outputs": [
    {
     "data": {
      "text/plain": [
       "AnnData object with n_obs × n_vars = 4477 × 17943\n",
       "    obs: 'in_tissue', 'array_row', 'array_col', 'n_genes_by_counts', 'log1p_n_genes_by_counts', 'total_counts', 'log1p_total_counts', 'pct_counts_in_top_20_genes', 'total_counts_mt', 'log1p_total_counts_mt', 'pct_counts_mt', 'total_counts_ribo', 'log1p_total_counts_ribo', 'pct_counts_ribo', 'total_counts_hb', 'log1p_total_counts_hb', 'pct_counts_hb', 'outlier', 'mt_outlier'\n",
       "    var: 'feature_types', 'genome', 'mt', 'ribo', 'hb', 'SYMBOL', 'n_cells_by_counts', 'mean_counts', 'log1p_mean_counts', 'pct_dropout_by_counts', 'total_counts', 'log1p_total_counts', 'binomial_deviance'\n",
       "    obsm: 'spatial'\n",
       "    layers: 'raw_counts', 'log1p_norm'"
      ]
     },
     "execution_count": 56,
     "metadata": {},
     "output_type": "execute_result"
    }
   ],
   "source": [
    "#We can now directly call feature selection with deviance on the non-normalized counts matrix and export the bionomial deviance values as a vector.\n",
    "%R sce = devianceFeatureSelection(adata_deviance, assay=\"X\")"
   ]
  },
  {
   "cell_type": "code",
   "execution_count": 57,
   "metadata": {},
   "outputs": [],
   "source": [
    "binomial_deviance = ro.r(\"rowData(sce)$binomial_deviance\").T"
   ]
  },
  {
   "cell_type": "code",
   "execution_count": 58,
   "metadata": {},
   "outputs": [],
   "source": [
    "#As a next step, we now sort the vector an select the top 6,000 highly deviant genes and save them as an additional column in .var as ‘highly_deviant’. \n",
    "#We additionally save the computed binomial deviance in case we want to sub-select a different number of highly variable genes afterwards."
   ]
  },
  {
   "cell_type": "code",
   "execution_count": 59,
   "metadata": {},
   "outputs": [],
   "source": [
    "idx = binomial_deviance.argsort()[-6000:]\n",
    "mask = np.zeros(adata.var_names.shape, dtype=bool)\n",
    "mask[idx] = True\n",
    "\n",
    "adata.var[\"highly_deviant\"] = mask\n",
    "adata.var[\"binomial_deviance\"] = binomial_deviance"
   ]
  },
  {
   "cell_type": "code",
   "execution_count": 60,
   "metadata": {},
   "outputs": [
    {
     "data": {
      "text/plain": [
       "AnnData object with n_obs × n_vars = 4477 × 17943\n",
       "    obs: 'in_tissue', 'array_row', 'array_col', 'n_genes_by_counts', 'log1p_n_genes_by_counts', 'total_counts', 'log1p_total_counts', 'pct_counts_in_top_20_genes', 'total_counts_mt', 'log1p_total_counts_mt', 'pct_counts_mt', 'total_counts_ribo', 'log1p_total_counts_ribo', 'pct_counts_ribo', 'total_counts_hb', 'log1p_total_counts_hb', 'pct_counts_hb', 'outlier', 'mt_outlier'\n",
       "    var: 'feature_types', 'genome', 'mt', 'ribo', 'hb', 'SYMBOL', 'n_cells_by_counts', 'mean_counts', 'log1p_mean_counts', 'pct_dropout_by_counts', 'total_counts', 'log1p_total_counts', 'highly_deviant', 'binomial_deviance'\n",
       "    uns: 'spatial'\n",
       "    obsm: 'spatial'\n",
       "    layers: 'raw_counts', 'log1p_norm'"
      ]
     },
     "execution_count": 60,
     "metadata": {},
     "output_type": "execute_result"
    }
   ],
   "source": [
    "adata"
   ]
  },
  {
   "cell_type": "code",
   "execution_count": 61,
   "metadata": {},
   "outputs": [],
   "source": [
    "#Last, we visualise the feature selection results. We use a scanpy function to compute the mean and dispersion for each gene accross all cells.\n",
    "sc.pp.highly_variable_genes(adata, layer=\"log1p_norm\")"
   ]
  },
  {
   "cell_type": "code",
   "execution_count": 62,
   "metadata": {},
   "outputs": [
    {
     "data": {
      "text/plain": [
       "AnnData object with n_obs × n_vars = 4477 × 17943\n",
       "    obs: 'in_tissue', 'array_row', 'array_col', 'n_genes_by_counts', 'log1p_n_genes_by_counts', 'total_counts', 'log1p_total_counts', 'pct_counts_in_top_20_genes', 'total_counts_mt', 'log1p_total_counts_mt', 'pct_counts_mt', 'total_counts_ribo', 'log1p_total_counts_ribo', 'pct_counts_ribo', 'total_counts_hb', 'log1p_total_counts_hb', 'pct_counts_hb', 'outlier', 'mt_outlier'\n",
       "    var: 'feature_types', 'genome', 'mt', 'ribo', 'hb', 'SYMBOL', 'n_cells_by_counts', 'mean_counts', 'log1p_mean_counts', 'pct_dropout_by_counts', 'total_counts', 'log1p_total_counts', 'highly_deviant', 'binomial_deviance', 'highly_variable', 'means', 'dispersions', 'dispersions_norm'\n",
       "    uns: 'spatial', 'hvg'\n",
       "    obsm: 'spatial'\n",
       "    layers: 'raw_counts', 'log1p_norm'"
      ]
     },
     "execution_count": 62,
     "metadata": {},
     "output_type": "execute_result"
    }
   ],
   "source": [
    "adata"
   ]
  },
  {
   "cell_type": "code",
   "execution_count": 63,
   "metadata": {},
   "outputs": [],
   "source": [
    "#We inspect our results by plotting dispersion versus mean for the genes and color by ‘highly_deviant’.\n",
    "with plt.rc_context():  # Use this to set figure params like size and dpi\n",
    "    sns.scatterplot(data=adata.var, x=\"means\", y=\"dispersions\", hue=\"highly_deviant\", s=5)\n",
    "    #ax.set_xlim(None, 1.5)\n",
    "    #ax.set_ylim(None, 3)\n",
    "    plt.savefig(f\"{sample}/{sample}_highly_deviant_genes.png\",dpi=300, format=\"png\")\n",
    "    plt.close()"
   ]
  },
  {
   "cell_type": "code",
   "execution_count": 64,
   "metadata": {},
   "outputs": [],
   "source": [
    "#We observe that genes with a high mean expression are selected as highly deviant. "
   ]
  },
  {
   "cell_type": "markdown",
   "metadata": {},
   "source": [
    "## DIMENSIONALITY REDUCTION"
   ]
  },
  {
   "cell_type": "code",
   "execution_count": 65,
   "metadata": {},
   "outputs": [],
   "source": [
    "#We will use a normalized representation of the dataset for dimensionality reduction and visualization, specifically the shifted logarithm.\n",
    "adata.X = adata.layers[\"log1p_norm\"]"
   ]
  },
  {
   "cell_type": "markdown",
   "metadata": {},
   "source": [
    "### PCA"
   ]
  },
  {
   "cell_type": "code",
   "execution_count": 66,
   "metadata": {},
   "outputs": [],
   "source": [
    "# setting highly variable as highly deviant to use scanpy 'use_highly_variable' argument in sc.pp.pca\n",
    "adata.var[\"highly_variable\"] = adata.var[\"highly_deviant\"]\n",
    "sc.pp.pca(adata, svd_solver=\"arpack\", use_highly_variable=True)"
   ]
  },
  {
   "cell_type": "markdown",
   "metadata": {},
   "source": [
    "### t-SNE"
   ]
  },
  {
   "cell_type": "code",
   "execution_count": 67,
   "metadata": {},
   "outputs": [],
   "source": [
    "sc.tl.tsne(adata, use_rep=\"X_pca\")"
   ]
  },
  {
   "cell_type": "markdown",
   "metadata": {},
   "source": [
    "### UMAP"
   ]
  },
  {
   "cell_type": "code",
   "execution_count": 68,
   "metadata": {
    "scrolled": true
   },
   "outputs": [
    {
     "name": "stderr",
     "output_type": "stream",
     "text": [
      "/Users/carlosgarciaprieto/anaconda3/envs/squidpy/lib/python3.11/site-packages/umap/distances.py:1063: NumbaDeprecationWarning: The 'nopython' keyword argument was not supplied to the 'numba.jit' decorator. The implicit default value for this argument is currently False, but it will be changed to True in Numba 0.59.0. See https://numba.readthedocs.io/en/stable/reference/deprecation.html#deprecation-of-object-mode-fall-back-behaviour-when-using-jit for details.\n",
      "  @numba.jit()\n",
      "/Users/carlosgarciaprieto/anaconda3/envs/squidpy/lib/python3.11/site-packages/umap/distances.py:1071: NumbaDeprecationWarning: The 'nopython' keyword argument was not supplied to the 'numba.jit' decorator. The implicit default value for this argument is currently False, but it will be changed to True in Numba 0.59.0. See https://numba.readthedocs.io/en/stable/reference/deprecation.html#deprecation-of-object-mode-fall-back-behaviour-when-using-jit for details.\n",
      "  @numba.jit()\n",
      "/Users/carlosgarciaprieto/anaconda3/envs/squidpy/lib/python3.11/site-packages/umap/distances.py:1086: NumbaDeprecationWarning: The 'nopython' keyword argument was not supplied to the 'numba.jit' decorator. The implicit default value for this argument is currently False, but it will be changed to True in Numba 0.59.0. See https://numba.readthedocs.io/en/stable/reference/deprecation.html#deprecation-of-object-mode-fall-back-behaviour-when-using-jit for details.\n",
      "  @numba.jit()\n",
      "/Users/carlosgarciaprieto/anaconda3/envs/squidpy/lib/python3.11/site-packages/tqdm/auto.py:21: TqdmWarning: IProgress not found. Please update jupyter and ipywidgets. See https://ipywidgets.readthedocs.io/en/stable/user_install.html\n",
      "  from .autonotebook import tqdm as notebook_tqdm\n",
      "/Users/carlosgarciaprieto/anaconda3/envs/squidpy/lib/python3.11/site-packages/umap/umap_.py:660: NumbaDeprecationWarning: The 'nopython' keyword argument was not supplied to the 'numba.jit' decorator. The implicit default value for this argument is currently False, but it will be changed to True in Numba 0.59.0. See https://numba.readthedocs.io/en/stable/reference/deprecation.html#deprecation-of-object-mode-fall-back-behaviour-when-using-jit for details.\n",
      "  @numba.jit()\n"
     ]
    }
   ],
   "source": [
    "#We first calculate PCA and subsequently a neighborhood graph on our data.\n",
    "sc.pp.neighbors(adata)\n",
    "sc.tl.umap(adata)"
   ]
  },
  {
   "cell_type": "markdown",
   "metadata": {},
   "source": [
    "### Inspecting QC metrics"
   ]
  },
  {
   "cell_type": "code",
   "execution_count": 69,
   "metadata": {},
   "outputs": [],
   "source": [
    "#We can now also inspect the quality control metrics we calculated previously in our PCA, TSNE or UMAP plot and potentially identify low-quality cells.\n",
    "with plt.rc_context():  # Use this to set figure params like size and dpi\n",
    "    plt.rcParams[\"figure.figsize\"] = (4, 4)\n",
    "    sc.pl.pca_scatter(adata,color=[\"total_counts\", \"n_genes_by_counts\",\"pct_counts_mt\"], show=False)\n",
    "    plt.savefig(f\"{sample}/{sample}_PCA_dimensionality_reduction_QC.png\",dpi=300, format=\"png\")\n",
    "    plt.close()"
   ]
  },
  {
   "cell_type": "code",
   "execution_count": 70,
   "metadata": {},
   "outputs": [],
   "source": [
    "with plt.rc_context():  \n",
    "    plt.rcParams[\"figure.figsize\"] = (4, 4)\n",
    "    sc.pl.tsne(adata,color=[\"total_counts\", \"n_genes_by_counts\",\"pct_counts_mt\"], show=False)\n",
    "    plt.savefig(f\"{sample}/{sample}_tSNE_dimensionality_reduction_QC.png\",dpi=300, format=\"png\")\n",
    "    plt.close()"
   ]
  },
  {
   "cell_type": "code",
   "execution_count": 71,
   "metadata": {},
   "outputs": [],
   "source": [
    "with plt.rc_context(): \n",
    "    plt.rcParams[\"figure.figsize\"] = (4, 4)\n",
    "    sc.pl.umap(adata,color=[\"total_counts\", \"n_genes_by_counts\",\"pct_counts_mt\"], show=False)\n",
    "    plt.savefig(f\"{sample}/{sample}_UMAP_dimensionality_reduction_QC.png\",dpi=300, format=\"png\")\n",
    "    plt.close()"
   ]
  },
  {
   "cell_type": "markdown",
   "metadata": {},
   "source": [
    "## CLUSTERING"
   ]
  },
  {
   "cell_type": "code",
   "execution_count": 72,
   "metadata": {},
   "outputs": [],
   "source": [
    "#We call Leiden algorithm\n",
    "sc.tl.leiden(adata)"
   ]
  },
  {
   "cell_type": "code",
   "execution_count": 73,
   "metadata": {},
   "outputs": [],
   "source": [
    "#The default resolution parameter in scanpy is 1.0. \n",
    "#However, in many cases the analyst may want to try different resolution parameters to control the coarseness of the clustering. \n",
    "sc.tl.leiden(adata, key_added=\"leiden_res0_25\", resolution=0.25)\n",
    "sc.tl.leiden(adata, key_added=\"leiden_res0_5\", resolution=0.5)\n",
    "#sc.tl.leiden(adata, key_added=\"leiden_res1\", resolution=1.0)"
   ]
  },
  {
   "cell_type": "code",
   "execution_count": 74,
   "metadata": {
    "scrolled": true
   },
   "outputs": [
    {
     "name": "stderr",
     "output_type": "stream",
     "text": [
      "/Users/carlosgarciaprieto/anaconda3/envs/squidpy/lib/python3.11/site-packages/scanpy/plotting/_tools/scatterplots.py:392: UserWarning: No data for colormapping provided via 'c'. Parameters 'cmap' will be ignored\n",
      "  cax = scatter(\n",
      "/Users/carlosgarciaprieto/anaconda3/envs/squidpy/lib/python3.11/site-packages/scanpy/plotting/_tools/scatterplots.py:392: UserWarning: No data for colormapping provided via 'c'. Parameters 'cmap' will be ignored\n",
      "  cax = scatter(\n",
      "/Users/carlosgarciaprieto/anaconda3/envs/squidpy/lib/python3.11/site-packages/scanpy/plotting/_tools/scatterplots.py:392: UserWarning: No data for colormapping provided via 'c'. Parameters 'cmap' will be ignored\n",
      "  cax = scatter(\n"
     ]
    }
   ],
   "source": [
    "#Visualize clustering\n",
    "with plt.rc_context():  # Use this to set figure params like size and dpi\n",
    "    plt.rcParams[\"figure.figsize\"] = (4, 4)\n",
    "    sc.pl.umap(adata,color=[\"leiden_res0_25\", \"leiden_res0_5\", \"leiden\"],legend_loc=\"on data\", show=False)\n",
    "    plt.savefig(f\"{sample}/{sample}_leiden_community_res.png\",dpi=300, format=\"png\")\n",
    "    plt.close()"
   ]
  },
  {
   "cell_type": "markdown",
   "metadata": {},
   "source": [
    "## PLOTTING QC ON TOP OF VISIUM ST IMAGES"
   ]
  },
  {
   "cell_type": "code",
   "execution_count": 75,
   "metadata": {},
   "outputs": [],
   "source": [
    "#Transform to int\n",
    "adata.obsm[\"spatial\"] = adata.obsm[\"spatial\"].astype(int)"
   ]
  },
  {
   "cell_type": "code",
   "execution_count": 76,
   "metadata": {},
   "outputs": [],
   "source": [
    "with plt.rc_context():  \n",
    "    plt.rcParams[\"figure.figsize\"] = (8, 8)\n",
    "    sc.pl.spatial(adata, img_key=\"hires\", color=[\"total_counts\", \"n_genes_by_counts\", \"leiden\"], show=False)\n",
    "    plt.savefig(f\"{sample}/{sample}_QC_histology.png\",dpi=300, format=\"png\")\n",
    "    plt.close()"
   ]
  },
  {
   "cell_type": "markdown",
   "metadata": {},
   "source": [
    "## CLUSTER MARKER GENES"
   ]
  },
  {
   "cell_type": "code",
   "execution_count": 77,
   "metadata": {},
   "outputs": [],
   "source": [
    "with plt.rc_context():  \n",
    "    plt.rcParams[\"figure.figsize\"] = (4, 6)\n",
    "    sc.tl.rank_genes_groups(adata, \"leiden\", method=\"t-test\")\n",
    "    sc.pl.rank_genes_groups_heatmap(adata, n_genes=5, groupby=\"leiden\", show_gene_labels=True, show=False, gene_symbols=\"SYMBOL\") #groups=\"3\" for specific cluster\n",
    "    plt.savefig(f\"{sample}/{sample}_leiden_marker_genes.png\",dpi=300, format=\"png\")\n",
    "    plt.close()"
   ]
  },
  {
   "cell_type": "markdown",
   "metadata": {},
   "source": [
    "## SAVE PREPROCESSED ANNDATA OBJECT"
   ]
  },
  {
   "cell_type": "code",
   "execution_count": 78,
   "metadata": {},
   "outputs": [],
   "source": [
    "#Save anndata with clustering results\n",
    "adata.write_h5ad(f'{sample}/{sample}_preprocessed.h5ad', compression='gzip')"
   ]
  }
 ],
 "metadata": {
  "kernelspec": {
   "display_name": "squidpy",
   "language": "python",
   "name": "squidpy"
  },
  "language_info": {
   "codemirror_mode": {
    "name": "ipython",
    "version": 3
   },
   "file_extension": ".py",
   "mimetype": "text/x-python",
   "name": "python",
   "nbconvert_exporter": "python",
   "pygments_lexer": "ipython3",
   "version": "3.11.3"
  }
 },
 "nbformat": 4,
 "nbformat_minor": 4
}
