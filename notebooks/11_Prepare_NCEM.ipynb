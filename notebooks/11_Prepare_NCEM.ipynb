{
 "cells": [
  {
   "cell_type": "markdown",
   "id": "69ef182e-de91-4b83-8198-891140d5a3b0",
   "metadata": {},
   "source": [
    "# Spatial transcriptomics unveils the in situ cellular and molecular hallmarks of the lung in fatal COVID-19"
   ]
  },
  {
   "cell_type": "markdown",
   "id": "63baee74-cd69-4f24-a843-ade357a31684",
   "metadata": {},
   "source": [
    "# Spatial dependencies as a function of niche composition across COVID-19 induced DAD progression"
   ]
  },
  {
   "cell_type": "markdown",
   "id": "e2354c03-2564-4e7b-b841-82a8adc5e388",
   "metadata": {},
   "source": [
    "**Author:** Carlos A. Garcia-Prieto\n",
    "\n",
    "* This notebook explains the preparation of the spatially mapped and deconvoluted Visium ST data with cell2location for the analysis of spatial intercellular dependencies as a function of spot composition using [NCEM](https://ncem.readthedocs.io/en/latest).\n",
    "* We followed prepare NCEM data from deconvoluted Visium ST data [tutorial.](https://github.com/theislab/ncem_benchmarks/blob/main/notebooks/data_preparation/deconvolution/cell2location_human_lymphnode.ipynb) "
   ]
  },
  {
   "cell_type": "markdown",
   "id": "8b7b453d-050b-4b2a-941c-ea028d22d269",
   "metadata": {},
   "source": [
    "## Import modules"
   ]
  },
  {
   "cell_type": "code",
   "execution_count": 1,
   "id": "05d66292-b402-4a9a-b34b-0cfe26b04fd3",
   "metadata": {},
   "outputs": [
    {
     "name": "stderr",
     "output_type": "stream",
     "text": [
      "Global seed set to 0\n"
     ]
    }
   ],
   "source": [
    "import warnings\n",
    "warnings.filterwarnings(\"ignore\")\n",
    "import os\n",
    "import sys\n",
    "import scanpy as sc\n",
    "import anndata as ad\n",
    "import pandas as pd\n",
    "pd.set_option('display.max_columns', 100)\n",
    "import numpy as np\n",
    "import matplotlib.pyplot as plt\n",
    "import matplotlib as mpl\n",
    "import cell2location\n",
    "import scvi\n",
    "from matplotlib import rcParams\n",
    "rcParams['pdf.fonttype'] = 42 # enables correct plotting of text\n",
    "import seaborn as sns\n",
    "import decoupler as dc"
   ]
  },
  {
   "cell_type": "code",
   "execution_count": 2,
   "id": "1b78e243-4e52-4c68-a38b-62023ca10f52",
   "metadata": {},
   "outputs": [],
   "source": [
    "#Set data directory\n",
    "results_folder = \"/mnt/beegfs/cgarcia/Spatial/COVID19/cell2location/HLCA_publication/HLCA/\"\n",
    "\n",
    "ref_run_name = f'{results_folder}reference_signatures_finest'\n",
    "run_name = f'{results_folder}cell2location_map_finest'\n",
    "\n",
    "bivariate_folder = '/mnt/beegfs/cgarcia/Spatial/COVID19/cell2location/HLCA_publication/HLCA/liana/bivariate/'"
   ]
  },
  {
   "cell_type": "markdown",
   "id": "f9c57285-4cfc-4920-a858-5158d43aecbe",
   "metadata": {},
   "source": [
    "## Read cell type specific gene expression needed for NCEM"
   ]
  },
  {
   "cell_type": "code",
   "execution_count": 3,
   "id": "e5bc20c0-4b25-49fb-9e49-8a149dae77d9",
   "metadata": {},
   "outputs": [],
   "source": [
    "#Read cell type specific gene expression needed for NCEM\n",
    "adata_file = f\"{run_name}/ad_vis_post_distrib_finest_cell_type_gene_expr.h5ad\"\n",
    "adata_vis = sc.read_h5ad(adata_file)"
   ]
  },
  {
   "cell_type": "markdown",
   "id": "a209749b-b217-4dc1-8014-a5097739fdae",
   "metadata": {},
   "source": [
    "## Read WikiPathways gene sets\n",
    "To focus the analysis on biologically relevant genes, we selected gene sets described in the WikiPathways database from the Molecular Signature Database (MSigDB)"
   ]
  },
  {
   "cell_type": "code",
   "execution_count": 4,
   "id": "8be07814-7edb-424e-b41e-5a6c43e24815",
   "metadata": {},
   "outputs": [],
   "source": [
    "# Get MSigDB resource\n",
    "msigdb = dc.get_resource('MSigDB')\n",
    "#Select WikiPathways databse\n",
    "msigdb = msigdb[msigdb['collection']=='wikipathways']\n",
    "#Remove duplicated entries\n",
    "msigdb = msigdb[~msigdb.duplicated(['geneset', 'genesymbol'])]\n",
    "#Remove prefix\n",
    "msigdb.loc[:, 'geneset'] = [name.split('WP_')[1] for name in msigdb['geneset']]\n",
    "#Write WikiPathways gene sets\n",
    "msigdb.to_csv(f\"{bivariate_folder}anndataWith005MinimumExpr/msigdb_WP_Paper.csv\", index=True) "
   ]
  },
  {
   "cell_type": "code",
   "execution_count": 5,
   "id": "d2e49ab8-5af5-487f-b2c7-9390dee05bef",
   "metadata": {},
   "outputs": [],
   "source": [
    "#Read WikiPathways gene sets\n",
    "msigdb_WP = pd.read_csv(f\"{bivariate_folder}anndataWith005MinimumExpr/msigdb_WP_Paper.csv\", index_col = 0)"
   ]
  },
  {
   "cell_type": "code",
   "execution_count": 6,
   "id": "a0b6b4a4-9fa9-4f5f-8444-c03128edcc88",
   "metadata": {},
   "outputs": [],
   "source": [
    "#Retrieve gene symbols\n",
    "msigdb_WP_genes = list(set(msigdb_WP[\"genesymbol\"]))"
   ]
  },
  {
   "cell_type": "markdown",
   "id": "0e86784a-abdf-4a34-a58b-bf305eb636ee",
   "metadata": {},
   "source": [
    "## Filter out cell type marker genes\n",
    "We filtered out cell type specific marker genes computed using rank_genes_groups_df() function in scanpy using adjusted p-value < 0.05 and minimum log fold change > 2"
   ]
  },
  {
   "cell_type": "code",
   "execution_count": 7,
   "id": "8ff284b2-da06-47b4-87cb-c42d30a9926a",
   "metadata": {},
   "outputs": [],
   "source": [
    "#Read Marker genes to filter\n",
    "markers = pd.read_csv(f\"{ref_run_name}/Marker_genes_filter_pvaladj005_logfc2.csv\", index_col = 0)\n",
    "#Select unique marker genes\n",
    "markers_filter = markers['names'].unique()"
   ]
  },
  {
   "cell_type": "code",
   "execution_count": 8,
   "id": "67871a24-ca12-4654-9018-05308a6f71a4",
   "metadata": {},
   "outputs": [],
   "source": [
    "#Remove marker genes\n",
    "adata_vis.var[\"keep\"] = ~adata_vis.var_names.isin(markers_filter)"
   ]
  },
  {
   "cell_type": "code",
   "execution_count": 9,
   "id": "bc221e77-42c5-438a-9a28-1f1ae0b2582d",
   "metadata": {},
   "outputs": [],
   "source": [
    "#Set Hugo symbols as row names\n",
    "adata_vis.var['gene_ids'] = adata_vis.var_names\n",
    "adata_vis.var.set_index('SYMBOL', drop=False, inplace=True)"
   ]
  },
  {
   "cell_type": "code",
   "execution_count": 10,
   "id": "ca253948-62d1-49c9-af14-acef54579e96",
   "metadata": {},
   "outputs": [],
   "source": [
    "## Remove cell type marker genes\n",
    "adata_vis = adata_vis[:, adata_vis.var.keep]"
   ]
  },
  {
   "cell_type": "markdown",
   "id": "25934c70-0179-44dd-bb66-41393487a5cc",
   "metadata": {},
   "source": [
    "## Select Wikipathways gene sets (1614 genes shared)"
   ]
  },
  {
   "cell_type": "code",
   "execution_count": 11,
   "id": "f7bf7ff6-ecb2-4bc6-9456-b3c61a0221de",
   "metadata": {},
   "outputs": [],
   "source": [
    "#Select msigdb Wiki Pathways (WP) genes (1614 genes in total)\n",
    "adata_vis.var[\"keep\"] = adata_vis.var_names.isin(msigdb_WP_genes)"
   ]
  },
  {
   "cell_type": "code",
   "execution_count": 12,
   "id": "20c0e8fe-6a5f-4352-a3e7-0f93343c018f",
   "metadata": {},
   "outputs": [],
   "source": [
    "#Select WikiPathways gene sets\n",
    "adata_vis = adata_vis[:, adata_vis.var.keep]"
   ]
  },
  {
   "cell_type": "markdown",
   "id": "9fac8f64-4862-4a46-8b74-29fb980c1858",
   "metadata": {},
   "source": [
    "# Prepare data for NCEM analysis"
   ]
  },
  {
   "cell_type": "code",
   "execution_count": 13,
   "id": "1f573dc1-ac49-460d-9400-13b90321b512",
   "metadata": {},
   "outputs": [],
   "source": [
    "#Set raw counts\n",
    "adata_vis.X = adata_vis.layers[\"raw_counts\"].copy()"
   ]
  },
  {
   "cell_type": "code",
   "execution_count": 14,
   "id": "8684fdd5-4f98-4372-b54e-13ca0119084f",
   "metadata": {},
   "outputs": [],
   "source": [
    "#Select 45 cell types\n",
    "cell_types = np.unique(list(adata_vis.layers.keys())[:46]) #finest\n",
    "cell_types = np.delete(cell_types,44) #Remove logcounts finest"
   ]
  },
  {
   "cell_type": "code",
   "execution_count": 15,
   "id": "8ef4df3f-2edd-492b-b81c-b6504c8bdae9",
   "metadata": {},
   "outputs": [],
   "source": [
    "# Extract cell type abundances: using 5% quantile (representing confident cell abundance)\n",
    "adata_vis.obs[adata_vis.uns['mod']['factor_names']] = adata_vis.obsm['q05_cell_abundance_w_sf']"
   ]
  },
  {
   "cell_type": "code",
   "execution_count": 16,
   "id": "0ba31f2c-245b-4ba3-94d6-069ca2344958",
   "metadata": {},
   "outputs": [],
   "source": [
    "#Extract cell type proportions\n",
    "prop = adata_vis.obs[cell_types]"
   ]
  },
  {
   "cell_type": "markdown",
   "id": "00c336a3-cb37-493c-af49-839ec2d9a57d",
   "metadata": {},
   "source": [
    "## Select cell types with credible differential abundance according to scCODA results and select most abundant cell types (22 cell types in total for NCEM analysis)"
   ]
  },
  {
   "cell_type": "code",
   "execution_count": 17,
   "id": "74144572-23b1-4ad5-b1b8-6b77c1b01d11",
   "metadata": {},
   "outputs": [],
   "source": [
    "#Select cell types with credible differential abundance according to scCODA results and select most abundant cell types\n",
    "cell_types_filtered = ['Alveolar fibroblasts','Alveolar Mph CCL3+','Alveolar Mph MT-positive','AT1', 'Adventitial fibroblasts',\n",
    "                      'CD4 T cells', 'CD8 T cells', 'EC aerocyte capillary', 'EC arterial',\n",
    "                      'EC general capillary', 'EC venous pulmonary', 'Interstitial Mph perivascular', 'Monocyte-derived Mph',\n",
    "                      'NK cells', 'Non-classical monocytes', 'Peribronchial fibroblasts', 'Pericytes', 'Plasma cells', 'Subpleural fibroblasts',\n",
    "                      'T cells proliferating', 'SM activated stress response', 'AT2'] #selected most abundant cell types"
   ]
  },
  {
   "cell_type": "code",
   "execution_count": 18,
   "id": "9653cddd-b3bd-4cee-a3be-2c59c015c382",
   "metadata": {},
   "outputs": [],
   "source": [
    "#Create directory to save results\n",
    "directory = f'{results_folder}ncem'\n",
    "# Check if the directory exists\n",
    "if not os.path.exists(directory):\n",
    "    # If it doesn't exist, create it\n",
    "    os.makedirs(directory)\n",
    "\n",
    "directory = f'{results_folder}ncem/Celltype22_Markers_Wiki_1614'\n",
    "# Check if the directory exists\n",
    "if not os.path.exists(directory):\n",
    "    # If it doesn't exist, create it\n",
    "    os.makedirs(directory)"
   ]
  },
  {
   "cell_type": "code",
   "execution_count": 19,
   "id": "861a7301-a18f-4524-80b3-28dcb4cf32f6",
   "metadata": {},
   "outputs": [],
   "source": [
    "#Selected celltypes\n",
    "prop_filtered = prop.filter(items=cell_types_filtered)"
   ]
  },
  {
   "cell_type": "code",
   "execution_count": 20,
   "id": "945c40fe-2d78-4f6b-8915-d03c44cc6730",
   "metadata": {},
   "outputs": [],
   "source": [
    "#Set cell_types and proportions with only the selected cell types\n",
    "cell_types = cell_types_filtered\n",
    "prop = prop_filtered"
   ]
  },
  {
   "cell_type": "code",
   "execution_count": 21,
   "id": "4ef5f1fd-0769-4193-a98c-5121ca7abe13",
   "metadata": {},
   "outputs": [],
   "source": [
    "#Set samples\n",
    "samples = adata_vis.obs[\"sample\"]"
   ]
  },
  {
   "cell_type": "markdown",
   "id": "84c7f389-2926-4bc6-bef6-5ecf045aa896",
   "metadata": {},
   "source": [
    "## Collect NCEM data"
   ]
  },
  {
   "cell_type": "code",
   "execution_count": 22,
   "id": "88ec505e-8261-486b-a627-324441f90aa8",
   "metadata": {},
   "outputs": [],
   "source": [
    "#Prepare data for NCEM\n",
    "\n",
    "cell_expression = []\n",
    "node_types = []\n",
    "proportions = []\n",
    "spatial = []\n",
    "sample = []\n",
    "for i, ct in enumerate(cell_types):\n",
    "    proportions.append(prop)\n",
    "    cell_expression.append(adata_vis.layers[ct].toarray())\n",
    "    nt = np.zeros((prop.shape[0], len(cell_types)))\n",
    "    nt[:, i] = 1\n",
    "    node_types.append(nt)\n",
    "    spatial.append(adata_vis.obsm['spatial'])\n",
    "    sample.append(adata_vis.obs['sample'])\n",
    "    \n",
    "proportions = pd.DataFrame(np.concatenate(proportions), columns=cell_types)\n",
    "cell_expression = pd.DataFrame(np.concatenate(cell_expression), columns=adata_vis.var_names)\n",
    "node_types = pd.DataFrame(np.concatenate(node_types), columns=cell_types)\n",
    "spatial = pd.DataFrame(np.concatenate(spatial))\n",
    "sample = pd.DataFrame(np.concatenate(sample))"
   ]
  },
  {
   "cell_type": "code",
   "execution_count": 23,
   "id": "2f8a56e2-a848-4e1d-92e8-3d6590d8120a",
   "metadata": {},
   "outputs": [],
   "source": [
    "from anndata import AnnData\n",
    "adata_ncem = AnnData(cell_expression)\n",
    "adata_ncem.obsm['proportions'] = np.array(proportions)\n",
    "adata_ncem.obsm['node_types'] = np.array(node_types)\n",
    "adata_ncem.obsm['spatial'] = np.array(spatial)\n",
    "adata_ncem.obs['sample'] = np.array(sample)\n",
    "\n",
    "adata_ncem.uns[\"node_type_names\"] = {x: x for x in cell_types}"
   ]
  },
  {
   "cell_type": "markdown",
   "id": "66826041-8655-4660-af41-0712f6a429e9",
   "metadata": {},
   "source": [
    "## Preprocess NCEM data"
   ]
  },
  {
   "cell_type": "code",
   "execution_count": 24,
   "id": "2e46a197-2fb3-4dec-b99e-cc8bff79d830",
   "metadata": {},
   "outputs": [],
   "source": [
    "sc.pp.filter_genes(adata_ncem, min_cells=0)"
   ]
  },
  {
   "cell_type": "code",
   "execution_count": 25,
   "id": "8af92549-6429-4994-8c02-5dfc73a1b6f4",
   "metadata": {},
   "outputs": [],
   "source": [
    "adata_ncem.obsm['sample'] = np.array(sample)"
   ]
  },
  {
   "cell_type": "code",
   "execution_count": 26,
   "id": "cf61a227-c59f-4899-8f4a-a655cfbd68af",
   "metadata": {},
   "outputs": [],
   "source": [
    "adata_ncem.layers[\"Cell_expression\"] = adata_ncem.X"
   ]
  },
  {
   "cell_type": "code",
   "execution_count": 27,
   "id": "66ba8712-65db-4188-87d1-2c4b77cd90b6",
   "metadata": {},
   "outputs": [],
   "source": [
    "sc.pp.log1p(adata_ncem)"
   ]
  },
  {
   "cell_type": "code",
   "execution_count": 28,
   "id": "2975a375-81a6-4824-828d-ce14251925fb",
   "metadata": {},
   "outputs": [],
   "source": [
    "h_0 = pd.DataFrame(adata_ncem.obsm['node_types'], columns=list(adata_ncem.uns['node_type_names'].values()))\n",
    "target_type = pd.DataFrame(np.array(h_0.idxmax(axis=1)), columns=[\"target_cell\"]).reset_index()"
   ]
  },
  {
   "cell_type": "code",
   "execution_count": 29,
   "id": "75fb80ca-1db6-4f5d-85cd-cd026fbc6dac",
   "metadata": {},
   "outputs": [],
   "source": [
    "adata_ncem.obs = target_type"
   ]
  },
  {
   "cell_type": "code",
   "execution_count": 30,
   "id": "c820dfe3-9c56-4119-903c-bb589df47474",
   "metadata": {},
   "outputs": [],
   "source": [
    "adata_ncem.obs['sample'] = np.array(sample)"
   ]
  },
  {
   "cell_type": "markdown",
   "id": "1e2b3794-4925-4ba1-9744-b7aa5a700b4c",
   "metadata": {},
   "source": [
    "## Save NCEM data"
   ]
  },
  {
   "cell_type": "code",
   "execution_count": 31,
   "id": "1e35d179-f676-4927-88cf-050babd08007",
   "metadata": {},
   "outputs": [],
   "source": [
    "# Save anndata object for NCEM analysis\n",
    "adata_file = f\"{results_folder}ncem/Celltype22_Markers_Wiki_1614/cell2location_ad_vis_finest_ncem_HUGO_scCODA_22_filter_celltype_markers_Wiki_1614_Paper.h5ad\"\n",
    "adata_ncem.write(adata_file)"
   ]
  },
  {
   "cell_type": "markdown",
   "id": "28b38fe1-d97d-406c-b8db-78c3e0692266",
   "metadata": {},
   "source": [
    "### Modules and their versions used for this analysis\n",
    "\n",
    "\n",
    "Useful for debugging and reporting issues."
   ]
  },
  {
   "cell_type": "code",
   "execution_count": 32,
   "id": "a53fc38f-0639-43c4-9ea4-afe39c49bb72",
   "metadata": {
    "scrolled": true
   },
   "outputs": [
    {
     "name": "stdout",
     "output_type": "stream",
     "text": [
      "sys 3.9.16 (main, Jan 11 2023, 16:05:54) \n",
      "[GCC 11.2.0]\n",
      "re 2.2.1\n",
      "ipykernel._version 6.9.1\n",
      "json 2.0.9\n",
      "jupyter_client._version 7.2.2\n",
      "traitlets._version 5.1.1\n",
      "traitlets 5.1.1\n",
      "logging 0.5.1.2\n",
      "platform 1.0.8\n",
      "_ctypes 1.1.0\n",
      "ctypes 1.1.0\n",
      "zmq.sugar.version 23.2.0\n",
      "zmq.sugar 23.2.0\n",
      "zmq 23.2.0\n",
      "argparse 1.1\n",
      "tornado 6.1\n",
      "zlib 1.0\n",
      "colorama 0.4.6\n",
      "_curses b'2.2'\n",
      "dateutil._version 2.8.2\n",
      "dateutil 2.8.2\n",
      "six 1.16.0\n",
      "_decimal 1.70\n",
      "decimal 1.70\n",
      "jupyter_core.version 4.10.0\n",
      "jupyter_core 4.10.0\n",
      "entrypoints 0.4\n",
      "jupyter_client 7.2.2\n",
      "ipykernel 6.9.1\n",
      "IPython.core.release 8.4.0\n",
      "executing.version 0.8.3\n",
      "executing 0.8.3\n",
      "pure_eval.version 0.2.2\n",
      "pure_eval 0.2.2\n",
      "stack_data.version 0.2.0\n",
      "stack_data 0.2.0\n",
      "pygments 2.11.2\n",
      "ptyprocess 0.7.0\n",
      "pexpect 4.8.0\n",
      "IPython.core.crashhandler 8.4.0\n",
      "pickleshare 0.7.5\n",
      "backcall 0.2.0\n",
      "decorator 5.1.1\n",
      "_sqlite3 2.6.0\n",
      "sqlite3.dbapi2 2.6.0\n",
      "sqlite3 2.6.0\n",
      "wcwidth 0.2.5\n",
      "prompt_toolkit 3.0.20\n",
      "parso 0.8.3\n",
      "jedi 0.18.1\n",
      "urllib.request 3.9\n",
      "IPython.core.magics.code 8.4.0\n",
      "IPython 8.4.0\n",
      "setuptools._distutils 3.9.16\n",
      "pkg_resources._vendor.more_itertools 8.12.0\n",
      "pkg_resources.extern.more_itertools 8.12.0\n",
      "pkg_resources._vendor.appdirs 1.4.3\n",
      "pkg_resources.extern.appdirs 1.4.3\n",
      "pkg_resources._vendor.packaging.__about__ 21.3\n",
      "pkg_resources._vendor.packaging 21.3\n",
      "pkg_resources.extern.packaging 21.3\n",
      "pkg_resources._vendor.pyparsing 3.0.9\n",
      "pkg_resources.extern.pyparsing 3.0.9\n",
      "setuptools.version 65.6.3\n",
      "setuptools._vendor.packaging.__about__ 21.3\n",
      "setuptools._vendor.packaging 21.3\n",
      "setuptools.extern.packaging 21.3\n",
      "setuptools._vendor.ordered_set 3.1\n",
      "setuptools.extern.ordered_set 3.1\n",
      "setuptools._vendor.more_itertools 8.8.0\n",
      "setuptools.extern.more_itertools 8.8.0\n",
      "_csv 1.0\n",
      "csv 1.0\n",
      "setuptools._vendor.pyparsing 3.0.9\n",
      "setuptools.extern.pyparsing 3.0.9\n",
      "setuptools 65.6.3\n",
      "distutils 3.9.16\n",
      "debugpy 1.5.1\n",
      "xmlrpc.client 3.9\n",
      "socketserver 0.4\n",
      "http.server 0.6\n",
      "_pydevd_frame_eval.vendored.bytecode 0.13.0.dev\n",
      "_pydev_bundle.fsnotify 0.1.5\n",
      "pydevd 2.6.0\n",
      "packaging 23.0\n",
      "scanpy._metadata 1.9.1\n",
      "numpy.version 1.22.4\n",
      "numpy.core._multiarray_umath 3.1\n",
      "numpy.core 1.22.4\n",
      "numpy.linalg._umath_linalg 0.1.5\n",
      "numpy.lib 1.22.4\n",
      "numpy 1.22.4\n",
      "scipy.version 1.10.0\n",
      "scipy 1.10.0\n",
      "scipy.sparse.linalg._isolve._iterative b'$Revision: $'\n",
      "scipy._lib.decorator 4.0.5\n",
      "scipy.linalg._fblas b'$Revision: $'\n",
      "scipy.linalg._flapack b'$Revision: $'\n",
      "scipy.linalg._flinalg b'$Revision: $'\n",
      "scipy.sparse.linalg._eigen.arpack._arpack b'$Revision: $'\n",
      "anndata._metadata 0.8.0\n",
      "h5py.version 3.8.0\n",
      "h5py 3.8.0\n",
      "natsort 8.2.0\n",
      "pytz 2022.7.1\n",
      "tarfile 0.9.0\n",
      "pandas 1.5.3\n",
      "numcodecs.version 0.11.0\n",
      "numcodecs.blosc 1.21.0\n",
      "numcodecs.zstd 1.4.8\n",
      "numcodecs.lz4 1.9.3\n",
      "msgpack 1.0.4\n",
      "numcodecs 0.11.0\n",
      "fasteners 0.18\n",
      "zarr.version 2.13.6\n",
      "zarr 2.13.6\n",
      "yaml 5.4.1\n",
      "toolz 0.12.0\n",
      "tlz 0.12.0\n",
      "cloudpickle 2.2.1\n",
      "markupsafe 2.1.2\n",
      "dask 2023.1.1\n",
      "llvmlite 0.43.0\n",
      "numba.cloudpickle 3.0.0\n",
      "numba.misc.appdirs 1.4.1\n",
      "numba 0.60.0\n",
      "sparse 0.13.0\n",
      "scipy._lib._uarray 0.8.8.dev0+aa94c5a4.scipy\n",
      "scipy.special._specfun b'$Revision: $'\n",
      "anndata 0.8.0\n",
      "joblib.externals.cloudpickle 2.2.0\n",
      "joblib.externals.loky 3.3.0\n",
      "joblib 1.2.0\n",
      "sklearn.utils._joblib 1.2.0\n",
      "scipy.optimize._minpack2 b'$Revision: $'\n",
      "scipy.optimize._lbfgsb b'$Revision: $'\n",
      "scipy.optimize._cobyla b'$Revision: $'\n",
      "scipy.optimize._slsqp b'$Revision: $'\n",
      "scipy.optimize.__nnls b'$Revision: $'\n",
      "scipy.linalg._interpolative b'$Revision: $'\n",
      "scipy.integrate._vode b'$Revision: $'\n",
      "scipy.integrate._dop b'$Revision: $'\n",
      "scipy.integrate._lsoda b'$Revision: $'\n",
      "scipy.interpolate.dfitpack b'$Revision: $'\n",
      "scipy.stats._statlib b'$Revision: $'\n",
      "scipy.stats._mvn b'$Revision: $'\n",
      "threadpoolctl 3.1.0\n",
      "sklearn.base 1.2.1\n",
      "sklearn.utils._show_versions 1.2.1\n",
      "sklearn 1.2.1\n",
      "texttable 1.6.7\n",
      "igraph.version 0.9.11\n",
      "igraph 0.9.11\n",
      "leidenalg.version 0.8.10\n",
      "leidenalg 0.8.10\n",
      "louvain 0.7.2\n",
      "matplotlib._version 3.6.3\n",
      "PIL._version 9.4.0\n",
      "PIL 9.4.0\n",
      "PIL._deprecate 9.4.0\n",
      "PIL.Image 9.4.0\n",
      "pyparsing 3.0.9\n",
      "cycler 0.10.0\n",
      "kiwisolver._cext 1.4.4\n",
      "kiwisolver 1.4.4\n",
      "matplotlib 3.6.3\n",
      "scanpy 1.9.1\n",
      "torch.version 1.13.1+cu117\n",
      "torch.torch_version 1.13.1+cu117\n",
      "opt_einsum v3.3.0\n",
      "torch.cuda.nccl (2, 14, 3)\n",
      "astunparse 1.6.3\n",
      "torch.backends.cudnn 8500\n",
      "tqdm._dist_ver 4.66.4\n",
      "tqdm.version 4.66.4\n",
      "tqdm.cli 4.66.4\n",
      "tqdm 4.66.4\n",
      "torch 1.13.1+cu117\n",
      "pyro._version 1.8.4\n",
      "pyro 1.8.4\n",
      "attr 22.2.0\n",
      "pytorch_lightning.__version__ 1.9.0\n",
      "lightning_fabric.__version__ 1.9.0\n",
      "lightning_utilities.__about__ 0.6.0.post0\n",
      "lightning_utilities 0.6.0.post0\n",
      "fsspec 2023.1.0\n",
      "lightning_fabric 1.9.0\n",
      "torchmetrics.__about__ 0.11.1\n",
      "torchmetrics 0.11.1\n",
      "ipaddress 1.0\n",
      "pytorch_lightning 1.9.0\n",
      "jaxlib.version 0.4.3\n",
      "jaxlib 0.4.3\n",
      "jax.version 0.4.3\n",
      "jax.lib 0.4.3\n",
      "etils 1.0.0\n",
      "jax 0.4.3\n",
      "wrapt 1.14.1\n",
      "tree 0.1.8\n",
      "xml.sax.handler 2.0beta\n",
      "chex 0.1.6\n",
      "mudata 0.2.1\n",
      "docrep 0.3.2\n",
      "urllib3.packages.six 1.16.0\n",
      "urllib3._version 1.26.14\n",
      "urllib3.util.ssl_match_hostname 3.5.0.1\n",
      "urllib3.connection 1.26.14\n",
      "urllib3 1.26.14\n",
      "charset_normalizer.version 2.1.1\n",
      "charset_normalizer 2.1.1\n",
      "requests.packages.urllib3.packages.six 1.16.0\n",
      "requests.packages.urllib3._version 1.26.14\n",
      "requests.packages.urllib3.util.ssl_match_hostname 3.5.0.1\n",
      "requests.packages.urllib3.connection 1.26.14\n",
      "requests.packages.urllib3 1.26.14\n",
      "idna.package_data 3.4\n",
      "idna.idnadata 15.0.0\n",
      "idna 3.4\n",
      "requests.packages.idna.package_data 3.4\n",
      "requests.packages.idna.idnadata 15.0.0\n",
      "requests.packages.idna 3.4\n",
      "certifi 2022.06.15\n",
      "requests.__version__ 2.28.2\n",
      "requests.utils 2.28.2\n",
      "requests 2.28.2\n",
      "flax.version 0.6.4\n",
      "flax 0.6.4\n",
      "optax 0.1.4\n",
      "multipledispatch 0.6.0\n",
      "numpyro.version 0.11.0\n",
      "numpyro 0.11.0\n",
      "scvi 0.20.0\n",
      "pynndescent 0.5.8\n",
      "google.protobuf 3.19.6\n",
      "tensorflow.python.client.pywrap_tf_session 2.11.0\n",
      "tensorflow.python.framework.versions 2.11.0\n",
      "tensorflow.python.keras 2.6.0\n",
      "flatbuffers._version 23.1.21\n",
      "flatbuffers 23.1.21\n",
      "tensorflow._api.v2.compat.v1.version 2.11.0\n",
      "tensorflow._api.v2.compat.v1.compat.v1 2.11.0\n",
      "tensorflow._api.v2.compat.v2.compat.v1 2.11.0\n",
      "tensorflow._api.v2.compat.v2.version 2.11.0\n",
      "tensorboard.version 2.11.2\n",
      "tensorboard 2.11.2\n",
      "tensorboard.compat.tensorflow_stub.pywrap_tensorflow 0\n",
      "tensorboard.compat.tensorflow_stub stub\n",
      "tensorflow._api.v2.compat.v2.compat.v2 2.11.0\n",
      "tensorflow._api.v2.compat.v2 2.11.0\n",
      "tensorflow._api.v2.compat.v1.compat.v2 2.11.0\n",
      "tensorflow._api.v2.compat.v1 2.11.0\n",
      "tensorflow._api.v2.version 2.11.0\n",
      "tensorflow.compat.v1.compat.v1 2.11.0\n",
      "tensorflow.compat.v1.compat.v2 2.11.0\n",
      "tensorflow.compat.v1.version 2.11.0\n",
      "tensorflow.compat.v1 2.11.0\n",
      "tensorflow.compat.v2.compat.v1 2.11.0\n",
      "tensorflow.compat.v2.compat.v2 2.11.0\n",
      "tensorflow.compat.v2.version 2.11.0\n",
      "tensorflow.compat.v2 2.11.0\n",
      "keras 2.11.0\n",
      "keras.api.keras 2.11.0\n",
      "keras.api._v2.keras 2.11.0\n",
      "tensorflow 2.11.0\n",
      "umap 0.5.3\n",
      "cell2location 0.1.3\n",
      "seaborn.external.husl 2.1.0\n",
      "statsmodels._version 0.13.5\n",
      "statsmodels 0.13.5\n",
      "seaborn 0.11.2\n",
      "decoupler 1.7.0\n",
      "pydantic.version 1.10.4\n",
      "pydantic 1.10.4\n",
      "omnipath 1.0.6\n"
     ]
    }
   ],
   "source": [
    "cell2location.utils.list_imported_modules()"
   ]
  }
 ],
 "metadata": {
  "kernelspec": {
   "display_name": "Environment (c2l_ncem_env)",
   "language": "python",
   "name": "c2l_ncem"
  },
  "language_info": {
   "codemirror_mode": {
    "name": "ipython",
    "version": 3
   },
   "file_extension": ".py",
   "mimetype": "text/x-python",
   "name": "python",
   "nbconvert_exporter": "python",
   "pygments_lexer": "ipython3",
   "version": "3.9.16"
  }
 },
 "nbformat": 4,
 "nbformat_minor": 5
}
