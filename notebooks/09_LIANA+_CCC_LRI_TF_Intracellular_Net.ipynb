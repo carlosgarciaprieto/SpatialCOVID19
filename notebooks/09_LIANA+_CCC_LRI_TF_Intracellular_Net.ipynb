{
 "cells": [
  {
   "cell_type": "markdown",
   "id": "537b0540-42ea-490e-907e-a7d955360fa7",
   "metadata": {},
   "source": [
    "# Spatial transcriptomics unveils the in situ cellular and molecular hallmarks of the lung in fatal COVID-19"
   ]
  },
  {
   "cell_type": "markdown",
   "id": "c2c1415c-cb8d-418e-a6d4-e01f1bed4a8b",
   "metadata": {},
   "source": [
    "# Spatial communication events across COVID-19 induced DAD progression"
   ]
  },
  {
   "cell_type": "markdown",
   "id": "79eabf48-ecee-4e9d-bd53-f85b6eba7c77",
   "metadata": {},
   "source": [
    "**Author:** Carlos A. Garcia-Prieto\n",
    "\n",
    "* This notebook explains the downstream analysis of the spatially mapped and deconvoluted Visium ST data with cell2location, focusing on cell-cell communication events, including spatial co-expression of ligand-receptor pairs, transcription factors actvity, their spatial dependencies with cell type abundances, including identification of causal intracellular signaling networks.\n",
    "* We followed LIANA+ spatially-informed [bivariate metrics](https://liana-py.readthedocs.io/en/latest/notebooks/bivariate.html), [MISTy](https://liana-py.readthedocs.io/en/latest/notebooks/misty.html), [downstream signaling networks](https://liana-py.readthedocs.io/en/latest/notebooks/targeted.html#Intracellular-Signaling-Networks) and [decoupleR](https://decoupler-py.readthedocs.io/en/latest/notebooks/spatial.html) tutorials."
   ]
  },
  {
   "cell_type": "markdown",
   "id": "825f2998-aafe-4f34-b147-aaef5f172411",
   "metadata": {},
   "source": [
    "## Import modules"
   ]
  },
  {
   "cell_type": "code",
   "execution_count": 1,
   "id": "b85c10a5-7d1c-4e9f-ad21-30f801d88c18",
   "metadata": {},
   "outputs": [
    {
     "name": "stderr",
     "output_type": "stream",
     "text": [
      "Created a temporary directory at /tmp/tmphckg37il\n",
      "Writing /tmp/tmphckg37il/_remote_module_non_scriptable.py\n",
      "Downloading data from `https://omnipathdb.org/queries/enzsub?format=json`\n",
      "Downloading data from `https://omnipathdb.org/queries/interactions?format=json`\n",
      "Downloading data from `https://omnipathdb.org/queries/complexes?format=json`\n",
      "Downloading data from `https://omnipathdb.org/queries/annotations?format=json`\n",
      "Downloading data from `https://omnipathdb.org/queries/intercell?format=json`\n",
      "Downloading data from `https://omnipathdb.org/about?format=text`\n"
     ]
    }
   ],
   "source": [
    "import warnings\n",
    "warnings.filterwarnings('ignore')\n",
    "import anndata\n",
    "import pandas as pd\n",
    "import scanpy as sc\n",
    "import plotnine as p9\n",
    "#!pip install \"decoupler>=1.4.0\"\n",
    "import decoupler as dc\n",
    "import liana as li\n",
    "from liana.method import MistyData, genericMistyData, lrMistyData\n",
    "import mudata\n",
    "from mudata import MuData\n",
    "import numpy as np\n",
    "#!pip install squidpy\n",
    "import squidpy as sq\n",
    "import pandas as pd\n",
    "pd.set_option('display.max_columns', 100)\n",
    "import matplotlib.pyplot as plt \n",
    "import matplotlib as mpl\n",
    "#import scvi\n",
    "from matplotlib import rcParams\n",
    "rcParams['pdf.fonttype'] = 42 # enables correct plotting of text for PDFs\n",
    "import cell2location\n",
    "from cell2location.utils import select_slide\n",
    "import graphcompass as gc\n",
    "import os\n",
    "from scipy.cluster.hierarchy import linkage, dendrogram\n",
    "import seaborn as sns\n",
    "import scipy.stats as st\n",
    "import omnipath as op\n",
    "import graphviz \n",
    "import corneto as cn"
   ]
  },
  {
   "cell_type": "markdown",
   "id": "0d185111-a659-4b60-adf8-e76f4243b986",
   "metadata": {},
   "source": [
    "## Read integrated VISIUM ST data with estimated cell type abundances"
   ]
  },
  {
   "cell_type": "code",
   "execution_count": 2,
   "id": "ea4501a5-06c0-4f9c-b375-8103557ac082",
   "metadata": {},
   "outputs": [],
   "source": [
    "#Set result folders\n",
    "results_folder = \"/mnt/beegfs/cgarcia/Spatial/COVID19/cell2location/HLCA_publication/HLCA/\"\n",
    "\n",
    "#Create directory for LIANA+ results\n",
    "directory = f'{results_folder}/liana'\n",
    "# Check if the directory exists\n",
    "if not os.path.exists(directory):\n",
    "    # If it doesn't exist, create it\n",
    "    os.makedirs(directory)\n",
    "\n",
    "liana_folder = f'{results_folder}/liana/'\n",
    "\n",
    "#Create directory for bivariate metrics results\n",
    "directory = f'{results_folder}/liana/bivariate'\n",
    "# Check if the directory exists\n",
    "if not os.path.exists(directory):\n",
    "    # If it doesn't exist, create it\n",
    "    os.makedirs(directory)\n",
    "\n",
    "bivariate_folder = f'{results_folder}/liana/bivariate/'\n",
    "\n",
    "#Create directory for TF enrichment results with decoupleR\n",
    "directory = f'{results_folder}/liana/decoupler'\n",
    "# Check if the directory exists\n",
    "if not os.path.exists(directory):\n",
    "    # If it doesn't exist, create it\n",
    "    os.makedirs(directory)\n",
    "\n",
    "decoupler_folder = f'{results_folder}/liana/decoupler/'\n",
    "\n",
    "ref_run_name = f'{results_folder}reference_signatures_finest'\n",
    "run_name = f'{results_folder}cell2location_map_finest'"
   ]
  },
  {
   "cell_type": "code",
   "execution_count": 3,
   "id": "4a9939de-5603-4868-885f-69b9536b715d",
   "metadata": {},
   "outputs": [],
   "source": [
    "#Read anndata with NMF compartments results:\n",
    "adata_file = f\"{run_name}/ad_vis_post_distrib_finest_discrete_region_NMF_lineage_Paper.h5ad\"\n",
    "adata_vis = sc.read_h5ad(adata_file)"
   ]
  },
  {
   "cell_type": "code",
   "execution_count": 4,
   "id": "5a73965e-a25c-4330-8633-1d0b113dfc83",
   "metadata": {},
   "outputs": [],
   "source": [
    "#Replace Ensembl ids with Hugo symbols\n",
    "adata_vis.var['Ensembl'] = adata_vis.var_names\n",
    "adata_vis.var.set_index('SYMBOL', drop=True, inplace=True)"
   ]
  },
  {
   "cell_type": "markdown",
   "id": "3e1882f3-21e6-4c07-a562-69bd019f53fd",
   "metadata": {},
   "source": [
    "## Spatially informed bivariate metrics of ligand-receptor interactions (LRIs)"
   ]
  },
  {
   "cell_type": "code",
   "execution_count": 5,
   "id": "5bc1056d-b7d0-4980-b54e-6c443f54aa6c",
   "metadata": {},
   "outputs": [],
   "source": [
    "#Select minimum expression proportion for ligands/receptors\n",
    "suffix = \"With005MinimumExpr\""
   ]
  },
  {
   "cell_type": "code",
   "execution_count": 6,
   "id": "c2d1d047-0ba8-4d34-8132-0d49f9aee2a0",
   "metadata": {},
   "outputs": [],
   "source": [
    "#Create directory for LRIs results\n",
    "directory = f'{results_folder}/liana/bivariate/anndata{suffix}'\n",
    "# Check if the directory exists\n",
    "if not os.path.exists(directory):\n",
    "    # If it doesn't exist, create it\n",
    "    os.makedirs(directory)"
   ]
  },
  {
   "cell_type": "markdown",
   "id": "0bd95498-f1f0-4959-bd7f-783aca77147f",
   "metadata": {},
   "source": [
    "## Compute local Cosine similarity of LRIs per Visium ST slide"
   ]
  },
  {
   "cell_type": "code",
   "execution_count": 7,
   "id": "11a676d4-893d-4539-841d-f81cce7dd828",
   "metadata": {
    "scrolled": true
   },
   "outputs": [
    {
     "name": "stdout",
     "output_type": "stream",
     "text": [
      "L2P\n",
      "L19P\n",
      "L11P\n",
      "HRC5\n",
      "HRC6\n",
      "HRC8\n",
      "HRC10\n",
      "HRC11\n",
      "HRC12\n",
      "HRC13\n",
      "HRC16\n",
      "HRC17\n",
      "L5P\n",
      "L14P\n",
      "L24P\n",
      "L12P\n",
      "HRC2\n",
      "HRC4\n",
      "HRC18\n",
      "L3C\n",
      "L14C\n",
      "L2C\n",
      "CONTROL2\n"
     ]
    }
   ],
   "source": [
    "#Function to save local Cosine similarity LR scores with 0.05 Minimum expr. proportion for ligands/receptors and their subunits:\n",
    "samples = [\"L2P\",\"L19P\",\"L11P\",\"HRC5\",\"HRC6\",\"HRC8\",\"HRC10\",\"HRC11\",\"HRC12\",\"HRC13\",\"HRC16\",\"HRC17\",\"L5P\",\"L14P\",\"L24P\",\"L12P\",\"HRC2\",\"HRC4\",\"HRC18\",\"L3C\",\"L14C\",\"L2C\",\"CONTROL2\"]\n",
    "\n",
    "for sample in samples:\n",
    "    print(sample)\n",
    "    #Select sample\n",
    "    adata = select_slide(adata_vis, f'{sample}')\n",
    "    #Compute spatial neighbors\n",
    "    li.ut.spatial_neighbors(adata, bandwidth=200, cutoff=0.1, kernel='gaussian', set_diag=True)\n",
    "    #Format anndata\n",
    "    adata.var = adata.var.rename_axis(None) #axis=1,axis=\"columns\"\n",
    "    #Compute bivariate metrics\n",
    "    li.mt.lr_bivar(adata,\n",
    "                   function_name='cosine', # Name of the function\n",
    "                   n_perms=100, # Number of permutations to calculate a p-value\n",
    "                   mask_negatives=False, # Whether to mask LowLow/NegativeNegative interactions\n",
    "                   add_categories=True, # Whether to add local categories to the results\n",
    "                   expr_prop=0.05, # Minimum expr. proportion for ligands/receptors and their subunits\n",
    "                   use_raw=False,\n",
    "                   verbose=False\n",
    "                   )\n",
    "    lrdata = adata.obsm['local_scores']\n",
    "    # Save anndata object with local scores\n",
    "    lr_file_linear = f\"{bivariate_folder}anndata{suffix}/bivariate_LR_{sample}_{suffix}_Paper.h5ad\"\n",
    "    lrdata.write(lr_file_linear)\n",
    "    "
   ]
  },
  {
   "cell_type": "markdown",
   "id": "b4e603b0-c130-4eab-9627-037b9aad3367",
   "metadata": {},
   "source": [
    "## Compute local Moran's R of LRIs per Visium ST slide"
   ]
  },
  {
   "cell_type": "code",
   "execution_count": 8,
   "id": "7e0c5bf3-197c-4037-ad4d-440b85183db2",
   "metadata": {
    "scrolled": true
   },
   "outputs": [
    {
     "name": "stdout",
     "output_type": "stream",
     "text": [
      "L2P\n",
      "L19P\n",
      "L11P\n",
      "HRC5\n",
      "HRC6\n",
      "HRC8\n",
      "HRC10\n",
      "HRC11\n",
      "HRC12\n",
      "HRC13\n",
      "HRC16\n",
      "HRC17\n",
      "L5P\n",
      "L14P\n",
      "L24P\n",
      "L12P\n",
      "HRC2\n",
      "HRC4\n",
      "HRC18\n",
      "L3C\n",
      "L14C\n",
      "L2C\n",
      "CONTROL2\n"
     ]
    }
   ],
   "source": [
    "#Function to save local LR MoransR scores with 0.05 Minimum expr. proportion for ligands/receptors and their subunits:\n",
    "samples = [\"L2P\",\"L19P\",\"L11P\",\"HRC5\",\"HRC6\",\"HRC8\",\"HRC10\",\"HRC11\",\"HRC12\",\"HRC13\",\"HRC16\",\"HRC17\",\"L5P\",\"L14P\",\"L24P\",\"L12P\",\"HRC2\",\"HRC4\",\"HRC18\",\"L3C\",\"L14C\",\"L2C\",\"CONTROL2\"]\n",
    "\n",
    "for sample in samples:\n",
    "    print(sample)\n",
    "    #Select sample\n",
    "    adata = select_slide(adata_vis, f'{sample}')\n",
    "    #Compute spatial neighbors\n",
    "    li.ut.spatial_neighbors(adata, bandwidth=200, cutoff=0.1, kernel='gaussian', set_diag=True)\n",
    "    #Format anndata\n",
    "    adata.var = adata.var.rename_axis(None) #axis=1,axis=\"columns\"\n",
    "    #Compute bivariate metrics\n",
    "    li.mt.lr_bivar(adata,\n",
    "                   function_name='morans', # Name of the function\n",
    "                   n_perms=100, # Number of permutations to calculate a p-value\n",
    "                   mask_negatives=False, # Whether to mask LowLow/NegativeNegative interactions\n",
    "                   add_categories=True, # Whether to add local categories to the results\n",
    "                   expr_prop=0.05, # Minimum expr. proportion for ligands/receptors and their subunits\n",
    "                   use_raw=False,\n",
    "                   verbose=False\n",
    "                   )\n",
    "    lrdata = adata.obsm['local_scores']\n",
    "    # Save anndata object with local scores\n",
    "    lr_file_linear = f\"{bivariate_folder}anndata{suffix}/bivariate_LR_{sample}_{suffix}_MoransR_Paper.h5ad\"\n",
    "    lrdata.write(lr_file_linear)\n",
    "    "
   ]
  },
  {
   "cell_type": "markdown",
   "id": "1bd9972c-91b5-4458-a763-78455be8417c",
   "metadata": {},
   "source": [
    "## Read individual anndata objects with local bivariate Cosine similarity scores and export \"global\" scores (by averaging local scores across all spots) to use them as a global summary: Global mean Cosine similarity of LRIs"
   ]
  },
  {
   "cell_type": "code",
   "execution_count": 9,
   "id": "a6e391a8-187d-4b96-9cf5-76745d560060",
   "metadata": {
    "scrolled": true
   },
   "outputs": [
    {
     "name": "stdout",
     "output_type": "stream",
     "text": [
      "L2P\n",
      "L19P\n",
      "L11P\n",
      "HRC5\n",
      "HRC6\n",
      "HRC8\n",
      "HRC10\n",
      "HRC11\n",
      "HRC12\n",
      "HRC13\n",
      "HRC16\n",
      "HRC17\n",
      "L5P\n",
      "L14P\n",
      "L24P\n",
      "L12P\n",
      "HRC2\n",
      "HRC4\n",
      "HRC18\n",
      "L3C\n",
      "L14C\n",
      "L2C\n",
      "CONTROL2\n"
     ]
    }
   ],
   "source": [
    "#Function to read  anndata and concatenate results:\n",
    "samples = [\"L2P\",\"L19P\",\"L11P\",\"HRC5\",\"HRC6\",\"HRC8\",\"HRC10\",\"HRC11\",\"HRC12\",\"HRC13\",\"HRC16\",\"HRC17\",\"L5P\",\"L14P\",\"L24P\",\"L12P\",\"HRC2\",\"HRC4\",\"HRC18\",\"L3C\",\"L14C\",\"L2C\",\"CONTROL2\"]\n",
    "\n",
    "appended_data_cosine_metrics = []\n",
    "appended_data_sd_cosine_metrics = [] #append standard deviation\n",
    "\n",
    "for sample in samples:\n",
    "    print(sample)\n",
    "    adata = anndata.read(f\"{bivariate_folder}anndata{suffix}/bivariate_LR_{sample}_{suffix}_Paper.h5ad\")\n",
    "    #Extract scores\n",
    "    cosine_metrics = adata.uns['global_res'].sort_values(\"global_mean\", ascending=False)\n",
    "    sd_cosine_metrics = adata.uns['global_res'].sort_values(\"global_sd\", ascending=False)\n",
    "    cosine_metrics[\"sample\"] = sample\n",
    "    sd_cosine_metrics[\"sample\"] = sample\n",
    "    appended_data_cosine_metrics.append(cosine_metrics)\n",
    "    appended_data_sd_cosine_metrics.append(sd_cosine_metrics)\n",
    "    \n",
    "#Transform data\n",
    "appended_data_cosine_metrics = pd.concat(appended_data_cosine_metrics)\n",
    "appended_data_sd_cosine_metrics = pd.concat(appended_data_sd_cosine_metrics)\n",
    "\n",
    "# write appended results to DataFrame \n",
    "appended_data_cosine_metrics.to_csv(f\"{bivariate_folder}anndata{suffix}/bivariate_LR_global_mean_Cosine_{suffix}_appended_Paper.csv\", index=True)\n",
    "appended_data_sd_cosine_metrics.to_csv(f\"{bivariate_folder}anndata{suffix}/bivariate_LR_global_mean_Cosine_sd_{suffix}_appended_Paper.csv\", index=True)\n"
   ]
  },
  {
   "cell_type": "code",
   "execution_count": 10,
   "id": "9d5258be-bcca-4367-bacb-e207174fa2f7",
   "metadata": {},
   "outputs": [],
   "source": [
    "#Read global mean Cosine similarity results\n",
    "cosine_metrics = pd.read_csv(f\"{bivariate_folder}anndata{suffix}/bivariate_LR_global_mean_Cosine_{suffix}_appended_Paper.csv\", index_col = 0)"
   ]
  },
  {
   "cell_type": "code",
   "execution_count": 11,
   "id": "7792f170-2926-4345-9d6e-4b01554f3a2e",
   "metadata": {},
   "outputs": [],
   "source": [
    "#Read global mean Cosine similarity standard deviation (sd) results\n",
    "sd_cosine_metrics = pd.read_csv(f\"{bivariate_folder}anndata{suffix}/bivariate_LR_global_mean_Cosine_sd_{suffix}_appended_Paper.csv\", index_col = 0)"
   ]
  },
  {
   "cell_type": "markdown",
   "id": "f8815df0-2caf-4b1c-8e35-df214b43751a",
   "metadata": {},
   "source": [
    "## Read individual anndata objects with local Moran's R scores and export \"global\" summary: Global Moran's R of LRIs"
   ]
  },
  {
   "cell_type": "code",
   "execution_count": 12,
   "id": "e9e52f53-a0c2-49f1-b82b-adcd0ec18828",
   "metadata": {},
   "outputs": [
    {
     "name": "stdout",
     "output_type": "stream",
     "text": [
      "L2P\n",
      "L19P\n",
      "L11P\n",
      "HRC5\n",
      "HRC6\n",
      "HRC8\n",
      "HRC10\n",
      "HRC11\n",
      "HRC12\n",
      "HRC13\n",
      "HRC16\n",
      "HRC17\n",
      "L5P\n",
      "L14P\n",
      "L24P\n",
      "L12P\n",
      "HRC2\n",
      "HRC4\n",
      "HRC18\n",
      "L3C\n",
      "L14C\n",
      "L2C\n",
      "CONTROL2\n"
     ]
    }
   ],
   "source": [
    "#Function to read  anndata and concatenate results:\n",
    "samples = [\"L2P\",\"L19P\",\"L11P\",\"HRC5\",\"HRC6\",\"HRC8\",\"HRC10\",\"HRC11\",\"HRC12\",\"HRC13\",\"HRC16\",\"HRC17\",\"L5P\",\"L14P\",\"L24P\",\"L12P\",\"HRC2\",\"HRC4\",\"HRC18\",\"L3C\",\"L14C\",\"L2C\",\"CONTROL2\"]\n",
    "\n",
    "appended_data_moransr_metrics = []\n",
    "\n",
    "for sample in samples:\n",
    "    print(sample)\n",
    "    adata = anndata.read(f\"{bivariate_folder}anndata{suffix}/bivariate_LR_{sample}_{suffix}_MoransR_Paper.h5ad\")\n",
    "    #Transform to MistyData\n",
    "    moransr_metrics = adata.uns['global_res'].sort_values(\"global_r\", ascending=False)\n",
    "    moransr_metrics[\"sample\"] = sample\n",
    "    appended_data_moransr_metrics.append(moransr_metrics)\n",
    "    \n",
    "#Transform data\n",
    "appended_data_moransr_metrics = pd.concat(appended_data_moransr_metrics)\n",
    "\n",
    "# write DataFrame \n",
    "appended_data_moransr_metrics.to_csv(f\"{bivariate_folder}anndata{suffix}/bivariate_LR_global_MoransR_{suffix}_appended_Paper.csv\", index=True)\n"
   ]
  },
  {
   "cell_type": "code",
   "execution_count": 13,
   "id": "593f88b5-df7d-4856-81a3-d64e8d58393c",
   "metadata": {},
   "outputs": [],
   "source": [
    "#Read global Moran's R results\n",
    "moransr_metrics = pd.read_csv(f\"{bivariate_folder}anndata{suffix}/bivariate_LR_global_MoransR_{suffix}_appended_Paper.csv\", index_col = 0)\n",
    "moransr_metrics = moransr_metrics.sort_values(\"global_r\", ascending=False)"
   ]
  },
  {
   "cell_type": "markdown",
   "id": "e49d35be-fbef-4daa-843b-4ab397b8bfc8",
   "metadata": {},
   "source": [
    "## Concatenate individual annData objects with local Cosine similarity scores of LRIs"
   ]
  },
  {
   "cell_type": "code",
   "execution_count": 14,
   "id": "08ff2799-6f36-4e07-85d8-177057d596c2",
   "metadata": {},
   "outputs": [],
   "source": [
    "#Read individual anndata objects with Cosine similarity LRI scores per sample\n",
    "adata_L2P_biv = anndata.read(f\"{bivariate_folder}anndata{suffix}/bivariate_LR_L2P_{suffix}_Paper.h5ad\")\n",
    "adata_L19P_biv = anndata.read(f\"{bivariate_folder}anndata{suffix}/bivariate_LR_L19P_{suffix}_Paper.h5ad\")\n",
    "adata_L11P_biv = anndata.read(f\"{bivariate_folder}anndata{suffix}/bivariate_LR_L11P_{suffix}_Paper.h5ad\")\n",
    "adata_HRC5_biv = anndata.read(f\"{bivariate_folder}anndata{suffix}/bivariate_LR_HRC5_{suffix}_Paper.h5ad\")\n",
    "adata_HRC6_biv = anndata.read(f\"{bivariate_folder}anndata{suffix}/bivariate_LR_HRC6_{suffix}_Paper.h5ad\")\n",
    "adata_HRC8_biv = anndata.read(f\"{bivariate_folder}anndata{suffix}/bivariate_LR_HRC8_{suffix}_Paper.h5ad\")\n",
    "adata_HRC10_biv = anndata.read(f\"{bivariate_folder}anndata{suffix}/bivariate_LR_HRC10_{suffix}_Paper.h5ad\")\n",
    "adata_HRC11_biv = anndata.read(f\"{bivariate_folder}anndata{suffix}/bivariate_LR_HRC11_{suffix}_Paper.h5ad\")\n",
    "adata_HRC12_biv = anndata.read(f\"{bivariate_folder}anndata{suffix}/bivariate_LR_HRC12_{suffix}_Paper.h5ad\")\n",
    "adata_HRC13_biv = anndata.read(f\"{bivariate_folder}anndata{suffix}/bivariate_LR_HRC13_{suffix}_Paper.h5ad\")\n",
    "adata_HRC16_biv = anndata.read(f\"{bivariate_folder}anndata{suffix}/bivariate_LR_HRC16_{suffix}_Paper.h5ad\")\n",
    "adata_HRC17_biv = anndata.read(f\"{bivariate_folder}anndata{suffix}/bivariate_LR_HRC17_{suffix}_Paper.h5ad\")\n",
    "adata_L5P_biv = anndata.read(f\"{bivariate_folder}anndata{suffix}/bivariate_LR_L5P_{suffix}_Paper.h5ad\")\n",
    "adata_L14P_biv = anndata.read(f\"{bivariate_folder}anndata{suffix}/bivariate_LR_L14P_{suffix}_Paper.h5ad\")\n",
    "adata_L24P_biv = anndata.read(f\"{bivariate_folder}anndata{suffix}/bivariate_LR_L24P_{suffix}_Paper.h5ad\")\n",
    "adata_L12P_biv = anndata.read(f\"{bivariate_folder}anndata{suffix}/bivariate_LR_L12P_{suffix}_Paper.h5ad\")\n",
    "adata_HRC2_biv = anndata.read(f\"{bivariate_folder}anndata{suffix}/bivariate_LR_HRC2_{suffix}_Paper.h5ad\")\n",
    "adata_HRC4_biv = anndata.read(f\"{bivariate_folder}anndata{suffix}/bivariate_LR_HRC4_{suffix}_Paper.h5ad\")\n",
    "adata_HRC18_biv = anndata.read(f\"{bivariate_folder}anndata{suffix}/bivariate_LR_HRC18_{suffix}_Paper.h5ad\")\n",
    "adata_L3C_biv = anndata.read(f\"{bivariate_folder}anndata{suffix}/bivariate_LR_L3C_{suffix}_Paper.h5ad\")\n",
    "adata_L14C_biv = anndata.read(f\"{bivariate_folder}anndata{suffix}/bivariate_LR_L14C_{suffix}_Paper.h5ad\")\n",
    "adata_L2C_biv = anndata.read(f\"{bivariate_folder}anndata{suffix}/bivariate_LR_L2C_{suffix}_Paper.h5ad\")\n",
    "adata_CONTROL2_biv = anndata.read(f\"{bivariate_folder}anndata{suffix}/bivariate_LR_CONTROL2_{suffix}_Paper.h5ad\")"
   ]
  },
  {
   "cell_type": "code",
   "execution_count": 15,
   "id": "82096a4d-627f-4cc8-994e-da18e45b6c4e",
   "metadata": {
    "scrolled": true
   },
   "outputs": [],
   "source": [
    "#Concatenate anndata objects with local Cosine similarity scores of LRIs\n",
    "adata_LR_biv = anndata.concat(\n",
    "    {\"L2P\" : adata_L2P_biv, \"L5P\" : adata_L5P_biv, \"L14P\" : adata_L14P_biv, \"L19P\" : adata_L19P_biv, \"L24P\" : adata_L24P_biv, \"L3C\" : adata_L3C_biv, \"L14C\" : adata_L14C_biv,\n",
    "    \"L2C\" : adata_L2C_biv, \"L11P\" : adata_L11P_biv, \"L12P\" : adata_L12P_biv,\n",
    "    \"CONTROL2\": adata_CONTROL2_biv, \"HRC2\": adata_HRC2_biv, \"HRC4\": adata_HRC4_biv, \"HRC5\": adata_HRC5_biv,\n",
    "    \"HRC6\": adata_HRC6_biv, \"HRC8\": adata_HRC8_biv, \"HRC10\": adata_HRC10_biv, \"HRC11\": adata_HRC11_biv, \"HRC12\": adata_HRC12_biv, \"HRC13\": adata_HRC13_biv,\n",
    "    \"HRC16\": adata_HRC16_biv, \"HRC17\": adata_HRC17_biv, \"HRC18\": adata_HRC18_biv},\n",
    "    label = \"sample\",\n",
    "    #index_unique=\"_\",\n",
    "    join = \"inner\",\n",
    "    merge = \"unique\",\n",
    "    uns_merge = \"unique\",\n",
    "    pairwise = False,\n",
    "    axis=0,\n",
    ")"
   ]
  },
  {
   "cell_type": "markdown",
   "id": "cefbb4d6-66c3-42d0-b812-54e3e95fd2ca",
   "metadata": {},
   "source": [
    "# Identify intercellular communication signatures using non-negative matrix factorization (NMF)"
   ]
  },
  {
   "cell_type": "code",
   "execution_count": 16,
   "id": "ff4602f5-8874-431b-8185-627f4483c30b",
   "metadata": {
    "scrolled": true
   },
   "outputs": [
    {
     "name": "stderr",
     "output_type": "stream",
     "text": [
      "100%|███████████████████████████████████████████████████████████████████████████████████████████████████████████████████████████████| 9/9 [00:22<00:00,  2.52s/it]\n",
      "Estimated rank: 3\n"
     ]
    }
   ],
   "source": [
    "#Identify intercellular patterns\n",
    "li.multi.nmf(adata_LR_biv, n_components=None, inplace=True, random_state=0, max_iter=200, verbose=True)"
   ]
  },
  {
   "cell_type": "code",
   "execution_count": 17,
   "id": "7a9b47ce-95bd-4c48-90c5-ba63b9d9bde6",
   "metadata": {},
   "outputs": [],
   "source": [
    "#Save anndata object with NMF results\n",
    "nmf_adata_LR_biv = f\"{bivariate_folder}anndata{suffix}/bivariate_lr_adata_concat_{suffix}_Paper.h5ad\"\n",
    "adata_LR_biv.write(nmf_adata_LR_biv)"
   ]
  },
  {
   "cell_type": "code",
   "execution_count": 18,
   "id": "7eec2335-6043-4db1-99e3-cc251c1f58af",
   "metadata": {},
   "outputs": [],
   "source": [
    "# Extract NMF variable loadings\n",
    "lr_loadings = li.ut.get_variable_loadings(adata_LR_biv, varm_key='NMF_H').set_index('index')"
   ]
  },
  {
   "cell_type": "code",
   "execution_count": 19,
   "id": "d7ac1e32-70ff-4489-a0fd-ed116f909a57",
   "metadata": {},
   "outputs": [],
   "source": [
    "#Write NMF loading Results\n",
    "lr_loadings.sort_values(\"Factor1\", ascending=False).to_csv(f\"{bivariate_folder}anndata{suffix}/bivariate_LR_nmf_loadings_adata_concat_{suffix}_Paper.csv\", index=True) "
   ]
  },
  {
   "cell_type": "markdown",
   "id": "3985094f-159d-47d7-a78c-f921d8580582",
   "metadata": {},
   "source": [
    "<div class=\"alert alert-info\">\n",
    "<b>Paper Table!</b>\n",
    "Table S1\n",
    "</div>"
   ]
  },
  {
   "cell_type": "code",
   "execution_count": 20,
   "id": "50fe7ab7-f4d0-4cc4-9777-5d01fcfac631",
   "metadata": {},
   "outputs": [],
   "source": [
    "#Select Factor 3 loadings\n",
    "Factor3_loadings = lr_loadings.sort_values(\"Factor3\", ascending=False)\n",
    "Factor3_loadings = Factor3_loadings[\"Factor3\"]\n",
    "Factor3_loadings.to_csv(f\"{bivariate_folder}anndata{suffix}/bivariate_LR_nmf_factor3_loadings_adata_concat_{suffix}_TableS1_Paper.csv\", index=True) "
   ]
  },
  {
   "cell_type": "code",
   "execution_count": 21,
   "id": "94e91446-cbb6-4624-b2c1-be22330b10b7",
   "metadata": {},
   "outputs": [],
   "source": [
    "# Extract NMF scores\n",
    "factor_scores = li.ut.get_factor_scores(adata_LR_biv, obsm_key='NMF_W')"
   ]
  },
  {
   "cell_type": "code",
   "execution_count": 22,
   "id": "c96d8e39-a0aa-4343-aabe-730ee160272b",
   "metadata": {},
   "outputs": [],
   "source": [
    "#Write NMF scores\n",
    "factor_scores.sort_values(\"Factor1\", ascending=False).to_csv(f\"{bivariate_folder}anndata{suffix}/bivariate_LR_nmf_factor_scores_adata_concat_{suffix}_Paper.csv\", index=True) "
   ]
  },
  {
   "cell_type": "code",
   "execution_count": 23,
   "id": "522c2f95-a1db-4fd2-aeb4-46a1b2ba60f1",
   "metadata": {},
   "outputs": [],
   "source": [
    "#Convert NMF Factor scores to an AnnData object for plotting\n",
    "nmf = sc.AnnData(X=adata_LR_biv.obsm['NMF_W'],\n",
    "                    obs=adata_LR_biv.obs,\n",
    "                    var=pd.DataFrame(index=lr_loadings.columns),\n",
    "                    uns=adata_LR_biv.uns,\n",
    "                    obsm=adata_LR_biv.obsm)"
   ]
  },
  {
   "cell_type": "code",
   "execution_count": 24,
   "id": "2322250b-99b9-4bc4-8979-19b014efe01f",
   "metadata": {},
   "outputs": [],
   "source": [
    "#Save anndata object with NMF results\n",
    "nmf_file_linear = f\"{bivariate_folder}anndata{suffix}/bivariate_lr_nmf_adata_concat_{suffix}_Paper.h5ad\"\n",
    "nmf.write(nmf_file_linear)"
   ]
  },
  {
   "cell_type": "markdown",
   "id": "cd67f9a6-765c-40bb-a7e5-ba8bbe386e96",
   "metadata": {},
   "source": [
    "## Compute average NMF scores per Visium ST slide"
   ]
  },
  {
   "cell_type": "code",
   "execution_count": 25,
   "id": "cadd3ce1-cde4-4b70-9845-72f87864b0e9",
   "metadata": {},
   "outputs": [],
   "source": [
    "#Calculate average factor scores per slide\n",
    "factor_scores['Sample'] = factor_scores['index'].str.split('_').str[1]"
   ]
  },
  {
   "cell_type": "code",
   "execution_count": 26,
   "id": "91a7f059-6cbf-4221-b863-33258b523d7d",
   "metadata": {},
   "outputs": [],
   "source": [
    "#Annotate samples\n",
    "proliferative = [\"L2P\",\"L19P\",\"L11P\",\"HRC5\",\"HRC6\",\"HRC8\",\"HRC10\",\"HRC11\",\"HRC12\",\"HRC13\",\"HRC16\",\"HRC17\"]\n",
    "acute = [\"L5P\",\"L14P\",\"L24P\",\"L12P\",\"HRC2\",\"HRC4\",\"HRC18\"]\n",
    "controls = [\"L3C\",\"L14C\",\"L2C\",\"CONTROL2\"]"
   ]
  },
  {
   "cell_type": "code",
   "execution_count": 27,
   "id": "c6da215e-ffe5-44cd-81df-570e563afba8",
   "metadata": {},
   "outputs": [],
   "source": [
    "factor_scores['condition_subtype'] = np.where(factor_scores['Sample'].isin(acute) == True, 'Acute', (np.where(factor_scores['Sample'].isin(proliferative) == True, 'Proliferative', 'Control')))"
   ]
  },
  {
   "cell_type": "code",
   "execution_count": 28,
   "id": "8eb19699-5c75-4905-baa6-db6fb6b31332",
   "metadata": {},
   "outputs": [],
   "source": [
    "factor_scores_by_sample = factor_scores.groupby('Sample', as_index=False)[['Factor1','Factor2','Factor3']].mean()"
   ]
  },
  {
   "cell_type": "code",
   "execution_count": 29,
   "id": "50d30315-4043-4ee0-b4d8-54d535f3bbec",
   "metadata": {},
   "outputs": [],
   "source": [
    "factor_scores_by_condition = factor_scores.groupby('condition_subtype', as_index=False)[['Factor1','Factor2','Factor3']].mean()"
   ]
  },
  {
   "cell_type": "markdown",
   "id": "726866cb-6158-4560-8a42-de1145f69aad",
   "metadata": {},
   "source": [
    "## Perform hierarchical clustering on average NMF scores"
   ]
  },
  {
   "cell_type": "code",
   "execution_count": 30,
   "id": "6aa45282-ac0c-4341-acb9-0a080384ba79",
   "metadata": {},
   "outputs": [],
   "source": [
    "#Prepare data\n",
    "factor_scores_by_sample.set_index('Sample', drop=True, inplace=True)"
   ]
  },
  {
   "cell_type": "code",
   "execution_count": 31,
   "id": "39db783d-ad14-4031-b298-d2337ea00934",
   "metadata": {},
   "outputs": [],
   "source": [
    "#Compute hiearchical clustering based on average factor scores per slide\n",
    "ward_clustering = linkage(factor_scores_by_sample, method=\"ward\", metric=\"euclidean\")"
   ]
  },
  {
   "cell_type": "code",
   "execution_count": 32,
   "id": "33673b40-7191-4793-9733-165f590ed903",
   "metadata": {},
   "outputs": [],
   "source": [
    "#Prepare data for heatmap\n",
    "factor_scores_by_sample_transposed = factor_scores_by_sample.transpose()"
   ]
  },
  {
   "cell_type": "code",
   "execution_count": 33,
   "id": "f8493ff7-1dfb-4809-b2e2-0ae635dda80a",
   "metadata": {},
   "outputs": [],
   "source": [
    "#Set row colors\n",
    "colors = np.where(factor_scores_by_sample_transposed.columns.isin(acute) == True, '#1f77b4', (np.where(factor_scores_by_sample_transposed.columns.isin(proliferative) == True, '#2ca02c', '#ff7f0e')))"
   ]
  },
  {
   "cell_type": "markdown",
   "id": "a8eabc6e-15a6-46ef-8518-9eceffdb48a9",
   "metadata": {},
   "source": [
    "<div class=\"alert alert-info\">\n",
    "<b>Paper Figure!</b>\n",
    "Plot Figure 3A\n",
    "</div>"
   ]
  },
  {
   "cell_type": "code",
   "execution_count": 34,
   "id": "c5c5f1a2-f1e4-45f0-b8bd-a3f8b344cebf",
   "metadata": {},
   "outputs": [],
   "source": [
    "#Plot heatmap\n",
    "with plt.rc_context():  # Use this to set figure params like size and dpi\n",
    "    sns.clustermap(factor_scores_by_sample_transposed,figsize = (8, 6), dendrogram_ratio = 0.3, method = \"ward\", metric = \"euclidean\", col_colors=colors) \n",
    "    plt.savefig(f\"{bivariate_folder}anndata{suffix}/Heatmap_Factor_Scores_Ward_{suffix}_Cosine_Paper.png\",dpi=300, format=\"png\")\n",
    "    plt.close()"
   ]
  },
  {
   "cell_type": "markdown",
   "id": "b8d4928b-d188-4be6-b9ab-6241ca2dcd79",
   "metadata": {},
   "source": [
    "## Plot NMF scores on Visium ST samples"
   ]
  },
  {
   "cell_type": "markdown",
   "id": "07104dd0-a762-43d5-bb08-bbbf00fcebe8",
   "metadata": {},
   "source": [
    "<div class=\"alert alert-info\">\n",
    "<b>Paper Figure!</b>\n",
    "Plot Figure 3C & Panel Figure 4B\n",
    "</div>"
   ]
  },
  {
   "cell_type": "code",
   "execution_count": 35,
   "id": "a47c1305-7943-4626-95be-367b7aeb5eeb",
   "metadata": {
    "scrolled": true
   },
   "outputs": [
    {
     "name": "stdout",
     "output_type": "stream",
     "text": [
      "L2P\n",
      "L19P\n",
      "L11P\n",
      "HRC5\n",
      "HRC6\n",
      "HRC8\n",
      "HRC10\n",
      "HRC11\n",
      "HRC12\n",
      "HRC13\n",
      "HRC16\n",
      "HRC17\n",
      "L5P\n",
      "L14P\n",
      "L24P\n",
      "L12P\n",
      "HRC2\n",
      "HRC4\n",
      "HRC18\n",
      "L3C\n",
      "L14C\n",
      "L2C\n",
      "CONTROL2\n"
     ]
    }
   ],
   "source": [
    "samples = [\"L2P\",\"L19P\",\"L11P\",\"HRC5\",\"HRC6\",\"HRC8\",\"HRC10\",\"HRC11\",\"HRC12\",\"HRC13\",\"HRC16\",\"HRC17\",\"L5P\",\"L14P\",\"L24P\",\"L12P\",\"HRC2\",\"HRC4\",\"HRC18\",\"L3C\",\"L14C\",\"L2C\",\"CONTROL2\"]\n",
    "\n",
    "for sample in samples:\n",
    "    print(sample)\n",
    "    #Select sample\n",
    "    nmf_slide = select_slide(nmf, f'{sample}')\n",
    "    #Plot\n",
    "    with mpl.rc_context({'axes.facecolor':  'white',\n",
    "                            'figure.figsize': [6, 6]}):\n",
    "        sc.pl.spatial(nmf_slide, color=[*nmf_slide.var.index, None], size=1.4, ncols=2, show=False)\n",
    "        plt.savefig(f\"{bivariate_folder}anndata{suffix}/bivariate_LR_Factor_Scores_{suffix}_{sample}_Paper.png\",dpi=300, format=\"png\",pad_inches=0.2,bbox_inches=\"tight\")\n",
    "        plt.close()"
   ]
  },
  {
   "cell_type": "markdown",
   "id": "0bac5aea-436e-45b0-b5ac-869660d0d266",
   "metadata": {},
   "source": [
    "# Perform pathway enrichment analysis on LRI results"
   ]
  },
  {
   "cell_type": "code",
   "execution_count": 36,
   "id": "d05ba7f4-f829-417d-addc-60ae1d40c52c",
   "metadata": {},
   "outputs": [],
   "source": [
    "# Get CollecTRI transcription factor (TF) resource\n",
    "net_collectri = dc.get_collectri(organism='human', split_complexes=False)"
   ]
  },
  {
   "cell_type": "code",
   "execution_count": 37,
   "id": "f74baec2-59f9-4052-8dde-dcc275ee20d2",
   "metadata": {},
   "outputs": [],
   "source": [
    "#Write net_collectri\n",
    "net_collectri.to_csv(f\"{bivariate_folder}anndata{suffix}/net_collectri_Paper.csv\", index=True) "
   ]
  },
  {
   "cell_type": "code",
   "execution_count": 38,
   "id": "d1de0c2a-34d7-4ec9-8e6e-7692186c33bc",
   "metadata": {},
   "outputs": [
    {
     "name": "stderr",
     "output_type": "stream",
     "text": [
      "Downloading annotations for all proteins from the following resources: `['PROGENy']`\n"
     ]
    }
   ],
   "source": [
    "# Get PROGENy pathway genesets resource\n",
    "net_progeny = dc.get_progeny(organism='human', top=5000)"
   ]
  },
  {
   "cell_type": "code",
   "execution_count": 39,
   "id": "79b2a06d-64be-4df1-8290-f86b199a0248",
   "metadata": {},
   "outputs": [],
   "source": [
    "#Remove estrogen and androgen sources to avoid eventual biological sex biases (studied cohort with 7 females and 16 males)\n",
    "net_progeny = net_progeny.loc[~net_progeny['source'].isin(['Estrogen','Androgen'])]"
   ]
  },
  {
   "cell_type": "code",
   "execution_count": 40,
   "id": "36a5cc17-ad3e-4114-b4e4-eb96a3cdee85",
   "metadata": {},
   "outputs": [],
   "source": [
    "#Write net_progeny\n",
    "net_progeny.to_csv(f\"{bivariate_folder}anndata{suffix}/net_progeny_Paper.csv\", index=True) "
   ]
  },
  {
   "cell_type": "markdown",
   "id": "acb385c0-5162-48c0-bbd6-edc4801b66c5",
   "metadata": {},
   "source": [
    "## Assign LRIs to pathway genesets using LIANA+ Consensus resource"
   ]
  },
  {
   "cell_type": "code",
   "execution_count": 41,
   "id": "939b4240-fab6-4e09-9345-6108012ad8e8",
   "metadata": {},
   "outputs": [],
   "source": [
    "#Load full list of ligand-receptor pairs\n",
    "lr_pairs = li.resource.select_resource('consensus')"
   ]
  },
  {
   "cell_type": "code",
   "execution_count": 43,
   "id": "7a00956e-7952-45a3-9708-ac3a1bf56484",
   "metadata": {},
   "outputs": [],
   "source": [
    "#Generate ligand-receptor geneset\n",
    "lr_progeny = li.rs.generate_lr_geneset(lr_pairs, net_progeny, lr_separator=\"^\")"
   ]
  },
  {
   "cell_type": "code",
   "execution_count": 44,
   "id": "75b313d8-68b8-4383-93d0-e7d9126aefc1",
   "metadata": {},
   "outputs": [
    {
     "name": "stdout",
     "output_type": "stream",
     "text": [
      "Running mlm on mat with 3 samples and 146 targets for 12 sources.\n"
     ]
    }
   ],
   "source": [
    "#Run enrichment analysis using multivariate linear regression (mlm)\n",
    "estimate, pvals = dc.run_mlm(mat=lr_loadings.transpose(), net=lr_progeny, source=\"source\", target=\"interaction\", weight=\"weight\", use_raw=False, verbose=True, min_n=1)"
   ]
  },
  {
   "cell_type": "code",
   "execution_count": 45,
   "id": "4738d10b-c9c1-4d52-812c-ab5b77887eb9",
   "metadata": {},
   "outputs": [],
   "source": [
    "#Write mlm estimates\n",
    "estimate.to_csv(f\"{bivariate_folder}anndata{suffix}/Estimate_LR_Loadings_PROGENY_mlm_{suffix}_cosine_Paper.csv\", index=True) "
   ]
  },
  {
   "cell_type": "code",
   "execution_count": 46,
   "id": "0d5f1d7b-5b3c-4e5c-9c24-67fbc420eb91",
   "metadata": {},
   "outputs": [],
   "source": [
    "#Write mlm pvalues\n",
    "pvals.to_csv(f\"{bivariate_folder}anndata{suffix}/Estimate_LR_pvalues_PROGENY_mlm_{suffix}_cosine_Paper.csv\", index=True) "
   ]
  },
  {
   "cell_type": "markdown",
   "id": "87b8f9be-fabe-4a11-9a97-f6d09b7a7067",
   "metadata": {},
   "source": [
    "<div class=\"alert alert-info\">\n",
    "<b>Paper Figure!</b>\n",
    "Plot Figure 3B\n",
    "</div>"
   ]
  },
  {
   "cell_type": "code",
   "execution_count": 47,
   "id": "c052a6cc-90d5-41b5-8aa4-65d5635ceb13",
   "metadata": {},
   "outputs": [],
   "source": [
    "#Heatmap with pathway enrichment scores\n",
    "with mpl.rc_context({'axes.facecolor':  'white',\n",
    "                        'figure.figsize': [6, 6]}):\n",
    "    sns.heatmap(estimate, square=True, cmap='RdBu_r')\n",
    "    plt.savefig(f\"{bivariate_folder}anndata{suffix}/Estimate_LR_Loadings_PROGENY_mlm_{suffix}_cosine_heatmap_Paper.png\",dpi=300, format=\"png\",pad_inches=0.2,bbox_inches=\"tight\")\n",
    "    plt.close()"
   ]
  },
  {
   "cell_type": "markdown",
   "id": "54d62eb6-48cb-4688-bf07-1d2b1fbe7b0a",
   "metadata": {},
   "source": [
    "# Transcription factor activity inference\n",
    "\n",
    "To infer transcription factor (TF) enrichment scores we use CollecTRI (a gene regulatory network (GRN) containing TFs and their transcriptional targets) and a multivariate linear model (mlm) run with decoupleR. For each spot and each TF, it fits a linear model that predicts the observed gene expression based on the TF-Gene interactions weights. The score is the t-value of the slope."
   ]
  },
  {
   "cell_type": "code",
   "execution_count": 48,
   "id": "33dd4b30-3bb8-4a6e-8620-1859e4fced1f",
   "metadata": {},
   "outputs": [
    {
     "name": "stdout",
     "output_type": "stream",
     "text": [
      "1 features of mat are empty, they will be removed.\n",
      "Running mlm on mat with 91068 samples and 5849 targets for 523 sources.\n"
     ]
    },
    {
     "name": "stderr",
     "output_type": "stream",
     "text": [
      "100%|█████████████████████████████████████████████████████████████████████████████████████████████████████████████████████████████| 10/10 [00:25<00:00,  2.53s/it]\n"
     ]
    }
   ],
   "source": [
    "dc.run_mlm(\n",
    "    mat=adata_vis,\n",
    "    net=net_collectri,\n",
    "    source='source',\n",
    "    target='target',\n",
    "    weight='weight',\n",
    "    verbose=True,\n",
    "    use_raw=False,\n",
    "    min_n=5\n",
    ")"
   ]
  },
  {
   "cell_type": "code",
   "execution_count": 49,
   "id": "daf3feee-abf1-49b2-9058-7af8335e9be5",
   "metadata": {},
   "outputs": [],
   "source": [
    "#Rename results\n",
    "adata_vis.obsm['collectri_mlm_estimate'] = adata_vis.obsm['mlm_estimate'].copy()\n",
    "adata_vis.obsm['collectri_mlm_pvals'] = adata_vis.obsm['mlm_pvals'].copy()\n",
    "del(adata_vis.obsm[\"mlm_estimate\"])\n",
    "del(adata_vis.obsm[\"mlm_pvals\"])"
   ]
  },
  {
   "cell_type": "code",
   "execution_count": 50,
   "id": "f93e381b-597d-4a98-98df-00fdb9d7bf4a",
   "metadata": {},
   "outputs": [],
   "source": [
    "# Save anndata object with TF enrichment results\n",
    "adata_vis_mlm_file = f\"{bivariate_folder}anndata{suffix}/ad_vis_post_distrib_finest_discrete_region_NMF_lineage_decoupler_mlm_Paper.h5ad\"\n",
    "adata_vis.write_h5ad(adata_vis_mlm_file)"
   ]
  },
  {
   "cell_type": "markdown",
   "id": "dcdb9abe-e690-4466-816c-d7c883b2dc91",
   "metadata": {},
   "source": [
    "## Visualization of TFs activities"
   ]
  },
  {
   "cell_type": "code",
   "execution_count": 51,
   "id": "a53e2782-cf2d-4721-91e5-c7d3c17b729d",
   "metadata": {},
   "outputs": [],
   "source": [
    "#Extract TF enrichment scores\n",
    "acts_collectri_full_mlm = dc.get_acts(adata_vis, obsm_key='collectri_mlm_estimate')"
   ]
  },
  {
   "cell_type": "code",
   "execution_count": 53,
   "id": "b0c64d62-6daf-44a8-9895-592a50de3231",
   "metadata": {},
   "outputs": [],
   "source": [
    "#Save extracted TFs activities\n",
    "acts_collectri_full_mlm_file = f\"{bivariate_folder}anndata{suffix}/acts_collectri_full_mlm_Paper.h5ad\"\n",
    "acts_collectri_full_mlm.write(acts_collectri_full_mlm_file)"
   ]
  },
  {
   "cell_type": "markdown",
   "id": "e43df36f-7943-4926-ae8b-078a60ba8484",
   "metadata": {},
   "source": [
    "### Identify top TFs per condition"
   ]
  },
  {
   "cell_type": "code",
   "execution_count": 54,
   "id": "6cec3aed-d57d-4316-80bb-fe3ad51cd681",
   "metadata": {},
   "outputs": [],
   "source": [
    "df_collectri_mlm = dc.rank_sources_groups(acts_collectri_full_mlm, groupby='condition_subtype', reference='rest', method='t-test_overestim_var')"
   ]
  },
  {
   "cell_type": "markdown",
   "id": "41314a4c-7dd6-41e1-926f-268f45ea56b2",
   "metadata": {},
   "source": [
    "<div class=\"alert alert-info\">\n",
    "<b>Paper Table!</b>\n",
    "Table S2\n",
    "</div>"
   ]
  },
  {
   "cell_type": "code",
   "execution_count": 55,
   "id": "3d3fd9d2-5dd0-4854-8a20-dab76a7be822",
   "metadata": {},
   "outputs": [],
   "source": [
    "#Save top TFs enriched per condition\n",
    "df_collectri_mlm.to_csv(f\"{bivariate_folder}anndata{suffix}/Collectri_full_mlm_Paper.csv\", index=True)"
   ]
  },
  {
   "cell_type": "markdown",
   "id": "8a244b8a-7907-470b-9e07-1a0dc1db033b",
   "metadata": {},
   "source": [
    "### Extract top 10 TFs per condition"
   ]
  },
  {
   "cell_type": "code",
   "execution_count": 56,
   "id": "d49a2610-2505-4f45-99dd-031cdfb2a8bb",
   "metadata": {},
   "outputs": [],
   "source": [
    "n_markers = 10\n",
    "source_markers_collectri_mlm = df_collectri_mlm.groupby('group').head(n_markers).groupby('group')['names'].apply(lambda x: list(x)).to_dict()"
   ]
  },
  {
   "cell_type": "markdown",
   "id": "5d5131ea-52a3-41cf-becc-6a76de4c053a",
   "metadata": {},
   "source": [
    "## Plot heatmap with top 10 enriched TFs per condition"
   ]
  },
  {
   "cell_type": "markdown",
   "id": "93ca1c36-4d5f-4619-b03b-3f9a6b7841ca",
   "metadata": {},
   "source": [
    "<div class=\"alert alert-info\">\n",
    "<b>Paper Figure!</b>\n",
    "Plot Figure 3D\n",
    "</div>"
   ]
  },
  {
   "cell_type": "code",
   "execution_count": 57,
   "id": "c25e0b58-b70b-4128-9dfa-4ad500a2d879",
   "metadata": {},
   "outputs": [],
   "source": [
    "with mpl.rc_context({'axes.facecolor':  'white',\n",
    "                        'figure.figsize': [3, 6]}):\n",
    "    sc.pl.matrixplot(acts_collectri_full_mlm, source_markers_collectri_mlm, 'condition_subtype', dendrogram=False, standard_scale='var',\n",
    "                     colorbar_title='Z-scaled scores', cmap='RdBu_r', show=False)\n",
    "    plt.savefig(f\"{bivariate_folder}anndata{suffix}/Collectri_full_mlm_heatmap_Paper.png\",dpi=300, format=\"png\",pad_inches=0.2,bbox_inches=\"tight\")\n",
    "    plt.close()"
   ]
  },
  {
   "cell_type": "markdown",
   "id": "145a8159-d357-49b4-9d7f-8b43a133f54f",
   "metadata": {},
   "source": [
    "## Plot top 10 enriched TFs per condition on Visium ST slides"
   ]
  },
  {
   "cell_type": "code",
   "execution_count": 58,
   "id": "355fe57d-93d7-4982-a35f-aea6526e19a6",
   "metadata": {},
   "outputs": [],
   "source": [
    "#Create directory for TF enrichment plots\n",
    "directory = f'{decoupler_folder}TF_plots'\n",
    "# Check if the directory exists\n",
    "if not os.path.exists(directory):\n",
    "    # If it doesn't exist, create it\n",
    "    os.makedirs(directory)"
   ]
  },
  {
   "cell_type": "markdown",
   "id": "7ee2818f-ddad-499d-ba3b-40e1504a7a13",
   "metadata": {},
   "source": [
    "<div class=\"alert alert-info\">\n",
    "<b>Paper Figure!</b>\n",
    "Plot Figures 3E & S2\n",
    "</div>"
   ]
  },
  {
   "cell_type": "code",
   "execution_count": 59,
   "id": "bfd4571c-2ea1-480c-9d9c-03812ad9a556",
   "metadata": {
    "scrolled": true
   },
   "outputs": [
    {
     "name": "stdout",
     "output_type": "stream",
     "text": [
      "L2P\n",
      "Acute\n",
      "Control\n",
      "Proliferative\n",
      "L19P\n",
      "Acute\n",
      "Control\n",
      "Proliferative\n",
      "L11P\n",
      "Acute\n",
      "Control\n",
      "Proliferative\n",
      "HRC5\n",
      "Acute\n",
      "Control\n",
      "Proliferative\n",
      "HRC6\n",
      "Acute\n",
      "Control\n",
      "Proliferative\n",
      "HRC8\n",
      "Acute\n",
      "Control\n",
      "Proliferative\n",
      "HRC10\n",
      "Acute\n",
      "Control\n",
      "Proliferative\n",
      "HRC11\n",
      "Acute\n",
      "Control\n",
      "Proliferative\n",
      "HRC12\n",
      "Acute\n",
      "Control\n",
      "Proliferative\n",
      "HRC13\n",
      "Acute\n",
      "Control\n",
      "Proliferative\n",
      "HRC16\n",
      "Acute\n",
      "Control\n",
      "Proliferative\n",
      "HRC17\n",
      "Acute\n",
      "Control\n",
      "Proliferative\n",
      "L5P\n",
      "Acute\n",
      "Control\n",
      "Proliferative\n",
      "L14P\n",
      "Acute\n",
      "Control\n",
      "Proliferative\n",
      "L24P\n",
      "Acute\n",
      "Control\n",
      "Proliferative\n",
      "L12P\n",
      "Acute\n",
      "Control\n",
      "Proliferative\n",
      "HRC2\n",
      "Acute\n",
      "Control\n",
      "Proliferative\n",
      "HRC4\n",
      "Acute\n",
      "Control\n",
      "Proliferative\n",
      "HRC18\n",
      "Acute\n",
      "Control\n",
      "Proliferative\n",
      "L3C\n",
      "Acute\n",
      "Control\n",
      "Proliferative\n",
      "L14C\n",
      "Acute\n",
      "Control\n",
      "Proliferative\n",
      "L2C\n",
      "Acute\n",
      "Control\n",
      "Proliferative\n",
      "CONTROL2\n",
      "Acute\n",
      "Control\n",
      "Proliferative\n"
     ]
    }
   ],
   "source": [
    "# Plot top 10 enriched TFs on Visium ST tissue slides\n",
    "samples = [\"L2P\",\"L19P\",\"L11P\",\"HRC5\",\"HRC6\",\"HRC8\",\"HRC10\",\"HRC11\",\"HRC12\",\"HRC13\",\"HRC16\",\"HRC17\",\"L5P\",\"L14P\",\"L24P\",\"L12P\",\"HRC2\",\"HRC4\",\"HRC18\",\"L3C\",\"L14C\",\"L2C\",\"CONTROL2\"]\n",
    "\n",
    "for sample in samples:\n",
    "    print(sample)\n",
    "    slide = select_slide(adata_vis, f'{sample}')\n",
    "    acts_collectri_slide_mlm = dc.get_acts(slide, obsm_key='collectri_mlm_estimate')\n",
    "    for key in source_markers_collectri_mlm:\n",
    "        print(key)\n",
    "        with mpl.rc_context({'axes.facecolor':  'white','figure.figsize': [6, 6]}):\n",
    "            sc.pl.spatial(acts_collectri_slide_mlm, color=source_markers_collectri_mlm[key], cmap='RdBu_r', size=1.5, vcenter=0, ncols = 5,\n",
    "                          show=False, add_outline=False,legend_loc='right margin')\n",
    "            plt.savefig(f\"{decoupler_folder}TF_Plots/{sample}_{key}_TF_Paper.png\",dpi=300,\n",
    "                        format=\"png\",pad_inches=0.2,bbox_inches=\"tight\")\n",
    "            plt.close()"
   ]
  },
  {
   "cell_type": "code",
   "execution_count": 60,
   "id": "f7af5963-ae24-487b-ae5c-54ba2a6626fa",
   "metadata": {},
   "outputs": [],
   "source": [
    "#Save anndata object with only top 10 enriched TFs per condition\n",
    "source_markers_collectri_mlm_flat_list = []\n",
    "\n",
    "for sublist in list(source_markers_collectri_mlm.values()):\n",
    "    source_markers_collectri_mlm_flat_list.extend(sublist)\n",
    "    \n",
    "source_markers_collectri_mlm_flat_list = list(set(source_markers_collectri_mlm_flat_list))"
   ]
  },
  {
   "cell_type": "code",
   "execution_count": 61,
   "id": "3d1f77c4-b87e-4c37-8f98-9303b282d141",
   "metadata": {},
   "outputs": [],
   "source": [
    "#Extract top 10 TFs activities\n",
    "acts_collectri_full_mlm_Top10 = acts_collectri_full_mlm[:, source_markers_collectri_mlm_flat_list].copy()"
   ]
  },
  {
   "cell_type": "code",
   "execution_count": 62,
   "id": "02e21ee8-e35d-4dc4-9ee2-5c431fd92402",
   "metadata": {},
   "outputs": [],
   "source": [
    "#Write anndata object with Top10 TFs activities\n",
    "acts_collectri_full_mlm_Top10_file = f\"{bivariate_folder}anndata{suffix}/acts_collectri_full_mlm_Top10_Paper.h5ad\"\n",
    "acts_collectri_full_mlm_Top10.write(acts_collectri_full_mlm_Top10_file)"
   ]
  },
  {
   "cell_type": "markdown",
   "id": "e852bb5b-0faf-4bf5-98e3-464c6bff4a74",
   "metadata": {
    "tags": []
   },
   "source": [
    "# Plot spatial relationships of LRIs\n",
    "\n",
    "To ease interpretation of results, we selected the top 25 LRIs defining DAD-associated Factor3."
   ]
  },
  {
   "cell_type": "code",
   "execution_count": 63,
   "id": "4c84744e-8e23-4b84-8c8b-d9f42d4f40ae",
   "metadata": {},
   "outputs": [],
   "source": [
    "#We select DAD-associated Factor3 top 25 LRI loadings\n",
    "lr_loadings_Top25_Factor3 = lr_loadings.sort_values(\"Factor3\", ascending=False).head(25).index.to_list()"
   ]
  },
  {
   "cell_type": "code",
   "execution_count": 64,
   "id": "88b26fab-d2e3-442d-9120-641cf6583aef",
   "metadata": {},
   "outputs": [],
   "source": [
    "#Filter LRI anndata object with Top 25 LRIs\n",
    "adata_LR_biv_Factor = adata_LR_biv.copy()\n",
    "adata_LR_biv_Factor = adata_LR_biv_Factor[:, lr_loadings_Top25_Factor3].copy()"
   ]
  },
  {
   "cell_type": "code",
   "execution_count": 65,
   "id": "ecdf08f7-c193-4d70-992b-b2631973aef6",
   "metadata": {},
   "outputs": [],
   "source": [
    "#Write anndata object with top 25 LRIs\n",
    "adata_LR_biv_Factor_file = f\"{bivariate_folder}anndata{suffix}/adata_LR_biv_Top25_Factor3_Paper.h5ad\"\n",
    "adata_LR_biv_Factor.write(adata_LR_biv_Factor_file)"
   ]
  },
  {
   "cell_type": "code",
   "execution_count": 66,
   "id": "881f7374-fb7d-487c-8abd-8c7befc00539",
   "metadata": {},
   "outputs": [],
   "source": [
    "#Extract cell type proportions\n",
    "adata_vis.obsm['q05_cell_abundance_w_sf'].columns = adata_vis.obsm['q05_cell_abundance_w_sf'].columns.str.lstrip('q05cell_abundance_w_sf_')\n",
    "comps_full = li.ut.obsm_to_adata(adata_vis, 'q05_cell_abundance_w_sf')"
   ]
  },
  {
   "cell_type": "code",
   "execution_count": 67,
   "id": "b612b14b-7fb6-4dc2-b41a-b17ef0a9adcf",
   "metadata": {},
   "outputs": [],
   "source": [
    "#Write cell type proportions\n",
    "comps_full_file = f\"{bivariate_folder}anndata{suffix}/comps_full_Paper.h5ad\"\n",
    "comps_full.write(comps_full_file)"
   ]
  },
  {
   "cell_type": "code",
   "execution_count": 68,
   "id": "8b2edae6-d2b6-42cc-a3ec-62a2ec023a99",
   "metadata": {},
   "outputs": [
    {
     "name": "stdout",
     "output_type": "stream",
     "text": [
      "The two DataFrames are equal\n"
     ]
    }
   ],
   "source": [
    "#Sanity check: equality of data frames\n",
    "if (adata_LR_biv_Factor.obs.index == comps_full.obs.index).all().all():\n",
    "    print(\"The two DataFrames are equal\")\n",
    "else:\n",
    "    print(\"The two DataFrames are not equal\")"
   ]
  },
  {
   "cell_type": "markdown",
   "id": "27a2e9ae-446b-4e84-832a-82ab39254f9a",
   "metadata": {},
   "source": [
    "## We first plot Cosine similarity & Moran's R scores of top 25 LRIs defining Factor3"
   ]
  },
  {
   "cell_type": "code",
   "execution_count": 69,
   "id": "bdbc7ad4-052f-4dd6-addc-9c4ba71b7073",
   "metadata": {},
   "outputs": [],
   "source": [
    "#Sort by Global mean Cosine similarity score\n",
    "cosine_metrics = cosine_metrics.sort_values(\"global_mean\", ascending=False)\n",
    "#Select Top 25 Factor 3 LRIs\n",
    "cosine_metrics_Top25_Factor3 = cosine_metrics[cosine_metrics[\"interaction\"].isin(adata_LR_biv_Factor.var_names)]"
   ]
  },
  {
   "cell_type": "code",
   "execution_count": 70,
   "id": "7b919fc5-8166-4f14-9b8f-99e160cdac3c",
   "metadata": {
    "scrolled": true
   },
   "outputs": [],
   "source": [
    "#Sort by Global Moran's R score\n",
    "moransr_metrics = moransr_metrics.sort_values(\"global_r\", ascending=False)\n",
    "#Select Top 25 Factor 3 LRIs\n",
    "moransr_metrics_Top25_Factor3 = moransr_metrics[moransr_metrics[\"interaction\"].isin(adata_LR_biv_Factor.var_names)]"
   ]
  },
  {
   "cell_type": "markdown",
   "id": "4b4a8137-ac01-4e13-9cdb-cf9651f6a9a3",
   "metadata": {},
   "source": [
    "## Local spatial relationships of ligand-receptor interactions across disease progression"
   ]
  },
  {
   "cell_type": "code",
   "execution_count": 71,
   "id": "9c391da0-11ec-443f-8d8a-c88f3b5cbd1b",
   "metadata": {},
   "outputs": [],
   "source": [
    "#Add condition annotation column\n",
    "cosine_metrics_Top25_Factor3['Condition'] = np.where(cosine_metrics_Top25_Factor3['sample'].isin(acute) == True, 'DAD_Acute', (np.where(cosine_metrics_Top25_Factor3['sample'].isin(proliferative) == True, 'DAD_Proliferative', 'Control')))\n",
    "moransr_metrics_Top25_Factor3['Condition'] = np.where(moransr_metrics_Top25_Factor3['sample'].isin(acute) == True, 'DAD_Acute', (np.where(moransr_metrics_Top25_Factor3['sample'].isin(proliferative) == True, 'DAD_Proliferative', 'Control')))"
   ]
  },
  {
   "cell_type": "code",
   "execution_count": 72,
   "id": "fc3455b5-852e-4c8a-a1be-374d64192621",
   "metadata": {},
   "outputs": [],
   "source": [
    "#Sort by condition and interaction\n",
    "cosine_metrics_Top25_Factor3 = cosine_metrics_Top25_Factor3.sort_values([\"interaction\",\"Condition\"], ascending=True)\n",
    "moransr_metrics_Top25_Factor3 = moransr_metrics_Top25_Factor3.sort_values([\"interaction\",\"Condition\"], ascending=True)"
   ]
  },
  {
   "cell_type": "code",
   "execution_count": 73,
   "id": "a5666a22-060e-403b-8605-8a9d297876e5",
   "metadata": {},
   "outputs": [],
   "source": [
    "#Plot Cosine similarity and Moran's R scores by condition\n",
    "cosine_metrics_Top25_Factor3_plot = cosine_metrics_Top25_Factor3.copy()\n",
    "cosine_metrics_Top25_Factor3_plot = cosine_metrics_Top25_Factor3_plot[[\"interaction\",\"global_mean\",\"Condition\"]]\n",
    "moransr_metrics_Top25_Factor3_plot = moransr_metrics_Top25_Factor3.copy()\n",
    "moransr_metrics_Top25_Factor3_plot = moransr_metrics_Top25_Factor3_plot[[\"interaction\",\"global_r\",\"Condition\"]]"
   ]
  },
  {
   "cell_type": "markdown",
   "id": "86316fb8-b8b4-4c4b-82cd-23341b4fbdc2",
   "metadata": {},
   "source": [
    "<div class=\"alert alert-info\">\n",
    "<b>Paper Figure!</b>\n",
    "Plot Figure S4\n",
    "</div>"
   ]
  },
  {
   "cell_type": "code",
   "execution_count": 74,
   "id": "5d5a6040-f565-4b92-ac21-a9a2bdc33da9",
   "metadata": {
    "scrolled": true
   },
   "outputs": [],
   "source": [
    "#Plot Global mean Cosine similarity by condition \n",
    "sns.set(rc={\"figure.figsize\":(9, 6)})\n",
    "sns.set_style(\"whitegrid\")\n",
    "sns.set_context(\"poster\")\n",
    "with plt.rc_context(): \n",
    "    g=sns.catplot(data=cosine_metrics_Top25_Factor3_plot, x=\"Condition\", y=\"global_mean\", col=\"interaction\", kind=\"box\", col_wrap=5, palette=sns.color_palette(['#ff7f0e','#1f77b4','#2ca02c']))\n",
    "    g.set_titles(\"{col_name}\")\n",
    "    g.tick_params(axis='x', labelrotation=90)\n",
    "    plt.savefig(f\"{bivariate_folder}anndata{suffix}/Global_mean_Cosine_similarity_Factor3_Top25_LR_Facet_Paper.png\",dpi=300, format=\"png\",bbox_inches='tight')\n",
    "    plt.close()"
   ]
  },
  {
   "cell_type": "code",
   "execution_count": 75,
   "id": "a5a7c1a3-7314-49c4-9bce-af46decb63a2",
   "metadata": {
    "scrolled": true
   },
   "outputs": [],
   "source": [
    "#Plot Global Moran´s R by condition\n",
    "sns.set(rc={\"figure.figsize\":(9, 6)})\n",
    "sns.set_style(\"whitegrid\")\n",
    "sns.set_context(\"poster\")\n",
    "with plt.rc_context():  \n",
    "    g=sns.catplot(data=moransr_metrics_Top25_Factor3_plot, x=\"Condition\", y=\"global_r\", col=\"interaction\", kind=\"box\", col_wrap=5, palette=sns.color_palette(['#ff7f0e','#1f77b4','#2ca02c']))\n",
    "    g.set_titles(\"{col_name}\")\n",
    "    g.tick_params(axis='x', labelrotation=90)\n",
    "    plt.savefig(f\"{bivariate_folder}anndata{suffix}/Global_MoransR_Factor3_Top25_LR_Facet_Paper.png\",dpi=300, format=\"png\",bbox_inches='tight')\n",
    "    plt.close()"
   ]
  },
  {
   "cell_type": "code",
   "execution_count": 76,
   "id": "7c8302bf-d023-4e4e-98ca-cc6a71759819",
   "metadata": {},
   "outputs": [],
   "source": [
    "#Order LRIs by Global mean Cosine similarity median score\n",
    "cosineorder = cosine_metrics_Top25_Factor3_plot.groupby('interaction')['global_mean'].median().sort_values(ascending = False).index\n",
    "cosine_order = {nm:ix for ix,nm in enumerate(cosineorder)} # generated\n",
    "cosine_metrics_Top25_Factor3_plot_order = cosine_metrics_Top25_Factor3_plot.sort_values(by='interaction', key=lambda nm: nm.map(cosine_order))"
   ]
  },
  {
   "cell_type": "markdown",
   "id": "77f487b1-bb65-4cf8-8d85-bf967962d4f7",
   "metadata": {},
   "source": [
    "<div class=\"alert alert-info\">\n",
    "<b>Paper Figure!</b>\n",
    "Plot Panel Figure 4A\n",
    "</div>"
   ]
  },
  {
   "cell_type": "code",
   "execution_count": 77,
   "id": "df26ca81-9080-4b8a-8f69-83c62d953dd2",
   "metadata": {},
   "outputs": [],
   "source": [
    "#Plot box plot with LRIs ordered by median Global mean Cosine similarity\n",
    "sns.set(rc={\"figure.figsize\":(10, 7)})\n",
    "sns.set_style(\"whitegrid\")\n",
    "with plt.rc_context():  \n",
    "    ax=sns.boxplot(x='interaction', y='global_mean', data=cosine_metrics_Top25_Factor3_plot_order, color='grey')\n",
    "    ax.tick_params(axis='x', labelrotation=90)\n",
    "    plt.savefig(f\"{bivariate_folder}anndata{suffix}/Global_mean_Cosine_similarity_Factor3_Top25_LR_ordered_median_Paper.png\",dpi=300, format=\"png\", bbox_inches='tight')\n",
    "    plt.close()"
   ]
  },
  {
   "cell_type": "code",
   "execution_count": 78,
   "id": "f77059f9-622d-4e75-8675-e2852fca93cf",
   "metadata": {},
   "outputs": [],
   "source": [
    "#Order LRIs by Global Moran's R median score\n",
    "moransrorder = moransr_metrics_Top25_Factor3_plot.groupby('interaction')['global_r'].median().sort_values(ascending = False).index\n",
    "moransr_order = {nm:ix for ix,nm in enumerate(moransrorder)} # generated\n",
    "moransr_metrics_Top25_Factor3_plot_order = moransr_metrics_Top25_Factor3_plot.sort_values(by='interaction', key=lambda nm: nm.map(moransr_order))"
   ]
  },
  {
   "cell_type": "markdown",
   "id": "f709ae33-b42f-4aac-b012-b7455be081a4",
   "metadata": {},
   "source": [
    "<div class=\"alert alert-info\">\n",
    "<b>Paper Figure!</b>\n",
    "Plot Panel Figure 4A\n",
    "</div>"
   ]
  },
  {
   "cell_type": "code",
   "execution_count": 79,
   "id": "e1f4eec7-2989-4c32-90fa-fb0a21e4f293",
   "metadata": {},
   "outputs": [],
   "source": [
    "#Plot box plot with LRIs ordered by median Global Moran´s R\n",
    "sns.set(rc={\"figure.figsize\":(10, 7)})\n",
    "sns.set_style(\"whitegrid\")\n",
    "with plt.rc_context():  # Use this to set figure params like size and dpi\n",
    "    ax=sns.boxplot(x='interaction', y='global_r', data=moransr_metrics_Top25_Factor3_plot_order, color='grey')\n",
    "    ax.tick_params(axis='x', labelrotation=90)\n",
    "    plt.savefig(f\"{bivariate_folder}anndata{suffix}/Global_MoransR_Factor3_Top25_LR_ordered_median_Paper.png\",dpi=300, format=\"png\", bbox_inches='tight')\n",
    "    plt.close()"
   ]
  },
  {
   "cell_type": "markdown",
   "id": "8384f06b-3f63-4c40-9362-7ae87806bdfe",
   "metadata": {},
   "source": [
    "### Merge Global mean Cosine similarity and Global Moran's R scores"
   ]
  },
  {
   "cell_type": "code",
   "execution_count": 80,
   "id": "42840f73-dd5d-4714-a6fd-32fdc5371850",
   "metadata": {},
   "outputs": [],
   "source": [
    "#Create key to merge\n",
    "cosine_metrics_Top25_Factor3[\"key\"] = cosine_metrics_Top25_Factor3[\"interaction\"] + \"_\" + cosine_metrics_Top25_Factor3[\"sample\"]\n",
    "moransr_metrics_Top25_Factor3[\"key\"] = moransr_metrics_Top25_Factor3[\"interaction\"] + \"_\" + moransr_metrics_Top25_Factor3[\"sample\"]"
   ]
  },
  {
   "cell_type": "code",
   "execution_count": 81,
   "id": "7e17d671-9565-4483-b839-174ef23902e0",
   "metadata": {},
   "outputs": [],
   "source": [
    "#Merge two dfs\n",
    "cosine_moransr_merged = pd.merge(cosine_metrics_Top25_Factor3, moransr_metrics_Top25_Factor3[[\"global_r\",\"global_pvals\",\"key\"]], on='key', how='outer')"
   ]
  },
  {
   "cell_type": "code",
   "execution_count": 82,
   "id": "f440c54f-0a6c-4924-84cc-6aa3e5995ec2",
   "metadata": {},
   "outputs": [],
   "source": [
    "#Write merged df\n",
    "cosine_moransr_merged.to_csv(f\"{bivariate_folder}anndata{suffix}/bivariate_LR_global_mean_Cosine_MoransR_{suffix}_merged_Paper.csv\", index=True)"
   ]
  },
  {
   "cell_type": "markdown",
   "id": "a8c57ab8-dee5-4ca0-9c47-7224117a46cf",
   "metadata": {},
   "source": [
    "## Plot top 25 LRIs of Factor3 on individual Visium ST slides\n",
    "We plot local spatially-weighted Cosine similarity scores on Visium ST tissue slides. We also compute and plot permutation based p-values and local categories."
   ]
  },
  {
   "cell_type": "markdown",
   "id": "ee1482ac-57ac-4f61-87de-916198c1c98d",
   "metadata": {},
   "source": [
    "<div class=\"alert alert-info\">\n",
    "<b>Paper Figure!</b>\n",
    "Plot Panel Figure 4B, Figure S5 and Panel Figure S6 \n",
    "</div>"
   ]
  },
  {
   "cell_type": "code",
   "execution_count": 83,
   "id": "83ae5350-d0a2-4116-b1ea-d39bf0306f9b",
   "metadata": {
    "scrolled": true
   },
   "outputs": [
    {
     "name": "stdout",
     "output_type": "stream",
     "text": [
      "L2P\n",
      "L19P\n",
      "L11P\n",
      "HRC5\n",
      "HRC6\n",
      "HRC8\n",
      "HRC10\n",
      "HRC11\n",
      "HRC12\n",
      "HRC13\n",
      "HRC16\n",
      "HRC17\n",
      "L5P\n",
      "L14P\n",
      "L24P\n",
      "L12P\n",
      "HRC2\n",
      "HRC4\n",
      "HRC18\n",
      "L3C\n",
      "L14C\n",
      "L2C\n",
      "CONTROL2\n"
     ]
    }
   ],
   "source": [
    "# Plot spatially-weighted Cosine similarity on Visium ST slides\n",
    "samples = [\"L2P\",\"L19P\",\"L11P\",\"HRC5\",\"HRC6\",\"HRC8\",\"HRC10\",\"HRC11\",\"HRC12\",\"HRC13\",\"HRC16\",\"HRC17\",\"L5P\",\"L14P\",\"L24P\",\"L12P\",\"HRC2\",\"HRC4\",\"HRC18\",\"L3C\",\"L14C\",\"L2C\",\"CONTROL2\"]\n",
    "\n",
    "for sample in samples:\n",
    "    print(sample)\n",
    "    adata = select_slide(adata_LR_biv_Factor, f'{sample}')\n",
    "    LRs = adata.var_names\n",
    "    with mpl.rc_context({'axes.facecolor':  'white',\n",
    "                                'figure.figsize': [6, 6]}):\n",
    "            sc.pl.spatial(adata, color=LRs, size=1.4, show=False, ncols=5)\n",
    "            plt.savefig(f\"{bivariate_folder}anndata{suffix}/bivariate_LR_Cosine_{suffix}_{sample}_Paper.png\",dpi=300, format=\"png\",pad_inches=0.2,bbox_inches=\"tight\")\n",
    "            plt.close()\n",
    "\n",
    "    #Permutation based pvalues\n",
    "    with mpl.rc_context({'axes.facecolor':  'white',\n",
    "                            'figure.figsize': [6, 6]}):\n",
    "        sc.pl.spatial(adata, layer='pvals', color=LRs, size=1.4, cmap=\"magma_r\", ncols=5, show=False)\n",
    "        plt.savefig(f\"{bivariate_folder}anndata{suffix}/bivariate_LR_Cosine_Pvalues_{suffix}_{sample}_Paper.png\",dpi=300, format=\"png\",pad_inches=0.2,bbox_inches=\"tight\")\n",
    "        plt.close()\n",
    "    \n",
    "    #Local categories\n",
    "    with mpl.rc_context({'axes.facecolor':  'white',\n",
    "                            'figure.figsize': [6, 6]}):\n",
    "        sc.pl.spatial(adata, layer='cats', color=LRs, size=1.4, cmap=\"coolwarm\", ncols=5, show=False)\n",
    "        plt.savefig(f\"{bivariate_folder}anndata{suffix}/bivariate_LR_Cosine_Categories_{suffix}_{sample}_Paper.png\",dpi=300, format=\"png\",pad_inches=0.2,bbox_inches=\"tight\")\n",
    "        plt.close()"
   ]
  },
  {
   "cell_type": "markdown",
   "id": "9fe08ed2-5e15-452b-aa99-17bd2a763651",
   "metadata": {
    "tags": []
   },
   "source": [
    "# Spatial Relationships of cell type abundances, LRIs and TFs activity \n",
    "\n",
    "We study how cell types, LRIs and TFs interact with each other in space, by leveraging an explainable multi-modelling approach with LIANA's implementation of MISTy. We modelled cell type proportions of the 45 identified cell type as a function of the local Cosine similarity scores of the top 25 LRIs defining DAD-associated Factor3 and the top 10 enriched TFs activity per condition."
   ]
  },
  {
   "cell_type": "markdown",
   "id": "45213090-0626-46f7-9292-8b8befc0a5f2",
   "metadata": {},
   "source": [
    "## Run MISTy to jointly model cell composition with Top25 Factor3 LRI local Cosine similarity scores and Top10 enriched TFs activity per condition"
   ]
  },
  {
   "cell_type": "code",
   "execution_count": 84,
   "id": "fbfb35dd-a275-417e-8047-b50aeee8ef9b",
   "metadata": {},
   "outputs": [],
   "source": [
    "#Create directory for MISTy results\n",
    "directory = f'{bivariate_folder}anndata{suffix}/Misty_Composition_Top25_Top10'\n",
    "# Check if the directory exists\n",
    "if not os.path.exists(directory):\n",
    "    # If it doesn't exist, create it\n",
    "    os.makedirs(directory)"
   ]
  },
  {
   "cell_type": "code",
   "execution_count": null,
   "id": "cc28f1a6-76f4-4d14-8d47-f7260a4c6a0d",
   "metadata": {
    "scrolled": true
   },
   "outputs": [
    {
     "name": "stdout",
     "output_type": "stream",
     "text": [
      "L2P\n"
     ]
    },
    {
     "name": "stderr",
     "output_type": "stream",
     "text": [
      "view intra is not a csr_matrix. Converting to csr_matrix\n",
      "view TFs is not a csr_matrix. Converting to csr_matrix\n",
      "view LR is not a csr_matrix. Converting to csr_matrix\n",
      "Now learning: Mast cells: 100%|███████████████████████████████████████████████████████████████████████████████████████████████████| 45/45 [00:56<00:00,  1.26s/it]\n"
     ]
    },
    {
     "name": "stdout",
     "output_type": "stream",
     "text": [
      "L19P\n"
     ]
    },
    {
     "name": "stderr",
     "output_type": "stream",
     "text": [
      "view intra is not a csr_matrix. Converting to csr_matrix\n",
      "view TFs is not a csr_matrix. Converting to csr_matrix\n",
      "view LR is not a csr_matrix. Converting to csr_matrix\n",
      "Now learning: Mast cells: 100%|███████████████████████████████████████████████████████████████████████████████████████████████████| 45/45 [00:06<00:00,  7.26it/s]\n"
     ]
    },
    {
     "name": "stdout",
     "output_type": "stream",
     "text": [
      "L11P\n"
     ]
    },
    {
     "name": "stderr",
     "output_type": "stream",
     "text": [
      "view intra is not a csr_matrix. Converting to csr_matrix\n",
      "view TFs is not a csr_matrix. Converting to csr_matrix\n",
      "view LR is not a csr_matrix. Converting to csr_matrix\n",
      "Now learning: Mast cells: 100%|███████████████████████████████████████████████████████████████████████████████████████████████████| 45/45 [00:08<00:00,  5.38it/s]\n"
     ]
    },
    {
     "name": "stdout",
     "output_type": "stream",
     "text": [
      "HRC5\n"
     ]
    },
    {
     "name": "stderr",
     "output_type": "stream",
     "text": [
      "view intra is not a csr_matrix. Converting to csr_matrix\n",
      "view TFs is not a csr_matrix. Converting to csr_matrix\n",
      "view LR is not a csr_matrix. Converting to csr_matrix\n",
      "Now learning: Mast cells: 100%|███████████████████████████████████████████████████████████████████████████████████████████████████| 45/45 [00:06<00:00,  6.97it/s]\n"
     ]
    },
    {
     "name": "stdout",
     "output_type": "stream",
     "text": [
      "HRC6\n"
     ]
    },
    {
     "name": "stderr",
     "output_type": "stream",
     "text": [
      "view intra is not a csr_matrix. Converting to csr_matrix\n",
      "view TFs is not a csr_matrix. Converting to csr_matrix\n",
      "view LR is not a csr_matrix. Converting to csr_matrix\n",
      "Now learning: Mast cells: 100%|███████████████████████████████████████████████████████████████████████████████████████████████████| 45/45 [00:07<00:00,  6.03it/s]\n"
     ]
    },
    {
     "name": "stdout",
     "output_type": "stream",
     "text": [
      "HRC8\n"
     ]
    },
    {
     "name": "stderr",
     "output_type": "stream",
     "text": [
      "view intra is not a csr_matrix. Converting to csr_matrix\n",
      "view TFs is not a csr_matrix. Converting to csr_matrix\n",
      "view LR is not a csr_matrix. Converting to csr_matrix\n",
      "Now learning: Mast cells: 100%|███████████████████████████████████████████████████████████████████████████████████████████████████| 45/45 [00:06<00:00,  6.88it/s]\n"
     ]
    },
    {
     "name": "stdout",
     "output_type": "stream",
     "text": [
      "HRC10\n"
     ]
    },
    {
     "name": "stderr",
     "output_type": "stream",
     "text": [
      "view intra is not a csr_matrix. Converting to csr_matrix\n",
      "view TFs is not a csr_matrix. Converting to csr_matrix\n",
      "view LR is not a csr_matrix. Converting to csr_matrix\n",
      "Now learning: Mast cells: 100%|███████████████████████████████████████████████████████████████████████████████████████████████████| 45/45 [00:08<00:00,  5.51it/s]\n"
     ]
    },
    {
     "name": "stdout",
     "output_type": "stream",
     "text": [
      "HRC11\n"
     ]
    },
    {
     "name": "stderr",
     "output_type": "stream",
     "text": [
      "view intra is not a csr_matrix. Converting to csr_matrix\n",
      "view TFs is not a csr_matrix. Converting to csr_matrix\n",
      "view LR is not a csr_matrix. Converting to csr_matrix\n",
      "Now learning: Mast cells: 100%|███████████████████████████████████████████████████████████████████████████████████████████████████| 45/45 [00:06<00:00,  6.68it/s]\n"
     ]
    },
    {
     "name": "stdout",
     "output_type": "stream",
     "text": [
      "HRC12\n"
     ]
    },
    {
     "name": "stderr",
     "output_type": "stream",
     "text": [
      "view intra is not a csr_matrix. Converting to csr_matrix\n",
      "view TFs is not a csr_matrix. Converting to csr_matrix\n",
      "view LR is not a csr_matrix. Converting to csr_matrix\n",
      "Now learning: Mast cells: 100%|███████████████████████████████████████████████████████████████████████████████████████████████████| 45/45 [00:07<00:00,  5.76it/s]\n"
     ]
    },
    {
     "name": "stdout",
     "output_type": "stream",
     "text": [
      "HRC13\n"
     ]
    },
    {
     "name": "stderr",
     "output_type": "stream",
     "text": [
      "view intra is not a csr_matrix. Converting to csr_matrix\n",
      "view TFs is not a csr_matrix. Converting to csr_matrix\n",
      "view LR is not a csr_matrix. Converting to csr_matrix\n",
      "Now learning: Mast cells: 100%|███████████████████████████████████████████████████████████████████████████████████████████████████| 45/45 [00:06<00:00,  7.10it/s]\n"
     ]
    },
    {
     "name": "stdout",
     "output_type": "stream",
     "text": [
      "HRC16\n"
     ]
    },
    {
     "name": "stderr",
     "output_type": "stream",
     "text": [
      "view intra is not a csr_matrix. Converting to csr_matrix\n",
      "view TFs is not a csr_matrix. Converting to csr_matrix\n",
      "view LR is not a csr_matrix. Converting to csr_matrix\n",
      "Now learning: Mast cells: 100%|███████████████████████████████████████████████████████████████████████████████████████████████████| 45/45 [00:06<00:00,  6.88it/s]\n"
     ]
    },
    {
     "name": "stdout",
     "output_type": "stream",
     "text": [
      "HRC17\n"
     ]
    },
    {
     "name": "stderr",
     "output_type": "stream",
     "text": [
      "view intra is not a csr_matrix. Converting to csr_matrix\n",
      "view TFs is not a csr_matrix. Converting to csr_matrix\n",
      "view LR is not a csr_matrix. Converting to csr_matrix\n",
      "Now learning: Mast cells: 100%|███████████████████████████████████████████████████████████████████████████████████████████████████| 45/45 [00:06<00:00,  6.79it/s]\n"
     ]
    },
    {
     "name": "stdout",
     "output_type": "stream",
     "text": [
      "L5P\n"
     ]
    },
    {
     "name": "stderr",
     "output_type": "stream",
     "text": [
      "view intra is not a csr_matrix. Converting to csr_matrix\n",
      "view TFs is not a csr_matrix. Converting to csr_matrix\n",
      "view LR is not a csr_matrix. Converting to csr_matrix\n",
      "Now learning: Mast cells: 100%|███████████████████████████████████████████████████████████████████████████████████████████████████| 45/45 [00:06<00:00,  7.26it/s]\n"
     ]
    },
    {
     "name": "stdout",
     "output_type": "stream",
     "text": [
      "L14P\n"
     ]
    },
    {
     "name": "stderr",
     "output_type": "stream",
     "text": [
      "view intra is not a csr_matrix. Converting to csr_matrix\n",
      "view TFs is not a csr_matrix. Converting to csr_matrix\n",
      "view LR is not a csr_matrix. Converting to csr_matrix\n",
      "Now learning: Mast cells: 100%|███████████████████████████████████████████████████████████████████████████████████████████████████| 45/45 [00:06<00:00,  7.31it/s]\n"
     ]
    },
    {
     "name": "stdout",
     "output_type": "stream",
     "text": [
      "L24P\n"
     ]
    },
    {
     "name": "stderr",
     "output_type": "stream",
     "text": [
      "view intra is not a csr_matrix. Converting to csr_matrix\n",
      "view TFs is not a csr_matrix. Converting to csr_matrix\n",
      "view LR is not a csr_matrix. Converting to csr_matrix\n",
      "Now learning: Mast cells: 100%|███████████████████████████████████████████████████████████████████████████████████████████████████| 45/45 [00:05<00:00,  7.57it/s]\n"
     ]
    },
    {
     "name": "stdout",
     "output_type": "stream",
     "text": [
      "L12P\n"
     ]
    },
    {
     "name": "stderr",
     "output_type": "stream",
     "text": [
      "view intra is not a csr_matrix. Converting to csr_matrix\n",
      "view TFs is not a csr_matrix. Converting to csr_matrix\n",
      "view LR is not a csr_matrix. Converting to csr_matrix\n",
      "Now learning: Mast cells: 100%|███████████████████████████████████████████████████████████████████████████████████████████████████| 45/45 [00:07<00:00,  5.80it/s]\n"
     ]
    },
    {
     "name": "stdout",
     "output_type": "stream",
     "text": [
      "HRC2\n"
     ]
    },
    {
     "name": "stderr",
     "output_type": "stream",
     "text": [
      "view intra is not a csr_matrix. Converting to csr_matrix\n",
      "view TFs is not a csr_matrix. Converting to csr_matrix\n",
      "view LR is not a csr_matrix. Converting to csr_matrix\n",
      "Now learning: Mast cells: 100%|███████████████████████████████████████████████████████████████████████████████████████████████████| 45/45 [00:07<00:00,  6.36it/s]\n"
     ]
    },
    {
     "name": "stdout",
     "output_type": "stream",
     "text": [
      "HRC4\n"
     ]
    },
    {
     "name": "stderr",
     "output_type": "stream",
     "text": [
      "view intra is not a csr_matrix. Converting to csr_matrix\n",
      "view TFs is not a csr_matrix. Converting to csr_matrix\n",
      "view LR is not a csr_matrix. Converting to csr_matrix\n",
      "Now learning: Mast cells: 100%|███████████████████████████████████████████████████████████████████████████████████████████████████| 45/45 [00:07<00:00,  5.77it/s]\n"
     ]
    },
    {
     "name": "stdout",
     "output_type": "stream",
     "text": [
      "HRC18\n"
     ]
    },
    {
     "name": "stderr",
     "output_type": "stream",
     "text": [
      "view intra is not a csr_matrix. Converting to csr_matrix\n",
      "view TFs is not a csr_matrix. Converting to csr_matrix\n",
      "view LR is not a csr_matrix. Converting to csr_matrix\n",
      "Now learning: Mast cells: 100%|███████████████████████████████████████████████████████████████████████████████████████████████████| 45/45 [00:06<00:00,  6.58it/s]\n"
     ]
    },
    {
     "name": "stdout",
     "output_type": "stream",
     "text": [
      "L3C\n"
     ]
    },
    {
     "name": "stderr",
     "output_type": "stream",
     "text": [
      "view intra is not a csr_matrix. Converting to csr_matrix\n",
      "view TFs is not a csr_matrix. Converting to csr_matrix\n",
      "view LR is not a csr_matrix. Converting to csr_matrix\n",
      "Now learning: Mast cells: 100%|███████████████████████████████████████████████████████████████████████████████████████████████████| 45/45 [00:07<00:00,  5.84it/s]\n"
     ]
    },
    {
     "name": "stdout",
     "output_type": "stream",
     "text": [
      "L14C\n"
     ]
    },
    {
     "name": "stderr",
     "output_type": "stream",
     "text": [
      "view intra is not a csr_matrix. Converting to csr_matrix\n",
      "view TFs is not a csr_matrix. Converting to csr_matrix\n",
      "view LR is not a csr_matrix. Converting to csr_matrix\n",
      "Now learning: Mast cells: 100%|███████████████████████████████████████████████████████████████████████████████████████████████████| 45/45 [00:06<00:00,  7.42it/s]\n"
     ]
    },
    {
     "name": "stdout",
     "output_type": "stream",
     "text": [
      "L2C\n"
     ]
    },
    {
     "name": "stderr",
     "output_type": "stream",
     "text": [
      "view intra is not a csr_matrix. Converting to csr_matrix\n",
      "view TFs is not a csr_matrix. Converting to csr_matrix\n",
      "view LR is not a csr_matrix. Converting to csr_matrix\n",
      "Now learning: CD8 T cells:  67%|█████████████████████████████████████████████████████████████████▎                                | 30/45 [00:05<00:02,  6.77it/s]"
     ]
    }
   ],
   "source": [
    "#Function to run MISTy by sample\n",
    "samples = [\"L2P\",\"L19P\",\"L11P\",\"HRC5\",\"HRC6\",\"HRC8\",\"HRC10\",\"HRC11\",\"HRC12\",\"HRC13\",\"HRC16\",\"HRC17\",\"L5P\",\"L14P\",\"L24P\",\"L12P\",\"HRC2\",\"HRC4\",\"HRC18\",\"L3C\",\"L14C\",\"L2C\",\"CONTROL2\"]\n",
    "\n",
    "for sample in samples:\n",
    "    print(sample)\n",
    "    #Select data by sample\n",
    "    acts_collectri_slide = select_slide(acts_collectri_full_mlm_Top10, f'{sample}')\n",
    "    comps_slide = select_slide(comps_full, f'{sample}')\n",
    "    adata_LR_biv_Factor_slide = select_slide(adata_LR_biv_Factor, f'{sample}')\n",
    "    # Calculate spatial neighbors\n",
    "    li.ut.spatial_neighbors(acts_collectri_slide, cutoff=0.1, bandwidth=200, set_diag=False) #Default False\n",
    "    li.ut.spatial_neighbors(comps_slide, cutoff=0.1, bandwidth=200, set_diag=False) #Default False\n",
    "    li.ut.spatial_neighbors(adata_LR_biv_Factor_slide, cutoff=0.1, bandwidth=200, set_diag=False) #Default False\n",
    "    #Create MISTy data object\n",
    "    misty = MistyData(data={\"intra\": comps_slide, \"TFs\": acts_collectri_slide, \"LR\": adata_LR_biv_Factor_slide})\n",
    "    #Learn spatial relationships with MISTy\n",
    "    misty(verbose = True, n_jobs=100, model = 'linear', bypass_intra=True)\n",
    "    #Save results\n",
    "    misty.uns['target_metrics'].to_csv(f\"{bivariate_folder}anndata{suffix}/Misty_Composition_Top25_Top10/misty_collectri_Factor3_Top25_{sample}_target_metrics_Paper.csv\", index=True)\n",
    "    misty.uns['interactions'].to_csv(f\"{bivariate_folder}anndata{suffix}/Misty_Composition_Top25_Top10/misty_collectri_Factor3_Top25_{sample}_interactions_Paper.csv\", index=True)\n",
    "    # Save mudata object with results\n",
    "    mudata_file_linear = f\"{bivariate_folder}anndata{suffix}/Misty_Composition_Top25_Top10/misty_collectri_Factor3_Top25_{sample}_Paper.h5mu\"\n",
    "    misty.write(mudata_file_linear)\n",
    "    mudata_file_linear"
   ]
  },
  {
   "cell_type": "markdown",
   "id": "265e578a-5a9d-4e14-88bc-b7013d75747b",
   "metadata": {},
   "source": [
    "### Read and concatenate individual sample MISTy data"
   ]
  },
  {
   "cell_type": "code",
   "execution_count": 86,
   "id": "65408e3f-d689-44e1-b865-80c0582bfd14",
   "metadata": {},
   "outputs": [
    {
     "name": "stdout",
     "output_type": "stream",
     "text": [
      "L2P\n",
      "L19P\n",
      "L11P\n",
      "HRC5\n",
      "HRC6\n",
      "HRC8\n",
      "HRC10\n",
      "HRC11\n",
      "HRC12\n",
      "HRC13\n",
      "HRC16\n",
      "HRC17\n",
      "L5P\n",
      "L14P\n",
      "L24P\n",
      "L12P\n",
      "HRC2\n",
      "HRC4\n",
      "HRC18\n",
      "L3C\n",
      "L14C\n",
      "L2C\n",
      "CONTROL2\n"
     ]
    }
   ],
   "source": [
    "#Function to read MISTy data and concatenate results:\n",
    "samples = [\"L2P\",\"L19P\",\"L11P\",\"HRC5\",\"HRC6\",\"HRC8\",\"HRC10\",\"HRC11\",\"HRC12\",\"HRC13\",\"HRC16\",\"HRC17\",\"L5P\",\"L14P\",\"L24P\",\"L12P\",\"HRC2\",\"HRC4\",\"HRC18\",\"L3C\",\"L14C\",\"L2C\",\"CONTROL2\"]\n",
    "\n",
    "appended_data_target_metrics = []\n",
    "appended_data_interactions = []\n",
    "for sample in samples:\n",
    "    print(sample)\n",
    "    #Read sample data\n",
    "    import mudata\n",
    "    mudata = mudata.read_h5mu(f\"{bivariate_folder}anndata{suffix}/Misty_Composition_Top25_Top10/misty_collectri_Factor3_Top25_{sample}_Paper.h5mu\")\n",
    "    #Transform to MistyData\n",
    "    misty = MistyData(mudata)\n",
    "    misty.uns = mudata.uns\n",
    "    #Add sample column\n",
    "    misty.uns[\"target_metrics\"][\"sample\"] = sample\n",
    "    misty.uns[\"interactions\"][\"sample\"] = sample\n",
    "    #Add results\n",
    "    target_metrics = misty.uns[\"target_metrics\"]\n",
    "    interactions = misty.uns[\"interactions\"]\n",
    "    #Append samples\n",
    "    appended_data_target_metrics.append(target_metrics)\n",
    "    appended_data_interactions.append(interactions)\n",
    "#Transform data\n",
    "appended_data_target_metrics = pd.concat(appended_data_target_metrics)\n",
    "appended_data_interactions = pd.concat(appended_data_interactions)\n",
    "#Write appended results \n",
    "appended_data_target_metrics.to_csv(f\"{bivariate_folder}anndata{suffix}/Misty_Composition_Top25_Top10/misty_collectri_Factor3_Top25_Target_Metrics_Paper.csv\", index=True)\n",
    "appended_data_interactions.to_csv(f\"{bivariate_folder}anndata{suffix}/Misty_Composition_Top25_Top10/misty_collectri_Factor3_Top25_interactions_Paper.csv\", index=True)\n"
   ]
  },
  {
   "cell_type": "code",
   "execution_count": 87,
   "id": "439c8aa4-e94d-4a64-ba84-4fabe461a54a",
   "metadata": {},
   "outputs": [],
   "source": [
    "#Read MISTy explained variance (R2) results\n",
    "target_metrics = pd.read_csv(f\"{bivariate_folder}anndata{suffix}/Misty_Composition_Top25_Top10/misty_collectri_Factor3_Top25_Target_Metrics_Paper.csv\", index_col = 0)"
   ]
  },
  {
   "cell_type": "code",
   "execution_count": 88,
   "id": "f56935ca-798c-4e6f-880c-50006993a34c",
   "metadata": {},
   "outputs": [],
   "source": [
    "#Read MISTy importances results\n",
    "interactions = pd.read_csv(f\"{bivariate_folder}anndata{suffix}/Misty_Composition_Top25_Top10/misty_collectri_Factor3_Top25_interactions_Paper.csv\", index_col = 0)"
   ]
  },
  {
   "cell_type": "code",
   "execution_count": 91,
   "id": "660a6631-4927-4dbb-8f1a-2f3d9a2828a9",
   "metadata": {},
   "outputs": [],
   "source": [
    "#Add condition column to results\n",
    "target_metrics['Condition'] = np.where(target_metrics['sample'].isin(acute) == True, 'DAD_Acute', (np.where(target_metrics['sample'].isin(proliferative) == True, 'DAD_Proliferative', 'Control')))\n",
    "interactions['Condition'] = np.where(interactions['sample'].isin(acute) == True, 'DAD_Acute', (np.where(interactions['sample'].isin(proliferative) == True, 'DAD_Proliferative', 'Control')))"
   ]
  },
  {
   "cell_type": "code",
   "execution_count": 92,
   "id": "0143f95c-af78-4eb7-8334-25f4bb71e5a6",
   "metadata": {},
   "outputs": [],
   "source": [
    "#Sort explained variance (R2) by cell type and condition\n",
    "target_metrics = target_metrics.sort_values([\"target\",\"Condition\"], ascending=True)"
   ]
  },
  {
   "cell_type": "code",
   "execution_count": 93,
   "id": "c24f98ac-da91-4ac6-9888-3b4f2704d6da",
   "metadata": {},
   "outputs": [],
   "source": [
    "#Plot cell type abundance variance (R2) by condition\n",
    "target_metrics_plot = target_metrics.copy()\n",
    "target_metrics_plot = target_metrics_plot[[\"target\",\"multi_R2\",\"Condition\"]]"
   ]
  },
  {
   "cell_type": "code",
   "execution_count": 94,
   "id": "b045dacc-b5a4-477d-9c15-379c9628e469",
   "metadata": {},
   "outputs": [],
   "source": [
    "#Order cell types by explained variance (median R2)\n",
    "targetmetricsorder = target_metrics_plot.groupby('target')['multi_R2'].median().sort_values(ascending = False).index\n",
    "targetmetrics_order = {nm:ix for ix,nm in enumerate(targetmetricsorder)} # generated\n",
    "target_metrics_plot_order = target_metrics_plot.sort_values(by='target', key=lambda nm: nm.map(targetmetrics_order))"
   ]
  },
  {
   "cell_type": "code",
   "execution_count": 97,
   "id": "7662df8a-0413-454f-b98a-c13aeac4a027",
   "metadata": {},
   "outputs": [
    {
     "data": {
      "text/plain": [
       "0.2114663724048122"
      ]
     },
     "execution_count": 97,
     "metadata": {},
     "output_type": "execute_result"
    }
   ],
   "source": [
    "#Compute mean explained variance (R2)\n",
    "target_metrics_plot_order[\"multi_R2\"].mean()"
   ]
  },
  {
   "cell_type": "markdown",
   "id": "5f17d880-8cda-4b67-84b6-a0054e792b90",
   "metadata": {},
   "source": [
    "## Plot variance of cell type abundance (R2) explained by the predictive model"
   ]
  },
  {
   "cell_type": "markdown",
   "id": "ebffe2bd-115c-4e79-a3a7-8294e7efc75f",
   "metadata": {},
   "source": [
    "<div class=\"alert alert-info\">\n",
    "<b>Paper Figure!</b>\n",
    "Plot Figure S3\n",
    "</div>"
   ]
  },
  {
   "cell_type": "code",
   "execution_count": 98,
   "id": "f70a5788-b8a2-4e19-aea5-ce7f0ddafbf5",
   "metadata": {
    "scrolled": true
   },
   "outputs": [],
   "source": [
    "#Plot R2 across disease progression\n",
    "sns.set(rc={\"figure.figsize\":(9, 6)})\n",
    "sns.set_style(\"whitegrid\")\n",
    "sns.set_context(\"poster\")\n",
    "with plt.rc_context():  # Use this to set figure params like size and dpi\n",
    "    g=sns.catplot(data=target_metrics_plot, x=\"Condition\", y=\"multi_R2\", col=\"target\", kind=\"box\", col_wrap=9, palette=sns.color_palette(['#ff7f0e','#1f77b4','#2ca02c']))\n",
    "    g.set_titles(\"{col_name}\")\n",
    "    g.tick_params(axis='x', labelrotation=90)\n",
    "    plt.savefig(f\"{bivariate_folder}anndata{suffix}/Misty_Composition_Top25_Top10/misty_collectri_Factor3_Top25_Target_Metrics_multiR2_Facet_Paper.png\",dpi=300, format=\"png\",bbox_inches='tight')\n",
    "    plt.close()"
   ]
  },
  {
   "cell_type": "markdown",
   "id": "6b3d745d-8a5b-404c-94d3-df28d59ddff0",
   "metadata": {},
   "source": [
    "<div class=\"alert alert-info\">\n",
    "<b>Paper Figure!</b>\n",
    "Plot Top Panel Figure 3F\n",
    "</div>"
   ]
  },
  {
   "cell_type": "code",
   "execution_count": 99,
   "id": "da9bce6d-94e9-4d55-a8d0-3644f5f3e82d",
   "metadata": {},
   "outputs": [],
   "source": [
    "#Plot R2\n",
    "sns.set(rc={\"figure.figsize\":(10, 7)})\n",
    "sns.set_style(\"whitegrid\")\n",
    "with plt.rc_context():  # Use this to set figure params like size and dpi\n",
    "    ax=sns.boxplot(x='target', y='multi_R2', data=target_metrics_plot_order, color='grey')\n",
    "    ax.tick_params(axis='x', labelrotation=90)\n",
    "    plt.savefig(f\"{bivariate_folder}anndata{suffix}/Misty_Composition_Top25_Top10/misty_collectri_Factor3_Top25_Target_Metrics_multiR2_vertical_ordered_median_Paper.png\",dpi=300, format=\"png\", bbox_inches='tight')\n",
    "    plt.close()"
   ]
  },
  {
   "cell_type": "markdown",
   "id": "6d108c75-5a61-42d2-ad97-c55b9e50baf7",
   "metadata": {},
   "source": [
    "## Plot predictive performance contribution of LRIs & TFs"
   ]
  },
  {
   "cell_type": "code",
   "execution_count": 100,
   "id": "557a5cb9-8800-4455-b0da-65892dd1eeca",
   "metadata": {},
   "outputs": [],
   "source": [
    "#Plot predictive performance contribution of each view\n",
    "target_metrics_plot_view = target_metrics.copy()\n",
    "target_metrics_plot_view = target_metrics_plot_view[[\"TFs\",\"LR\",\"Condition\"]]\n",
    "target_metrics_plot_view_long = pd.melt(target_metrics_plot_view, \"Condition\", var_name=\"view\", value_name=\"Contribution\")"
   ]
  },
  {
   "cell_type": "markdown",
   "id": "38443c67-2397-4c64-94f5-ea1277f72f02",
   "metadata": {},
   "source": [
    "<div class=\"alert alert-info\">\n",
    "<b>Paper Figure!</b>\n",
    "Plot Panel Figure 3F\n",
    "</div>"
   ]
  },
  {
   "cell_type": "code",
   "execution_count": 101,
   "id": "cf8157d0-c98c-462e-9a8c-beb8d481f72f",
   "metadata": {},
   "outputs": [],
   "source": [
    "#Plot contribution\n",
    "sns.set(rc={\"figure.figsize\":(6, 6)})\n",
    "sns.set_style(\"whitegrid\")\n",
    "with plt.rc_context():  # Use this to set figure params like size and dpi\n",
    "    ax = sns.catplot(x=\"Condition\", hue=\"view\", y=\"Contribution\", data=target_metrics_plot_view_long, kind=\"box\", palette=sns.color_palette(['#e377c2','#17becf']))\n",
    "    ax.tick_params(axis='x', labelrotation=90)\n",
    "    plt.savefig(f\"{bivariate_folder}anndata{suffix}/Misty_Composition_Top25_Top10/misty_collectri_Factor3_Top25_Target_Metrics_View_Contribution_Paper.png\",dpi=300, format=\"png\",bbox_inches='tight')\n",
    "    plt.close()"
   ]
  },
  {
   "cell_type": "markdown",
   "id": "a9f5cf70-ff45-459c-ad29-ac3c232f4605",
   "metadata": {},
   "source": [
    "## Plot MISTy model predictor importances per cell type"
   ]
  },
  {
   "cell_type": "code",
   "execution_count": 102,
   "id": "0dfbfc13-aa95-49e2-9631-d21b7db6c4fe",
   "metadata": {},
   "outputs": [],
   "source": [
    "#Sort importances by cell type and condition\n",
    "interactions = interactions.sort_values([\"target\",\"Condition\"], ascending=True)"
   ]
  },
  {
   "cell_type": "code",
   "execution_count": 103,
   "id": "9d7ff397-2ec9-40c6-b936-3b02b52b3488",
   "metadata": {},
   "outputs": [
    {
     "data": {
      "text/html": [
       "<div>\n",
       "<style scoped>\n",
       "    .dataframe tbody tr th:only-of-type {\n",
       "        vertical-align: middle;\n",
       "    }\n",
       "\n",
       "    .dataframe tbody tr th {\n",
       "        vertical-align: top;\n",
       "    }\n",
       "\n",
       "    .dataframe thead th {\n",
       "        text-align: right;\n",
       "    }\n",
       "</style>\n",
       "<table border=\"1\" class=\"dataframe\">\n",
       "  <thead>\n",
       "    <tr style=\"text-align: right;\">\n",
       "      <th></th>\n",
       "      <th>target</th>\n",
       "      <th>predictor</th>\n",
       "      <th>view</th>\n",
       "      <th>importances</th>\n",
       "      <th>sample</th>\n",
       "      <th>Condition</th>\n",
       "    </tr>\n",
       "  </thead>\n",
       "  <tbody>\n",
       "    <tr>\n",
       "      <th>270</th>\n",
       "      <td>AT0</td>\n",
       "      <td>MZF1</td>\n",
       "      <td>TFs</td>\n",
       "      <td>-1.139719</td>\n",
       "      <td>L3C</td>\n",
       "      <td>Control</td>\n",
       "    </tr>\n",
       "    <tr>\n",
       "      <th>271</th>\n",
       "      <td>AT0</td>\n",
       "      <td>SMAD2</td>\n",
       "      <td>TFs</td>\n",
       "      <td>1.930187</td>\n",
       "      <td>L3C</td>\n",
       "      <td>Control</td>\n",
       "    </tr>\n",
       "    <tr>\n",
       "      <th>272</th>\n",
       "      <td>AT0</td>\n",
       "      <td>BHLHA15</td>\n",
       "      <td>TFs</td>\n",
       "      <td>-1.028144</td>\n",
       "      <td>L3C</td>\n",
       "      <td>Control</td>\n",
       "    </tr>\n",
       "    <tr>\n",
       "      <th>273</th>\n",
       "      <td>AT0</td>\n",
       "      <td>SREBF2</td>\n",
       "      <td>TFs</td>\n",
       "      <td>-2.410259</td>\n",
       "      <td>L3C</td>\n",
       "      <td>Control</td>\n",
       "    </tr>\n",
       "    <tr>\n",
       "      <th>274</th>\n",
       "      <td>AT0</td>\n",
       "      <td>SMAD3</td>\n",
       "      <td>TFs</td>\n",
       "      <td>-3.771994</td>\n",
       "      <td>L3C</td>\n",
       "      <td>Control</td>\n",
       "    </tr>\n",
       "    <tr>\n",
       "      <th>...</th>\n",
       "      <td>...</td>\n",
       "      <td>...</td>\n",
       "      <td>...</td>\n",
       "      <td>...</td>\n",
       "      <td>...</td>\n",
       "      <td>...</td>\n",
       "    </tr>\n",
       "    <tr>\n",
       "      <th>2803</th>\n",
       "      <td>pre-TB secretory</td>\n",
       "      <td>VIM^CD44</td>\n",
       "      <td>LR</td>\n",
       "      <td>-1.716877</td>\n",
       "      <td>HRC17</td>\n",
       "      <td>DAD_Proliferative</td>\n",
       "    </tr>\n",
       "    <tr>\n",
       "      <th>2804</th>\n",
       "      <td>pre-TB secretory</td>\n",
       "      <td>MMP2^PECAM1</td>\n",
       "      <td>LR</td>\n",
       "      <td>1.426090</td>\n",
       "      <td>HRC17</td>\n",
       "      <td>DAD_Proliferative</td>\n",
       "    </tr>\n",
       "    <tr>\n",
       "      <th>2805</th>\n",
       "      <td>pre-TB secretory</td>\n",
       "      <td>S100A8^AGER</td>\n",
       "      <td>LR</td>\n",
       "      <td>-3.382807</td>\n",
       "      <td>HRC17</td>\n",
       "      <td>DAD_Proliferative</td>\n",
       "    </tr>\n",
       "    <tr>\n",
       "      <th>2806</th>\n",
       "      <td>pre-TB secretory</td>\n",
       "      <td>S100A8^ITGB2</td>\n",
       "      <td>LR</td>\n",
       "      <td>-2.210114</td>\n",
       "      <td>HRC17</td>\n",
       "      <td>DAD_Proliferative</td>\n",
       "    </tr>\n",
       "    <tr>\n",
       "      <th>2807</th>\n",
       "      <td>pre-TB secretory</td>\n",
       "      <td>FBLN1^ITGB1</td>\n",
       "      <td>LR</td>\n",
       "      <td>2.826622</td>\n",
       "      <td>HRC17</td>\n",
       "      <td>DAD_Proliferative</td>\n",
       "    </tr>\n",
       "  </tbody>\n",
       "</table>\n",
       "<p>55890 rows × 6 columns</p>\n",
       "</div>"
      ],
      "text/plain": [
       "                target     predictor view  importances sample  \\\n",
       "270                AT0          MZF1  TFs    -1.139719    L3C   \n",
       "271                AT0         SMAD2  TFs     1.930187    L3C   \n",
       "272                AT0       BHLHA15  TFs    -1.028144    L3C   \n",
       "273                AT0        SREBF2  TFs    -2.410259    L3C   \n",
       "274                AT0         SMAD3  TFs    -3.771994    L3C   \n",
       "...                ...           ...  ...          ...    ...   \n",
       "2803  pre-TB secretory      VIM^CD44   LR    -1.716877  HRC17   \n",
       "2804  pre-TB secretory   MMP2^PECAM1   LR     1.426090  HRC17   \n",
       "2805  pre-TB secretory   S100A8^AGER   LR    -3.382807  HRC17   \n",
       "2806  pre-TB secretory  S100A8^ITGB2   LR    -2.210114  HRC17   \n",
       "2807  pre-TB secretory   FBLN1^ITGB1   LR     2.826622  HRC17   \n",
       "\n",
       "              Condition  \n",
       "270             Control  \n",
       "271             Control  \n",
       "272             Control  \n",
       "273             Control  \n",
       "274             Control  \n",
       "...                 ...  \n",
       "2803  DAD_Proliferative  \n",
       "2804  DAD_Proliferative  \n",
       "2805  DAD_Proliferative  \n",
       "2806  DAD_Proliferative  \n",
       "2807  DAD_Proliferative  \n",
       "\n",
       "[55890 rows x 6 columns]"
      ]
     },
     "execution_count": 103,
     "metadata": {},
     "output_type": "execute_result"
    }
   ],
   "source": [
    "interactions"
   ]
  },
  {
   "cell_type": "code",
   "execution_count": 104,
   "id": "6e219b10-b40c-43fc-898c-b528fe265c01",
   "metadata": {
    "scrolled": true
   },
   "outputs": [],
   "source": [
    "##Compute median importance for each cell type per predictor \n",
    "median_imp = interactions.groupby(['target', 'predictor'])[['importances']].apply(np.median)\n",
    "median_imp.name = \"Median_Importance\"\n",
    "interactions_median = interactions.join(median_imp, on = ['target','predictor'])"
   ]
  },
  {
   "cell_type": "code",
   "execution_count": 105,
   "id": "00aef44d-f104-4770-99cd-2af9ff472568",
   "metadata": {},
   "outputs": [],
   "source": [
    "#Drop duplicated rows\n",
    "interactions_median[\"key\"] = interactions_median[\"target\"]+\"_\"+interactions_median[\"predictor\"]\n",
    "interactions_median = interactions_median.drop_duplicates(subset='key', keep=\"first\")\n",
    "interactions_median = interactions_median.drop(['sample','importances'], axis=1)"
   ]
  },
  {
   "cell_type": "code",
   "execution_count": 106,
   "id": "74726adc-e484-434b-9411-74264ad54231",
   "metadata": {},
   "outputs": [],
   "source": [
    "#Sort by absolute Median importance\n",
    "interactions_median = interactions_median.sort_values([\"Median_Importance\"], key=abs, ascending=False)"
   ]
  },
  {
   "cell_type": "code",
   "execution_count": 107,
   "id": "73da9658-1700-4668-99dc-8bda6ec2e3c6",
   "metadata": {},
   "outputs": [],
   "source": [
    "#Select view\n",
    "interactions_TF = interactions_median.loc[interactions_median['view'].isin(['TFs'])]\n",
    "interactions_LR = interactions_median.loc[interactions_median['view'].isin(['LR'])]"
   ]
  },
  {
   "cell_type": "code",
   "execution_count": 108,
   "id": "a4cc331a-bcd9-43a7-98d4-df0ebc479f43",
   "metadata": {},
   "outputs": [],
   "source": [
    "#Sort by absolute Median importance\n",
    "interactions_TF = interactions_TF.sort_values([\"Median_Importance\"], key=abs, ascending=False)\n",
    "#Sort by absolute Median importance\n",
    "interactions_LR = interactions_LR.sort_values([\"Median_Importance\"], key=abs, ascending=False)"
   ]
  },
  {
   "cell_type": "code",
   "execution_count": 109,
   "id": "9f788259-645e-4a2b-9a30-7db9b7be6b2d",
   "metadata": {
    "scrolled": true
   },
   "outputs": [],
   "source": [
    "#Select top 5 TF predictors per target\n",
    "n_markers=5\n",
    "interactions_TF_Top = interactions_TF.groupby('target').head(n_markers).groupby('target')['predictor'].apply(lambda x: list(x)).to_dict()"
   ]
  },
  {
   "cell_type": "code",
   "execution_count": 110,
   "id": "e365e978-ab71-408c-8b89-491c4db2028d",
   "metadata": {
    "scrolled": true
   },
   "outputs": [],
   "source": [
    "#Select all TF predictors (top 10 TFs enriched per condition) per target\n",
    "n_markers=30\n",
    "interactions_TF_Top30 = interactions_TF.groupby('target').head(n_markers).groupby('target')['predictor'].apply(lambda x: list(x)).to_dict()"
   ]
  },
  {
   "cell_type": "code",
   "execution_count": 111,
   "id": "3d3ef382-2293-48f5-8f72-01db5d9d5bed",
   "metadata": {
    "scrolled": true
   },
   "outputs": [],
   "source": [
    "#Select ALL LRI predictors (top 25 LRIs defininf Factor3) per target\n",
    "n_markers=25\n",
    "interactions_LR_All = interactions_LR.groupby('target').head(n_markers).groupby('target')['predictor'].apply(lambda x: list(x)).to_dict()"
   ]
  },
  {
   "cell_type": "code",
   "execution_count": 112,
   "id": "deba784f-1d41-4a61-ac97-13a798c946bd",
   "metadata": {
    "scrolled": true
   },
   "outputs": [],
   "source": [
    "#Select top 5 LRIs predictors per target\n",
    "n_markers=5\n",
    "interactions_LR_Top = interactions_LR.groupby('target').head(n_markers).groupby('target')['predictor'].apply(lambda x: list(x)).to_dict()"
   ]
  },
  {
   "cell_type": "code",
   "execution_count": 113,
   "id": "78978b78-56a9-4cd5-800c-f11f937eea8b",
   "metadata": {},
   "outputs": [],
   "source": [
    "#Create directory for MISTy model importances results\n",
    "directory = f'{bivariate_folder}anndata{suffix}/Misty_Composition_Top25_Top10/Celltypes_tvalues'\n",
    "# Check if the directory exists\n",
    "if not os.path.exists(directory):\n",
    "    # If it doesn't exist, create it\n",
    "    os.makedirs(directory)"
   ]
  },
  {
   "cell_type": "markdown",
   "id": "ae0fb60f-ec6a-48c6-9f48-73ec0ba8d4e3",
   "metadata": {},
   "source": [
    "## Plot Top 5 LRIs and Top 5 TFs predictors for each cell type"
   ]
  },
  {
   "cell_type": "markdown",
   "id": "30047d49-e7f6-44bc-99d8-d55e2d86cb5f",
   "metadata": {},
   "source": [
    "<div class=\"alert alert-info\">\n",
    "<b>Paper Figure!</b>\n",
    "Plot Panel Figure 3F, Panel Figure S7 and Panel Figure S8B\n",
    "</div>"
   ]
  },
  {
   "cell_type": "code",
   "execution_count": 114,
   "id": "5f13fe3e-89ba-4921-a952-c6dba6bb0402",
   "metadata": {
    "scrolled": true
   },
   "outputs": [
    {
     "name": "stdout",
     "output_type": "stream",
     "text": [
      "AT0\n",
      "AT1\n",
      "AT2\n",
      "AT2 proliferating\n",
      "Adventitial fibroblasts\n",
      "Alveolar Mph CCL3+\n",
      "Alveolar Mph MT-positive\n",
      "Alveolar Mph proliferating\n",
      "Alveolar fibroblasts\n",
      "Alveolar macrophages\n",
      "B cells\n",
      "Basal resting\n",
      "CD4 T cells\n",
      "CD8 T cells\n",
      "Classical monocytes\n",
      "Club (non-nasal)\n",
      "DC1\n",
      "DC2\n",
      "Deuterosomal\n",
      "EC aerocyte capillary\n",
      "EC arterial\n",
      "EC general capillary\n",
      "EC venous pulmonary\n",
      "EC venous systemic\n",
      "Interstitial Mph perivascular\n",
      "Lymphatic EC differentiating\n",
      "Lymphatic EC mature\n",
      "Mast cells\n",
      "Mesothelium\n",
      "Migratory DCs\n",
      "Monocyte-derived Mph\n",
      "Multiciliated (non-nasal)\n",
      "Myofibroblasts\n",
      "NK cells\n",
      "Non-classical monocytes\n",
      "Peribronchial fibroblasts\n",
      "Pericytes\n",
      "Plasma cells\n",
      "Plasmacytoid DCs\n",
      "SM activated stress response\n",
      "Smooth muscle\n",
      "Subpleural fibroblasts\n",
      "Suprabasal\n",
      "T cells proliferating\n",
      "pre-TB secretory\n"
     ]
    }
   ],
   "source": [
    "#Plot Top 5 LRIs and Top 5 TFs predictors for each cell type\n",
    "celltypes = sorted(list(set(interactions[\"target\"])))\n",
    "\n",
    "for celltype in celltypes:\n",
    "    print(celltype)\n",
    "    #Select Top 5 predctive interactions per cell type\n",
    "    plot_interactions = interactions_TF_Top[celltype] + interactions_LR_Top[celltype]\n",
    "    plot_interactions = list(set(plot_interactions)) #remove duplicates\n",
    "    TF_LR_plot = interactions.loc[(interactions['target'] == celltype) & (interactions['predictor'].isin(plot_interactions))]\n",
    "    TF_LR_plot = TF_LR_plot.sort_values([\"importances\"], key=abs, ascending=False)\n",
    "    ##Compute median importance \n",
    "    median_imp_TF_LR = TF_LR_plot.groupby(['predictor'])[['importances']].apply(np.median)\n",
    "    median_imp_TF_LR.name = \"Median_Importance\"\n",
    "    TF_LR_plot_view_median = TF_LR_plot.join(median_imp_TF_LR, on = ['predictor'])\n",
    "    #Sort by absolute Median importance\n",
    "    TF_LR_plot_view_median = TF_LR_plot_view_median.sort_values([\"Median_Importance\"], key=abs, ascending=False)\n",
    "    #Plot importances\n",
    "    sns.set(rc={\"figure.figsize\":(4, 4)})\n",
    "    sns.set_style(\"whitegrid\")\n",
    "    with plt.rc_context(): \n",
    "        sns.set_style(\"whitegrid\")\n",
    "        ax=sns.boxplot(x='predictor', y='importances', data=TF_LR_plot_view_median, color='grey')#, palette=sns.color_palette(['#17becf','#17becf','#17becf','#17becf','#17becf','#e377c2','#e377c2','#e377c2','#e377c2','#e377c2']))\n",
    "        ax.tick_params(axis='x', labelrotation=90)\n",
    "        plt.savefig(f\"{bivariate_folder}anndata{suffix}/Misty_Composition_Top25_Top10/Celltypes_tvalues/{celltype}_tvalues_Paper.png\",dpi=300, format=\"png\",bbox_inches='tight')\n",
    "        plt.close()"
   ]
  },
  {
   "cell_type": "markdown",
   "id": "9e324a83-9a82-41c0-b337-e6e2a108ea31",
   "metadata": {},
   "source": [
    "## Plot LRIs and TFs predictors for each cell type per condition"
   ]
  },
  {
   "cell_type": "markdown",
   "id": "3f653e60-e7b3-44c3-b95b-882845bfb98a",
   "metadata": {},
   "source": [
    "<div class=\"alert alert-info\">\n",
    "<b>Paper Figure!</b>\n",
    "Plot Panel Figure S7\n",
    "</div>"
   ]
  },
  {
   "cell_type": "code",
   "execution_count": 115,
   "id": "6cabb1d3-29b3-4080-a863-11764db4f760",
   "metadata": {
    "scrolled": true
   },
   "outputs": [
    {
     "name": "stdout",
     "output_type": "stream",
     "text": [
      "AT0\n",
      "AT1\n",
      "AT2\n",
      "AT2 proliferating\n",
      "Adventitial fibroblasts\n",
      "Alveolar Mph CCL3+\n",
      "Alveolar Mph MT-positive\n",
      "Alveolar Mph proliferating\n",
      "Alveolar fibroblasts\n",
      "Alveolar macrophages\n",
      "B cells\n",
      "Basal resting\n",
      "CD4 T cells\n",
      "CD8 T cells\n",
      "Classical monocytes\n",
      "Club (non-nasal)\n",
      "DC1\n",
      "DC2\n",
      "Deuterosomal\n",
      "EC aerocyte capillary\n",
      "EC arterial\n",
      "EC general capillary\n",
      "EC venous pulmonary\n",
      "EC venous systemic\n",
      "Interstitial Mph perivascular\n",
      "Lymphatic EC differentiating\n",
      "Lymphatic EC mature\n",
      "Mast cells\n",
      "Mesothelium\n",
      "Migratory DCs\n",
      "Monocyte-derived Mph\n",
      "Multiciliated (non-nasal)\n",
      "Myofibroblasts\n",
      "NK cells\n",
      "Non-classical monocytes\n",
      "Peribronchial fibroblasts\n",
      "Pericytes\n",
      "Plasma cells\n",
      "Plasmacytoid DCs\n",
      "SM activated stress response\n",
      "Smooth muscle\n",
      "Subpleural fibroblasts\n",
      "Suprabasal\n",
      "T cells proliferating\n",
      "pre-TB secretory\n"
     ]
    }
   ],
   "source": [
    "#Plot LRIs and all TFs predictors for each cell type per condition\n",
    "celltypes = sorted(list(set(interactions[\"target\"])))\n",
    "\n",
    "for celltype in celltypes:\n",
    "    print(celltype)\n",
    "    #Select Top interactions in Peribronchial fibroblasts\n",
    "    plot_interactions = interactions_TF_Top30[celltype] + interactions_LR_All[celltype]\n",
    "    plot_interactions = list(set(plot_interactions)) #remove duplicates\n",
    "    TF_LR_plot = interactions.loc[(interactions['target'] == celltype) & (interactions['predictor'].isin(plot_interactions))]\n",
    "    TF_LR_plot = TF_LR_plot.sort_values([\"importances\"], key=abs, ascending=False)\n",
    "    ##Computed median importance \n",
    "    median_imp_TF_LR = TF_LR_plot.groupby(['predictor'])[['importances']].apply(np.median)\n",
    "    median_imp_TF_LR.name = \"Median_Importance\"\n",
    "    TF_LR_plot_view_median = TF_LR_plot.join(median_imp_TF_LR, on = ['predictor'])\n",
    "    #Sort by absolute Median importance\n",
    "    TF_LR_plot_view_median = TF_LR_plot_view_median.sort_values([\"Median_Importance\"], key=abs, ascending=False)\n",
    "    #Select TFs and LR views separately\n",
    "    intra_plot_view_median = TF_LR_plot_view_median[TF_LR_plot_view_median[\"view\"] == \"intra\"]\n",
    "    TF_plot_view_median = TF_LR_plot_view_median[TF_LR_plot_view_median[\"view\"] == \"TFs\"]\n",
    "    LR_plot_view_median = TF_LR_plot_view_median[TF_LR_plot_view_median[\"view\"] == \"LR\"]  \n",
    "    #Prepare for facet plotting\n",
    "    intra_plot_view_median_facet = intra_plot_view_median[[\"predictor\",\"importances\",\"Condition\"]]\n",
    "    TF_plot_view_median_facet = TF_plot_view_median[[\"predictor\",\"importances\",\"Condition\"]]\n",
    "    LR_plot_view_median_facet = LR_plot_view_median[[\"predictor\",\"importances\",\"Condition\"]]\n",
    "    #Sort by predictor Condition\n",
    "    intra_plot_view_median_facet = intra_plot_view_median_facet.sort_values([\"predictor\",\"Condition\"], ascending=True)\n",
    "    TF_plot_view_median_facet = TF_plot_view_median_facet.sort_values([\"predictor\",\"Condition\"], ascending=True)\n",
    "    LR_plot_view_median_facet = LR_plot_view_median_facet.sort_values([\"predictor\",\"Condition\"], ascending=True)\n",
    "\n",
    "    #Save plot\n",
    "    sns.set(rc={\"figure.figsize\":(9, 6)})\n",
    "    sns.set_style(\"whitegrid\")\n",
    "    sns.set_context(\"poster\")\n",
    "    with plt.rc_context():  \n",
    "        g=sns.catplot(data=TF_plot_view_median_facet, x=\"Condition\", y=\"importances\", col=\"predictor\", kind=\"box\", col_wrap=5, palette=sns.color_palette(['#ff7f0e','#1f77b4','#2ca02c']))\n",
    "        g.set_titles(\"{col_name}\")\n",
    "        g.tick_params(axis='x', labelrotation=90)\n",
    "        plt.savefig(f\"{bivariate_folder}anndata{suffix}/Misty_Composition_Top25_Top10/Celltypes_tvalues/{celltype}_tvalues_TF_Condition_Paper.png\",dpi=300, format=\"png\",bbox_inches='tight')\n",
    "        plt.close()\n",
    "\n",
    "    #Save plot\n",
    "    sns.set(rc={\"figure.figsize\":(9, 6)})\n",
    "    sns.set_style(\"whitegrid\")\n",
    "    sns.set_context(\"poster\")\n",
    "    with plt.rc_context(): \n",
    "        g=sns.catplot(data=LR_plot_view_median_facet, x=\"Condition\", y=\"importances\", col=\"predictor\", kind=\"box\", col_wrap=5, palette=sns.color_palette(['#ff7f0e','#1f77b4','#2ca02c']))\n",
    "        g.set_titles(\"{col_name}\")\n",
    "        g.tick_params(axis='x', labelrotation=90)\n",
    "        plt.savefig(f\"{bivariate_folder}anndata{suffix}/Misty_Composition_Top25_Top10/Celltypes_tvalues/{celltype}_tvalues_LR_Condition_Paper.png\",dpi=300, format=\"png\",bbox_inches='tight')\n",
    "        plt.close()\n"
   ]
  },
  {
   "cell_type": "markdown",
   "id": "027f8bb6-34a6-4985-bc67-3b77d9cc8013",
   "metadata": {},
   "source": [
    "# Intracellular signaling network in peribronchial fibroblasts\n",
    "\n",
    "We inferred intracellular signaling networks from prior knowledge by linking identified LRIs and TF activity scores. We used the coefficients ́ t-values of the predictive linear model for peribronchial fibroblasts abundance as input (LRIs) and output (TFs) nodes of the intracellular signaling network. Additionally, we obtained a prior knowledge network (PKN) with signed protein-protein interactions from Omnipath and used peribronchial fibroblasts specific gene expression computed with cell2location to calculate gene expression proportions within our target cell type, using those to generate weights for the nodes in the PKN."
   ]
  },
  {
   "cell_type": "code",
   "execution_count": 116,
   "id": "e7d317c2-bc01-427b-bb87-05be15dc270f",
   "metadata": {},
   "outputs": [],
   "source": [
    "celltype = \"Peribronchial fibroblasts\""
   ]
  },
  {
   "cell_type": "code",
   "execution_count": 117,
   "id": "e781ff61-486e-43ea-8b92-cab2bd0864ec",
   "metadata": {},
   "outputs": [],
   "source": [
    "#Select predictive scores in Peribronchial fibroblasts\n",
    "plot_interactions = source_markers_collectri_mlm_flat_list + interactions_LR_All[celltype]\n",
    "plot_interactions = list(set(plot_interactions)) #remove duplicates\n",
    "TF_LR_plot = interactions.loc[(interactions['target'] == celltype) & (interactions['predictor'].isin(plot_interactions))]\n",
    "TF_LR_plot = TF_LR_plot.sort_values([\"importances\"], key=abs, ascending=False)\n",
    "##Compute median importance \n",
    "median_imp_TF_LR = TF_LR_plot.groupby(['predictor'])[['importances']].apply(np.median)\n",
    "median_imp_TF_LR.name = \"Median_Importance\"\n",
    "TF_LR_plot_view_median = TF_LR_plot.join(median_imp_TF_LR, on = ['predictor'])\n",
    "#Sort by absolute Median importance\n",
    "TF_LR_plot_view_median = TF_LR_plot_view_median.sort_values([\"Median_Importance\"], key=abs, ascending=False)\n",
    "#Select TFs and LR views separately\n",
    "TF_plot_view_median = TF_LR_plot_view_median[TF_LR_plot_view_median[\"view\"] == \"TFs\"]\n",
    "LR_plot_view_median = TF_LR_plot_view_median[TF_LR_plot_view_median[\"view\"] == \"LR\"]  \n",
    "#Prepare for facet plotting\n",
    "TF_plot_view_median_facet = TF_plot_view_median[[\"predictor\",\"Median_Importance\"]]\n",
    "LR_plot_view_median_facet = LR_plot_view_median[[\"predictor\",\"Median_Importance\"]]\n",
    "#Sort by absolute median importance!!!\n",
    "TF_plot_view_median_facet = TF_plot_view_median_facet.sort_values([\"Median_Importance\"], key=abs, ascending=False) #key=abs, \n",
    "LR_plot_view_median_facet = LR_plot_view_median_facet.sort_values([\"Median_Importance\"], key=abs, ascending=False) #key=abs, \n",
    "#Drop duplicated rows\n",
    "TF_plot_view_median_facet = TF_plot_view_median_facet.drop_duplicates(subset='predictor', keep=\"first\")\n",
    "LR_plot_view_median_facet = LR_plot_view_median_facet.drop_duplicates(subset='predictor', keep=\"first\")"
   ]
  },
  {
   "cell_type": "code",
   "execution_count": 118,
   "id": "2f741780-9d9c-40ad-879b-b3fe8ff88577",
   "metadata": {},
   "outputs": [],
   "source": [
    "#Add receptor column\n",
    "LR_plot_view_median_facet['receptor'] = LR_plot_view_median_facet[\"predictor\"].str.split('^').str[1]"
   ]
  },
  {
   "cell_type": "code",
   "execution_count": 119,
   "id": "cc524001-db6b-4cec-b6d8-3cb3f857ed54",
   "metadata": {},
   "outputs": [],
   "source": [
    "#Drop duplicated receptor values (keeping the highest absolute score)\n",
    "LR_plot_view_median_facet = LR_plot_view_median_facet.drop_duplicates(subset='receptor', keep=\"first\")"
   ]
  },
  {
   "cell_type": "code",
   "execution_count": 120,
   "id": "e12e795b-ae58-49f0-a20b-fd0144e421ac",
   "metadata": {},
   "outputs": [],
   "source": [
    "#Select median importance (median OLS t-value) as input node\n",
    "LR_dict = LR_plot_view_median_facet.set_index('receptor')['Median_Importance'].to_dict()"
   ]
  },
  {
   "cell_type": "code",
   "execution_count": 121,
   "id": "6bb0d309-2028-485d-8957-eccc6288f960",
   "metadata": {},
   "outputs": [],
   "source": [
    "#Utility function to select top n interactions\n",
    "def select_top_n(d, n=None):\n",
    "    d = dict(sorted(d.items(), key=lambda item: abs(item[1]), reverse=True))\n",
    "    return {k: v for i, (k, v) in enumerate(d.items()) if i < n}"
   ]
  },
  {
   "cell_type": "code",
   "execution_count": 122,
   "id": "ee482871-53d6-47e5-a909-1e35371f5637",
   "metadata": {},
   "outputs": [],
   "source": [
    "#Select input scores\n",
    "input_scores = select_top_n(LR_dict, n=25)"
   ]
  },
  {
   "cell_type": "code",
   "execution_count": 123,
   "id": "1d330d31-dce3-4e11-be3f-48f3f1bb7893",
   "metadata": {},
   "outputs": [],
   "source": [
    "#Select output scores\n",
    "TF_dict = TF_plot_view_median_facet.set_index('predictor')['Median_Importance'].to_dict()\n",
    "output_scores = select_top_n(TF_dict, n=30)"
   ]
  },
  {
   "cell_type": "markdown",
   "id": "4ded51ee-3123-4734-b2b1-9477a0ca99ce",
   "metadata": {},
   "source": [
    "### Generate a Prior Knowledge Network (PKN)\n",
    "We obtain protein-protein interactions (ppi) from OmniPath, keeping those that are of high quality and convert them into a knowledge graph."
   ]
  },
  {
   "cell_type": "code",
   "execution_count": 124,
   "id": "12ed9d52-0194-4aad-8895-3ca8165d1d2a",
   "metadata": {},
   "outputs": [],
   "source": [
    "#Obtain ppi network\n",
    "ppis = op.interactions.OmniPath().get(genesymbols = True)\n",
    "\n",
    "ppis['mor'] = ppis['is_stimulation'].astype(int) - ppis['is_inhibition'].astype(int)\n",
    "ppis = ppis[(ppis['mor'] != 0) & (ppis['curation_effort'] >= 5) & ppis['consensus_direction']]\n",
    "\n",
    "input_pkn = ppis[['source_genesymbol', 'mor', 'target_genesymbol']]\n",
    "input_pkn.columns = ['source', 'mor', 'target']"
   ]
  },
  {
   "cell_type": "code",
   "execution_count": 126,
   "id": "c7551f91-695f-48d0-97d4-9766bd6c7621",
   "metadata": {},
   "outputs": [
    {
     "name": "stderr",
     "output_type": "stream",
     "text": [
      "Importing network...\n",
      "done.\n",
      " - Nodes x Edges: (3115, 6157)\n",
      " - Provided inputs included in the prior network: 10/13\n",
      " - Provided outputs included in the network: 13/29\n",
      "Performing reachability analysis...\n",
      "done.\n",
      " - Selected inputs: 1/10.\n",
      " - Selected outputs: 12/13.\n",
      " - Final size of the prior graph: (534, 1997).\n"
     ]
    }
   ],
   "source": [
    "# convert the PPI network into a knowledge graph\n",
    "prior_graph = li.mt.build_prior_network(input_pkn, input_scores, output_scores, verbose=True)"
   ]
  },
  {
   "cell_type": "markdown",
   "id": "bd002dc2-af66-4d2c-ab73-3a36ff2263af",
   "metadata": {},
   "source": [
    "### Use peribronchial fibroblasts (PBFs) celltype specific gene expression computed with cell2location (used for NCEM analysis)"
   ]
  },
  {
   "cell_type": "code",
   "execution_count": 127,
   "id": "3d25316a-1fc9-4059-be57-54aac44d2aff",
   "metadata": {},
   "outputs": [],
   "source": [
    "#Read cell ype specific gene expression (use computing cluster)\n",
    "adata_celltype_expr_file = f\"{run_name}/ad_vis_post_distrib_finest_cell_type_gene_expr.h5ad\"\n",
    "adata_vis_celltype_expr = sc.read_h5ad(adata_celltype_expr_file)"
   ]
  },
  {
   "cell_type": "code",
   "execution_count": 128,
   "id": "e4914512-01a4-4780-bd7b-7d5f21249243",
   "metadata": {},
   "outputs": [],
   "source": [
    "#Change ensembl gene ids to Hugo symbols\n",
    "adata_vis_celltype_expr.var['gene_ids'] = adata_vis_celltype_expr.var_names\n",
    "adata_vis_celltype_expr.var.set_index('SYMBOL', drop=False, inplace=True)"
   ]
  },
  {
   "cell_type": "code",
   "execution_count": 129,
   "id": "9582f11a-c8b2-419d-82b6-febe3842a0b9",
   "metadata": {},
   "outputs": [],
   "source": [
    "#Extract cell type specific gene expression\n",
    "PB_expr = adata_vis_celltype_expr.to_df(layer=\"Peribronchial fibroblasts\")"
   ]
  },
  {
   "cell_type": "code",
   "execution_count": 130,
   "id": "630ab498-aa3f-46a1-b8ff-cfe608621e31",
   "metadata": {},
   "outputs": [],
   "source": [
    "#Create directory to save PBFs gene expression\n",
    "directory = f'{bivariate_folder}anndata{suffix}/Misty_Composition_Top25_Top10/Corneto'\n",
    "# Check if the directory exists\n",
    "if not os.path.exists(directory):\n",
    "    # If it doesn't exist, create it\n",
    "    os.makedirs(directory)"
   ]
  },
  {
   "cell_type": "code",
   "execution_count": 131,
   "id": "91f97fca-1d70-46c6-bd36-be2e4f1520e0",
   "metadata": {},
   "outputs": [],
   "source": [
    "#Save PBFs gene expression results\n",
    "PB_expr.to_csv(f\"{bivariate_folder}anndata{suffix}/Misty_Composition_Top25_Top10/Corneto/PB_expr_Paper.csv\", index=True) "
   ]
  },
  {
   "cell_type": "markdown",
   "id": "7ef96fa3-3c92-4837-873a-9c365c2529e4",
   "metadata": {},
   "source": [
    "### Calculate node weights\n",
    "Calculate gene expression proportions within peribronchial firboblasts to use those as node weights in the network."
   ]
  },
  {
   "cell_type": "code",
   "execution_count": 132,
   "id": "76d4f124-a176-4b2d-a83c-7405b3c3d34b",
   "metadata": {},
   "outputs": [],
   "source": [
    "##Transform DF to sparse matrix\n",
    "from scipy import sparse\n",
    "sparse_PB = sparse.csr_matrix(PB_expr)"
   ]
  },
  {
   "cell_type": "code",
   "execution_count": 133,
   "id": "18e83aae-064c-4876-b7b3-11e9678cef4b",
   "metadata": {},
   "outputs": [],
   "source": [
    "node_weights = pd.DataFrame(sparse_PB.getnnz(axis=0) / PB_expr.shape[0], index=PB_expr.columns)\n",
    "node_weights = node_weights.rename(columns={0: 'props'})\n",
    "node_weights = node_weights['props'].to_dict()"
   ]
  },
  {
   "cell_type": "markdown",
   "id": "1824090d-33ab-4d73-8f73-39c989890654",
   "metadata": {},
   "source": [
    "## Find causal network\n",
    "We use CORNETO to infer a putative a putative causal network connecting LRIs to TFs in peribronchial fibroblasts."
   ]
  },
  {
   "cell_type": "code",
   "execution_count": null,
   "id": "b567f1b9-04ee-4ebc-b08c-1471b99ad838",
   "metadata": {},
   "outputs": [],
   "source": [
    "#Make sure the Graphviz executables are on your systems' PATH\n",
    "!export PATH=\"$PATH:/mnt/beegfs/cgarcia/.conda/envs/liana_env/bin/dot\""
   ]
  },
  {
   "cell_type": "code",
   "execution_count": 135,
   "id": "96cd0cc3-b596-4fc3-86c2-95537dad85b8",
   "metadata": {},
   "outputs": [
    {
     "data": {
      "text/html": [
       "\n",
       "        <table style='background-color:rgba(0, 0, 0, 0);'>\n",
       "        <tr>\n",
       "            <td><img src=\"data:image/jpeg;base64,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\" width=\"85px\" /></td>\n",
       "            <td>\n",
       "            <table>\n",
       "                <tr><td>Installed version:</td><td style='text-align:left'>v0.9.1-alpha.5 (latest: v1.0.0.dev0)</td></tr><tr><td>Available backends:</td><td style='text-align:left'>CVXPY v1.4.2</td></tr><tr><td>Default backend (corneto.K):</td><td style='text-align:left'>CVXPY</td></tr><tr><td>Installed solvers:</td><td style='text-align:left'>CBC, CLARABEL, ECOS, ECOS_BB, GUROBI, OSQP, SCIPY, SCS</td></tr><tr><td>Graphviz version:</td><td style='text-align:left'>v0.20.1</td></tr><tr><td>Repository:</td><td style='text-align:left'><a href=https://github.com/saezlab/corneto>https://github.com/saezlab/corneto</a></td></tr>\n",
       "            </table>\n",
       "            </td>\n",
       "        </tr>\n",
       "        </table>"
      ],
      "text/plain": [
       "<IPython.core.display.HTML object>"
      ]
     },
     "metadata": {},
     "output_type": "display_data"
    }
   ],
   "source": [
    "cn.info()"
   ]
  },
  {
   "cell_type": "code",
   "execution_count": 136,
   "id": "60abee5a-377e-44e5-9fc8-9476961217ba",
   "metadata": {
    "scrolled": true
   },
   "outputs": [
    {
     "name": "stderr",
     "output_type": "stream",
     "text": [
      "Total positive/negative scores of the inputs and outputs:\n",
      " - (-) input nodes: -4.849467754364014\n",
      " - (+) input nodes: 12.859615832567215\n",
      " - (-) output nodes: -15.347507238388062\n",
      " - (+) output nodes: 25.961055506020784\n",
      " - abs total (inputs + outputs): 59.017646331340075\n",
      "Building CORNETO problem...\n",
      "Solving with scipy...\n"
     ]
    },
    {
     "name": "stdout",
     "output_type": "stream",
     "text": [
      "===============================================================================\n",
      "                                     CVXPY                                     \n",
      "                                     v1.4.2                                    \n",
      "===============================================================================\n",
      "(CVXPY) Jul 16 02:27:17 PM: Your problem has 9670 variables, 31 constraints, and 0 parameters.\n",
      "(CVXPY) Jul 16 02:27:17 PM: It is compliant with the following grammars: DCP, DQCP\n",
      "(CVXPY) Jul 16 02:27:17 PM: (If you need to solve this problem multiple times, but with different data, consider using parameters.)\n",
      "(CVXPY) Jul 16 02:27:17 PM: CVXPY will first compile your problem; then, it will invoke a numerical solver to obtain a solution.\n",
      "(CVXPY) Jul 16 02:27:17 PM: Your problem is compiled with the CPP canonicalization backend.\n",
      "-------------------------------------------------------------------------------\n",
      "                                  Compilation                                  \n",
      "-------------------------------------------------------------------------------\n",
      "(CVXPY) Jul 16 02:27:17 PM: Compiling problem (target solver=SCIPY).\n",
      "(CVXPY) Jul 16 02:27:17 PM: Reduction chain: Dcp2Cone -> CvxAttr2Constr -> ConeMatrixStuffing -> SCIPY\n",
      "(CVXPY) Jul 16 02:27:17 PM: Applying reduction Dcp2Cone\n",
      "(CVXPY) Jul 16 02:27:18 PM: Applying reduction CvxAttr2Constr\n",
      "(CVXPY) Jul 16 02:27:18 PM: Applying reduction ConeMatrixStuffing\n",
      "(CVXPY) Jul 16 02:27:20 PM: Applying reduction SCIPY\n",
      "(CVXPY) Jul 16 02:27:20 PM: Finished problem compilation (took 2.364e+00 seconds).\n",
      "-------------------------------------------------------------------------------\n",
      "                                Numerical solver                               \n",
      "-------------------------------------------------------------------------------\n",
      "(CVXPY) Jul 16 02:27:20 PM: Invoking solver SCIPY  to obtain a solution.\n",
      "Running HiGHS 1.2.2 [date: 2022-08-26, git hash: n/a]\n",
      "Copyright (c) 2022 ERGO-Code under MIT licence terms\n",
      "Solver terminated with message: Optimization terminated successfully. (HiGHS Status 7: Optimal)\n",
      "-------------------------------------------------------------------------------\n",
      "                                    Summary                                    \n",
      "-------------------------------------------------------------------------------\n",
      "(CVXPY) Jul 16 02:27:23 PM: Problem status: optimal\n",
      "(CVXPY) Jul 16 02:27:23 PM: Optimal value: 7.649e+00\n",
      "Presolving model\n",
      "16112 rows, 9534 cols, 44165 nonzeros\n",
      "14541 rows, 8418 cols, 44147 nonzeros\n",
      "\n",
      "Solving MIP model with:\n",
      "   14541 rows\n",
      "   8418 cols (6245 binary, 0 integer, 0 implied int., 2173 continuous)\n",
      "   44147 nonzeros\n",
      "\n",
      "        Nodes      |    B&B Tree     |            Objective Bounds              |  Dynamic Constraints |       Work      \n",
      "     Proc. InQueue |  Leaves   Expl. | BestBound       BestSol              Gap |   Cuts   InLp Confl. | LpIters     Time\n",
      "\n",
      "         0       0         0   0.00%   -17.82146549    inf                  inf        0      0      0         0     0.4s\n",
      "         0       0         0   0.00%   -14.29916319    inf                  inf        0      0      6      1263     0.6s\n",
      " R       0       0         0   0.00%   -11.71203006    -11.50203006       1.83%      689     11     42      3881     1.9s\n",
      " L       0       0         0   0.00%   -11.71203006    -11.70203006       0.09%      689     11    230      3881     2.2s\n",
      " H       0       0         0   0.00%   -11.71203006    -11.70203006       0.09%      696     12    233      4431     2.4s\n",
      "\n",
      "97.9% inactive integer columns, restarting\n",
      "Model after restart has 195 rows, 137 cols (80 bin., 0 int., 0 impl., 57 cont.), and 591 nonzeros\n",
      "\n",
      "         0       0         0   0.00%   -11.71203006    -11.70203006       0.09%        3      0      0      4637     2.4s\n",
      "\n",
      "16.2% inactive integer columns, restarting\n",
      "Model after restart has 163 rows, 111 cols (65 bin., 0 int., 0 impl., 46 cont.), and 477 nonzeros\n",
      "\n",
      "         0       0         0   0.00%   -11.71203006    -11.70203006       0.09%        2      0      0      4683     2.4s\n",
      "         0       0         0   0.00%   -11.71203006    -11.70203006       0.09%        2      1      0      4702     2.4s\n",
      "\n",
      "Solving report\n",
      "  Status            Optimal\n",
      "  Primal bound      -11.7020300579\n",
      "  Dual bound        -11.7020300579\n",
      "  Gap               0% (tolerance: 0.01%)\n",
      "  Solution status   feasible\n",
      "                    -11.7020300579 (objective)\n",
      "                    0 (bound viol.)\n",
      "   (CVXPY) Jul 16 02:27:23 PM: Compilation took 2.364e+00 seconds\n",
      "(CVXPY) Jul 16 02:27:23 PM: Solver (including time spent in interface) took 3.160e+00 seconds\n",
      "                 6.45743095957e-14 (int. viol.)\n",
      "                    0 (row viol.)\n",
      "  Timing            2.42 (total)\n",
      "                    0.27 (presolve)\n",
      "                    0.00 (postsolve)\n",
      "  Nodes             1\n",
      "  LP iterations     4709 (total)\n",
      "                    0 (strong br.)\n",
      "                    2640 (separation)\n",
      "                    734 (heuristics)\n",
      "WARNING: Method getModelStatus(const bool scaled_model) is deprecated: alternative method is getModelStatus()\n"
     ]
    },
    {
     "name": "stderr",
     "output_type": "stream",
     "text": [
      "Done.\n",
      "Solution summary:\n",
      " - Loss (unfitted inputs/output): [5.26894982]\n",
      " - Edge penalty error: 22.999999999999936\n",
      " - Node penalty error: 0.08\n"
     ]
    }
   ],
   "source": [
    "#Find PBFs causal network using \n",
    "df_res, problem = li.mt.find_causalnet(\n",
    "    prior_graph,\n",
    "    input_scores,\n",
    "    output_scores,\n",
    "    node_weights,\n",
    "    # penalize (max_penalty) nodes with counts in less than 0.1 of the cells\n",
    "    node_cutoff=0.1,\n",
    "    max_penalty=1,\n",
    "    # the penaly of those in > 0.1 prop of cells set to:\n",
    "    min_penalty=0.01,\n",
    "    edge_penalty=0.1,\n",
    "    verbose=True,\n",
    "    max_runs=25, # NOTE that this repeats the solving either until the max runs are reached\n",
    "    stable_runs=5, # or until 5 consequitive stable runs are reached (i.e. no new edges are added)\n",
    "    solver='scipy'\n",
    "    )"
   ]
  },
  {
   "cell_type": "markdown",
   "id": "775b25cb-5110-4416-b490-0d302c141e28",
   "metadata": {},
   "source": [
    "## Visualize the inferred network\n"
   ]
  },
  {
   "cell_type": "markdown",
   "id": "53146b91-c101-4c4a-a81f-c71e54dbe7bd",
   "metadata": {},
   "source": [
    "<div class=\"alert alert-info\">\n",
    "<b>Paper Figure!</b>\n",
    "Plot Panel Figure 3G\n",
    "</div>"
   ]
  },
  {
   "cell_type": "code",
   "execution_count": null,
   "id": "ba39f468-38d3-4b17-86e4-685f77bb7619",
   "metadata": {},
   "outputs": [],
   "source": [
    "#PBFs cells\n",
    "cn.methods.carnival.visualize_network(df_res)"
   ]
  },
  {
   "cell_type": "markdown",
   "id": "33371b03-08b9-47f5-bbd7-bdd855e4da0e",
   "metadata": {},
   "source": [
    "### Modules and their versions used for this analysis\n",
    "\n",
    "\n",
    "Useful for debugging and reporting issues."
   ]
  },
  {
   "cell_type": "code",
   "execution_count": 138,
   "id": "102f0526-4b1d-4065-b698-cef849a3f1ba",
   "metadata": {
    "scrolled": true
   },
   "outputs": [
    {
     "name": "stdout",
     "output_type": "stream",
     "text": [
      "sys 3.9.18 (main, Sep 11 2023, 13:41:44) \n",
      "[GCC 11.2.0]\n",
      "re 2.2.1\n",
      "ipykernel._version 6.25.2\n",
      "json 2.0.9\n",
      "jupyter_client._version 8.3.1\n",
      "platform 1.0.8\n",
      "_ctypes 1.1.0\n",
      "ctypes 1.1.0\n",
      "zmq.sugar.version 25.1.1\n",
      "zmq.sugar 25.1.1\n",
      "zmq 25.1.1\n",
      "logging 0.5.1.2\n",
      "traitlets._version 5.10.0\n",
      "traitlets 5.10.0\n",
      "jupyter_core.version 5.3.1\n",
      "jupyter_core 5.3.1\n",
      "tornado 6.3.3\n",
      "zlib 1.0\n",
      "_curses b'2.2'\n",
      "socketserver 0.4\n",
      "argparse 1.1\n",
      "dateutil._version 2.8.2\n",
      "dateutil 2.8.2\n",
      "six 1.16.0\n",
      "_decimal 1.70\n",
      "decimal 1.70\n",
      "platformdirs.version 3.10.0\n",
      "platformdirs 3.10.0\n",
      "_csv 1.0\n",
      "csv 1.0\n",
      "jupyter_client 8.3.1\n",
      "ipykernel 6.25.2\n",
      "IPython.core.release 8.15.0\n",
      "executing.version 1.2.0\n",
      "executing 1.2.0\n",
      "pure_eval.version 0.2.2\n",
      "pure_eval 0.2.2\n",
      "stack_data.version 0.6.2\n",
      "stack_data 0.6.2\n",
      "pygments 2.16.1\n",
      "ptyprocess 0.7.0\n",
      "pexpect 4.8.0\n",
      "IPython.core.crashhandler 8.15.0\n",
      "pickleshare 0.7.5\n",
      "backcall 0.2.0\n",
      "decorator 5.1.1\n",
      "_sqlite3 2.6.0\n",
      "sqlite3.dbapi2 2.6.0\n",
      "sqlite3 2.6.0\n",
      "exceptiongroup._version 1.1.3\n",
      "exceptiongroup 1.1.3\n",
      "wcwidth 0.2.6\n",
      "prompt_toolkit 3.0.39\n",
      "parso 0.8.3\n",
      "jedi 0.19.0\n",
      "urllib.request 3.9\n",
      "IPython.core.magics.code 8.15.0\n",
      "IPython 8.15.0\n",
      "comm 0.1.4\n",
      "psutil 5.9.5\n",
      "debugpy.public_api 1.8.0\n",
      "debugpy 1.8.0\n",
      "xmlrpc.client 3.9\n",
      "http.server 0.6\n",
      "_pydevd_frame_eval.vendored.bytecode 0.13.0.dev\n",
      "_pydev_bundle.fsnotify 0.1.5\n",
      "pydevd 2.9.5\n",
      "packaging 23.1\n",
      "anndata._metadata 0.9.2\n",
      "numpy.version 1.23.4\n",
      "numpy.core._multiarray_umath 3.1\n",
      "numpy.core 1.23.4\n",
      "numpy.linalg._umath_linalg 0.1.5\n",
      "numpy.lib 1.23.4\n",
      "numpy 1.23.4\n",
      "h5py.version 3.9.0\n",
      "h5py 3.9.0\n",
      "natsort 8.4.0\n",
      "pytz 2023.3.post1\n",
      "pyarrow._generated_version 13.0.0\n",
      "cloudpickle 2.2.1\n",
      "pyarrow 13.0.0\n",
      "tarfile 0.9.0\n",
      "pandas._version_meson 2.1.0\n",
      "pandas 2.1.0\n",
      "scipy.version 1.9.1\n",
      "scipy 1.9.1\n",
      "scipy.sparse.linalg._isolve._iterative b'$Revision: $'\n",
      "scipy._lib.decorator 4.0.5\n",
      "scipy.linalg._fblas b'$Revision: $'\n",
      "scipy.linalg._flapack b'$Revision: $'\n",
      "scipy.linalg._flinalg b'$Revision: $'\n",
      "scipy.sparse.linalg._eigen.arpack._arpack b'$Revision: $'\n",
      "numcodecs.version 0.11.0\n",
      "entrypoints 0.4\n",
      "numcodecs.blosc 1.21.0\n",
      "numcodecs.zstd 1.4.8\n",
      "numcodecs.lz4 1.9.3\n",
      "msgpack 1.0.5\n",
      "numcodecs 0.11.0\n",
      "fasteners 0.18\n",
      "zarr.version 2.16.1\n",
      "zarr 2.16.1\n",
      "yaml 6.0.1\n",
      "toolz 0.12.0\n",
      "tlz 0.12.0\n",
      "tblib 2.0.0\n",
      "markupsafe 2.1.3\n",
      "jinja2 3.1.2\n",
      "dask 2023.9.2\n",
      "llvmlite 0.40.1\n",
      "numba.cloudpickle 2.2.0\n",
      "numba.misc.appdirs 1.4.1\n",
      "numba 0.57.1\n",
      "sparse 0.14.0\n",
      "scipy._lib._uarray 0.8.8.dev0+aa94c5a4.scipy\n",
      "scipy.special._specfun b'$Revision: $'\n",
      "torch.version 2.0.1+cu117\n",
      "torch.torch_version 2.0.1+cu117\n",
      "opt_einsum v3.3.0\n",
      "torch.cuda.nccl (2, 14, 3)\n",
      "torch.backends.cudnn 8500\n",
      "tqdm._dist_ver 4.66.1\n",
      "tqdm.version 4.66.1\n",
      "tqdm.cli 4.66.1\n",
      "tqdm 4.66.1\n",
      "mpmath 1.3.0\n",
      "sympy.release 1.12\n",
      "sympy.multipledispatch 0.4.9\n",
      "sympy 1.12\n",
      "torch 2.0.1+cu117\n",
      "anndata 0.9.2\n",
      "scanpy._metadata 1.9.5\n",
      "joblib.externals.cloudpickle 2.2.0\n",
      "joblib.externals.loky 3.4.1\n",
      "joblib 1.3.2\n",
      "sklearn.utils._joblib 1.3.2\n",
      "scipy.optimize._minpack2 b'$Revision: $'\n",
      "scipy.optimize._lbfgsb b'$Revision: $'\n",
      "scipy.optimize._cobyla b'$Revision: $'\n",
      "scipy.optimize._slsqp b'$Revision: $'\n",
      "scipy.optimize.__nnls b'$Revision: $'\n",
      "scipy.linalg._interpolative b'$Revision: $'\n",
      "scipy.integrate._vode b'$Revision: $'\n",
      "scipy.integrate._dop b'$Revision: $'\n",
      "scipy.integrate._lsoda b'$Revision: $'\n",
      "scipy.interpolate.dfitpack b'$Revision: $'\n",
      "scipy.stats._statlib b'$Revision: $'\n",
      "scipy.stats._mvn b'$Revision: $'\n",
      "threadpoolctl 3.2.0\n",
      "sklearn.base 1.3.0\n",
      "sklearn.utils._show_versions 1.3.0\n",
      "sklearn 1.3.0\n",
      "matplotlib._version 3.8.0\n",
      "PIL._version 10.0.1\n",
      "PIL 10.0.1\n",
      "defusedxml 0.7.1\n",
      "xml.etree.ElementTree 1.3.0\n",
      "cffi 1.15.1\n",
      "PIL.Image 10.0.1\n",
      "pyparsing 3.1.1\n",
      "cycler 0.10.0\n",
      "kiwisolver._cext 1.4.5\n",
      "kiwisolver 1.4.5\n",
      "matplotlib 3.8.0\n",
      "texttable 1.6.7\n",
      "igraph.version 0.11.4\n",
      "igraph 0.11.4\n",
      "leidenalg.version 0.10.2\n",
      "leidenalg 0.10.2\n",
      "scanpy 1.9.5\n",
      "mizani 0.9.3\n",
      "plotnine 0.12.3\n",
      "_cffi_backend 1.15.1\n",
      "pycparser.ply 3.9\n",
      "pycparser.ply.yacc 3.10\n",
      "pycparser.ply.lex 3.10\n",
      "pycparser 2.21\n",
      "decoupler 1.5.0\n",
      "mudata 0.2.3\n",
      "patsy.version 0.5.3\n",
      "patsy 0.5.3\n",
      "statsmodels._version 0.14.0\n",
      "statsmodels 0.14.0\n",
      "statsmodels.__init__ 0.14.0\n",
      "statsmodels.tools.web 0.14.0\n",
      "statsmodels.api 0.14.0\n",
      "liana 1.0.0a2\n",
      "shapely 2.0.1\n",
      "pygeos 0.14\n",
      "certifi 2023.07.22\n",
      "pyproj 3.6.0\n",
      "geopandas 0.14.0\n",
      "multiscale_spatial_image.__about__ 0.11.2\n",
      "xarray.tutorial master\n",
      "xarray 2023.10.0\n",
      "datatree._version 0.0.12\n",
      "datatree 0.0.12\n",
      "xarray_dataclasses 1.6.0\n",
      "spatial_image 0.3.0\n",
      "multiscale_spatial_image 0.11.2\n",
      "dask_image 2023.08.1\n",
      "fsspec 2023.9.1\n",
      "skimage.data._fetchers 0.20.0\n",
      "skimage 0.20.0\n",
      "networkx 3.1\n",
      "attr 23.1.0\n",
      "pkg_resources._vendor.more_itertools 9.1.0\n",
      "pkg_resources.extern.more_itertools 9.1.0\n",
      "pkg_resources._vendor.platformdirs.version 2.6.2\n",
      "pkg_resources._vendor.platformdirs 2.6.2\n",
      "pkg_resources.extern.platformdirs 2.6.2\n",
      "pkg_resources._vendor.packaging 23.1\n",
      "pkg_resources.extern.packaging 23.1\n",
      "xarray_schema 0.0.3\n",
      "numba.types.np 1.23.4\n",
      "numba.types.logging 0.5.1.2\n",
      "param 1.13.0\n",
      "multipledispatch 0.6.0\n",
      "datashape 0.5.2\n",
      "pyct 0.5.0\n",
      "setuptools._distutils 3.9.18\n",
      "setuptools.version 68.2.2\n",
      "setuptools._vendor.packaging 23.1\n",
      "setuptools.extern.packaging 23.1\n",
      "setuptools._vendor.more_itertools 8.8.0\n",
      "setuptools.extern.more_itertools 8.8.0\n",
      "setuptools._vendor.ordered_set 3.1\n",
      "setuptools.extern.ordered_set 3.1\n",
      "setuptools 68.2.2\n",
      "distutils 3.9.18\n",
      "urllib3.packages.six 1.16.0\n",
      "urllib3._version 1.26.16\n",
      "ipaddress 1.0\n",
      "urllib3.util.ssl_match_hostname 3.5.0.1\n",
      "urllib3.connection 1.26.16\n",
      "urllib3 1.26.16\n",
      "charset_normalizer.version 3.2.0\n",
      "charset_normalizer 3.2.0\n",
      "requests.packages.urllib3.packages.six 1.16.0\n",
      "requests.packages.urllib3._version 1.26.16\n",
      "requests.packages.urllib3.util.ssl_match_hostname 3.5.0.1\n",
      "requests.packages.urllib3.connection 1.26.16\n",
      "requests.packages.urllib3 1.26.16\n",
      "idna.package_data 3.4\n",
      "idna.idnadata 15.0.0\n",
      "idna 3.4\n",
      "requests.packages.idna.package_data 3.4\n",
      "requests.packages.idna.idnadata 15.0.0\n",
      "requests.packages.idna 3.4\n",
      "requests.__version__ 2.31.0\n",
      "requests.utils 2.31.0\n",
      "requests 2.31.0\n",
      "pyct.cmd 0.5.0\n",
      "datashader 0.15.2\n",
      "xrspatial._version 0.3.7\n",
      "xrspatial 0.3.7\n",
      "spatialdata 0.0.12\n",
      "docrep 0.3.2\n",
      "validators 0.22.0\n",
      "tifffile.tifffile 2023.9.18\n",
      "tifffile 2023.9.18\n",
      "imageio 2.31.3\n",
      "pywt.version 1.4.1\n",
      "pywt 1.4.1\n",
      "seaborn.external.husl 2.1.0\n",
      "seaborn.external.appdirs 1.4.4\n",
      "seaborn 0.12.2\n",
      "matplotlib_scalebar 0.8.1\n",
      "squidpy 1.3.0\n",
      "graphviz 0.20.1\n",
      "pyro._version 1.8.6\n",
      "pyro 1.8.6\n",
      "lightning.__version__ 2.0.9\n",
      "lightning_utilities.__about__ 0.9.0\n",
      "lightning_utilities 0.9.0\n",
      "starlette 0.27.0\n",
      "pydantic.version 1.10.12\n",
      "pydantic 1.10.12\n",
      "sniffio._version 1.3.0\n",
      "sniffio 1.3.0\n",
      "multipart 0.0.6\n",
      "fastapi 0.103.1\n",
      "websockets.version 11.0.3\n",
      "websockets 11.0.3\n",
      "ordered_set 4.1.0\n",
      "tomli 2.0.1\n",
      "deepdiff 6.5.0\n",
      "click 8.1.7\n",
      "lightning_cloud.env 0.0.1\n",
      "uvicorn 0.23.2\n",
      "backoff 2.2.1\n",
      "websocket._handshake 13\n",
      "websocket 1.6.3\n",
      "aiobotocore 2.5.4\n",
      "botocore 1.31.17\n",
      "botocore.vendored.six 1.16.0\n",
      "botocore.vendored.requests.packages.urllib3 \n",
      "xml.etree.cElementTree 1.3.0\n",
      "jmespath 1.0.1\n",
      "botocore.docs.bcdoc 0.16.0\n",
      "botocore.session 1.31.17\n",
      "multidict 6.0.4\n",
      "yarl 1.9.2\n",
      "async_timeout 4.0.3\n",
      "aiohttp.http 3.8.5\n",
      "frozenlist 1.4.0\n",
      "aiosignal 1.3.1\n",
      "aiohttp 3.8.5\n",
      "wrapt 1.15.0\n",
      "aioitertools.__version__ 0.11.0\n",
      "aioitertools 0.11.0\n",
      "s3fs 2023.9.1\n",
      "soupsieve.__meta__ 2.5\n",
      "soupsieve 2.5\n",
      "bs4 4.12.2\n",
      "lightning.app 2.0.9\n",
      "lightning.fabric 2.0.9\n",
      "torchmetrics.__about__ 1.1.2\n",
      "torchmetrics 1.1.2\n",
      "lightning.pytorch 2.0.9\n",
      "lightning 2.0.9\n",
      "jax.version 0.4.16\n",
      "jaxlib.version 0.4.16\n",
      "jaxlib 0.4.16\n",
      "ml_dtypes 0.3.0\n",
      "etils 1.5.0\n",
      "jax.lib 0.4.16\n",
      "jax 0.4.16\n",
      "tree 0.1.8\n",
      "xml.sax.handler 2.0beta\n",
      "chex 0.1.7\n",
      "flax.version 0.7.4\n",
      "flax 0.7.4\n",
      "optax 0.1.7\n",
      "numpyro.version 0.13.0\n",
      "numpyro 0.13.0\n",
      "scvi 1.0.3\n",
      "pytorch_lightning.__version__ 2.0.9\n",
      "lightning_fabric.__version__ 2.0.9\n",
      "lightning_fabric 2.0.9\n",
      "pytorch_lightning 2.0.9\n",
      "pynndescent 0.5.10\n",
      "umap 0.5.4\n",
      "cell2location 0.1.3\n",
      "netlsd 0.0.1\n",
      "ot 0.9.3\n",
      "wwl 0.1.2\n",
      "omnipath 1.0.7\n",
      "cvxpy.version 1.4.2\n",
      "cvxpy.expressions.cvxtypes 1.4.2\n",
      "_cvxpy_sparsecholesky 0.0.1\n",
      "clarabel.clarabel 0.6.0\n",
      "clarabel 0.6.0\n",
      "_ecos 2.0.10\n",
      "ecos.version 2.0.13\n",
      "ecos 2.0.13\n",
      "cylp 0.92.2\n",
      "_scs_direct 3.2.4\n",
      "scs 3.2.4\n",
      "google.protobuf 4.24.3\n",
      "osqp._version 0.6.5\n",
      "osqp 0.6.5\n",
      "cvxpy 1.4.2\n",
      "corneto 0.9.1-alpha.5\n",
      "matplotlib_inline 0.1.6\n"
     ]
    }
   ],
   "source": [
    "cell2location.utils.list_imported_modules()"
   ]
  }
 ],
 "metadata": {
  "kernelspec": {
   "display_name": "liana_env",
   "language": "python",
   "name": "liana_env"
  },
  "language_info": {
   "codemirror_mode": {
    "name": "ipython",
    "version": 3
   },
   "file_extension": ".py",
   "mimetype": "text/x-python",
   "name": "python",
   "nbconvert_exporter": "python",
   "pygments_lexer": "ipython3",
   "version": "3.9.18"
  }
 },
 "nbformat": 4,
 "nbformat_minor": 5
}
