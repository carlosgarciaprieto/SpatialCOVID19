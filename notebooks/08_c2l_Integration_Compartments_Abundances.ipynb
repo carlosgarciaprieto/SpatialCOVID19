{
 "cells": [
  {
   "cell_type": "markdown",
   "metadata": {},
   "source": [
    "# Spatial transcriptomics unveils the in situ cellular and molecular hallmarks of the lung in fatal COVID-19"
   ]
  },
  {
   "cell_type": "markdown",
   "metadata": {},
   "source": [
    "# Downstream analysis of spatially mapped and deconvoluted Visium ST data"
   ]
  },
  {
   "cell_type": "markdown",
   "metadata": {},
   "source": [
    "**Author:** Carlos A. Garcia-Prieto\n",
    "\n",
    "* This notebook explains the downstream analysis of the spatially mapped and deconvoluted Visium ST data with cell2location, including integration of Visium ST slides, estimated cell type abundances plots, identification of cell type marker genes and cellular compartments.\n",
    "* We followed [cell2location](https://cell2location.readthedocs.io/en/latest/notebooks/cell2location_tutorial.html) and single-cell best practices [spatial deconvultion](https://www.sc-best-practices.org/spatial/deconvolution.html#cell2location) tutorials."
   ]
  },
  {
   "cell_type": "markdown",
   "metadata": {},
   "source": [
    "## Import modules"
   ]
  },
  {
   "cell_type": "code",
   "execution_count": 1,
   "metadata": {
    "scrolled": true
   },
   "outputs": [
    {
     "name": "stderr",
     "output_type": "stream",
     "text": [
      "Global seed set to 0\n",
      "/mnt/beegfs/cgarcia/.conda/envs/cell2loc_environment/lib/python3.9/site-packages/pytorch_lightning/utilities/warnings.py:53: LightningDeprecationWarning: pytorch_lightning.utilities.warnings.rank_zero_deprecation has been deprecated in v1.6 and will be removed in v1.8. Use the equivalent function from the pytorch_lightning.utilities.rank_zero module instead.\n",
      "  new_rank_zero_deprecation(\n",
      "/mnt/beegfs/cgarcia/.conda/envs/cell2loc_environment/lib/python3.9/site-packages/pytorch_lightning/utilities/warnings.py:58: LightningDeprecationWarning: The `pytorch_lightning.loggers.base.rank_zero_experiment` is deprecated in v1.7 and will be removed in v1.9. Please use `pytorch_lightning.loggers.logger.rank_zero_experiment` instead.\n",
      "  return new_rank_zero_deprecation(*args, **kwargs)\n"
     ]
    }
   ],
   "source": [
    "import warnings\n",
    "warnings.filterwarnings('ignore')\n",
    "import scanpy as sc\n",
    "import pandas as pd\n",
    "import numpy as np\n",
    "import matplotlib.pyplot as plt \n",
    "import matplotlib as mpl\n",
    "import cell2location\n",
    "from cell2location.models import RegressionModel\n",
    "from cell2location.utils import select_slide\n",
    "from cell2location import run_colocation\n",
    "import scvi\n",
    "import os\n",
    "import colorcet as cc\n",
    "import seaborn as sns\n",
    "from matplotlib import rcParams\n",
    "rcParams['pdf.fonttype'] = 42 # enables correct plotting of text for PDFs\n",
    "pd.set_option('display.max_columns', 100)"
   ]
  },
  {
   "cell_type": "markdown",
   "metadata": {},
   "source": [
    "## Read reference model with cell type signatures"
   ]
  },
  {
   "cell_type": "code",
   "execution_count": 2,
   "metadata": {},
   "outputs": [],
   "source": [
    "#Set data folder\n",
    "results_folder = \"/mnt/beegfs/cgarcia/Spatial/COVID19/cell2location/HLCA_publication/HLCA/\"\n",
    "ref_run_name = f'{results_folder}reference_signatures_finest'\n",
    "run_name = f'{results_folder}cell2location_map_finest'"
   ]
  },
  {
   "cell_type": "code",
   "execution_count": 3,
   "metadata": {
    "scrolled": true
   },
   "outputs": [
    {
     "name": "stdout",
     "output_type": "stream",
     "text": [
      "\u001b[34mINFO    \u001b[0m File                                                                                                      \n",
      "         \u001b[35m/mnt/beegfs/cgarcia/Spatial/COVID19/cell2location/HLCA_publication/HLCA/reference_signatures_finest/\u001b[0m\u001b[95mmodel.\u001b[0m\n",
      "         \u001b[95mpt\u001b[0m already downloaded                                                                                     \n"
     ]
    },
    {
     "name": "stderr",
     "output_type": "stream",
     "text": [
      "No GPU/TPU found, falling back to CPU. (Set TF_CPP_MIN_LOG_LEVEL=0 and rerun for more info.)\n",
      "GPU available: True (cuda), used: True\n",
      "TPU available: False, using: 0 TPU cores\n",
      "IPU available: False, using: 0 IPUs\n",
      "HPU available: False, using: 0 HPUs\n",
      "LOCAL_RANK: 0 - CUDA_VISIBLE_DEVICES: [0]\n"
     ]
    },
    {
     "name": "stdout",
     "output_type": "stream",
     "text": [
      "Epoch 1/60:   2%|█▍                                                                                   | 1/60 [00:04<04:14,  4.31s/it, v_num=1, elbo_train=3.16e+9]"
     ]
    },
    {
     "name": "stderr",
     "output_type": "stream",
     "text": [
      "`Trainer.fit` stopped: `max_steps=1` reached.\n"
     ]
    },
    {
     "name": "stdout",
     "output_type": "stream",
     "text": [
      "Epoch 1/60:   2%|█▍                                                                                   | 1/60 [00:04<04:17,  4.36s/it, v_num=1, elbo_train=3.16e+9]\n"
     ]
    }
   ],
   "source": [
    "#The reference model and output h5ad can be loaded like this:\n",
    "adata_file_ref = f\"{ref_run_name}/adata_ref_finest_post_prob.h5ad\"\n",
    "adata_ref = sc.read_h5ad(adata_file_ref)\n",
    "mod_ref = cell2location.models.RegressionModel.load(f\"{ref_run_name}\", adata_ref)"
   ]
  },
  {
   "cell_type": "markdown",
   "metadata": {},
   "source": [
    "## Extract cell type specific gene markers"
   ]
  },
  {
   "cell_type": "code",
   "execution_count": 4,
   "metadata": {},
   "outputs": [],
   "source": [
    "#Compute hiearchical clustering based on gene expression \n",
    "sc.tl.dendrogram(adata_ref, groupby='ann_finest_level', var_names=adata_ref.var.index, use_raw=False)"
   ]
  },
  {
   "cell_type": "code",
   "execution_count": 5,
   "metadata": {
    "scrolled": true
   },
   "outputs": [],
   "source": [
    "#Extract cell type marker genes\n",
    "sc.tl.rank_genes_groups(adata_ref, groupby=\"ann_finest_level\", method=\"t-test\", layer=\"normalized_counts\", use_raw=False)"
   ]
  },
  {
   "cell_type": "markdown",
   "metadata": {},
   "source": [
    "## Plot cell type marker genes"
   ]
  },
  {
   "cell_type": "markdown",
   "metadata": {},
   "source": [
    "<div class=\"alert alert-info\">\n",
    "<b>Paper Figure!</b>\n",
    "Plot Figure S1\n",
    "</div>"
   ]
  },
  {
   "cell_type": "code",
   "execution_count": 6,
   "metadata": {},
   "outputs": [],
   "source": [
    "#Plot cell type specific gene markers\n",
    "with mpl.rc_context({'axes.facecolor':  'white','figure.figsize': [2, 2.5]}):\n",
    "    sc.pl.rank_genes_groups_dotplot(adata_ref, n_genes=3, groupby=\"ann_finest_level\",show=False, gene_symbols=\"feature_name\", standard_scale='var', dendrogram=\"dendrogram_ann_finest_level\") \n",
    "    plt.savefig(f\"{ref_run_name}/Reference_Signatures_Marker_Genes_Dotplot_Paper.png\",dpi=300, format=\"png\", pad_inches=0.2,bbox_inches=\"tight\")\n",
    "    plt.close()"
   ]
  },
  {
   "cell_type": "markdown",
   "metadata": {},
   "source": [
    "### Save reference cell type signatures with marker genes and extract the most differentially expressed marker genes with pval adj < 0.05 & lfc > 2"
   ]
  },
  {
   "cell_type": "code",
   "execution_count": 7,
   "metadata": {},
   "outputs": [],
   "source": [
    "#Extract list of marker genes with pval adjusted < 0.05 & lfc > 2\n",
    "marker_genes = sc.get.rank_genes_groups_df(adata_ref, group = None, gene_symbols=\"feature_name\")\n",
    "marker_genes_filter = sc.get.rank_genes_groups_df(adata_ref, group = None, gene_symbols=\"feature_name\", pval_cutoff=0.05, log2fc_min=2)\n",
    "marker_genes.to_csv(f\"{ref_run_name}/Marker_genes_Paper.csv\")\n",
    "marker_genes_filter.to_csv(f\"{ref_run_name}/Marker_genes_filter_pvaladj005_logfc2_Paper.csv\")"
   ]
  },
  {
   "cell_type": "code",
   "execution_count": 8,
   "metadata": {},
   "outputs": [],
   "source": [
    "#Write anndata_ref with marker genes\n",
    "adata_file_ref_markers = f\"{ref_run_name}/adata_ref_finest_post_prob_marker_genes_Paper.h5ad\"\n",
    "adata_ref.write(adata_file_ref_markers)"
   ]
  },
  {
   "cell_type": "markdown",
   "metadata": {},
   "source": [
    "## Read cell2location model with mapped and deconvoluted Visium ST data"
   ]
  },
  {
   "cell_type": "code",
   "execution_count": 9,
   "metadata": {
    "scrolled": true
   },
   "outputs": [
    {
     "name": "stdout",
     "output_type": "stream",
     "text": [
      "\u001b[34mINFO    \u001b[0m File                                                                                                      \n",
      "         \u001b[35m/mnt/beegfs/cgarcia/Spatial/COVID19/cell2location/HLCA_publication/HLCA/cell2location_map_finest/\u001b[0m\u001b[95mmodel.pt\u001b[0m \n",
      "         already downloaded                                                                                        \n"
     ]
    },
    {
     "name": "stderr",
     "output_type": "stream",
     "text": [
      "GPU available: True (cuda), used: True\n",
      "TPU available: False, using: 0 TPU cores\n",
      "IPU available: False, using: 0 IPUs\n",
      "HPU available: False, using: 0 HPUs\n",
      "LOCAL_RANK: 0 - CUDA_VISIBLE_DEVICES: [0]\n"
     ]
    },
    {
     "name": "stdout",
     "output_type": "stream",
     "text": [
      "Epoch 1/30000:   0%|                                                                             | 1/30000 [00:00<6:05:32,  1.37it/s, v_num=1, elbo_train=7.39e+8]"
     ]
    },
    {
     "name": "stderr",
     "output_type": "stream",
     "text": [
      "`Trainer.fit` stopped: `max_steps=1` reached.\n"
     ]
    },
    {
     "name": "stdout",
     "output_type": "stream",
     "text": [
      "Epoch 1/30000:   0%|                                                                             | 1/30000 [00:00<6:08:51,  1.36it/s, v_num=1, elbo_train=7.39e+8]\n"
     ]
    }
   ],
   "source": [
    "#The model and output h5ad can be loaded later like this:\n",
    "adata_file = f\"{run_name}/ad_vis_post_distrib_finest.h5ad\"\n",
    "adata_vis = sc.read_h5ad(adata_file)\n",
    "mod = cell2location.models.Cell2location.load(f\"{run_name}\", adata_vis)"
   ]
  },
  {
   "cell_type": "code",
   "execution_count": 10,
   "metadata": {},
   "outputs": [
    {
     "data": {
      "text/html": [
       "<pre style=\"white-space:pre;overflow-x:auto;line-height:normal;font-family:Menlo,'DejaVu Sans Mono',consolas,'Courier New',monospace\">cell2location model with the following params: \n",
       "n_factors: <span style=\"color: #008080; text-decoration-color: #008080; font-weight: bold\">45</span> \n",
       "n_batch: <span style=\"color: #008080; text-decoration-color: #008080; font-weight: bold\">23</span> \n",
       "Training status: Trained\n",
       "</pre>\n"
      ],
      "text/plain": [
       "cell2location model with the following params: \n",
       "n_factors: \u001b[1;36m45\u001b[0m \n",
       "n_batch: \u001b[1;36m23\u001b[0m \n",
       "Training status: Trained\n"
      ]
     },
     "metadata": {},
     "output_type": "display_data"
    },
    {
     "data": {
      "text/plain": []
     },
     "execution_count": 10,
     "metadata": {},
     "output_type": "execute_result"
    }
   ],
   "source": [
    "mod"
   ]
  },
  {
   "cell_type": "markdown",
   "metadata": {},
   "source": [
    "## Visualizing cell abundance in spatial coordinates"
   ]
  },
  {
   "cell_type": "code",
   "execution_count": 11,
   "metadata": {},
   "outputs": [],
   "source": [
    "# We use 5% quantile of the posterior distribution, representing the value of cell abundance that the model has high confidence in ('at least this amount is present')\n",
    "adata_vis.obs[adata_vis.uns['mod']['factor_names']] = adata_vis.obsm['q05_cell_abundance_w_sf']"
   ]
  },
  {
   "cell_type": "code",
   "execution_count": 12,
   "metadata": {},
   "outputs": [
    {
     "data": {
      "text/plain": [
       "Index(['Basal resting', 'Suprabasal', 'Deuterosomal',\n",
       "       'Multiciliated (non-nasal)', 'Club (non-nasal)', 'AT0',\n",
       "       'pre-TB secretory', 'AT1', 'AT2', 'AT2 proliferating', 'EC arterial',\n",
       "       'EC aerocyte capillary', 'EC general capillary', 'EC venous systemic',\n",
       "       'EC venous pulmonary', 'Lymphatic EC mature',\n",
       "       'Lymphatic EC differentiating', 'Peribronchial fibroblasts',\n",
       "       'Adventitial fibroblasts', 'Alveolar fibroblasts', 'Pericytes',\n",
       "       'Subpleural fibroblasts', 'Myofibroblasts', 'Smooth muscle',\n",
       "       'SM activated stress response', 'Mesothelium', 'B cells',\n",
       "       'Plasma cells', 'CD4 T cells', 'CD8 T cells', 'T cells proliferating',\n",
       "       'NK cells', 'DC1', 'DC2', 'Migratory DCs', 'Plasmacytoid DCs',\n",
       "       'Alveolar macrophages', 'Alveolar Mph CCL3+',\n",
       "       'Alveolar Mph MT-positive', 'Alveolar Mph proliferating',\n",
       "       'Monocyte-derived Mph', 'Interstitial Mph perivascular',\n",
       "       'Classical monocytes', 'Non-classical monocytes', 'Mast cells'],\n",
       "      dtype='object')"
      ]
     },
     "execution_count": 12,
     "metadata": {},
     "output_type": "execute_result"
    }
   ],
   "source": [
    "adata_vis.obs[adata_vis.uns['mod']['factor_names']].columns"
   ]
  },
  {
   "cell_type": "code",
   "execution_count": 13,
   "metadata": {},
   "outputs": [],
   "source": [
    "#Create directory for Plots\n",
    "directory = f'{run_name}/Plots'\n",
    "# Check if the directory exists\n",
    "if not os.path.exists(directory):\n",
    "    # If it doesn't exist, create it\n",
    "    os.makedirs(directory)"
   ]
  },
  {
   "cell_type": "markdown",
   "metadata": {},
   "source": [
    "<div class=\"alert alert-info\">\n",
    "<b>Paper Figure!</b>\n",
    "Plot panels of Figures 2B & S6\n",
    "</div>"
   ]
  },
  {
   "cell_type": "code",
   "execution_count": 14,
   "metadata": {
    "scrolled": true
   },
   "outputs": [
    {
     "name": "stdout",
     "output_type": "stream",
     "text": [
      "L2P\n",
      "L19P\n",
      "L11P\n",
      "HRC5\n",
      "HRC6\n",
      "HRC8\n",
      "HRC10\n",
      "HRC11\n",
      "HRC12\n",
      "HRC13\n",
      "HRC16\n",
      "HRC17\n",
      "L5P\n",
      "L14P\n",
      "L24P\n",
      "L12P\n",
      "HRC2\n",
      "HRC4\n",
      "HRC18\n",
      "L3C\n",
      "L14C\n",
      "L2C\n",
      "CONTROL2\n"
     ]
    }
   ],
   "source": [
    "# Plot abundance in spatial coordinates\n",
    "samples = [\"L2P\",\"L19P\",\"L11P\",\"HRC5\",\"HRC6\",\"HRC8\",\"HRC10\",\"HRC11\",\"HRC12\",\"HRC13\",\"HRC16\",\"HRC17\",\"L5P\",\"L14P\",\"L24P\",\"L12P\",\"HRC2\",\"HRC4\",\"HRC18\",\"L3C\",\"L14C\",\"L2C\",\"CONTROL2\"]\n",
    "for sample in samples:\n",
    "    print(sample)\n",
    "    slide = select_slide(adata_vis, f'{sample}')\n",
    "    # plot in spatial coordinates\n",
    "    with mpl.rc_context({'axes.facecolor':  'white',\n",
    "                         'figure.figsize': [4.5, 5]}):\n",
    "        sc.pl.spatial(slide, cmap='magma',\n",
    "                      color=adata_vis.uns['mod']['factor_names'],\n",
    "                      ncols=4, size=1.3,show=False,\n",
    "                      img_key='hires',\n",
    "                      # limit color scale at 99.9% quantile of cell abundance\n",
    "                      vmin=0, vmax='p99.9' \n",
    "                     )\n",
    "        plt.savefig(f\"{run_name}/Plots/{sample}_cell_types_99_Paper.png\",dpi=300, format=\"png\",pad_inches=0.2,bbox_inches=\"tight\")\n",
    "        plt.close()"
   ]
  },
  {
   "cell_type": "markdown",
   "metadata": {
    "tags": []
   },
   "source": [
    "## Identifying tissue regions by Leiden clustering\n",
    "\n",
    "We cluster Visium spots using estimated cell abundance for each cell type. We constuct a K-nearest neigbour (KNN) graph representing similarity of locations in estimated cell abundance and then apply Leiden clustering. The clustering is done jointly across all Visium slides and batches, hence the cluster identities are directly comparable. "
   ]
  },
  {
   "cell_type": "code",
   "execution_count": 15,
   "metadata": {},
   "outputs": [],
   "source": [
    "# Compute KNN using cell2location abundances\n",
    "sc.pp.neighbors(adata_vis, use_rep='q05_cell_abundance_w_sf', n_neighbors = 8) "
   ]
  },
  {
   "cell_type": "code",
   "execution_count": 16,
   "metadata": {},
   "outputs": [],
   "source": [
    "# Cluster spots into regions using scanpy\n",
    "sc.tl.leiden(adata_vis, resolution=0.5)"
   ]
  },
  {
   "cell_type": "code",
   "execution_count": 17,
   "metadata": {},
   "outputs": [],
   "source": [
    "# add region as categorical variable\n",
    "adata_vis.obs[\"region_cluster\"] = adata_vis.obs[\"leiden\"].astype(\"category\")"
   ]
  },
  {
   "cell_type": "markdown",
   "metadata": {},
   "source": [
    "## We use the location composition similarity graph to build a joint integrated UMAP representation of all Visium slides."
   ]
  },
  {
   "cell_type": "code",
   "execution_count": 18,
   "metadata": {},
   "outputs": [],
   "source": [
    "# compute UMAP using KNN graph based on the cell2location output\n",
    "sc.tl.umap(adata_vis, min_dist = 0.3, spread = 1)"
   ]
  },
  {
   "cell_type": "markdown",
   "metadata": {},
   "source": [
    "## Plot integrated UMAP by disease condition"
   ]
  },
  {
   "cell_type": "markdown",
   "metadata": {},
   "source": [
    "<div class=\"alert alert-info\">\n",
    "<b>Paper Figure!</b>\n",
    "Plot panel Figure 1B\n",
    "</div>"
   ]
  },
  {
   "cell_type": "code",
   "execution_count": 19,
   "metadata": {},
   "outputs": [],
   "source": [
    "#Set color palette for each condition\n",
    "col_dict_subtype = {'Control': '#eb0077', 'Acute': '#0000dd', 'Proliferative': '#573b00'}"
   ]
  },
  {
   "cell_type": "code",
   "execution_count": 20,
   "metadata": {},
   "outputs": [],
   "source": [
    "#Select random points for plotting UMAP\n",
    "new_adata_vis = sc.pp.subsample(adata_vis, fraction=1., copy=True)"
   ]
  },
  {
   "cell_type": "code",
   "execution_count": 21,
   "metadata": {},
   "outputs": [],
   "source": [
    "# show regions in UMAP coordinates\n",
    "with mpl.rc_context({'axes.facecolor':  'white',\n",
    "                     'figure.figsize': [6, 6]}):\n",
    "    sc.pl.umap(new_adata_vis, color=['condition_subtype'], size=30, wspace=0.5,\n",
    "               color_map = 'RdPu', ncols = 1, legend_loc=None, show=False, sort_order=False, frameon=False,\n",
    "               legend_fontsize=20, vmax=[\"p99.9\",None], vmin=[0,None])\n",
    "    plt.savefig(f\"{run_name}/Plots/Condition_99_Paper.png\",dpi=300, format=\"png\",pad_inches=0.2,bbox_inches=\"tight\")\n",
    "    plt.close()"
   ]
  },
  {
   "cell_type": "markdown",
   "metadata": {},
   "source": [
    "## Plot integrated UMAP by sample and disease condition"
   ]
  },
  {
   "cell_type": "code",
   "execution_count": 22,
   "metadata": {},
   "outputs": [],
   "source": [
    "#Create directory for Plots\n",
    "directory = f'{run_name}/Plots/Max_Abundance99_Subtype_Paper'\n",
    "# Check if the directory exists\n",
    "if not os.path.exists(directory):\n",
    "    # If it doesn't exist, create it\n",
    "    os.makedirs(directory)"
   ]
  },
  {
   "cell_type": "markdown",
   "metadata": {},
   "source": [
    "<div class=\"alert alert-info\">\n",
    "<b>Paper Figure!</b>\n",
    "Plot panel Figure 1B\n",
    "</div>"
   ]
  },
  {
   "cell_type": "code",
   "execution_count": 23,
   "metadata": {
    "scrolled": true
   },
   "outputs": [
    {
     "name": "stdout",
     "output_type": "stream",
     "text": [
      "L2P\n",
      "L19P\n",
      "L11P\n",
      "HRC5\n",
      "HRC6\n",
      "HRC8\n",
      "HRC10\n",
      "HRC11\n",
      "HRC12\n",
      "HRC13\n",
      "HRC16\n",
      "HRC17\n",
      "L5P\n",
      "L14P\n",
      "L24P\n",
      "L12P\n",
      "HRC2\n",
      "HRC4\n",
      "HRC18\n",
      "L3C\n",
      "L14C\n",
      "L2C\n",
      "CONTROL2\n"
     ]
    }
   ],
   "source": [
    "# Plot Max Abundance Subtype by sample\n",
    "samples = [\"L2P\",\"L19P\",\"L11P\",\"HRC5\",\"HRC6\",\"HRC8\",\"HRC10\",\"HRC11\",\"HRC12\",\"HRC13\",\"HRC16\",\"HRC17\",\"L5P\",\"L14P\",\"L24P\",\"L12P\",\"HRC2\",\"HRC4\",\"HRC18\",\"L3C\",\"L14C\",\"L2C\",\"CONTROL2\"]\n",
    "\n",
    "for sample in samples:\n",
    "    print(sample)\n",
    "    slide = select_slide(adata_vis, f'{sample}')\n",
    "    #select random points\n",
    "    new_slide = sc.pp.subsample(slide, fraction=1., copy=True)\n",
    "    with mpl.rc_context({'axes.facecolor':  'white',\n",
    "                         'figure.figsize': [6, 6]}):\n",
    "        sc.pl.umap(new_slide, color=['condition_subtype'], size=50,\n",
    "                   ncols = 1, show=False, sort_order=False,\n",
    "                   legend_fontsize=20, legend_fontweight='bold', projection='2d', add_outline=False, legend_loc=None, frameon=False,title=new_slide.obs['condition_subtype'],\n",
    "                   color_map=sns.blend_palette([\"lightgray\", sns.xkcd_rgb[\"blood\"]], as_cmap=True), vmax=[\"p99.9\",None], vmin=[0,None])\n",
    "        plt.savefig(f\"{run_name}/Plots/Max_Abundance99_Subtype_Paper/{sample}_Max_Abundance99_subtype_Paper.png\",dpi=300, format=\"png\",pad_inches=0.2,bbox_inches=\"tight\")\n",
    "        plt.close()"
   ]
  },
  {
   "cell_type": "markdown",
   "metadata": {},
   "source": [
    "## Add most abundant cell type for each spot"
   ]
  },
  {
   "cell_type": "code",
   "execution_count": 24,
   "metadata": {},
   "outputs": [],
   "source": [
    "#Max number of cells\n",
    "adata_vis.obs[\"Max_Abundance\"] = adata_vis.obs[['Basal resting', 'Suprabasal', 'Deuterosomal',\n",
    "       'Multiciliated (non-nasal)', 'Club (non-nasal)', 'AT0',\n",
    "       'pre-TB secretory', 'AT1', 'AT2', 'AT2 proliferating', 'EC arterial',\n",
    "       'EC aerocyte capillary', 'EC general capillary', 'EC venous systemic',\n",
    "       'EC venous pulmonary', 'Lymphatic EC mature',\n",
    "       'Lymphatic EC differentiating', 'Peribronchial fibroblasts',\n",
    "       'Adventitial fibroblasts', 'Alveolar fibroblasts', 'Pericytes',\n",
    "       'Subpleural fibroblasts', 'Myofibroblasts', 'Smooth muscle',\n",
    "       'SM activated stress response', 'Mesothelium', 'B cells',\n",
    "       'Plasma cells', 'CD4 T cells', 'CD8 T cells', 'T cells proliferating',\n",
    "       'NK cells', 'DC1', 'DC2', 'Migratory DCs', 'Plasmacytoid DCs',\n",
    "       'Alveolar macrophages', 'Alveolar Mph CCL3+',\n",
    "       'Alveolar Mph MT-positive', 'Alveolar Mph proliferating',\n",
    "       'Monocyte-derived Mph', 'Interstitial Mph perivascular',\n",
    "       'Classical monocytes', 'Non-classical monocytes', 'Mast cells']].apply(np.max,axis=1)"
   ]
  },
  {
   "cell_type": "code",
   "execution_count": 25,
   "metadata": {},
   "outputs": [],
   "source": [
    "#Most abundant cell type per spot\n",
    "adata_vis.obs[\"Max_Abundance_Cell\"] = adata_vis.obs[['Basal resting', 'Suprabasal', 'Deuterosomal',\n",
    "       'Multiciliated (non-nasal)', 'Club (non-nasal)', 'AT0',\n",
    "       'pre-TB secretory', 'AT1', 'AT2', 'AT2 proliferating', 'EC arterial',\n",
    "       'EC aerocyte capillary', 'EC general capillary', 'EC venous systemic',\n",
    "       'EC venous pulmonary', 'Lymphatic EC mature',\n",
    "       'Lymphatic EC differentiating', 'Peribronchial fibroblasts',\n",
    "       'Adventitial fibroblasts', 'Alveolar fibroblasts', 'Pericytes',\n",
    "       'Subpleural fibroblasts', 'Myofibroblasts', 'Smooth muscle',\n",
    "       'SM activated stress response', 'Mesothelium', 'B cells',\n",
    "       'Plasma cells', 'CD4 T cells', 'CD8 T cells', 'T cells proliferating',\n",
    "       'NK cells', 'DC1', 'DC2', 'Migratory DCs', 'Plasmacytoid DCs',\n",
    "       'Alveolar macrophages', 'Alveolar Mph CCL3+',\n",
    "       'Alveolar Mph MT-positive', 'Alveolar Mph proliferating',\n",
    "       'Monocyte-derived Mph', 'Interstitial Mph perivascular',\n",
    "       'Classical monocytes', 'Non-classical monocytes', 'Mast cells']].idxmax(axis=1)"
   ]
  },
  {
   "cell_type": "markdown",
   "metadata": {},
   "source": [
    "### Set color palette for each cell type"
   ]
  },
  {
   "cell_type": "code",
   "execution_count": 26,
   "metadata": {},
   "outputs": [],
   "source": [
    "#!pip install colorcet"
   ]
  },
  {
   "cell_type": "code",
   "execution_count": 27,
   "metadata": {},
   "outputs": [
    {
     "name": "stdout",
     "output_type": "stream",
     "text": [
      "['AT0', 'AT1', 'AT2', 'AT2 proliferating', 'Adventitial fibroblasts', 'Alveolar Mph CCL3+', 'Alveolar Mph MT-positive', 'Alveolar fibroblasts', 'Alveolar macrophages', 'B cells', 'Basal resting', 'CD4 T cells', 'CD8 T cells', 'Classical monocytes', 'Club (non-nasal)', 'DC1', 'DC2', 'Deuterosomal', 'EC aerocyte capillary', 'EC arterial', 'EC general capillary', 'EC venous pulmonary', 'EC venous systemic', 'Interstitial Mph perivascular', 'Lymphatic EC mature', 'Mast cells', 'Migratory DCs', 'Monocyte-derived Mph', 'Multiciliated (non-nasal)', 'Myofibroblasts', 'NK cells', 'Non-classical monocytes', 'Peribronchial fibroblasts', 'Pericytes', 'Plasma cells', 'Plasmacytoid DCs', 'SM activated stress response', 'Smooth muscle', 'Subpleural fibroblasts', 'Suprabasal', 'T cells proliferating', 'pre-TB secretory']\n"
     ]
    }
   ],
   "source": [
    "# conversion of lists to dictionary\n",
    "# using dictionary comprehension\n",
    " \n",
    "# initializing lists\n",
    "#cell_types = list(adata_vis.obs[adata_vis.uns['mod']['factor_names']].columns)\n",
    "max_cells = list(adata_vis.obs['Max_Abundance_Cell'].unique())\n",
    "max_cells = sorted(max_cells)\n",
    "print(max_cells)\n",
    "\n",
    "#Create color palette\n",
    "pal = sns.color_palette(cc.glasbey, n_colors=len(max_cells))\n",
    "pal_hex = list(map(mpl.colors.rgb2hex, pal))\n",
    "    \n",
    "# Printing original keys-value lists\n",
    "#print(\"Original key list is : \" + str(cell_types))\n",
    "#print(\"Original value list is : \" + str(pal_hex))\n",
    " \n",
    "# using dictionary comprehension\n",
    "# to convert lists to dictionary\n",
    "col_dict = {max_cells[i]: pal_hex[i] for i in range(len(max_cells))}\n",
    " \n",
    "# Printing resultant dictionary\n",
    "#print(\"Resultant dictionary is : \" + str(col_dict))"
   ]
  },
  {
   "cell_type": "code",
   "execution_count": 28,
   "metadata": {},
   "outputs": [
    {
     "data": {
      "text/html": [
       "<svg  width=\"2310\" height=\"55\"><rect x=\"0\" y=\"0\" width=\"55\" height=\"55\" style=\"fill:#d60000;stroke-width:2;stroke:rgb(255,255,255)\"/><rect x=\"55\" y=\"0\" width=\"55\" height=\"55\" style=\"fill:#8c3bff;stroke-width:2;stroke:rgb(255,255,255)\"/><rect x=\"110\" y=\"0\" width=\"55\" height=\"55\" style=\"fill:#018700;stroke-width:2;stroke:rgb(255,255,255)\"/><rect x=\"165\" y=\"0\" width=\"55\" height=\"55\" style=\"fill:#00acc6;stroke-width:2;stroke:rgb(255,255,255)\"/><rect x=\"220\" y=\"0\" width=\"55\" height=\"55\" style=\"fill:#97ff00;stroke-width:2;stroke:rgb(255,255,255)\"/><rect x=\"275\" y=\"0\" width=\"55\" height=\"55\" style=\"fill:#ff7ed1;stroke-width:2;stroke:rgb(255,255,255)\"/><rect x=\"330\" y=\"0\" width=\"55\" height=\"55\" style=\"fill:#6b004f;stroke-width:2;stroke:rgb(255,255,255)\"/><rect x=\"385\" y=\"0\" width=\"55\" height=\"55\" style=\"fill:#ffa52f;stroke-width:2;stroke:rgb(255,255,255)\"/><rect x=\"440\" y=\"0\" width=\"55\" height=\"55\" style=\"fill:#573b00;stroke-width:2;stroke:rgb(255,255,255)\"/><rect x=\"495\" y=\"0\" width=\"55\" height=\"55\" style=\"fill:#005659;stroke-width:2;stroke:rgb(255,255,255)\"/><rect x=\"550\" y=\"0\" width=\"55\" height=\"55\" style=\"fill:#0000dd;stroke-width:2;stroke:rgb(255,255,255)\"/><rect x=\"605\" y=\"0\" width=\"55\" height=\"55\" style=\"fill:#00fdcf;stroke-width:2;stroke:rgb(255,255,255)\"/><rect x=\"660\" y=\"0\" width=\"55\" height=\"55\" style=\"fill:#a17569;stroke-width:2;stroke:rgb(255,255,255)\"/><rect x=\"715\" y=\"0\" width=\"55\" height=\"55\" style=\"fill:#bcb6ff;stroke-width:2;stroke:rgb(255,255,255)\"/><rect x=\"770\" y=\"0\" width=\"55\" height=\"55\" style=\"fill:#95b577;stroke-width:2;stroke:rgb(255,255,255)\"/><rect x=\"825\" y=\"0\" width=\"55\" height=\"55\" style=\"fill:#bf03b8;stroke-width:2;stroke:rgb(255,255,255)\"/><rect x=\"880\" y=\"0\" width=\"55\" height=\"55\" style=\"fill:#645474;stroke-width:2;stroke:rgb(255,255,255)\"/><rect x=\"935\" y=\"0\" width=\"55\" height=\"55\" style=\"fill:#790000;stroke-width:2;stroke:rgb(255,255,255)\"/><rect x=\"990\" y=\"0\" width=\"55\" height=\"55\" style=\"fill:#0774d8;stroke-width:2;stroke:rgb(255,255,255)\"/><rect x=\"1045\" y=\"0\" width=\"55\" height=\"55\" style=\"fill:#fdf490;stroke-width:2;stroke:rgb(255,255,255)\"/><rect x=\"1100\" y=\"0\" width=\"55\" height=\"55\" style=\"fill:#004b00;stroke-width:2;stroke:rgb(255,255,255)\"/><rect x=\"1155\" y=\"0\" width=\"55\" height=\"55\" style=\"fill:#8e7900;stroke-width:2;stroke:rgb(255,255,255)\"/><rect x=\"1210\" y=\"0\" width=\"55\" height=\"55\" style=\"fill:#ff7266;stroke-width:2;stroke:rgb(255,255,255)\"/><rect x=\"1265\" y=\"0\" width=\"55\" height=\"55\" style=\"fill:#edb8b8;stroke-width:2;stroke:rgb(255,255,255)\"/><rect x=\"1320\" y=\"0\" width=\"55\" height=\"55\" style=\"fill:#5d7e66;stroke-width:2;stroke:rgb(255,255,255)\"/><rect x=\"1375\" y=\"0\" width=\"55\" height=\"55\" style=\"fill:#9ae4ff;stroke-width:2;stroke:rgb(255,255,255)\"/><rect x=\"1430\" y=\"0\" width=\"55\" height=\"55\" style=\"fill:#eb0077;stroke-width:2;stroke:rgb(255,255,255)\"/><rect x=\"1485\" y=\"0\" width=\"55\" height=\"55\" style=\"fill:#a57bb8;stroke-width:2;stroke:rgb(255,255,255)\"/><rect x=\"1540\" y=\"0\" width=\"55\" height=\"55\" style=\"fill:#5900a3;stroke-width:2;stroke:rgb(255,255,255)\"/><rect x=\"1595\" y=\"0\" width=\"55\" height=\"55\" style=\"fill:#03c600;stroke-width:2;stroke:rgb(255,255,255)\"/><rect x=\"1650\" y=\"0\" width=\"55\" height=\"55\" style=\"fill:#9e4b00;stroke-width:2;stroke:rgb(255,255,255)\"/><rect x=\"1705\" y=\"0\" width=\"55\" height=\"55\" style=\"fill:#9c3b4f;stroke-width:2;stroke:rgb(255,255,255)\"/><rect x=\"1760\" y=\"0\" width=\"55\" height=\"55\" style=\"fill:#cac300;stroke-width:2;stroke:rgb(255,255,255)\"/><rect x=\"1815\" y=\"0\" width=\"55\" height=\"55\" style=\"fill:#708297;stroke-width:2;stroke:rgb(255,255,255)\"/><rect x=\"1870\" y=\"0\" width=\"55\" height=\"55\" style=\"fill:#00af89;stroke-width:2;stroke:rgb(255,255,255)\"/><rect x=\"1925\" y=\"0\" width=\"55\" height=\"55\" style=\"fill:#8287ff;stroke-width:2;stroke:rgb(255,255,255)\"/><rect x=\"1980\" y=\"0\" width=\"55\" height=\"55\" style=\"fill:#5d363b;stroke-width:2;stroke:rgb(255,255,255)\"/><rect x=\"2035\" y=\"0\" width=\"55\" height=\"55\" style=\"fill:#380000;stroke-width:2;stroke:rgb(255,255,255)\"/><rect x=\"2090\" y=\"0\" width=\"55\" height=\"55\" style=\"fill:#fdbfff;stroke-width:2;stroke:rgb(255,255,255)\"/><rect x=\"2145\" y=\"0\" width=\"55\" height=\"55\" style=\"fill:#bde6bf;stroke-width:2;stroke:rgb(255,255,255)\"/><rect x=\"2200\" y=\"0\" width=\"55\" height=\"55\" style=\"fill:#db6d01;stroke-width:2;stroke:rgb(255,255,255)\"/><rect x=\"2255\" y=\"0\" width=\"55\" height=\"55\" style=\"fill:#93b8b5;stroke-width:2;stroke:rgb(255,255,255)\"/></svg>"
      ],
      "text/plain": [
       "[(0.8392156862745098, 0.0, 0.0),\n",
       " (0.5490196078431373, 0.23137254901960785, 1.0),\n",
       " (0.00392156862745098, 0.5294117647058824, 0.0),\n",
       " (0.0, 0.6745098039215687, 0.7764705882352941),\n",
       " (0.592156862745098, 1.0, 0.0),\n",
       " (1.0, 0.49411764705882355, 0.8196078431372549),\n",
       " (0.4196078431372549, 0.0, 0.30980392156862746),\n",
       " (1.0, 0.6470588235294118, 0.1843137254901961),\n",
       " (0.3411764705882353, 0.23137254901960785, 0.0),\n",
       " (0.0, 0.33725490196078434, 0.34901960784313724),\n",
       " (0.0, 0.0, 0.8666666666666667),\n",
       " (0.0, 0.9921568627450981, 0.8117647058823529),\n",
       " (0.6313725490196078, 0.4588235294117647, 0.4117647058823529),\n",
       " (0.7372549019607844, 0.7137254901960784, 1.0),\n",
       " (0.5843137254901961, 0.7098039215686275, 0.4666666666666667),\n",
       " (0.7490196078431373, 0.011764705882352941, 0.7215686274509804),\n",
       " (0.39215686274509803, 0.32941176470588235, 0.4549019607843137),\n",
       " (0.4745098039215686, 0.0, 0.0),\n",
       " (0.027450980392156862, 0.4549019607843137, 0.8470588235294118),\n",
       " (0.9921568627450981, 0.9568627450980393, 0.5647058823529412),\n",
       " (0.0, 0.29411764705882354, 0.0),\n",
       " (0.5568627450980392, 0.4745098039215686, 0.0),\n",
       " (1.0, 0.4470588235294118, 0.4),\n",
       " (0.9294117647058824, 0.7215686274509804, 0.7215686274509804),\n",
       " (0.36470588235294116, 0.49411764705882355, 0.4),\n",
       " (0.6039215686274509, 0.8941176470588236, 1.0),\n",
       " (0.9215686274509803, 0.0, 0.4666666666666667),\n",
       " (0.6470588235294118, 0.4823529411764706, 0.7215686274509804),\n",
       " (0.34901960784313724, 0.0, 0.6392156862745098),\n",
       " (0.011764705882352941, 0.7764705882352941, 0.0),\n",
       " (0.6196078431372549, 0.29411764705882354, 0.0),\n",
       " (0.611764705882353, 0.23137254901960785, 0.30980392156862746),\n",
       " (0.792156862745098, 0.7647058823529411, 0.0),\n",
       " (0.4392156862745098, 0.5098039215686274, 0.592156862745098),\n",
       " (0.0, 0.6862745098039216, 0.5372549019607843),\n",
       " (0.5098039215686274, 0.5294117647058824, 1.0),\n",
       " (0.36470588235294116, 0.21176470588235294, 0.23137254901960785),\n",
       " (0.2196078431372549, 0.0, 0.0),\n",
       " (0.9921568627450981, 0.7490196078431373, 1.0),\n",
       " (0.7411764705882353, 0.9019607843137255, 0.7490196078431373),\n",
       " (0.8588235294117647, 0.42745098039215684, 0.00392156862745098),\n",
       " (0.5764705882352941, 0.7215686274509804, 0.7098039215686275)]"
      ]
     },
     "execution_count": 28,
     "metadata": {},
     "output_type": "execute_result"
    }
   ],
   "source": [
    "pal"
   ]
  },
  {
   "cell_type": "markdown",
   "metadata": {},
   "source": [
    "## Plot integrated UMAP by individual cell type"
   ]
  },
  {
   "cell_type": "code",
   "execution_count": 29,
   "metadata": {},
   "outputs": [],
   "source": [
    "#Create directory for Plots\n",
    "directory = f'{run_name}/Plots/Max_Abundance99_Celltype_Paper'\n",
    "# Check if the directory exists\n",
    "if not os.path.exists(directory):\n",
    "    # If it doesn't exist, create it\n",
    "    os.makedirs(directory)"
   ]
  },
  {
   "cell_type": "code",
   "execution_count": 30,
   "metadata": {},
   "outputs": [],
   "source": [
    "#Set color palette \n",
    "col_dict_celltype = col_dict.copy()"
   ]
  },
  {
   "cell_type": "code",
   "execution_count": 31,
   "metadata": {},
   "outputs": [],
   "source": [
    "for key, value in col_dict_celltype.items():\n",
    "    # replace color with same value\n",
    "    col_dict_celltype[key] = '#E5E5E5'"
   ]
  },
  {
   "cell_type": "markdown",
   "metadata": {},
   "source": [
    "<div class=\"alert alert-info\">\n",
    "<b>Paper Figure!</b>\n",
    "Plot panel Figure 2B\n",
    "</div>"
   ]
  },
  {
   "cell_type": "code",
   "execution_count": 32,
   "metadata": {},
   "outputs": [],
   "source": [
    "#Select random points for plotting UMAP\n",
    "new_adata_vis = sc.pp.subsample(adata_vis, fraction=1., copy=True)"
   ]
  },
  {
   "cell_type": "code",
   "execution_count": 33,
   "metadata": {
    "scrolled": true
   },
   "outputs": [
    {
     "name": "stdout",
     "output_type": "stream",
     "text": [
      "AT0\n",
      "AT1\n",
      "AT2\n",
      "AT2 proliferating\n",
      "Adventitial fibroblasts\n",
      "Alveolar Mph CCL3+\n",
      "Alveolar Mph MT-positive\n",
      "Alveolar fibroblasts\n",
      "Alveolar macrophages\n",
      "B cells\n",
      "Basal resting\n",
      "CD4 T cells\n",
      "CD8 T cells\n",
      "Classical monocytes\n",
      "Club (non-nasal)\n",
      "DC1\n",
      "DC2\n",
      "Deuterosomal\n",
      "EC aerocyte capillary\n",
      "EC arterial\n",
      "EC general capillary\n",
      "EC venous pulmonary\n",
      "EC venous systemic\n",
      "Interstitial Mph perivascular\n",
      "Lymphatic EC mature\n",
      "Mast cells\n",
      "Migratory DCs\n",
      "Monocyte-derived Mph\n",
      "Multiciliated (non-nasal)\n",
      "Myofibroblasts\n",
      "NK cells\n",
      "Non-classical monocytes\n",
      "Peribronchial fibroblasts\n",
      "Pericytes\n",
      "Plasma cells\n",
      "Plasmacytoid DCs\n",
      "SM activated stress response\n",
      "Smooth muscle\n",
      "Subpleural fibroblasts\n",
      "Suprabasal\n",
      "T cells proliferating\n",
      "pre-TB secretory\n"
     ]
    }
   ],
   "source": [
    "for celltype, color in col_dict_celltype.items():\n",
    "    col_dict_cell = col_dict_celltype.copy() \n",
    "    print(celltype)\n",
    "    col_dict_cell[celltype] = col_dict[celltype]\n",
    "    # show regions in UMAP coordinates\n",
    "    with mpl.rc_context({'axes.facecolor':  'white',\n",
    "                            'figure.figsize': [6, 6]}):\n",
    "        sc.pl.umap(new_adata_vis, color=['Max_Abundance_Cell'], size=15,\n",
    "                    ncols = 1, show=False, sort_order=False,\n",
    "                    legend_fontsize=5, legend_fontweight='bold', projection='2d', add_outline=False, palette=col_dict_cell, legend_loc=None, frameon=False, title = f\"{celltype}\",\n",
    "                    color_map=sns.blend_palette([\"lightgray\", sns.xkcd_rgb[\"blood\"]], as_cmap=True), vmax=[\"p99.9\",None], vmin=[0,None])\n",
    "        plt.savefig(f\"{run_name}/Plots/Max_Abundance99_Celltype_Paper/Max_Abundance_99_{celltype}_Paper.png\",dpi=300, format=\"png\",pad_inches=0.2,bbox_inches=\"tight\")    \n",
    "        plt.close()"
   ]
  },
  {
   "cell_type": "markdown",
   "metadata": {},
   "source": [
    "## Identify cellular compartments using non-negative matrix factorization (NMF)\n",
    "### We performed non-negative matrix factorization (NMF) of the cell type abundance estimates from cell2location to identify the spatial co-occurrence of cell types."
   ]
  },
  {
   "cell_type": "code",
   "execution_count": 34,
   "metadata": {
    "scrolled": true
   },
   "outputs": [
    {
     "name": "stdout",
     "output_type": "stream",
     "text": [
      "### Analysis name: CoLocatedGroupsSklearnNMF_8combinations_91068locations_45factors\n",
      "WARNING: saving figure to file /mnt/beegfs/cgarcia/Spatial/COVID19/cell2location/HLCA_publication/HLCA/cell2location_map_finest/CoLocatedCombPaper/CoLocatedGroupsSklearnNMF_91068locations_45factors/spatial/showcell_density_mean_n_fact8_sL2P_p99.2.pdf\n",
      "WARNING: saving figure to file /mnt/beegfs/cgarcia/Spatial/COVID19/cell2location/HLCA_publication/HLCA/cell2location_map_finest/CoLocatedCombPaper/CoLocatedGroupsSklearnNMF_91068locations_45factors/spatial/showcell_density_mean_n_fact8_sL5P_p99.2.pdf\n",
      "WARNING: saving figure to file /mnt/beegfs/cgarcia/Spatial/COVID19/cell2location/HLCA_publication/HLCA/cell2location_map_finest/CoLocatedCombPaper/CoLocatedGroupsSklearnNMF_91068locations_45factors/spatial/showcell_density_mean_n_fact8_sL14P_p99.2.pdf\n",
      "WARNING: saving figure to file /mnt/beegfs/cgarcia/Spatial/COVID19/cell2location/HLCA_publication/HLCA/cell2location_map_finest/CoLocatedCombPaper/CoLocatedGroupsSklearnNMF_91068locations_45factors/spatial/showcell_density_mean_n_fact8_sL19P_p99.2.pdf\n",
      "WARNING: saving figure to file /mnt/beegfs/cgarcia/Spatial/COVID19/cell2location/HLCA_publication/HLCA/cell2location_map_finest/CoLocatedCombPaper/CoLocatedGroupsSklearnNMF_91068locations_45factors/spatial/showcell_density_mean_n_fact8_sL24P_p99.2.pdf\n",
      "WARNING: saving figure to file /mnt/beegfs/cgarcia/Spatial/COVID19/cell2location/HLCA_publication/HLCA/cell2location_map_finest/CoLocatedCombPaper/CoLocatedGroupsSklearnNMF_91068locations_45factors/spatial/showcell_density_mean_n_fact8_sL3C_p99.2.pdf\n",
      "WARNING: saving figure to file /mnt/beegfs/cgarcia/Spatial/COVID19/cell2location/HLCA_publication/HLCA/cell2location_map_finest/CoLocatedCombPaper/CoLocatedGroupsSklearnNMF_91068locations_45factors/spatial/showcell_density_mean_n_fact8_sL14C_p99.2.pdf\n",
      "WARNING: saving figure to file /mnt/beegfs/cgarcia/Spatial/COVID19/cell2location/HLCA_publication/HLCA/cell2location_map_finest/CoLocatedCombPaper/CoLocatedGroupsSklearnNMF_91068locations_45factors/spatial/showcell_density_mean_n_fact8_sL2C_p99.2.pdf\n",
      "WARNING: saving figure to file /mnt/beegfs/cgarcia/Spatial/COVID19/cell2location/HLCA_publication/HLCA/cell2location_map_finest/CoLocatedCombPaper/CoLocatedGroupsSklearnNMF_91068locations_45factors/spatial/showcell_density_mean_n_fact8_sL11P_p99.2.pdf\n",
      "WARNING: saving figure to file /mnt/beegfs/cgarcia/Spatial/COVID19/cell2location/HLCA_publication/HLCA/cell2location_map_finest/CoLocatedCombPaper/CoLocatedGroupsSklearnNMF_91068locations_45factors/spatial/showcell_density_mean_n_fact8_sL12P_p99.2.pdf\n",
      "WARNING: saving figure to file /mnt/beegfs/cgarcia/Spatial/COVID19/cell2location/HLCA_publication/HLCA/cell2location_map_finest/CoLocatedCombPaper/CoLocatedGroupsSklearnNMF_91068locations_45factors/spatial/showcell_density_mean_n_fact8_sCONTROL2_p99.2.pdf\n",
      "WARNING: saving figure to file /mnt/beegfs/cgarcia/Spatial/COVID19/cell2location/HLCA_publication/HLCA/cell2location_map_finest/CoLocatedCombPaper/CoLocatedGroupsSklearnNMF_91068locations_45factors/spatial/showcell_density_mean_n_fact8_sHRC2_p99.2.pdf\n",
      "WARNING: saving figure to file /mnt/beegfs/cgarcia/Spatial/COVID19/cell2location/HLCA_publication/HLCA/cell2location_map_finest/CoLocatedCombPaper/CoLocatedGroupsSklearnNMF_91068locations_45factors/spatial/showcell_density_mean_n_fact8_sHRC4_p99.2.pdf\n",
      "WARNING: saving figure to file /mnt/beegfs/cgarcia/Spatial/COVID19/cell2location/HLCA_publication/HLCA/cell2location_map_finest/CoLocatedCombPaper/CoLocatedGroupsSklearnNMF_91068locations_45factors/spatial/showcell_density_mean_n_fact8_sHRC5_p99.2.pdf\n",
      "WARNING: saving figure to file /mnt/beegfs/cgarcia/Spatial/COVID19/cell2location/HLCA_publication/HLCA/cell2location_map_finest/CoLocatedCombPaper/CoLocatedGroupsSklearnNMF_91068locations_45factors/spatial/showcell_density_mean_n_fact8_sHRC6_p99.2.pdf\n",
      "WARNING: saving figure to file /mnt/beegfs/cgarcia/Spatial/COVID19/cell2location/HLCA_publication/HLCA/cell2location_map_finest/CoLocatedCombPaper/CoLocatedGroupsSklearnNMF_91068locations_45factors/spatial/showcell_density_mean_n_fact8_sHRC8_p99.2.pdf\n",
      "WARNING: saving figure to file /mnt/beegfs/cgarcia/Spatial/COVID19/cell2location/HLCA_publication/HLCA/cell2location_map_finest/CoLocatedCombPaper/CoLocatedGroupsSklearnNMF_91068locations_45factors/spatial/showcell_density_mean_n_fact8_sHRC10_p99.2.pdf\n",
      "WARNING: saving figure to file /mnt/beegfs/cgarcia/Spatial/COVID19/cell2location/HLCA_publication/HLCA/cell2location_map_finest/CoLocatedCombPaper/CoLocatedGroupsSklearnNMF_91068locations_45factors/spatial/showcell_density_mean_n_fact8_sHRC11_p99.2.pdf\n",
      "WARNING: saving figure to file /mnt/beegfs/cgarcia/Spatial/COVID19/cell2location/HLCA_publication/HLCA/cell2location_map_finest/CoLocatedCombPaper/CoLocatedGroupsSklearnNMF_91068locations_45factors/spatial/showcell_density_mean_n_fact8_sHRC12_p99.2.pdf\n",
      "WARNING: saving figure to file /mnt/beegfs/cgarcia/Spatial/COVID19/cell2location/HLCA_publication/HLCA/cell2location_map_finest/CoLocatedCombPaper/CoLocatedGroupsSklearnNMF_91068locations_45factors/spatial/showcell_density_mean_n_fact8_sHRC13_p99.2.pdf\n",
      "WARNING: saving figure to file /mnt/beegfs/cgarcia/Spatial/COVID19/cell2location/HLCA_publication/HLCA/cell2location_map_finest/CoLocatedCombPaper/CoLocatedGroupsSklearnNMF_91068locations_45factors/spatial/showcell_density_mean_n_fact8_sHRC16_p99.2.pdf\n",
      "WARNING: saving figure to file /mnt/beegfs/cgarcia/Spatial/COVID19/cell2location/HLCA_publication/HLCA/cell2location_map_finest/CoLocatedCombPaper/CoLocatedGroupsSklearnNMF_91068locations_45factors/spatial/showcell_density_mean_n_fact8_sHRC17_p99.2.pdf\n",
      "WARNING: saving figure to file /mnt/beegfs/cgarcia/Spatial/COVID19/cell2location/HLCA_publication/HLCA/cell2location_map_finest/CoLocatedCombPaper/CoLocatedGroupsSklearnNMF_91068locations_45factors/spatial/showcell_density_mean_n_fact8_sHRC18_p99.2.pdf\n"
     ]
    }
   ],
   "source": [
    "#from cell2location import run_colocation\n",
    "res_dict, adata_vis = run_colocation(\n",
    "    adata_vis, \n",
    "    model_name='CoLocatedGroupsSklearnNMF',\n",
    "    train_args={\n",
    "      'n_fact': np.arange(8,9), \n",
    "      'sample_name_col': 'sample',      \n",
    "      'n_restarts': 3 \n",
    "    },\n",
    "    export_args={'path': f'{run_name}/CoLocatedCombPaper/'}\n",
    ") "
   ]
  },
  {
   "cell_type": "markdown",
   "metadata": {},
   "source": [
    "### Group samples by condition and apply NMF"
   ]
  },
  {
   "cell_type": "code",
   "execution_count": 35,
   "metadata": {},
   "outputs": [],
   "source": [
    "covid19_proliferative = [\"L2P\",\"L19P\",\"L11P\",\"HRC5\",\"HRC6\",\"HRC8\",\"HRC10\",\"HRC11\",\"HRC12\",\"HRC13\",\"HRC16\",\"HRC17\"]\n",
    "covid19_acute = [\"L5P\",\"L14P\",\"L24P\",\"L12P\",\"HRC2\",\"HRC4\",\"HRC18\"]\n",
    "controls = [\"L3C\",\"L14C\",\"L2C\",\"CONTROL2\"]\n",
    "covid19 = [\"L5P\",\"L14P\",\"L24P\",\"L12P\",\"HRC2\",\"HRC4\",\"HRC18\",\"L2P\",\"L19P\",\"L11P\",\"HRC5\",\"HRC6\",\"HRC8\",\"HRC10\",\"HRC11\",\"HRC12\",\"HRC13\",\"HRC16\",\"HRC17\"]"
   ]
  },
  {
   "cell_type": "code",
   "execution_count": 36,
   "metadata": {},
   "outputs": [],
   "source": [
    "adata_vis_ctl = adata_vis[adata_vis.obs['sample'].isin(controls)]\n",
    "adata_vis_covid_acute = adata_vis[adata_vis.obs['sample'].isin(covid19_acute)]\n",
    "adata_vis_covid_proliferative = adata_vis[adata_vis.obs['sample'].isin(covid19_proliferative)]"
   ]
  },
  {
   "cell_type": "code",
   "execution_count": 37,
   "metadata": {
    "scrolled": true
   },
   "outputs": [
    {
     "name": "stdout",
     "output_type": "stream",
     "text": [
      "### Analysis name: CoLocatedGroupsSklearnNMF_8combinations_13488locations_45factors\n",
      "WARNING: saving figure to file /mnt/beegfs/cgarcia/Spatial/COVID19/cell2location/HLCA_publication/HLCA/cell2location_map_finest/CoLocatedCombControlsPaper/CoLocatedGroupsSklearnNMF_13488locations_45factors/spatial/showcell_density_mean_n_fact8_sL3C_p99.2.pdf\n",
      "WARNING: saving figure to file /mnt/beegfs/cgarcia/Spatial/COVID19/cell2location/HLCA_publication/HLCA/cell2location_map_finest/CoLocatedCombControlsPaper/CoLocatedGroupsSklearnNMF_13488locations_45factors/spatial/showcell_density_mean_n_fact8_sL14C_p99.2.pdf\n",
      "WARNING: saving figure to file /mnt/beegfs/cgarcia/Spatial/COVID19/cell2location/HLCA_publication/HLCA/cell2location_map_finest/CoLocatedCombControlsPaper/CoLocatedGroupsSklearnNMF_13488locations_45factors/spatial/showcell_density_mean_n_fact8_sL2C_p99.2.pdf\n",
      "WARNING: saving figure to file /mnt/beegfs/cgarcia/Spatial/COVID19/cell2location/HLCA_publication/HLCA/cell2location_map_finest/CoLocatedCombControlsPaper/CoLocatedGroupsSklearnNMF_13488locations_45factors/spatial/showcell_density_mean_n_fact8_sCONTROL2_p99.2.pdf\n"
     ]
    }
   ],
   "source": [
    "#from cell2location import run_colocation\n",
    "res_dict, adata_vis_ctl = run_colocation(\n",
    "    adata_vis_ctl, \n",
    "    model_name='CoLocatedGroupsSklearnNMF',\n",
    "    train_args={\n",
    "      'n_fact': np.arange(8,9), \n",
    "      'sample_name_col': 'sample',      \n",
    "      'n_restarts': 3 \n",
    "    },\n",
    "    export_args={'path': f'{run_name}/CoLocatedCombControlsPaper/'}\n",
    ") "
   ]
  },
  {
   "cell_type": "code",
   "execution_count": 38,
   "metadata": {
    "scrolled": true
   },
   "outputs": [
    {
     "name": "stdout",
     "output_type": "stream",
     "text": [
      "### Analysis name: CoLocatedGroupsSklearnNMF_8combinations_27951locations_45factors\n",
      "WARNING: saving figure to file /mnt/beegfs/cgarcia/Spatial/COVID19/cell2location/HLCA_publication/HLCA/cell2location_map_finest/CoLocatedCombAcutePaper/CoLocatedGroupsSklearnNMF_27951locations_45factors/spatial/showcell_density_mean_n_fact8_sL5P_p99.2.pdf\n",
      "WARNING: saving figure to file /mnt/beegfs/cgarcia/Spatial/COVID19/cell2location/HLCA_publication/HLCA/cell2location_map_finest/CoLocatedCombAcutePaper/CoLocatedGroupsSklearnNMF_27951locations_45factors/spatial/showcell_density_mean_n_fact8_sL14P_p99.2.pdf\n",
      "WARNING: saving figure to file /mnt/beegfs/cgarcia/Spatial/COVID19/cell2location/HLCA_publication/HLCA/cell2location_map_finest/CoLocatedCombAcutePaper/CoLocatedGroupsSklearnNMF_27951locations_45factors/spatial/showcell_density_mean_n_fact8_sL24P_p99.2.pdf\n",
      "WARNING: saving figure to file /mnt/beegfs/cgarcia/Spatial/COVID19/cell2location/HLCA_publication/HLCA/cell2location_map_finest/CoLocatedCombAcutePaper/CoLocatedGroupsSklearnNMF_27951locations_45factors/spatial/showcell_density_mean_n_fact8_sL12P_p99.2.pdf\n",
      "WARNING: saving figure to file /mnt/beegfs/cgarcia/Spatial/COVID19/cell2location/HLCA_publication/HLCA/cell2location_map_finest/CoLocatedCombAcutePaper/CoLocatedGroupsSklearnNMF_27951locations_45factors/spatial/showcell_density_mean_n_fact8_sHRC2_p99.2.pdf\n",
      "WARNING: saving figure to file /mnt/beegfs/cgarcia/Spatial/COVID19/cell2location/HLCA_publication/HLCA/cell2location_map_finest/CoLocatedCombAcutePaper/CoLocatedGroupsSklearnNMF_27951locations_45factors/spatial/showcell_density_mean_n_fact8_sHRC4_p99.2.pdf\n",
      "WARNING: saving figure to file /mnt/beegfs/cgarcia/Spatial/COVID19/cell2location/HLCA_publication/HLCA/cell2location_map_finest/CoLocatedCombAcutePaper/CoLocatedGroupsSklearnNMF_27951locations_45factors/spatial/showcell_density_mean_n_fact8_sHRC18_p99.2.pdf\n"
     ]
    }
   ],
   "source": [
    "#from cell2location import run_colocation\n",
    "res_dict, adata_vis_covid_acute = run_colocation(\n",
    "    adata_vis_covid_acute, \n",
    "    model_name='CoLocatedGroupsSklearnNMF',\n",
    "    train_args={\n",
    "      'n_fact': np.arange(8,9), \n",
    "      'sample_name_col': 'sample',      \n",
    "      'n_restarts': 3 \n",
    "    },\n",
    "    export_args={'path': f'{run_name}/CoLocatedCombAcutePaper/'}\n",
    ") "
   ]
  },
  {
   "cell_type": "code",
   "execution_count": 39,
   "metadata": {
    "scrolled": true
   },
   "outputs": [
    {
     "name": "stdout",
     "output_type": "stream",
     "text": [
      "### Analysis name: CoLocatedGroupsSklearnNMF_8combinations_49629locations_45factors\n",
      "WARNING: saving figure to file /mnt/beegfs/cgarcia/Spatial/COVID19/cell2location/HLCA_publication/HLCA/cell2location_map_finest/CoLocatedCombProliferativePaper/CoLocatedGroupsSklearnNMF_49629locations_45factors/spatial/showcell_density_mean_n_fact8_sL2P_p99.2.pdf\n",
      "WARNING: saving figure to file /mnt/beegfs/cgarcia/Spatial/COVID19/cell2location/HLCA_publication/HLCA/cell2location_map_finest/CoLocatedCombProliferativePaper/CoLocatedGroupsSklearnNMF_49629locations_45factors/spatial/showcell_density_mean_n_fact8_sL19P_p99.2.pdf\n",
      "WARNING: saving figure to file /mnt/beegfs/cgarcia/Spatial/COVID19/cell2location/HLCA_publication/HLCA/cell2location_map_finest/CoLocatedCombProliferativePaper/CoLocatedGroupsSklearnNMF_49629locations_45factors/spatial/showcell_density_mean_n_fact8_sL11P_p99.2.pdf\n",
      "WARNING: saving figure to file /mnt/beegfs/cgarcia/Spatial/COVID19/cell2location/HLCA_publication/HLCA/cell2location_map_finest/CoLocatedCombProliferativePaper/CoLocatedGroupsSklearnNMF_49629locations_45factors/spatial/showcell_density_mean_n_fact8_sHRC5_p99.2.pdf\n",
      "WARNING: saving figure to file /mnt/beegfs/cgarcia/Spatial/COVID19/cell2location/HLCA_publication/HLCA/cell2location_map_finest/CoLocatedCombProliferativePaper/CoLocatedGroupsSklearnNMF_49629locations_45factors/spatial/showcell_density_mean_n_fact8_sHRC6_p99.2.pdf\n",
      "WARNING: saving figure to file /mnt/beegfs/cgarcia/Spatial/COVID19/cell2location/HLCA_publication/HLCA/cell2location_map_finest/CoLocatedCombProliferativePaper/CoLocatedGroupsSklearnNMF_49629locations_45factors/spatial/showcell_density_mean_n_fact8_sHRC8_p99.2.pdf\n",
      "WARNING: saving figure to file /mnt/beegfs/cgarcia/Spatial/COVID19/cell2location/HLCA_publication/HLCA/cell2location_map_finest/CoLocatedCombProliferativePaper/CoLocatedGroupsSklearnNMF_49629locations_45factors/spatial/showcell_density_mean_n_fact8_sHRC10_p99.2.pdf\n",
      "WARNING: saving figure to file /mnt/beegfs/cgarcia/Spatial/COVID19/cell2location/HLCA_publication/HLCA/cell2location_map_finest/CoLocatedCombProliferativePaper/CoLocatedGroupsSklearnNMF_49629locations_45factors/spatial/showcell_density_mean_n_fact8_sHRC11_p99.2.pdf\n",
      "WARNING: saving figure to file /mnt/beegfs/cgarcia/Spatial/COVID19/cell2location/HLCA_publication/HLCA/cell2location_map_finest/CoLocatedCombProliferativePaper/CoLocatedGroupsSklearnNMF_49629locations_45factors/spatial/showcell_density_mean_n_fact8_sHRC12_p99.2.pdf\n",
      "WARNING: saving figure to file /mnt/beegfs/cgarcia/Spatial/COVID19/cell2location/HLCA_publication/HLCA/cell2location_map_finest/CoLocatedCombProliferativePaper/CoLocatedGroupsSklearnNMF_49629locations_45factors/spatial/showcell_density_mean_n_fact8_sHRC13_p99.2.pdf\n",
      "WARNING: saving figure to file /mnt/beegfs/cgarcia/Spatial/COVID19/cell2location/HLCA_publication/HLCA/cell2location_map_finest/CoLocatedCombProliferativePaper/CoLocatedGroupsSklearnNMF_49629locations_45factors/spatial/showcell_density_mean_n_fact8_sHRC16_p99.2.pdf\n",
      "WARNING: saving figure to file /mnt/beegfs/cgarcia/Spatial/COVID19/cell2location/HLCA_publication/HLCA/cell2location_map_finest/CoLocatedCombProliferativePaper/CoLocatedGroupsSklearnNMF_49629locations_45factors/spatial/showcell_density_mean_n_fact8_sHRC17_p99.2.pdf\n"
     ]
    }
   ],
   "source": [
    "#from cell2location import run_colocation\n",
    "res_dict, adata_vis_covid_proliferative = run_colocation(\n",
    "    adata_vis_covid_proliferative, \n",
    "    model_name='CoLocatedGroupsSklearnNMF',\n",
    "    train_args={\n",
    "      'n_fact': np.arange(8,9), \n",
    "      'sample_name_col': 'sample',      \n",
    "      'n_restarts': 3 \n",
    "    },\n",
    "    export_args={'path': f'{run_name}/CoLocatedCombProliferativePaper/'}\n",
    ") "
   ]
  },
  {
   "cell_type": "code",
   "execution_count": 40,
   "metadata": {},
   "outputs": [],
   "source": [
    "# Save anndata object by condition with NMF results\n",
    "adata_file_ctl = f\"{run_name}/ad_vis_post_distrib_finest_NMF_Controls_Paper.h5ad\"\n",
    "adata_vis_ctl.write(adata_file_ctl)\n",
    "\n",
    "adata_file_acute = f\"{run_name}/ad_vis_post_distrib_finest_NMF_Acute_Paper.h5ad\"\n",
    "adata_vis_covid_acute.write(adata_file_acute)\n",
    "\n",
    "adata_file_proliferative = f\"{run_name}/ad_vis_post_distrib_finest_NMF_Proliferative_Paper.h5ad\"\n",
    "adata_vis_covid_proliferative.write(adata_file_proliferative)"
   ]
  },
  {
   "cell_type": "markdown",
   "metadata": {},
   "source": [
    "### Add cell type abundance by lineage"
   ]
  },
  {
   "cell_type": "code",
   "execution_count": 41,
   "metadata": {},
   "outputs": [
    {
     "data": {
      "text/plain": [
       "Index(['Basal resting', 'Suprabasal', 'Deuterosomal',\n",
       "       'Multiciliated (non-nasal)', 'Club (non-nasal)', 'AT0',\n",
       "       'pre-TB secretory', 'AT1', 'AT2', 'AT2 proliferating', 'EC arterial',\n",
       "       'EC aerocyte capillary', 'EC general capillary', 'EC venous systemic',\n",
       "       'EC venous pulmonary', 'Lymphatic EC mature',\n",
       "       'Lymphatic EC differentiating', 'Peribronchial fibroblasts',\n",
       "       'Adventitial fibroblasts', 'Alveolar fibroblasts', 'Pericytes',\n",
       "       'Subpleural fibroblasts', 'Myofibroblasts', 'Smooth muscle',\n",
       "       'SM activated stress response', 'Mesothelium', 'B cells',\n",
       "       'Plasma cells', 'CD4 T cells', 'CD8 T cells', 'T cells proliferating',\n",
       "       'NK cells', 'DC1', 'DC2', 'Migratory DCs', 'Plasmacytoid DCs',\n",
       "       'Alveolar macrophages', 'Alveolar Mph CCL3+',\n",
       "       'Alveolar Mph MT-positive', 'Alveolar Mph proliferating',\n",
       "       'Monocyte-derived Mph', 'Interstitial Mph perivascular',\n",
       "       'Classical monocytes', 'Non-classical monocytes', 'Mast cells'],\n",
       "      dtype='object')"
      ]
     },
     "execution_count": 41,
     "metadata": {},
     "output_type": "execute_result"
    }
   ],
   "source": [
    "adata_vis.obs[adata_vis.uns['mod']['factor_names']].columns"
   ]
  },
  {
   "cell_type": "code",
   "execution_count": 42,
   "metadata": {},
   "outputs": [],
   "source": [
    "##Select cell types by cell lineage\n",
    "Epithelial_cell_types = ['Basal resting','Suprabasal','Multiciliated (non-nasal)', 'Deuterosomal', 'Club (non-nasal)', 'pre-TB secretory', 'AT0', 'AT1', 'AT2', 'AT2 proliferating'] \n",
    "Stromal_cell_types = ['Adventitial fibroblasts', 'Alveolar fibroblasts', 'Pericytes', 'Peribronchial fibroblasts', 'Subpleural fibroblasts', 'Myofibroblasts', 'Smooth muscle', 'SM activated stress response', 'Mesothelium']\n",
    "Immune_cell_types = ['B cells', 'Plasma cells', 'CD8 T cells', 'CD4 T cells', 'T cells proliferating', 'NK cells', 'Monocyte-derived Mph', 'Alveolar Mph CCL3+', 'Interstitial Mph perivascular', 'Alveolar Mph MT-positive', 'Alveolar Mph proliferating', 'Alveolar macrophages', 'Mast cells', 'DC1', 'DC2', 'Migratory DCs', 'Plasmacytoid DCs', 'Classical monocytes', 'Non-classical monocytes']\n",
    "Endothelial_cell_types = ['EC general capillary', 'EC arterial', 'EC aerocyte capillary', 'EC venous systemic', 'EC venous pulmonary', 'Lymphatic EC differentiating', 'Lymphatic EC mature']"
   ]
  },
  {
   "cell_type": "code",
   "execution_count": 43,
   "metadata": {},
   "outputs": [
    {
     "data": {
      "text/plain": [
       "(10, 9, 19, 7)"
      ]
     },
     "execution_count": 43,
     "metadata": {},
     "output_type": "execute_result"
    }
   ],
   "source": [
    "len(Epithelial_cell_types),len(Stromal_cell_types),len(Immune_cell_types),len(Endothelial_cell_types)"
   ]
  },
  {
   "cell_type": "code",
   "execution_count": 44,
   "metadata": {},
   "outputs": [
    {
     "data": {
      "text/plain": [
       "45"
      ]
     },
     "execution_count": 44,
     "metadata": {},
     "output_type": "execute_result"
    }
   ],
   "source": [
    "len(Epithelial_cell_types)+len(Stromal_cell_types)+len(Immune_cell_types)+len(Endothelial_cell_types)"
   ]
  },
  {
   "cell_type": "code",
   "execution_count": 45,
   "metadata": {},
   "outputs": [],
   "source": [
    "adata_vis.obs['Epithelial'] =  adata_vis.obs['Basal resting']+adata_vis.obs['Suprabasal']+adata_vis.obs['Multiciliated (non-nasal)']+adata_vis.obs['Deuterosomal']+adata_vis.obs['Club (non-nasal)']+adata_vis.obs['pre-TB secretory']+ adata_vis.obs['AT0']+ adata_vis.obs['AT1']+ adata_vis.obs['AT2']+ adata_vis.obs['AT2 proliferating']"
   ]
  },
  {
   "cell_type": "code",
   "execution_count": 46,
   "metadata": {},
   "outputs": [],
   "source": [
    "adata_vis.obs['Stromal'] = adata_vis.obs['Adventitial fibroblasts']+adata_vis.obs['Alveolar fibroblasts']+adata_vis.obs['Pericytes']+adata_vis.obs['Peribronchial fibroblasts']+adata_vis.obs['Subpleural fibroblasts']+adata_vis.obs['Myofibroblasts']+adata_vis.obs['Smooth muscle']+adata_vis.obs['SM activated stress response']+adata_vis.obs['Mesothelium']"
   ]
  },
  {
   "cell_type": "code",
   "execution_count": 47,
   "metadata": {},
   "outputs": [],
   "source": [
    "adata_vis.obs['Immune'] = adata_vis.obs['B cells']+adata_vis.obs['Plasma cells']+adata_vis.obs['CD8 T cells']+adata_vis.obs['CD4 T cells']+adata_vis.obs['T cells proliferating']+adata_vis.obs['NK cells']+adata_vis.obs['Monocyte-derived Mph']+adata_vis.obs['Alveolar Mph CCL3+']+adata_vis.obs['Interstitial Mph perivascular']+adata_vis.obs['Alveolar Mph MT-positive']+adata_vis.obs['Alveolar Mph proliferating']+adata_vis.obs['Alveolar macrophages']+adata_vis.obs['Mast cells']+adata_vis.obs['DC1']+adata_vis.obs['DC2']+adata_vis.obs['Migratory DCs']+adata_vis.obs['Plasmacytoid DCs']+adata_vis.obs['Classical monocytes']+adata_vis.obs['Non-classical monocytes']"
   ]
  },
  {
   "cell_type": "code",
   "execution_count": 48,
   "metadata": {},
   "outputs": [],
   "source": [
    "adata_vis.obs['Endothelial'] =  adata_vis.obs['EC general capillary']+adata_vis.obs['EC arterial']+adata_vis.obs['EC aerocyte capillary']+adata_vis.obs['EC venous systemic']+adata_vis.obs['EC venous pulmonary']+adata_vis.obs['Lymphatic EC differentiating']+adata_vis.obs['Lymphatic EC mature']"
   ]
  },
  {
   "cell_type": "markdown",
   "metadata": {},
   "source": [
    "### Add most abundant lineage for each spot"
   ]
  },
  {
   "cell_type": "code",
   "execution_count": 49,
   "metadata": {},
   "outputs": [],
   "source": [
    "adata_vis.obs[\"Max_Abundance_Lineage\"] = adata_vis.obs[['Endothelial', 'Epithelial', 'Immune', 'Stromal']].apply(np.max,axis=1)"
   ]
  },
  {
   "cell_type": "code",
   "execution_count": 50,
   "metadata": {},
   "outputs": [],
   "source": [
    "adata_vis.obs[\"Max_Abundance_Cell_Lineage\"] = adata_vis.obs[['Endothelial', 'Epithelial', 'Immune', 'Stromal']].idxmax(axis=1)"
   ]
  },
  {
   "cell_type": "code",
   "execution_count": 51,
   "metadata": {},
   "outputs": [],
   "source": [
    "#Set color palette for each lineage\n",
    "col_dict_lineage = {'Endothelial': '#d60000', 'Epithelial': '#97ff00', 'Immune': '#ffa52f', 'Stromal': '#005659'}"
   ]
  },
  {
   "cell_type": "markdown",
   "metadata": {},
   "source": [
    "## Plot integrated UMAP by most abundant lineage for each spot"
   ]
  },
  {
   "cell_type": "markdown",
   "metadata": {},
   "source": [
    "<div class=\"alert alert-info\">\n",
    "<b>Paper Figure!</b>\n",
    "Plot panel Figure 1B\n",
    "</div>"
   ]
  },
  {
   "cell_type": "code",
   "execution_count": 52,
   "metadata": {},
   "outputs": [],
   "source": [
    "#Select random points for plotting UMAP\n",
    "new_adata_vis = sc.pp.subsample(adata_vis, fraction=1., copy=True)"
   ]
  },
  {
   "cell_type": "code",
   "execution_count": 53,
   "metadata": {},
   "outputs": [],
   "source": [
    "# Plot max abundance lineage \n",
    "with mpl.rc_context({'axes.facecolor':  'white',\n",
    "                        'figure.figsize': [6, 6]}):\n",
    "    sc.pl.umap(new_adata_vis, color=['Max_Abundance_Cell_Lineage'], size=15,\n",
    "                ncols = 1, show=False, sort_order=False,\n",
    "                legend_fontsize=10, legend_fontweight='bold', projection='2d', add_outline=False, palette = col_dict_lineage, legend_loc=None, frameon = False,\n",
    "                color_map=sns.blend_palette([\"lightgray\", sns.xkcd_rgb[\"blood\"]], as_cmap=True), vmax=[\"p99.9\",None], vmin=[0,None])\n",
    "    plt.savefig(f\"{run_name}/Plots/Max_Abundance_Lineage_99_Paper.png\",dpi=300, format=\"png\",pad_inches=0.2,bbox_inches=\"tight\")\n",
    "    plt.close()"
   ]
  },
  {
   "cell_type": "markdown",
   "metadata": {},
   "source": [
    "## Plot integrated UMAP by sample with most abundant lineage for each spot"
   ]
  },
  {
   "cell_type": "markdown",
   "metadata": {},
   "source": [
    "<div class=\"alert alert-info\">\n",
    "<b>Paper Figure!</b>\n",
    "Plot panel Figure 1B\n",
    "</div>"
   ]
  },
  {
   "cell_type": "code",
   "execution_count": 54,
   "metadata": {},
   "outputs": [],
   "source": [
    "#Create directory for Plots\n",
    "directory = f'{run_name}/Plots/Max_Abundance99_Lineage_Paper'\n",
    "# Check if the directory exists\n",
    "if not os.path.exists(directory):\n",
    "    # If it doesn't exist, create it\n",
    "    os.makedirs(directory)"
   ]
  },
  {
   "cell_type": "code",
   "execution_count": 55,
   "metadata": {
    "scrolled": true,
    "tags": []
   },
   "outputs": [
    {
     "name": "stdout",
     "output_type": "stream",
     "text": [
      "L2P\n",
      "L19P\n",
      "L11P\n",
      "HRC5\n",
      "HRC6\n",
      "HRC8\n",
      "HRC10\n",
      "HRC11\n",
      "HRC12\n",
      "HRC13\n",
      "HRC16\n",
      "HRC17\n",
      "L5P\n",
      "L14P\n",
      "L24P\n",
      "L12P\n",
      "HRC2\n",
      "HRC4\n",
      "HRC18\n",
      "L3C\n",
      "L14C\n",
      "L2C\n",
      "CONTROL2\n"
     ]
    }
   ],
   "source": [
    "# Plot Max Abundance Lineage by sample\n",
    "samples = [\"L2P\",\"L19P\",\"L11P\",\"HRC5\",\"HRC6\",\"HRC8\",\"HRC10\",\"HRC11\",\"HRC12\",\"HRC13\",\"HRC16\",\"HRC17\",\"L5P\",\"L14P\",\"L24P\",\"L12P\",\"HRC2\",\"HRC4\",\"HRC18\",\"L3C\",\"L14C\",\"L2C\",\"CONTROL2\"]\n",
    "\n",
    "for sample in samples:\n",
    "    print(sample)\n",
    "    slide = select_slide(adata_vis, f'{sample}')\n",
    "    #select random points\n",
    "    new_slide = sc.pp.subsample(slide, fraction=1., copy=True)\n",
    "    with mpl.rc_context({'axes.facecolor':  'white',\n",
    "                         'figure.figsize': [6, 6]}):\n",
    "        sc.pl.umap(new_slide, color=['Max_Abundance_Cell_Lineage'], size=50,\n",
    "                   ncols = 1, show=False, sort_order=False,\n",
    "                   legend_fontsize=10, legend_fontweight='bold', projection='2d', add_outline=False, palette=col_dict_lineage, legend_loc='right margin', frameon=False,\n",
    "                   color_map=sns.blend_palette([\"lightgray\", sns.xkcd_rgb[\"blood\"]], as_cmap=True), vmax=[\"p99.9\",None], vmin=[0,None])\n",
    "        plt.savefig(f\"{run_name}/Plots/Max_Abundance99_Lineage_Paper/{sample}_Max_Abundance99_lineage_Paper.png\",dpi=300, format=\"png\",pad_inches=0.2,bbox_inches=\"tight\")\n",
    "        plt.close()"
   ]
  },
  {
   "cell_type": "markdown",
   "metadata": {},
   "source": [
    "## Plot most abundant cell type per spot on top of Visium ST images"
   ]
  },
  {
   "cell_type": "markdown",
   "metadata": {},
   "source": [
    "<div class=\"alert alert-info\">\n",
    "<b>Paper Figure!</b>\n",
    "Plot panel Figure 2B\n",
    "</div>"
   ]
  },
  {
   "cell_type": "code",
   "execution_count": 56,
   "metadata": {},
   "outputs": [],
   "source": [
    "#Create directory for Plots\n",
    "directory = f'{run_name}/Plots/Max_Abundance_Cell_Histology_Paper'\n",
    "# Check if the directory exists\n",
    "if not os.path.exists(directory):\n",
    "    # If it doesn't exist, create it\n",
    "    os.makedirs(directory)"
   ]
  },
  {
   "cell_type": "code",
   "execution_count": 57,
   "metadata": {
    "scrolled": true
   },
   "outputs": [
    {
     "name": "stdout",
     "output_type": "stream",
     "text": [
      "L2P\n",
      "L19P\n",
      "L11P\n",
      "HRC5\n",
      "HRC6\n",
      "HRC8\n",
      "HRC10\n",
      "HRC11\n",
      "HRC12\n",
      "HRC13\n",
      "HRC16\n",
      "HRC17\n",
      "L5P\n",
      "L14P\n",
      "L24P\n",
      "L12P\n",
      "HRC2\n",
      "HRC4\n",
      "HRC18\n",
      "L3C\n",
      "L14C\n",
      "L2C\n",
      "CONTROL2\n"
     ]
    }
   ],
   "source": [
    "# Plot most abudnant cell type per spot in spatial coordinates\n",
    "samples = [\"L2P\",\"L19P\",\"L11P\",\"HRC5\",\"HRC6\",\"HRC8\",\"HRC10\",\"HRC11\",\"HRC12\",\"HRC13\",\"HRC16\",\"HRC17\",\"L5P\",\"L14P\",\"L24P\",\"L12P\",\"HRC2\",\"HRC4\",\"HRC18\",\"L3C\",\"L14C\",\"L2C\",\"CONTROL2\"]\n",
    "for sample in samples:\n",
    "    print(sample)\n",
    "    slide = select_slide(adata_vis, f'{sample}')\n",
    "    with mpl.rc_context({'axes.facecolor':  'black',\n",
    "                         'figure.figsize': [4.5, 5]}):\n",
    "        sc.pl.spatial(slide, color=['Max_Abundance_Cell'], library_id=f\"{sample}\", palette=col_dict,\n",
    "                      size=1.3, img_key='hires', alpha=0.5, show=False)\n",
    "        plt.savefig(f\"{run_name}/Plots/Max_Abundance_Cell_Histology_Paper/{sample}_Max_Abundance_Cell_Histology_Paper.png\",dpi=300, format=\"png\",pad_inches=0.2,bbox_inches=\"tight\")\n",
    "        plt.close()\n"
   ]
  },
  {
   "cell_type": "markdown",
   "metadata": {},
   "source": [
    "## Plot most abundant lineage per spot on top of Visium ST images"
   ]
  },
  {
   "cell_type": "markdown",
   "metadata": {},
   "source": [
    "<div class=\"alert alert-info\">\n",
    "<b>Paper Figure!</b>\n",
    "Plot panel Figure 1C\n",
    "</div>"
   ]
  },
  {
   "cell_type": "code",
   "execution_count": 58,
   "metadata": {},
   "outputs": [],
   "source": [
    "#Create directory for Plots\n",
    "directory = f'{run_name}/Plots/Max_Abundance_Lineage_Histology_Paper'\n",
    "# Check if the directory exists\n",
    "if not os.path.exists(directory):\n",
    "    # If it doesn't exist, create it\n",
    "    os.makedirs(directory)"
   ]
  },
  {
   "cell_type": "code",
   "execution_count": 59,
   "metadata": {
    "scrolled": true
   },
   "outputs": [
    {
     "name": "stdout",
     "output_type": "stream",
     "text": [
      "L2P\n",
      "L19P\n",
      "L11P\n",
      "HRC5\n",
      "HRC6\n",
      "HRC8\n",
      "HRC10\n",
      "HRC11\n",
      "HRC12\n",
      "HRC13\n",
      "HRC16\n",
      "HRC17\n",
      "L5P\n",
      "L14P\n",
      "L24P\n",
      "L12P\n",
      "HRC2\n",
      "HRC4\n",
      "HRC18\n",
      "L3C\n",
      "L14C\n",
      "L2C\n",
      "CONTROL2\n"
     ]
    }
   ],
   "source": [
    "# Plot most abudnant lineage per spot in spatial coordinates\n",
    "samples = [\"L2P\",\"L19P\",\"L11P\",\"HRC5\",\"HRC6\",\"HRC8\",\"HRC10\",\"HRC11\",\"HRC12\",\"HRC13\",\"HRC16\",\"HRC17\",\"L5P\",\"L14P\",\"L24P\",\"L12P\",\"HRC2\",\"HRC4\",\"HRC18\",\"L3C\",\"L14C\",\"L2C\",\"CONTROL2\"]\n",
    "for sample in samples:\n",
    "    print(sample)\n",
    "    slide = select_slide(adata_vis, f'{sample}')\n",
    "    with mpl.rc_context({'axes.facecolor':  'black',\n",
    "                         'figure.figsize': [4.5, 5]}):\n",
    "        sc.pl.spatial(slide, color=['Max_Abundance_Cell_Lineage'], library_id=f\"{sample}\", palette=col_dict_lineage,\n",
    "                      size=1.3, img_key='hires', alpha=1, show=False)\n",
    "        plt.savefig(f\"{run_name}/Plots/Max_Abundance_Lineage_Histology_Paper/{sample}_Max_Abundance_Lineage_Histology_Paper.png\",dpi=300, format=\"png\",pad_inches=0.2,bbox_inches=\"tight\")\n",
    "        plt.close()"
   ]
  },
  {
   "cell_type": "code",
   "execution_count": 60,
   "metadata": {
    "scrolled": true
   },
   "outputs": [
    {
     "data": {
      "text/plain": [
       "'/mnt/beegfs/cgarcia/Spatial/COVID19/cell2location/HLCA_publication/HLCA/cell2location_map_finest/ad_vis_post_distrib_finest_discrete_region_NMF_lineage_Paper.h5ad'"
      ]
     },
     "execution_count": 60,
     "metadata": {},
     "output_type": "execute_result"
    }
   ],
   "source": [
    "# Save anndata object with results\n",
    "adata_file = f\"{run_name}/ad_vis_post_distrib_finest_discrete_region_NMF_lineage_Paper.h5ad\"\n",
    "adata_vis.write(adata_file)\n",
    "adata_file"
   ]
  },
  {
   "cell_type": "markdown",
   "metadata": {},
   "source": [
    "### Modules and their versions used for this analysis\n",
    "\n",
    "\n",
    "Useful for debugging and reporting issues."
   ]
  },
  {
   "cell_type": "code",
   "execution_count": 61,
   "metadata": {
    "scrolled": true
   },
   "outputs": [
    {
     "name": "stdout",
     "output_type": "stream",
     "text": [
      "sys 3.9.16 (main, Jan 11 2023, 16:05:54) \n",
      "[GCC 11.2.0]\n",
      "re 2.2.1\n",
      "ipykernel._version 6.20.2\n",
      "json 2.0.9\n",
      "jupyter_client._version 8.0.1\n",
      "logging 0.5.1.2\n",
      "platform 1.0.8\n",
      "_ctypes 1.1.0\n",
      "ctypes 1.1.0\n",
      "zmq.sugar.version 25.0.0\n",
      "zmq.sugar 25.0.0\n",
      "zmq 25.0.0\n",
      "traitlets._version 5.8.1\n",
      "traitlets 5.8.1\n",
      "jupyter_core.version 5.1.5\n",
      "jupyter_core 5.1.5\n",
      "tornado 6.2\n",
      "zlib 1.0\n",
      "_curses b'2.2'\n",
      "socketserver 0.4\n",
      "argparse 1.1\n",
      "dateutil._version 2.8.2\n",
      "dateutil 2.8.2\n",
      "six 1.16.0\n",
      "_decimal 1.70\n",
      "decimal 1.70\n",
      "platformdirs.version 2.6.2\n",
      "platformdirs 2.6.2\n",
      "_csv 1.0\n",
      "csv 1.0\n",
      "jupyter_client 8.0.1\n",
      "ipykernel 6.20.2\n",
      "IPython.core.release 8.9.0\n",
      "executing.version 1.2.0\n",
      "executing 1.2.0\n",
      "pure_eval.version 0.2.2\n",
      "pure_eval 0.2.2\n",
      "stack_data.version 0.6.2\n",
      "stack_data 0.6.2\n",
      "pygments 2.14.0\n",
      "ptyprocess 0.7.0\n",
      "pexpect 4.8.0\n",
      "IPython.core.crashhandler 8.9.0\n",
      "pickleshare 0.7.5\n",
      "backcall 0.2.0\n",
      "decorator 5.1.1\n",
      "_sqlite3 2.6.0\n",
      "sqlite3.dbapi2 2.6.0\n",
      "sqlite3 2.6.0\n",
      "wcwidth 0.2.6\n",
      "prompt_toolkit 3.0.36\n",
      "parso 0.8.3\n",
      "jedi 0.18.2\n",
      "urllib.request 3.9\n",
      "IPython.core.magics.code 8.9.0\n",
      "IPython 8.9.0\n",
      "comm 0.1.2\n",
      "psutil 5.9.4\n",
      "debugpy.public_api 1.6.6\n",
      "debugpy 1.6.6\n",
      "xmlrpc.client 3.9\n",
      "http.server 0.6\n",
      "pkg_resources._vendor.more_itertools 8.12.0\n",
      "pkg_resources.extern.more_itertools 8.12.0\n",
      "pkg_resources._vendor.appdirs 1.4.3\n",
      "pkg_resources.extern.appdirs 1.4.3\n",
      "pkg_resources._vendor.packaging.__about__ 21.3\n",
      "pkg_resources._vendor.packaging 21.3\n",
      "pkg_resources.extern.packaging 21.3\n",
      "pkg_resources._vendor.pyparsing 3.0.9\n",
      "pkg_resources.extern.pyparsing 3.0.9\n",
      "_pydevd_frame_eval.vendored.bytecode 0.13.0.dev\n",
      "_pydev_bundle.fsnotify 0.1.5\n",
      "pydevd 2.9.5\n",
      "packaging 23.0\n",
      "scanpy._metadata 1.9.1\n",
      "numpy.version 1.23.5\n",
      "numpy.core._multiarray_umath 3.1\n",
      "numpy.core 1.23.5\n",
      "numpy.linalg._umath_linalg 0.1.5\n",
      "numpy.lib 1.23.5\n",
      "numpy 1.23.5\n",
      "scipy.version 1.10.0\n",
      "scipy 1.10.0\n",
      "scipy.sparse.linalg._isolve._iterative b'$Revision: $'\n",
      "scipy._lib.decorator 4.0.5\n",
      "scipy.linalg._fblas b'$Revision: $'\n",
      "scipy.linalg._flapack b'$Revision: $'\n",
      "scipy.linalg._flinalg b'$Revision: $'\n",
      "scipy.sparse.linalg._eigen.arpack._arpack b'$Revision: $'\n",
      "anndata._metadata 0.8.0\n",
      "h5py.version 3.8.0\n",
      "h5py 3.8.0\n",
      "natsort 8.2.0\n",
      "pytz 2022.7.1\n",
      "tarfile 0.9.0\n",
      "pandas 1.5.3\n",
      "anndata 0.8.0\n",
      "yaml 6.0\n",
      "llvmlite 0.39.1\n",
      "numba.cloudpickle 1.6.0\n",
      "numba.misc.appdirs 1.4.1\n",
      "numba 0.56.4\n",
      "setuptools._distutils 3.9.16\n",
      "setuptools.version 65.6.3\n",
      "setuptools._vendor.packaging.__about__ 21.3\n",
      "setuptools._vendor.packaging 21.3\n",
      "setuptools.extern.packaging 21.3\n",
      "setuptools._vendor.ordered_set 3.1\n",
      "setuptools.extern.ordered_set 3.1\n",
      "setuptools._vendor.more_itertools 8.8.0\n",
      "setuptools.extern.more_itertools 8.8.0\n",
      "setuptools._vendor.pyparsing 3.0.9\n",
      "setuptools.extern.pyparsing 3.0.9\n",
      "setuptools 65.6.3\n",
      "distutils 3.9.16\n",
      "joblib.externals.cloudpickle 2.2.0\n",
      "joblib.externals.loky 3.3.0\n",
      "joblib 1.2.0\n",
      "sklearn.utils._joblib 1.2.0\n",
      "scipy.special._specfun b'$Revision: $'\n",
      "scipy.optimize._minpack2 b'$Revision: $'\n",
      "scipy.optimize._lbfgsb b'$Revision: $'\n",
      "scipy.optimize._cobyla b'$Revision: $'\n",
      "scipy.optimize._slsqp b'$Revision: $'\n",
      "scipy.optimize.__nnls b'$Revision: $'\n",
      "scipy.linalg._interpolative b'$Revision: $'\n",
      "scipy.integrate._vode b'$Revision: $'\n",
      "scipy.integrate._dop b'$Revision: $'\n",
      "scipy.integrate._lsoda b'$Revision: $'\n",
      "scipy.interpolate.dfitpack b'$Revision: $'\n",
      "scipy._lib._uarray 0.8.8.dev0+aa94c5a4.scipy\n",
      "scipy.stats._statlib b'$Revision: $'\n",
      "scipy.stats._mvn b'$Revision: $'\n",
      "threadpoolctl 3.1.0\n",
      "sklearn.base 1.2.1\n",
      "sklearn.utils._show_versions 1.2.1\n",
      "sklearn 1.2.1\n",
      "matplotlib._version 3.6.3\n",
      "PIL._version 9.4.0\n",
      "PIL 9.4.0\n",
      "PIL._deprecate 9.4.0\n",
      "PIL.Image 9.4.0\n",
      "pyparsing 3.0.9\n",
      "cycler 0.10.0\n",
      "kiwisolver._cext 1.4.4\n",
      "kiwisolver 1.4.4\n",
      "matplotlib 3.6.3\n",
      "texttable 1.6.7\n",
      "igraph.version 0.10.3\n",
      "igraph 0.10.3\n",
      "leidenalg.version 0.9.1\n",
      "leidenalg 0.9.1\n",
      "scanpy 1.9.1\n",
      "torch.version 1.13.1+cu117\n",
      "torch.torch_version 1.13.1+cu117\n",
      "opt_einsum v3.3.0\n",
      "torch.cuda.nccl (2, 14, 3)\n",
      "torch.backends.cudnn 8500\n",
      "tqdm._dist_ver 4.64.1\n",
      "tqdm.version 4.64.1\n",
      "tqdm.cli 4.64.1\n",
      "tqdm 4.64.1\n",
      "ipywidgets._version 8.0.4\n",
      "ipywidgets 8.0.4\n",
      "torch 1.13.1+cu117\n",
      "pyro._version 1.8.4\n",
      "pyro 1.8.4\n",
      "attr 22.2.0\n",
      "pytorch_lightning.__version__ 1.7.7\n",
      "torchmetrics.__about__ 0.11.0\n",
      "torchmetrics 0.11.0\n",
      "fsspec 2023.1.0\n",
      "pytorch_lightning.loggers.neptune 1.7.7\n",
      "tensorboard.version 2.11.2\n",
      "tensorboard 2.11.2\n",
      "google.protobuf 3.20.3\n",
      "tensorboard.compat.tensorflow_stub.pywrap_tensorflow 0\n",
      "tensorboard.compat.tensorflow_stub stub\n",
      "ipaddress 1.0\n",
      "deprecate 0.3.2\n",
      "pytorch_lightning 1.7.7\n",
      "docrep 0.3.2\n",
      "jaxlib.version 0.4.2\n",
      "jaxlib 0.4.2\n",
      "jax.version 0.4.2\n",
      "jax.lib 0.4.2\n",
      "etils 1.0.0\n",
      "jax 0.4.2\n",
      "mudata 0.2.1\n",
      "tree 0.1.8\n",
      "xml.sax.handler 2.0beta\n",
      "toolz 0.12.0\n",
      "chex 0.1.5\n",
      "msgpack 1.0.4\n",
      "flax.version 0.6.4\n",
      "flax 0.6.4\n",
      "optax 0.1.4\n",
      "multipledispatch 0.6.0\n",
      "numpyro.version 0.11.0\n",
      "numpyro 0.11.0\n",
      "scvi 0.19.0\n",
      "pynndescent 0.5.8\n",
      "umap 0.5.3\n",
      "cell2location 0.1.3\n",
      "colorcet 3.0.1\n",
      "seaborn.external.husl 2.1.0\n",
      "seaborn.external.appdirs 1.4.4\n",
      "statsmodels._version 0.13.5\n",
      "statsmodels 0.13.5\n",
      "seaborn 0.12.2\n",
      "matplotlib_inline 0.1.6\n",
      "fontTools 4.38.0\n",
      "fontTools.misc.sstruct 1.2\n",
      "fontTools.ttLib.tables._g_l_y_f 4.38\n",
      "xml.etree.ElementTree 1.3.0\n",
      "xml.etree.cElementTree 1.3.0\n",
      "fontTools.misc.etree 1.3.0\n"
     ]
    }
   ],
   "source": [
    "cell2location.utils.list_imported_modules()"
   ]
  }
 ],
 "metadata": {
  "kernelspec": {
   "display_name": "Environment (cell2loc_environment)",
   "language": "python",
   "name": "cell2loc_environment"
  },
  "language_info": {
   "codemirror_mode": {
    "name": "ipython",
    "version": 3
   },
   "file_extension": ".py",
   "mimetype": "text/x-python",
   "name": "python",
   "nbconvert_exporter": "python",
   "pygments_lexer": "ipython3",
   "version": "3.9.16"
  }
 },
 "nbformat": 4,
 "nbformat_minor": 4
}
