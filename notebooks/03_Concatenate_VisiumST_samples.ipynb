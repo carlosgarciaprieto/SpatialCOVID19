{
 "cells": [
  {
   "cell_type": "markdown",
   "id": "74e21597-413e-45f8-92ce-6f03a1493a90",
   "metadata": {},
   "source": [
    "# Spatial transcriptomics unveils the in situ cellular and molecular hallmarks of the lung in fatal COVID-19"
   ]
  },
  {
   "cell_type": "markdown",
   "id": "581abfcf-bf24-4f3c-b4dd-9e3d661cd081",
   "metadata": {},
   "source": [
    "# Concatenate preprocessed Visium ST samples into a single annData object and re-normalise the data."
   ]
  },
  {
   "cell_type": "markdown",
   "id": "e2d941f8-3c67-4bc3-ade1-7ce6d11c8704",
   "metadata": {},
   "source": [
    "**Author:** Carlos A. Garcia-Prieto\n",
    "\n",
    "* This notebook explains the concatenation of the individually preprocessed Visium ST samples into a single object. Because of the concatenation we also need to re-normalise the data.\n",
    "* See the [concatenation tutorial](https://anndata.readthedocs.io/en/stable/concatenation.html) for more details.\n",
    "* We have followed single-cell best practices [tutorial](https://www.sc-best-practices.org/preprocessing_visualization/quality_control.html) for preprocessing the concatenated object."
   ]
  },
  {
   "cell_type": "markdown",
   "id": "270fa67b-ea71-4096-b4ac-9c733eef7abc",
   "metadata": {},
   "source": [
    "## Import modules"
   ]
  },
  {
   "cell_type": "code",
   "execution_count": 1,
   "id": "abcaa043-e449-4fc3-8854-28cb33956ca5",
   "metadata": {},
   "outputs": [],
   "source": [
    "import anndata\n",
    "import matplotlib.pyplot as plt\n",
    "import scanpy as sc\n",
    "import pandas as pd\n",
    "import seaborn as sns\n",
    "import scanpy.external as sce\n",
    "import numpy as np\n",
    "import os\n",
    "import anndata2ri\n",
    "import logging\n",
    "import seaborn as sns\n",
    "import rpy2.rinterface_lib.callbacks as rcb\n",
    "import rpy2.robjects as ro\n",
    "\n",
    "sc.settings.verbosity = 0\n",
    "#sc.settings.set_figure_params(\n",
    "#    dpi=80,\n",
    "#    facecolor=\"white\",\n",
    "#    frameon=False,\n",
    "#)\n",
    "\n",
    "rcb.logger.setLevel(logging.ERROR)\n",
    "ro.pandas2ri.activate()\n",
    "anndata2ri.activate()\n",
    "\n",
    "%reload_ext rpy2.ipython"
   ]
  },
  {
   "cell_type": "code",
   "execution_count": 2,
   "id": "edc94e39-a89b-4347-86c6-634340ac5506",
   "metadata": {},
   "outputs": [],
   "source": [
    "pd.set_option('display.max_columns', 500)"
   ]
  },
  {
   "cell_type": "markdown",
   "id": "a710dbac-b440-4c0b-94d0-836bc38fd7ab",
   "metadata": {},
   "source": [
    "## Read Visium ST preprocessed data"
   ]
  },
  {
   "cell_type": "code",
   "execution_count": 3,
   "id": "86e44fd1-5218-4b06-8e45-c00ce23da9a2",
   "metadata": {},
   "outputs": [],
   "source": [
    "# Prepare anndata concat object (read preprocessed objects)\n",
    "adata_L2P = anndata.read(f'L2P/L2P_preprocessed.h5ad')\n",
    "adata_L5P = anndata.read(f'L5P/L5P_preprocessed.h5ad')\n",
    "adata_L14P = anndata.read(f'L14P/L14P_preprocessed.h5ad')\n",
    "adata_L19P = anndata.read(f'L19P/L19P_preprocessed.h5ad')\n",
    "adata_L24P = anndata.read(f'L24P/L24P_preprocessed.h5ad')\n",
    "adata_L3C = anndata.read(f'L3C/L3C_preprocessed.h5ad')\n",
    "adata_L14C = anndata.read(f'L14C/L14C_preprocessed.h5ad')\n",
    "adata_L2C = anndata.read(f'L2C/L2C_preprocessed.h5ad')\n",
    "adata_L11P = anndata.read(f'L11P/L11P_preprocessed.h5ad')\n",
    "adata_L12P = anndata.read(f'L12P/L12P_preprocessed.h5ad')\n",
    "adata_CONTROL2 = anndata.read(f'CONTROL2/CONTROL2_preprocessed.h5ad')\n",
    "adata_HRC2 = anndata.read(f'HRC2/HRC2_preprocessed.h5ad')\n",
    "adata_HRC4 = anndata.read(f'HRC4/HRC4_preprocessed.h5ad')\n",
    "adata_HRC5 = anndata.read(f'HRC5/HRC5_preprocessed.h5ad')\n",
    "adata_HRC6 = anndata.read(f'HRC6/HRC6_preprocessed.h5ad')\n",
    "adata_HRC8 = anndata.read(f'HRC8/HRC8_preprocessed.h5ad')\n",
    "adata_HRC10 = anndata.read(f'HRC10/HRC10_preprocessed.h5ad')\n",
    "adata_HRC11 = anndata.read(f'HRC11/HRC11_preprocessed.h5ad')\n",
    "adata_HRC12 = anndata.read(f'HRC12/HRC12_preprocessed.h5ad')\n",
    "adata_HRC13 = anndata.read(f'HRC13/HRC13_preprocessed.h5ad')\n",
    "adata_HRC16 = anndata.read(f'HRC16/HRC16_preprocessed.h5ad')\n",
    "adata_HRC17 = anndata.read(f'HRC17/HRC17_preprocessed.h5ad')\n",
    "adata_HRC18 = anndata.read(f'HRC18/HRC18_preprocessed.h5ad')"
   ]
  },
  {
   "cell_type": "code",
   "execution_count": 4,
   "id": "c3ff6a22-2bfc-42e7-ba49-963c259fdf75",
   "metadata": {},
   "outputs": [],
   "source": [
    "#Set metadata\n",
    "proliferative = [\"L2P\",\"L19P\",\"L11P\",\"HRC5\",\"HRC6\",\"HRC8\",\"HRC10\",\"HRC11\",\"HRC12\",\"HRC13\",\"HRC16\",\"HRC17\"]\n",
    "acute = [\"L5P\",\"L14P\",\"L24P\",\"L12P\",\"HRC2\",\"HRC4\",\"HRC18\"]\n",
    "controls = [\"L3C\",\"L14C\",\"L2C\",\"CONTROL2\"]\n",
    "covid = [\"L5P\",\"L14P\",\"L24P\",\"L12P\",\"HRC2\",\"HRC4\",\"HRC18\",\"L2P\",\"L19P\",\"L11P\",\"HRC5\",\"HRC6\",\"HRC8\",\"HRC10\",\"HRC11\",\"HRC12\",\"HRC13\",\"HRC16\",\"HRC17\"]\n",
    "sweden = [\"L2P\",\"L19P\",\"L11P\",\"L5P\",\"L14P\",\"L24P\",\"L12P\",\"L3C\",\"L14C\",\"L2C\"]\n",
    "spain = [\"CONTROL2\",\"HRC2\",\"HRC4\",\"HRC5\",\"HRC6\",\"HRC8\",\"HRC10\",\"HRC11\",\"HRC12\",\"HRC13\",\"HRC16\",\"HRC17\",\"HRC18\"]\n",
    "batch1 = [\"L2P\",\"L5P\",\"L14P\",\"L19P\",\"L24P\",\"L3C\",\"L14C\"]\n",
    "batch2 = [\"L2C\",\"L11P\",\"L12P\"]\n",
    "batch3 = [\"CONTROL2\",\"HRC2\",\"HRC4\",\"HRC5\",\"HRC6\",\"HRC8\",\"HRC10\",\"HRC11\",\"HRC12\",\"HRC13\",\"HRC16\",\"HRC17\",\"HRC18\"]"
   ]
  },
  {
   "cell_type": "markdown",
   "id": "aac72118-94e0-4bcc-8f9e-77cfd99e901b",
   "metadata": {},
   "source": [
    "## Concatenate preprocessed objects"
   ]
  },
  {
   "cell_type": "code",
   "execution_count": 5,
   "id": "062091a9-c6a9-494c-88be-0cdc1681d4df",
   "metadata": {},
   "outputs": [],
   "source": [
    "#Concatenate preprocessed objects\n",
    "adata_concat_hrc_sq = anndata.concat(\n",
    "    {\"L2P\" : adata_L2P, \"L5P\" : adata_L5P, \"L14P\" : adata_L14P, \"L19P\" : adata_L19P, \"L24P\" : adata_L24P, \"L3C\" : adata_L3C, \"L14C\" : adata_L14C,\n",
    "    \"L2C\" : adata_L2C, \"L11P\" : adata_L11P, \"L12P\" : adata_L12P,\n",
    "    \"CONTROL2\": adata_CONTROL2, \"HRC2\": adata_HRC2, \"HRC4\": adata_HRC4, \"HRC5\": adata_HRC5,\n",
    "    \"HRC6\": adata_HRC6, \"HRC8\": adata_HRC8, \"HRC10\": adata_HRC10, \"HRC11\": adata_HRC11, \"HRC12\": adata_HRC12, \"HRC13\": adata_HRC13,\n",
    "    \"HRC16\": adata_HRC16, \"HRC17\": adata_HRC17, \"HRC18\": adata_HRC18},\n",
    "    label = \"sample\",\n",
    "    index_unique=\"_\",\n",
    "    join = \"outer\",\n",
    "    merge = \"unique\",\n",
    "    uns_merge = \"unique\",\n",
    "    pairwise = False,\n",
    "    axis=0,\n",
    ")"
   ]
  },
  {
   "cell_type": "code",
   "execution_count": 6,
   "id": "da5f8daf-4d75-47d7-b3ab-277a20dc60dd",
   "metadata": {},
   "outputs": [
    {
     "data": {
      "text/plain": [
       "AnnData object with n_obs × n_vars = 91068 × 17943\n",
       "    obs: 'in_tissue', 'array_row', 'array_col', 'n_genes_by_counts', 'log1p_n_genes_by_counts', 'total_counts', 'log1p_total_counts', 'pct_counts_in_top_20_genes', 'total_counts_mt', 'log1p_total_counts_mt', 'pct_counts_mt', 'total_counts_ribo', 'log1p_total_counts_ribo', 'pct_counts_ribo', 'total_counts_hb', 'log1p_total_counts_hb', 'pct_counts_hb', 'outlier', 'mt_outlier', 'leiden', 'leiden_res0_25', 'leiden_res0_5', 'sample'\n",
       "    var: 'feature_types', 'genome', 'mt', 'ribo', 'hb', 'SYMBOL'\n",
       "    uns: 'dendrogram_leiden', 'hvg', 'leiden', 'neighbors', 'pca', 'rank_genes_groups', 'spatial', 'tsne', 'umap'\n",
       "    obsm: 'X_pca', 'X_tsne', 'X_umap', 'spatial'\n",
       "    layers: 'log1p_norm', 'raw_counts'"
      ]
     },
     "execution_count": 6,
     "metadata": {},
     "output_type": "execute_result"
    }
   ],
   "source": [
    "#Explore concatenated object\n",
    "adata_concat_hrc_sq "
   ]
  },
  {
   "cell_type": "code",
   "execution_count": 7,
   "id": "a5372c55-951f-4696-8856-5a819e1dadc4",
   "metadata": {},
   "outputs": [
    {
     "data": {
      "text/html": [
       "<div>\n",
       "<style scoped>\n",
       "    .dataframe tbody tr th:only-of-type {\n",
       "        vertical-align: middle;\n",
       "    }\n",
       "\n",
       "    .dataframe tbody tr th {\n",
       "        vertical-align: top;\n",
       "    }\n",
       "\n",
       "    .dataframe thead th {\n",
       "        text-align: right;\n",
       "    }\n",
       "</style>\n",
       "<table border=\"1\" class=\"dataframe\">\n",
       "  <thead>\n",
       "    <tr style=\"text-align: right;\">\n",
       "      <th></th>\n",
       "      <th>in_tissue</th>\n",
       "      <th>array_row</th>\n",
       "      <th>array_col</th>\n",
       "      <th>n_genes_by_counts</th>\n",
       "      <th>log1p_n_genes_by_counts</th>\n",
       "      <th>total_counts</th>\n",
       "      <th>log1p_total_counts</th>\n",
       "      <th>pct_counts_in_top_20_genes</th>\n",
       "      <th>total_counts_mt</th>\n",
       "      <th>log1p_total_counts_mt</th>\n",
       "      <th>pct_counts_mt</th>\n",
       "      <th>total_counts_ribo</th>\n",
       "      <th>log1p_total_counts_ribo</th>\n",
       "      <th>pct_counts_ribo</th>\n",
       "      <th>total_counts_hb</th>\n",
       "      <th>log1p_total_counts_hb</th>\n",
       "      <th>pct_counts_hb</th>\n",
       "      <th>outlier</th>\n",
       "      <th>mt_outlier</th>\n",
       "      <th>leiden</th>\n",
       "      <th>leiden_res0_25</th>\n",
       "      <th>leiden_res0_5</th>\n",
       "      <th>sample</th>\n",
       "    </tr>\n",
       "  </thead>\n",
       "  <tbody>\n",
       "    <tr>\n",
       "      <th>AAACAACGAATAGTTC-1_L2P</th>\n",
       "      <td>1</td>\n",
       "      <td>0</td>\n",
       "      <td>16</td>\n",
       "      <td>2182</td>\n",
       "      <td>7.688455</td>\n",
       "      <td>4029.0</td>\n",
       "      <td>8.301521</td>\n",
       "      <td>15.984115</td>\n",
       "      <td>0.0</td>\n",
       "      <td>0.0</td>\n",
       "      <td>0.0</td>\n",
       "      <td>0.0</td>\n",
       "      <td>0.0</td>\n",
       "      <td>0.0</td>\n",
       "      <td>8.0</td>\n",
       "      <td>2.197225</td>\n",
       "      <td>0.198560</td>\n",
       "      <td>False</td>\n",
       "      <td>False</td>\n",
       "      <td>3</td>\n",
       "      <td>2</td>\n",
       "      <td>3</td>\n",
       "      <td>L2P</td>\n",
       "    </tr>\n",
       "    <tr>\n",
       "      <th>AAACAAGTATCTCCCA-1_L2P</th>\n",
       "      <td>1</td>\n",
       "      <td>50</td>\n",
       "      <td>102</td>\n",
       "      <td>1369</td>\n",
       "      <td>7.222566</td>\n",
       "      <td>2590.0</td>\n",
       "      <td>7.859799</td>\n",
       "      <td>22.818533</td>\n",
       "      <td>0.0</td>\n",
       "      <td>0.0</td>\n",
       "      <td>0.0</td>\n",
       "      <td>0.0</td>\n",
       "      <td>0.0</td>\n",
       "      <td>0.0</td>\n",
       "      <td>6.0</td>\n",
       "      <td>1.945910</td>\n",
       "      <td>0.231660</td>\n",
       "      <td>False</td>\n",
       "      <td>False</td>\n",
       "      <td>1</td>\n",
       "      <td>0</td>\n",
       "      <td>1</td>\n",
       "      <td>L2P</td>\n",
       "    </tr>\n",
       "    <tr>\n",
       "      <th>AAACAATCTACTAGCA-1_L2P</th>\n",
       "      <td>1</td>\n",
       "      <td>3</td>\n",
       "      <td>43</td>\n",
       "      <td>1987</td>\n",
       "      <td>7.594884</td>\n",
       "      <td>3673.0</td>\n",
       "      <td>8.209036</td>\n",
       "      <td>19.656956</td>\n",
       "      <td>0.0</td>\n",
       "      <td>0.0</td>\n",
       "      <td>0.0</td>\n",
       "      <td>0.0</td>\n",
       "      <td>0.0</td>\n",
       "      <td>0.0</td>\n",
       "      <td>5.0</td>\n",
       "      <td>1.791759</td>\n",
       "      <td>0.136129</td>\n",
       "      <td>False</td>\n",
       "      <td>False</td>\n",
       "      <td>2</td>\n",
       "      <td>0</td>\n",
       "      <td>1</td>\n",
       "      <td>L2P</td>\n",
       "    </tr>\n",
       "    <tr>\n",
       "      <th>AAACACCAATAACTGC-1_L2P</th>\n",
       "      <td>1</td>\n",
       "      <td>59</td>\n",
       "      <td>19</td>\n",
       "      <td>1889</td>\n",
       "      <td>7.544332</td>\n",
       "      <td>3206.0</td>\n",
       "      <td>8.073092</td>\n",
       "      <td>14.441672</td>\n",
       "      <td>0.0</td>\n",
       "      <td>0.0</td>\n",
       "      <td>0.0</td>\n",
       "      <td>0.0</td>\n",
       "      <td>0.0</td>\n",
       "      <td>0.0</td>\n",
       "      <td>8.0</td>\n",
       "      <td>2.197225</td>\n",
       "      <td>0.249532</td>\n",
       "      <td>False</td>\n",
       "      <td>False</td>\n",
       "      <td>7</td>\n",
       "      <td>0</td>\n",
       "      <td>0</td>\n",
       "      <td>L2P</td>\n",
       "    </tr>\n",
       "    <tr>\n",
       "      <th>AAACAGAGCGACTCCT-1_L2P</th>\n",
       "      <td>1</td>\n",
       "      <td>14</td>\n",
       "      <td>94</td>\n",
       "      <td>1501</td>\n",
       "      <td>7.314553</td>\n",
       "      <td>2612.0</td>\n",
       "      <td>7.868254</td>\n",
       "      <td>22.511485</td>\n",
       "      <td>0.0</td>\n",
       "      <td>0.0</td>\n",
       "      <td>0.0</td>\n",
       "      <td>0.0</td>\n",
       "      <td>0.0</td>\n",
       "      <td>0.0</td>\n",
       "      <td>16.0</td>\n",
       "      <td>2.833213</td>\n",
       "      <td>0.612557</td>\n",
       "      <td>False</td>\n",
       "      <td>False</td>\n",
       "      <td>0</td>\n",
       "      <td>0</td>\n",
       "      <td>0</td>\n",
       "      <td>L2P</td>\n",
       "    </tr>\n",
       "    <tr>\n",
       "      <th>...</th>\n",
       "      <td>...</td>\n",
       "      <td>...</td>\n",
       "      <td>...</td>\n",
       "      <td>...</td>\n",
       "      <td>...</td>\n",
       "      <td>...</td>\n",
       "      <td>...</td>\n",
       "      <td>...</td>\n",
       "      <td>...</td>\n",
       "      <td>...</td>\n",
       "      <td>...</td>\n",
       "      <td>...</td>\n",
       "      <td>...</td>\n",
       "      <td>...</td>\n",
       "      <td>...</td>\n",
       "      <td>...</td>\n",
       "      <td>...</td>\n",
       "      <td>...</td>\n",
       "      <td>...</td>\n",
       "      <td>...</td>\n",
       "      <td>...</td>\n",
       "      <td>...</td>\n",
       "      <td>...</td>\n",
       "    </tr>\n",
       "    <tr>\n",
       "      <th>TTGTTTCACATCCAGG-1_HRC18</th>\n",
       "      <td>1</td>\n",
       "      <td>58</td>\n",
       "      <td>42</td>\n",
       "      <td>432</td>\n",
       "      <td>6.070738</td>\n",
       "      <td>520.0</td>\n",
       "      <td>6.255750</td>\n",
       "      <td>14.615385</td>\n",
       "      <td>0.0</td>\n",
       "      <td>0.0</td>\n",
       "      <td>0.0</td>\n",
       "      <td>0.0</td>\n",
       "      <td>0.0</td>\n",
       "      <td>0.0</td>\n",
       "      <td>0.0</td>\n",
       "      <td>0.000000</td>\n",
       "      <td>0.000000</td>\n",
       "      <td>False</td>\n",
       "      <td>False</td>\n",
       "      <td>3</td>\n",
       "      <td>0</td>\n",
       "      <td>0</td>\n",
       "      <td>HRC18</td>\n",
       "    </tr>\n",
       "    <tr>\n",
       "      <th>TTGTTTCATTAGTCTA-1_HRC18</th>\n",
       "      <td>1</td>\n",
       "      <td>60</td>\n",
       "      <td>30</td>\n",
       "      <td>379</td>\n",
       "      <td>5.940171</td>\n",
       "      <td>444.0</td>\n",
       "      <td>6.098074</td>\n",
       "      <td>15.540541</td>\n",
       "      <td>0.0</td>\n",
       "      <td>0.0</td>\n",
       "      <td>0.0</td>\n",
       "      <td>0.0</td>\n",
       "      <td>0.0</td>\n",
       "      <td>0.0</td>\n",
       "      <td>1.0</td>\n",
       "      <td>0.693147</td>\n",
       "      <td>0.225225</td>\n",
       "      <td>False</td>\n",
       "      <td>False</td>\n",
       "      <td>3</td>\n",
       "      <td>0</td>\n",
       "      <td>0</td>\n",
       "      <td>HRC18</td>\n",
       "    </tr>\n",
       "    <tr>\n",
       "      <th>TTGTTTCCATACAACT-1_HRC18</th>\n",
       "      <td>1</td>\n",
       "      <td>45</td>\n",
       "      <td>27</td>\n",
       "      <td>467</td>\n",
       "      <td>6.148468</td>\n",
       "      <td>565.0</td>\n",
       "      <td>6.338594</td>\n",
       "      <td>15.752212</td>\n",
       "      <td>0.0</td>\n",
       "      <td>0.0</td>\n",
       "      <td>0.0</td>\n",
       "      <td>0.0</td>\n",
       "      <td>0.0</td>\n",
       "      <td>0.0</td>\n",
       "      <td>0.0</td>\n",
       "      <td>0.000000</td>\n",
       "      <td>0.000000</td>\n",
       "      <td>False</td>\n",
       "      <td>False</td>\n",
       "      <td>1</td>\n",
       "      <td>0</td>\n",
       "      <td>0</td>\n",
       "      <td>HRC18</td>\n",
       "    </tr>\n",
       "    <tr>\n",
       "      <th>TTGTTTGTATTACACG-1_HRC18</th>\n",
       "      <td>1</td>\n",
       "      <td>73</td>\n",
       "      <td>41</td>\n",
       "      <td>621</td>\n",
       "      <td>6.432940</td>\n",
       "      <td>842.0</td>\n",
       "      <td>6.736967</td>\n",
       "      <td>17.102138</td>\n",
       "      <td>0.0</td>\n",
       "      <td>0.0</td>\n",
       "      <td>0.0</td>\n",
       "      <td>0.0</td>\n",
       "      <td>0.0</td>\n",
       "      <td>0.0</td>\n",
       "      <td>3.0</td>\n",
       "      <td>1.386294</td>\n",
       "      <td>0.356295</td>\n",
       "      <td>False</td>\n",
       "      <td>False</td>\n",
       "      <td>4</td>\n",
       "      <td>0</td>\n",
       "      <td>2</td>\n",
       "      <td>HRC18</td>\n",
       "    </tr>\n",
       "    <tr>\n",
       "      <th>TTGTTTGTGTAAATTC-1_HRC18</th>\n",
       "      <td>1</td>\n",
       "      <td>7</td>\n",
       "      <td>51</td>\n",
       "      <td>644</td>\n",
       "      <td>6.469250</td>\n",
       "      <td>897.0</td>\n",
       "      <td>6.800170</td>\n",
       "      <td>21.739130</td>\n",
       "      <td>0.0</td>\n",
       "      <td>0.0</td>\n",
       "      <td>0.0</td>\n",
       "      <td>0.0</td>\n",
       "      <td>0.0</td>\n",
       "      <td>0.0</td>\n",
       "      <td>0.0</td>\n",
       "      <td>0.000000</td>\n",
       "      <td>0.000000</td>\n",
       "      <td>False</td>\n",
       "      <td>False</td>\n",
       "      <td>2</td>\n",
       "      <td>0</td>\n",
       "      <td>2</td>\n",
       "      <td>HRC18</td>\n",
       "    </tr>\n",
       "  </tbody>\n",
       "</table>\n",
       "<p>91068 rows × 23 columns</p>\n",
       "</div>"
      ],
      "text/plain": [
       "                         in_tissue array_row array_col  n_genes_by_counts  \\\n",
       "AAACAACGAATAGTTC-1_L2P           1         0        16               2182   \n",
       "AAACAAGTATCTCCCA-1_L2P           1        50       102               1369   \n",
       "AAACAATCTACTAGCA-1_L2P           1         3        43               1987   \n",
       "AAACACCAATAACTGC-1_L2P           1        59        19               1889   \n",
       "AAACAGAGCGACTCCT-1_L2P           1        14        94               1501   \n",
       "...                            ...       ...       ...                ...   \n",
       "TTGTTTCACATCCAGG-1_HRC18         1        58        42                432   \n",
       "TTGTTTCATTAGTCTA-1_HRC18         1        60        30                379   \n",
       "TTGTTTCCATACAACT-1_HRC18         1        45        27                467   \n",
       "TTGTTTGTATTACACG-1_HRC18         1        73        41                621   \n",
       "TTGTTTGTGTAAATTC-1_HRC18         1         7        51                644   \n",
       "\n",
       "                          log1p_n_genes_by_counts  total_counts  \\\n",
       "AAACAACGAATAGTTC-1_L2P                   7.688455        4029.0   \n",
       "AAACAAGTATCTCCCA-1_L2P                   7.222566        2590.0   \n",
       "AAACAATCTACTAGCA-1_L2P                   7.594884        3673.0   \n",
       "AAACACCAATAACTGC-1_L2P                   7.544332        3206.0   \n",
       "AAACAGAGCGACTCCT-1_L2P                   7.314553        2612.0   \n",
       "...                                           ...           ...   \n",
       "TTGTTTCACATCCAGG-1_HRC18                 6.070738         520.0   \n",
       "TTGTTTCATTAGTCTA-1_HRC18                 5.940171         444.0   \n",
       "TTGTTTCCATACAACT-1_HRC18                 6.148468         565.0   \n",
       "TTGTTTGTATTACACG-1_HRC18                 6.432940         842.0   \n",
       "TTGTTTGTGTAAATTC-1_HRC18                 6.469250         897.0   \n",
       "\n",
       "                          log1p_total_counts  pct_counts_in_top_20_genes  \\\n",
       "AAACAACGAATAGTTC-1_L2P              8.301521                   15.984115   \n",
       "AAACAAGTATCTCCCA-1_L2P              7.859799                   22.818533   \n",
       "AAACAATCTACTAGCA-1_L2P              8.209036                   19.656956   \n",
       "AAACACCAATAACTGC-1_L2P              8.073092                   14.441672   \n",
       "AAACAGAGCGACTCCT-1_L2P              7.868254                   22.511485   \n",
       "...                                      ...                         ...   \n",
       "TTGTTTCACATCCAGG-1_HRC18            6.255750                   14.615385   \n",
       "TTGTTTCATTAGTCTA-1_HRC18            6.098074                   15.540541   \n",
       "TTGTTTCCATACAACT-1_HRC18            6.338594                   15.752212   \n",
       "TTGTTTGTATTACACG-1_HRC18            6.736967                   17.102138   \n",
       "TTGTTTGTGTAAATTC-1_HRC18            6.800170                   21.739130   \n",
       "\n",
       "                          total_counts_mt  log1p_total_counts_mt  \\\n",
       "AAACAACGAATAGTTC-1_L2P                0.0                    0.0   \n",
       "AAACAAGTATCTCCCA-1_L2P                0.0                    0.0   \n",
       "AAACAATCTACTAGCA-1_L2P                0.0                    0.0   \n",
       "AAACACCAATAACTGC-1_L2P                0.0                    0.0   \n",
       "AAACAGAGCGACTCCT-1_L2P                0.0                    0.0   \n",
       "...                                   ...                    ...   \n",
       "TTGTTTCACATCCAGG-1_HRC18              0.0                    0.0   \n",
       "TTGTTTCATTAGTCTA-1_HRC18              0.0                    0.0   \n",
       "TTGTTTCCATACAACT-1_HRC18              0.0                    0.0   \n",
       "TTGTTTGTATTACACG-1_HRC18              0.0                    0.0   \n",
       "TTGTTTGTGTAAATTC-1_HRC18              0.0                    0.0   \n",
       "\n",
       "                          pct_counts_mt  total_counts_ribo  \\\n",
       "AAACAACGAATAGTTC-1_L2P              0.0                0.0   \n",
       "AAACAAGTATCTCCCA-1_L2P              0.0                0.0   \n",
       "AAACAATCTACTAGCA-1_L2P              0.0                0.0   \n",
       "AAACACCAATAACTGC-1_L2P              0.0                0.0   \n",
       "AAACAGAGCGACTCCT-1_L2P              0.0                0.0   \n",
       "...                                 ...                ...   \n",
       "TTGTTTCACATCCAGG-1_HRC18            0.0                0.0   \n",
       "TTGTTTCATTAGTCTA-1_HRC18            0.0                0.0   \n",
       "TTGTTTCCATACAACT-1_HRC18            0.0                0.0   \n",
       "TTGTTTGTATTACACG-1_HRC18            0.0                0.0   \n",
       "TTGTTTGTGTAAATTC-1_HRC18            0.0                0.0   \n",
       "\n",
       "                          log1p_total_counts_ribo  pct_counts_ribo  \\\n",
       "AAACAACGAATAGTTC-1_L2P                        0.0              0.0   \n",
       "AAACAAGTATCTCCCA-1_L2P                        0.0              0.0   \n",
       "AAACAATCTACTAGCA-1_L2P                        0.0              0.0   \n",
       "AAACACCAATAACTGC-1_L2P                        0.0              0.0   \n",
       "AAACAGAGCGACTCCT-1_L2P                        0.0              0.0   \n",
       "...                                           ...              ...   \n",
       "TTGTTTCACATCCAGG-1_HRC18                      0.0              0.0   \n",
       "TTGTTTCATTAGTCTA-1_HRC18                      0.0              0.0   \n",
       "TTGTTTCCATACAACT-1_HRC18                      0.0              0.0   \n",
       "TTGTTTGTATTACACG-1_HRC18                      0.0              0.0   \n",
       "TTGTTTGTGTAAATTC-1_HRC18                      0.0              0.0   \n",
       "\n",
       "                          total_counts_hb  log1p_total_counts_hb  \\\n",
       "AAACAACGAATAGTTC-1_L2P                8.0               2.197225   \n",
       "AAACAAGTATCTCCCA-1_L2P                6.0               1.945910   \n",
       "AAACAATCTACTAGCA-1_L2P                5.0               1.791759   \n",
       "AAACACCAATAACTGC-1_L2P                8.0               2.197225   \n",
       "AAACAGAGCGACTCCT-1_L2P               16.0               2.833213   \n",
       "...                                   ...                    ...   \n",
       "TTGTTTCACATCCAGG-1_HRC18              0.0               0.000000   \n",
       "TTGTTTCATTAGTCTA-1_HRC18              1.0               0.693147   \n",
       "TTGTTTCCATACAACT-1_HRC18              0.0               0.000000   \n",
       "TTGTTTGTATTACACG-1_HRC18              3.0               1.386294   \n",
       "TTGTTTGTGTAAATTC-1_HRC18              0.0               0.000000   \n",
       "\n",
       "                          pct_counts_hb  outlier  mt_outlier leiden  \\\n",
       "AAACAACGAATAGTTC-1_L2P         0.198560    False       False      3   \n",
       "AAACAAGTATCTCCCA-1_L2P         0.231660    False       False      1   \n",
       "AAACAATCTACTAGCA-1_L2P         0.136129    False       False      2   \n",
       "AAACACCAATAACTGC-1_L2P         0.249532    False       False      7   \n",
       "AAACAGAGCGACTCCT-1_L2P         0.612557    False       False      0   \n",
       "...                                 ...      ...         ...    ...   \n",
       "TTGTTTCACATCCAGG-1_HRC18       0.000000    False       False      3   \n",
       "TTGTTTCATTAGTCTA-1_HRC18       0.225225    False       False      3   \n",
       "TTGTTTCCATACAACT-1_HRC18       0.000000    False       False      1   \n",
       "TTGTTTGTATTACACG-1_HRC18       0.356295    False       False      4   \n",
       "TTGTTTGTGTAAATTC-1_HRC18       0.000000    False       False      2   \n",
       "\n",
       "                         leiden_res0_25 leiden_res0_5 sample  \n",
       "AAACAACGAATAGTTC-1_L2P                2             3    L2P  \n",
       "AAACAAGTATCTCCCA-1_L2P                0             1    L2P  \n",
       "AAACAATCTACTAGCA-1_L2P                0             1    L2P  \n",
       "AAACACCAATAACTGC-1_L2P                0             0    L2P  \n",
       "AAACAGAGCGACTCCT-1_L2P                0             0    L2P  \n",
       "...                                 ...           ...    ...  \n",
       "TTGTTTCACATCCAGG-1_HRC18              0             0  HRC18  \n",
       "TTGTTTCATTAGTCTA-1_HRC18              0             0  HRC18  \n",
       "TTGTTTCCATACAACT-1_HRC18              0             0  HRC18  \n",
       "TTGTTTGTATTACACG-1_HRC18              0             2  HRC18  \n",
       "TTGTTTGTGTAAATTC-1_HRC18              0             2  HRC18  \n",
       "\n",
       "[91068 rows x 23 columns]"
      ]
     },
     "execution_count": 7,
     "metadata": {},
     "output_type": "execute_result"
    }
   ],
   "source": [
    "adata_concat_hrc_sq.obs"
   ]
  },
  {
   "cell_type": "code",
   "execution_count": 8,
   "id": "fcdc9abd-66d9-406d-9c7e-5b951230c4f8",
   "metadata": {},
   "outputs": [
    {
     "data": {
      "text/html": [
       "<div>\n",
       "<style scoped>\n",
       "    .dataframe tbody tr th:only-of-type {\n",
       "        vertical-align: middle;\n",
       "    }\n",
       "\n",
       "    .dataframe tbody tr th {\n",
       "        vertical-align: top;\n",
       "    }\n",
       "\n",
       "    .dataframe thead th {\n",
       "        text-align: right;\n",
       "    }\n",
       "</style>\n",
       "<table border=\"1\" class=\"dataframe\">\n",
       "  <thead>\n",
       "    <tr style=\"text-align: right;\">\n",
       "      <th></th>\n",
       "      <th>feature_types</th>\n",
       "      <th>genome</th>\n",
       "      <th>mt</th>\n",
       "      <th>ribo</th>\n",
       "      <th>hb</th>\n",
       "      <th>SYMBOL</th>\n",
       "    </tr>\n",
       "    <tr>\n",
       "      <th>gene_ids</th>\n",
       "      <th></th>\n",
       "      <th></th>\n",
       "      <th></th>\n",
       "      <th></th>\n",
       "      <th></th>\n",
       "      <th></th>\n",
       "    </tr>\n",
       "  </thead>\n",
       "  <tbody>\n",
       "    <tr>\n",
       "      <th>ENSG00000187634</th>\n",
       "      <td>Gene Expression</td>\n",
       "      <td>GRCh38</td>\n",
       "      <td>False</td>\n",
       "      <td>False</td>\n",
       "      <td>False</td>\n",
       "      <td>SAMD11</td>\n",
       "    </tr>\n",
       "    <tr>\n",
       "      <th>ENSG00000188976</th>\n",
       "      <td>Gene Expression</td>\n",
       "      <td>GRCh38</td>\n",
       "      <td>False</td>\n",
       "      <td>False</td>\n",
       "      <td>False</td>\n",
       "      <td>NOC2L</td>\n",
       "    </tr>\n",
       "    <tr>\n",
       "      <th>ENSG00000187961</th>\n",
       "      <td>Gene Expression</td>\n",
       "      <td>GRCh38</td>\n",
       "      <td>False</td>\n",
       "      <td>False</td>\n",
       "      <td>False</td>\n",
       "      <td>KLHL17</td>\n",
       "    </tr>\n",
       "    <tr>\n",
       "      <th>ENSG00000187583</th>\n",
       "      <td>Gene Expression</td>\n",
       "      <td>GRCh38</td>\n",
       "      <td>False</td>\n",
       "      <td>False</td>\n",
       "      <td>False</td>\n",
       "      <td>PLEKHN1</td>\n",
       "    </tr>\n",
       "    <tr>\n",
       "      <th>ENSG00000187642</th>\n",
       "      <td>Gene Expression</td>\n",
       "      <td>GRCh38</td>\n",
       "      <td>False</td>\n",
       "      <td>False</td>\n",
       "      <td>False</td>\n",
       "      <td>PERM1</td>\n",
       "    </tr>\n",
       "    <tr>\n",
       "      <th>...</th>\n",
       "      <td>...</td>\n",
       "      <td>...</td>\n",
       "      <td>...</td>\n",
       "      <td>...</td>\n",
       "      <td>...</td>\n",
       "      <td>...</td>\n",
       "    </tr>\n",
       "    <tr>\n",
       "      <th>ENSG00000258992</th>\n",
       "      <td>Gene Expression</td>\n",
       "      <td>GRCh38</td>\n",
       "      <td>False</td>\n",
       "      <td>False</td>\n",
       "      <td>False</td>\n",
       "      <td>TSPY1</td>\n",
       "    </tr>\n",
       "    <tr>\n",
       "      <th>ENSG00000114374</th>\n",
       "      <td>Gene Expression</td>\n",
       "      <td>GRCh38</td>\n",
       "      <td>False</td>\n",
       "      <td>False</td>\n",
       "      <td>False</td>\n",
       "      <td>USP9Y</td>\n",
       "    </tr>\n",
       "    <tr>\n",
       "      <th>ENSG00000067048</th>\n",
       "      <td>Gene Expression</td>\n",
       "      <td>GRCh38</td>\n",
       "      <td>False</td>\n",
       "      <td>False</td>\n",
       "      <td>False</td>\n",
       "      <td>DDX3Y</td>\n",
       "    </tr>\n",
       "    <tr>\n",
       "      <th>ENSG00000154620</th>\n",
       "      <td>Gene Expression</td>\n",
       "      <td>GRCh38</td>\n",
       "      <td>False</td>\n",
       "      <td>False</td>\n",
       "      <td>False</td>\n",
       "      <td>TMSB4Y</td>\n",
       "    </tr>\n",
       "    <tr>\n",
       "      <th>ENSG00000012817</th>\n",
       "      <td>Gene Expression</td>\n",
       "      <td>GRCh38</td>\n",
       "      <td>False</td>\n",
       "      <td>False</td>\n",
       "      <td>False</td>\n",
       "      <td>KDM5D</td>\n",
       "    </tr>\n",
       "  </tbody>\n",
       "</table>\n",
       "<p>17943 rows × 6 columns</p>\n",
       "</div>"
      ],
      "text/plain": [
       "                   feature_types  genome     mt   ribo     hb   SYMBOL\n",
       "gene_ids                                                              \n",
       "ENSG00000187634  Gene Expression  GRCh38  False  False  False   SAMD11\n",
       "ENSG00000188976  Gene Expression  GRCh38  False  False  False    NOC2L\n",
       "ENSG00000187961  Gene Expression  GRCh38  False  False  False   KLHL17\n",
       "ENSG00000187583  Gene Expression  GRCh38  False  False  False  PLEKHN1\n",
       "ENSG00000187642  Gene Expression  GRCh38  False  False  False    PERM1\n",
       "...                          ...     ...    ...    ...    ...      ...\n",
       "ENSG00000258992  Gene Expression  GRCh38  False  False  False    TSPY1\n",
       "ENSG00000114374  Gene Expression  GRCh38  False  False  False    USP9Y\n",
       "ENSG00000067048  Gene Expression  GRCh38  False  False  False    DDX3Y\n",
       "ENSG00000154620  Gene Expression  GRCh38  False  False  False   TMSB4Y\n",
       "ENSG00000012817  Gene Expression  GRCh38  False  False  False    KDM5D\n",
       "\n",
       "[17943 rows x 6 columns]"
      ]
     },
     "execution_count": 8,
     "metadata": {},
     "output_type": "execute_result"
    }
   ],
   "source": [
    "adata_concat_hrc_sq.var"
   ]
  },
  {
   "cell_type": "code",
   "execution_count": 9,
   "id": "d8f4297e-8c82-4382-873a-5a83e6f0856e",
   "metadata": {},
   "outputs": [],
   "source": [
    "#adata_concat_hrc_sq.var = adata_concat_hrc_sq.var[[\"SYMBOL\",\"feature_types\",\"genome\"]]"
   ]
  },
  {
   "cell_type": "code",
   "execution_count": 10,
   "id": "2cfeeba0-6011-4938-82aa-6c1e49db4313",
   "metadata": {},
   "outputs": [],
   "source": [
    "#Add metadata columns\n",
    "adata_concat_hrc_sq.obs['condition'] = adata_concat_hrc_sq.obs['sample'].isin(covid)\n",
    "adata_concat_hrc_sq.obs['condition_acute'] = adata_concat_hrc_sq.obs['sample'].isin(acute)\n",
    "adata_concat_hrc_sq.obs['condition_proliferative'] = adata_concat_hrc_sq.obs['sample'].isin(proliferative)\n",
    "adata_concat_hrc_sq.obs['origin'] = adata_concat_hrc_sq.obs['sample'].isin(spain)\n",
    "adata_concat_hrc_sq.obs['batch1'] = adata_concat_hrc_sq.obs['sample'].isin(batch1)\n",
    "adata_concat_hrc_sq.obs['batch2'] = adata_concat_hrc_sq.obs['sample'].isin(batch2)\n",
    "adata_concat_hrc_sq.obs['batch3'] = adata_concat_hrc_sq.obs['sample'].isin(batch3)\n",
    "adata_concat_hrc_sq.obs['batch'] = np.where(adata_concat_hrc_sq.obs['batch1'] == True, 'batch1', (np.where(adata_concat_hrc_sq.obs['batch2'] == True, 'batch2', 'batch3')))\n",
    "adata_concat_hrc_sq.obs['origin'] = np.where(adata_concat_hrc_sq.obs['origin'] == True, 'Spain', 'Sweden')\n",
    "adata_concat_hrc_sq.obs['condition'] = np.where(adata_concat_hrc_sq.obs['condition'] == True, 'COVID-19', 'Control')\n",
    "adata_concat_hrc_sq.obs['condition_subtype'] = np.where(adata_concat_hrc_sq.obs['condition_acute'] == True, 'Acute', (np.where(adata_concat_hrc_sq.obs['condition_proliferative'] == True, 'Proliferative', 'Control')))\n"
   ]
  },
  {
   "cell_type": "code",
   "execution_count": 11,
   "id": "082a722a-ead3-480d-a491-6a8bbc41c9fc",
   "metadata": {},
   "outputs": [
    {
     "data": {
      "text/plain": [
       "condition_subtype  sample  \n",
       "Proliferative      HRC10       4668\n",
       "                   L11P        4621\n",
       "Acute              L12P        4555\n",
       "Proliferative      L2P         4524\n",
       "Acute              HRC18       4462\n",
       "                   HRC2        4459\n",
       "Proliferative      HRC12       4364\n",
       "                   HRC17       4341\n",
       "Acute              HRC4        4311\n",
       "Control            L3C         4265\n",
       "Proliferative      HRC11       4072\n",
       "                   HRC8        4042\n",
       "                   HRC16       3978\n",
       "                   HRC5        3946\n",
       "Control            L2C         3894\n",
       "Proliferative      HRC6        3843\n",
       "                   HRC13       3760\n",
       "Acute              L14P        3594\n",
       "Proliferative      L19P        3470\n",
       "Acute              L5P         3446\n",
       "Control            L14C        3299\n",
       "Acute              L24P        3124\n",
       "Control            CONTROL2    2030\n",
       "dtype: int64"
      ]
     },
     "execution_count": 11,
     "metadata": {},
     "output_type": "execute_result"
    }
   ],
   "source": [
    "adata_concat_hrc_sq.obs[['condition_subtype',\"sample\"]].value_counts()"
   ]
  },
  {
   "cell_type": "markdown",
   "id": "b53d2eb3-d990-4779-9e99-da9caf4c74e1",
   "metadata": {},
   "source": [
    "### We make a copy of tha anndata object to start working"
   ]
  },
  {
   "cell_type": "code",
   "execution_count": 12,
   "id": "2bbb9d61-f3c9-4162-8650-8cfaed497d88",
   "metadata": {},
   "outputs": [],
   "source": [
    "adata = adata_concat_hrc_sq.copy()"
   ]
  },
  {
   "cell_type": "markdown",
   "id": "0a8aa4dd-6548-4c9c-86f5-657e87c257aa",
   "metadata": {},
   "source": [
    "### Because of the concatenation we need to re-normalise the data. Here we just normalise using global scaling by the total counts per cell and shifted logarithm."
   ]
  },
  {
   "cell_type": "code",
   "execution_count": 13,
   "id": "01386d89-a872-4454-af90-bbb11ca17581",
   "metadata": {},
   "outputs": [
    {
     "data": {
      "text/plain": [
       "Layers with keys: log1p_norm, raw_counts"
      ]
     },
     "execution_count": 13,
     "metadata": {},
     "output_type": "execute_result"
    }
   ],
   "source": [
    "adata.layers"
   ]
  },
  {
   "cell_type": "code",
   "execution_count": 14,
   "id": "bac40a39-d2da-469e-99f7-6210b137b0ed",
   "metadata": {},
   "outputs": [],
   "source": [
    "adata.X = adata.layers[\"raw_counts\"].copy()"
   ]
  },
  {
   "cell_type": "code",
   "execution_count": 15,
   "id": "b5d76c11-b451-4039-aa98-46d4ad805404",
   "metadata": {},
   "outputs": [],
   "source": [
    "scales_counts = sc.pp.normalize_total(adata, target_sum=None, inplace=False)\n",
    "# log1p transform\n",
    "adata.layers[\"log1p_norm\"] = sc.pp.log1p(scales_counts[\"X\"], copy=True)"
   ]
  },
  {
   "cell_type": "code",
   "execution_count": 16,
   "id": "e1de0522-3505-4311-96e4-892921e010e9",
   "metadata": {},
   "outputs": [
    {
     "data": {
      "text/plain": [
       "AnnData object with n_obs × n_vars = 91068 × 17943\n",
       "    obs: 'in_tissue', 'array_row', 'array_col', 'n_genes_by_counts', 'log1p_n_genes_by_counts', 'total_counts', 'log1p_total_counts', 'pct_counts_in_top_20_genes', 'total_counts_mt', 'log1p_total_counts_mt', 'pct_counts_mt', 'total_counts_ribo', 'log1p_total_counts_ribo', 'pct_counts_ribo', 'total_counts_hb', 'log1p_total_counts_hb', 'pct_counts_hb', 'outlier', 'mt_outlier', 'leiden', 'leiden_res0_25', 'leiden_res0_5', 'sample', 'condition', 'condition_acute', 'condition_proliferative', 'origin', 'batch1', 'batch2', 'batch3', 'batch', 'condition_subtype'\n",
       "    var: 'feature_types', 'genome', 'mt', 'ribo', 'hb', 'SYMBOL'\n",
       "    uns: 'dendrogram_leiden', 'hvg', 'leiden', 'neighbors', 'pca', 'rank_genes_groups', 'spatial', 'tsne', 'umap'\n",
       "    obsm: 'X_pca', 'X_tsne', 'X_umap', 'spatial'\n",
       "    layers: 'log1p_norm', 'raw_counts'"
      ]
     },
     "execution_count": 16,
     "metadata": {},
     "output_type": "execute_result"
    }
   ],
   "source": [
    "adata"
   ]
  },
  {
   "cell_type": "markdown",
   "id": "6a3caa61-dddb-4fb0-8bfd-40bf5ebab248",
   "metadata": {},
   "source": [
    "# Preprocess concatenated data\n",
    "#### It is always recommended to look at the raw data before performing any integration. This can give some indication of how big any batch effects are and what might be causing them (and therefore which variables to consider as the batch label)."
   ]
  },
  {
   "cell_type": "markdown",
   "id": "8f454a37-8e22-4eeb-9d34-7d929fa61b65",
   "metadata": {},
   "source": [
    "## FEATURE SELECTION USING DEVIANCE"
   ]
  },
  {
   "cell_type": "markdown",
   "id": "64d0c126-619b-4a21-9ec4-da1ed3d2e0fe",
   "metadata": {},
   "source": [
    "### Deviance works on raw counts so there is no need to replace adata.X with one of the normalized layers."
   ]
  },
  {
   "cell_type": "code",
   "execution_count": 17,
   "id": "08abec96-0a37-4f61-bfbb-9006a7507ae2",
   "metadata": {},
   "outputs": [],
   "source": [
    "#TIP when transforming from anndata to R (https://github.com/theislab/anndata2ri/issues/50): \n",
    "#Ensure all of the dtypes on any pandas dataframe within your anndata object are NOT object type. \n",
    "#Cast any numpy.ndarray objects within your anndata object to scipy.sparse.csc_matrix. "
   ]
  },
  {
   "cell_type": "code",
   "execution_count": 18,
   "id": "2d04b4c8-11a2-4f93-9f10-d900a4f65fe6",
   "metadata": {},
   "outputs": [],
   "source": [
    "#Create new object\n",
    "adata_deviance = adata.copy()"
   ]
  },
  {
   "cell_type": "code",
   "execution_count": 19,
   "id": "72e2de91-03fd-456a-970a-f83d683b96e5",
   "metadata": {},
   "outputs": [
    {
     "data": {
      "text/plain": [
       "array([[ 692, 1779],\n",
       "       [5769, 6704],\n",
       "       [1008, 3338],\n",
       "       ...,\n",
       "       [5429, 2431],\n",
       "       [8255, 3224],\n",
       "       [1609, 3843]])"
      ]
     },
     "execution_count": 19,
     "metadata": {},
     "output_type": "execute_result"
    }
   ],
   "source": [
    "adata_deviance.obsm[\"spatial\"]"
   ]
  },
  {
   "cell_type": "code",
   "execution_count": 20,
   "id": "720dd4b3-08bc-4338-85c6-8976d1982041",
   "metadata": {},
   "outputs": [],
   "source": [
    "#Transform object to int for R import\n",
    "adata_deviance.obsm[\"spatial\"] = adata_deviance.obsm[\"spatial\"].astype(str).astype(int)"
   ]
  },
  {
   "cell_type": "code",
   "execution_count": 21,
   "id": "e46f2f63-cae2-4df4-b76f-625997de02c9",
   "metadata": {},
   "outputs": [
    {
     "data": {
      "text/plain": [
       "array([[ 692, 1779],\n",
       "       [5769, 6704],\n",
       "       [1008, 3338],\n",
       "       ...,\n",
       "       [5429, 2431],\n",
       "       [8255, 3224],\n",
       "       [1609, 3843]])"
      ]
     },
     "execution_count": 21,
     "metadata": {},
     "output_type": "execute_result"
    }
   ],
   "source": [
    "adata_deviance.obsm[\"spatial\"]"
   ]
  },
  {
   "cell_type": "code",
   "execution_count": 22,
   "id": "d2613208-b79f-46a3-9712-909a9945cdd0",
   "metadata": {},
   "outputs": [],
   "source": [
    "# Delete uns as this can contain arbitrary objects which are difficult to convert\n",
    "del adata_deviance.uns"
   ]
  },
  {
   "cell_type": "code",
   "execution_count": 23,
   "id": "29d993b4-3c90-4c4c-a27c-150a611b136c",
   "metadata": {},
   "outputs": [
    {
     "data": {
      "text/plain": [
       "AnnData object with n_obs × n_vars = 91068 × 17943\n",
       "    obs: 'in_tissue', 'array_row', 'array_col', 'n_genes_by_counts', 'log1p_n_genes_by_counts', 'total_counts', 'log1p_total_counts', 'pct_counts_in_top_20_genes', 'total_counts_mt', 'log1p_total_counts_mt', 'pct_counts_mt', 'total_counts_ribo', 'log1p_total_counts_ribo', 'pct_counts_ribo', 'total_counts_hb', 'log1p_total_counts_hb', 'pct_counts_hb', 'outlier', 'mt_outlier', 'leiden', 'leiden_res0_25', 'leiden_res0_5', 'sample', 'condition', 'condition_acute', 'condition_proliferative', 'origin', 'batch1', 'batch2', 'batch3', 'batch', 'condition_subtype'\n",
       "    var: 'feature_types', 'genome', 'mt', 'ribo', 'hb', 'SYMBOL'\n",
       "    obsm: 'X_pca', 'X_tsne', 'X_umap', 'spatial'\n",
       "    layers: 'log1p_norm', 'raw_counts'"
      ]
     },
     "execution_count": 23,
     "metadata": {},
     "output_type": "execute_result"
    }
   ],
   "source": [
    "adata_deviance"
   ]
  },
  {
   "cell_type": "code",
   "execution_count": 24,
   "id": "c077d052-6d5d-4660-ac42-eb9500fab00b",
   "metadata": {},
   "outputs": [
    {
     "data": {
      "text/plain": [
       "array(['scry', 'tools', 'stats', 'graphics', 'grDevices', 'utils',\n",
       "       'datasets', 'methods', 'base'], dtype='<U9')"
      ]
     },
     "execution_count": 24,
     "metadata": {},
     "output_type": "execute_result"
    }
   ],
   "source": [
    "%R library(scry)"
   ]
  },
  {
   "cell_type": "code",
   "execution_count": 25,
   "id": "1eb0d111-c4db-474d-acf9-ebf413a24c6d",
   "metadata": {},
   "outputs": [],
   "source": [
    "#Similar to before, we save the AnnData object in our R environment (you may need to run this cell twice, i.e: sometimes it raises an error)\n",
    "ro.globalenv[\"adata_deviance\"] = adata_deviance"
   ]
  },
  {
   "cell_type": "code",
   "execution_count": 26,
   "id": "a1619c18-6185-4512-882b-362a59a41609",
   "metadata": {},
   "outputs": [
    {
     "data": {
      "text/plain": [
       "AnnData object with n_obs × n_vars = 91068 × 17943\n",
       "    obs: 'in_tissue', 'array_row', 'array_col', 'n_genes_by_counts', 'log1p_n_genes_by_counts', 'total_counts', 'log1p_total_counts', 'pct_counts_in_top_20_genes', 'total_counts_mt', 'log1p_total_counts_mt', 'pct_counts_mt', 'total_counts_ribo', 'log1p_total_counts_ribo', 'pct_counts_ribo', 'total_counts_hb', 'log1p_total_counts_hb', 'pct_counts_hb', 'outlier', 'mt_outlier', 'leiden', 'leiden_res0_25', 'leiden_res0_5', 'sample', 'condition', 'condition_acute', 'condition_proliferative', 'origin', 'batch1', 'batch2', 'batch3', 'batch', 'condition_subtype'\n",
       "    var: 'feature_types', 'genome', 'mt', 'ribo', 'hb', 'SYMBOL', 'binomial_deviance'\n",
       "    obsm: 'X_pca', 'X_tsne', 'X_umap', 'spatial'\n",
       "    layers: 'log1p_norm', 'raw_counts'"
      ]
     },
     "execution_count": 26,
     "metadata": {},
     "output_type": "execute_result"
    }
   ],
   "source": [
    "#We can now directly call feature selection with deviance on the non-normalized counts matrix and export the bionomial deviance values as a vector.\n",
    "%R sce = devianceFeatureSelection(adata_deviance, assay=\"X\")"
   ]
  },
  {
   "cell_type": "code",
   "execution_count": 27,
   "id": "0eaa7cec-cd83-43c4-8f54-e15b79befae2",
   "metadata": {},
   "outputs": [],
   "source": [
    "binomial_deviance = ro.r(\"rowData(sce)$binomial_deviance\").T"
   ]
  },
  {
   "cell_type": "code",
   "execution_count": 28,
   "id": "f0129551-5c0d-4a0e-af53-c843e35e4015",
   "metadata": {},
   "outputs": [],
   "source": [
    "#As a next step, we now sort the vector an select the top 6,000 highly deviant genes and save them as an additional column in .var as ‘highly_deviant’. \n",
    "#We additionally save the computed binomial deviance in case we want to sub-select a different number of highly variable genes afterwards."
   ]
  },
  {
   "cell_type": "code",
   "execution_count": 29,
   "id": "1eb01e56-8ab5-41d3-adc3-956dfa30c00c",
   "metadata": {},
   "outputs": [],
   "source": [
    "idx = binomial_deviance.argsort()[-6000:]\n",
    "mask = np.zeros(adata.var_names.shape, dtype=bool)\n",
    "mask[idx] = True\n",
    "\n",
    "adata.var[\"highly_deviant\"] = mask\n",
    "adata.var[\"binomial_deviance\"] = binomial_deviance"
   ]
  },
  {
   "cell_type": "code",
   "execution_count": 30,
   "id": "239aa456-efd7-4391-963b-cf9da8af612c",
   "metadata": {},
   "outputs": [],
   "source": [
    "#Last, we visualise the feature selection results. We use a scanpy function to compute the mean and dispersion for each gene accross all cells.\n",
    "sc.pp.highly_variable_genes(adata, layer=\"log1p_norm\")"
   ]
  },
  {
   "cell_type": "code",
   "execution_count": 31,
   "id": "2c9361d0-46d6-4c07-8019-773c4590e704",
   "metadata": {},
   "outputs": [
    {
     "data": {
      "text/plain": [
       "AnnData object with n_obs × n_vars = 91068 × 17943\n",
       "    obs: 'in_tissue', 'array_row', 'array_col', 'n_genes_by_counts', 'log1p_n_genes_by_counts', 'total_counts', 'log1p_total_counts', 'pct_counts_in_top_20_genes', 'total_counts_mt', 'log1p_total_counts_mt', 'pct_counts_mt', 'total_counts_ribo', 'log1p_total_counts_ribo', 'pct_counts_ribo', 'total_counts_hb', 'log1p_total_counts_hb', 'pct_counts_hb', 'outlier', 'mt_outlier', 'leiden', 'leiden_res0_25', 'leiden_res0_5', 'sample', 'condition', 'condition_acute', 'condition_proliferative', 'origin', 'batch1', 'batch2', 'batch3', 'batch', 'condition_subtype'\n",
       "    var: 'feature_types', 'genome', 'mt', 'ribo', 'hb', 'SYMBOL', 'highly_deviant', 'binomial_deviance', 'highly_variable', 'means', 'dispersions', 'dispersions_norm'\n",
       "    uns: 'dendrogram_leiden', 'hvg', 'leiden', 'neighbors', 'pca', 'rank_genes_groups', 'spatial', 'tsne', 'umap'\n",
       "    obsm: 'X_pca', 'X_tsne', 'X_umap', 'spatial'\n",
       "    layers: 'log1p_norm', 'raw_counts'"
      ]
     },
     "execution_count": 31,
     "metadata": {},
     "output_type": "execute_result"
    }
   ],
   "source": [
    "adata"
   ]
  },
  {
   "cell_type": "markdown",
   "id": "dc67a6fb-a6f8-475a-9a5c-773bec3441e9",
   "metadata": {},
   "source": [
    "## Create directory to save results with the concatenated object"
   ]
  },
  {
   "cell_type": "code",
   "execution_count": 32,
   "id": "1862a830-8b5b-48df-9496-8693d6b1a005",
   "metadata": {},
   "outputs": [],
   "source": [
    "folder = \"Concatenation_6000_hdg\" #We create a folder to save outputs with the concatenated annData"
   ]
  },
  {
   "cell_type": "code",
   "execution_count": 33,
   "id": "919b47c4-1016-4227-aead-b07b4f7beb1d",
   "metadata": {},
   "outputs": [],
   "source": [
    "directory = f\"{folder}\"\n",
    "# Check if the directory exists\n",
    "if not os.path.exists(directory):\n",
    "    # If it doesn't exist, create it\n",
    "    os.makedirs(directory)"
   ]
  },
  {
   "cell_type": "code",
   "execution_count": 34,
   "id": "f1ee6054-9c8a-4ae8-8db9-a7c6bf23a036",
   "metadata": {},
   "outputs": [],
   "source": [
    "#We inspect our results by plotting dispersion versus mean for the genes and color by ‘highly_deviant’.\n",
    "with plt.rc_context():  # Use this to set figure params like size and dpi\n",
    "    sns.scatterplot(data=adata.var, x=\"means\", y=\"dispersions\", hue=\"highly_deviant\", s=5)\n",
    "    #ax.set_xlim(None, 1.5)\n",
    "    #ax.set_ylim(None, 3)\n",
    "    plt.savefig(f\"{folder}/{folder}_highly_deviant_genes.png\",dpi=300, format=\"png\")\n",
    "    plt.close()"
   ]
  },
  {
   "cell_type": "code",
   "execution_count": 35,
   "id": "d9a6d99c-dc60-4ec9-aa26-01291922e791",
   "metadata": {},
   "outputs": [],
   "source": [
    "#We observe that genes with a high mean expression are selected as highly deviant. "
   ]
  },
  {
   "cell_type": "markdown",
   "id": "c1ed4778-5c84-4c93-9985-07bcb295f6f9",
   "metadata": {},
   "source": [
    "## We will create an object with just the highly deviant (most informative) genes to use for integration."
   ]
  },
  {
   "cell_type": "code",
   "execution_count": 36,
   "id": "e8ff5284-f8f4-4491-a91a-0a80ed6882c7",
   "metadata": {},
   "outputs": [
    {
     "data": {
      "text/plain": [
       "AnnData object with n_obs × n_vars = 91068 × 6000\n",
       "    obs: 'in_tissue', 'array_row', 'array_col', 'n_genes_by_counts', 'log1p_n_genes_by_counts', 'total_counts', 'log1p_total_counts', 'pct_counts_in_top_20_genes', 'total_counts_mt', 'log1p_total_counts_mt', 'pct_counts_mt', 'total_counts_ribo', 'log1p_total_counts_ribo', 'pct_counts_ribo', 'total_counts_hb', 'log1p_total_counts_hb', 'pct_counts_hb', 'outlier', 'mt_outlier', 'leiden', 'leiden_res0_25', 'leiden_res0_5', 'sample', 'condition', 'condition_acute', 'condition_proliferative', 'origin', 'batch1', 'batch2', 'batch3', 'batch', 'condition_subtype'\n",
       "    var: 'feature_types', 'genome', 'mt', 'ribo', 'hb', 'SYMBOL', 'highly_deviant', 'binomial_deviance', 'highly_variable', 'means', 'dispersions', 'dispersions_norm'\n",
       "    uns: 'dendrogram_leiden', 'hvg', 'leiden', 'neighbors', 'pca', 'rank_genes_groups', 'spatial', 'tsne', 'umap'\n",
       "    obsm: 'X_pca', 'X_tsne', 'X_umap', 'spatial'\n",
       "    layers: 'log1p_norm', 'raw_counts'"
      ]
     },
     "execution_count": 36,
     "metadata": {},
     "output_type": "execute_result"
    }
   ],
   "source": [
    "adata_hdg = adata[:, adata.var[\"highly_deviant\"]].copy()\n",
    "adata_hdg"
   ]
  },
  {
   "cell_type": "markdown",
   "id": "4a30ee7d-1ab2-41bf-a23b-4014b09c400c",
   "metadata": {},
   "source": [
    "### DIMENSIONALITY REDUCTION"
   ]
  },
  {
   "cell_type": "code",
   "execution_count": 37,
   "id": "cf8ec1a8-fdfa-434b-ba0f-85548ee425bb",
   "metadata": {},
   "outputs": [],
   "source": [
    "#We will use a normalized representation of the dataset for dimensionality reduction and visualization, specifically the shifted logarithm.\n",
    "adata_hdg.X = adata_hdg.layers[\"log1p_norm\"]"
   ]
  },
  {
   "cell_type": "markdown",
   "id": "cd015d6e-9770-47b0-bffa-2b5d8b3511f2",
   "metadata": {},
   "source": [
    "### PCA"
   ]
  },
  {
   "cell_type": "code",
   "execution_count": 38,
   "id": "eb0aa23d-7a24-4440-93da-2a1b04df9e8b",
   "metadata": {},
   "outputs": [],
   "source": [
    "# setting highly variable as highly deviant\n",
    "#adata_hdg.var[\"highly_variable\"] = adata_hdg.var[\"highly_deviant\"]"
   ]
  },
  {
   "cell_type": "code",
   "execution_count": 39,
   "id": "33a4be3e-379c-41a1-9f17-7fb2a00c9643",
   "metadata": {},
   "outputs": [
    {
     "data": {
      "text/plain": [
       "highly_variable  highly_deviant\n",
       "False            True              5331\n",
       "True             True               669\n",
       "dtype: int64"
      ]
     },
     "execution_count": 39,
     "metadata": {},
     "output_type": "execute_result"
    }
   ],
   "source": [
    "adata_hdg.var[[\"highly_variable\", \"highly_deviant\"]].value_counts()"
   ]
  },
  {
   "cell_type": "code",
   "execution_count": 40,
   "id": "67222efc-602f-42ac-96c7-1a279f23466a",
   "metadata": {},
   "outputs": [],
   "source": [
    "sc.pp.pca(adata_hdg, svd_solver=\"arpack\")"
   ]
  },
  {
   "cell_type": "markdown",
   "id": "e4f2bbc0-c2ec-4127-9c2b-113909809ba1",
   "metadata": {},
   "source": [
    "### t-SNE"
   ]
  },
  {
   "cell_type": "code",
   "execution_count": 41,
   "id": "5b67c21b-f471-4287-b75e-1a07288a1bce",
   "metadata": {},
   "outputs": [],
   "source": [
    "sc.tl.tsne(adata_hdg, use_rep=\"X_pca\")"
   ]
  },
  {
   "cell_type": "markdown",
   "id": "d6c31ded-4a26-4f1a-b43f-5747d4fe97e8",
   "metadata": {},
   "source": [
    "### UMAP"
   ]
  },
  {
   "cell_type": "code",
   "execution_count": 42,
   "id": "6c8c665b-6509-424d-8361-e914aa0a2552",
   "metadata": {
    "scrolled": true
   },
   "outputs": [
    {
     "name": "stderr",
     "output_type": "stream",
     "text": [
      "/Users/carlosgarciaprieto/anaconda3/envs/squidpy/lib/python3.11/site-packages/umap/distances.py:1063: NumbaDeprecationWarning: The 'nopython' keyword argument was not supplied to the 'numba.jit' decorator. The implicit default value for this argument is currently False, but it will be changed to True in Numba 0.59.0. See https://numba.readthedocs.io/en/stable/reference/deprecation.html#deprecation-of-object-mode-fall-back-behaviour-when-using-jit for details.\n",
      "  @numba.jit()\n",
      "/Users/carlosgarciaprieto/anaconda3/envs/squidpy/lib/python3.11/site-packages/umap/distances.py:1071: NumbaDeprecationWarning: The 'nopython' keyword argument was not supplied to the 'numba.jit' decorator. The implicit default value for this argument is currently False, but it will be changed to True in Numba 0.59.0. See https://numba.readthedocs.io/en/stable/reference/deprecation.html#deprecation-of-object-mode-fall-back-behaviour-when-using-jit for details.\n",
      "  @numba.jit()\n",
      "/Users/carlosgarciaprieto/anaconda3/envs/squidpy/lib/python3.11/site-packages/umap/distances.py:1086: NumbaDeprecationWarning: The 'nopython' keyword argument was not supplied to the 'numba.jit' decorator. The implicit default value for this argument is currently False, but it will be changed to True in Numba 0.59.0. See https://numba.readthedocs.io/en/stable/reference/deprecation.html#deprecation-of-object-mode-fall-back-behaviour-when-using-jit for details.\n",
      "  @numba.jit()\n",
      "/Users/carlosgarciaprieto/anaconda3/envs/squidpy/lib/python3.11/site-packages/tqdm/auto.py:21: TqdmWarning: IProgress not found. Please update jupyter and ipywidgets. See https://ipywidgets.readthedocs.io/en/stable/user_install.html\n",
      "  from .autonotebook import tqdm as notebook_tqdm\n",
      "/Users/carlosgarciaprieto/anaconda3/envs/squidpy/lib/python3.11/site-packages/umap/umap_.py:660: NumbaDeprecationWarning: The 'nopython' keyword argument was not supplied to the 'numba.jit' decorator. The implicit default value for this argument is currently False, but it will be changed to True in Numba 0.59.0. See https://numba.readthedocs.io/en/stable/reference/deprecation.html#deprecation-of-object-mode-fall-back-behaviour-when-using-jit for details.\n",
      "  @numba.jit()\n"
     ]
    }
   ],
   "source": [
    "#We first calculate PCA and subsequently a neighborhood graph on our data.\n",
    "sc.pp.neighbors(adata_hdg)\n",
    "sc.tl.umap(adata_hdg)"
   ]
  },
  {
   "cell_type": "markdown",
   "id": "0848d6bd-abc5-41d5-8c85-35cb3d52d7e2",
   "metadata": {},
   "source": [
    "### Inspecting potential batch effect to identify batch variables to consider for integration"
   ]
  },
  {
   "cell_type": "code",
   "execution_count": 43,
   "id": "fab83a91-99e9-4726-8719-12ad1f3e8734",
   "metadata": {},
   "outputs": [
    {
     "name": "stderr",
     "output_type": "stream",
     "text": [
      "/Users/carlosgarciaprieto/anaconda3/envs/squidpy/lib/python3.11/site-packages/scanpy/plotting/_tools/scatterplots.py:392: UserWarning: No data for colormapping provided via 'c'. Parameters 'cmap' will be ignored\n",
      "  cax = scatter(\n",
      "/Users/carlosgarciaprieto/anaconda3/envs/squidpy/lib/python3.11/site-packages/scanpy/plotting/_tools/scatterplots.py:392: UserWarning: No data for colormapping provided via 'c'. Parameters 'cmap' will be ignored\n",
      "  cax = scatter(\n",
      "/Users/carlosgarciaprieto/anaconda3/envs/squidpy/lib/python3.11/site-packages/scanpy/plotting/_tools/scatterplots.py:392: UserWarning: No data for colormapping provided via 'c'. Parameters 'cmap' will be ignored\n",
      "  cax = scatter(\n"
     ]
    }
   ],
   "source": [
    "#We can now also inspect the batch effect in our PCA, TSNE or UMAP plot and potentially identify batch variables.\n",
    "with plt.rc_context():  \n",
    "    plt.rcParams[\"figure.figsize\"] = (4, 4)\n",
    "    sc.pl.pca_scatter(adata_hdg,color=[\"batch\", \"condition_subtype\", \"sample\"], show=False, wspace=1)\n",
    "    plt.savefig(f\"{folder}/{folder}_PCA_dimensionality_reduction_hdg_batch.png\",dpi=300, format=\"png\")\n",
    "    plt.close()"
   ]
  },
  {
   "cell_type": "code",
   "execution_count": 44,
   "id": "e76b5b84-9bd1-4cec-8825-9e6e14176d8c",
   "metadata": {},
   "outputs": [
    {
     "name": "stderr",
     "output_type": "stream",
     "text": [
      "/Users/carlosgarciaprieto/anaconda3/envs/squidpy/lib/python3.11/site-packages/scanpy/plotting/_tools/scatterplots.py:392: UserWarning: No data for colormapping provided via 'c'. Parameters 'cmap' will be ignored\n",
      "  cax = scatter(\n",
      "/Users/carlosgarciaprieto/anaconda3/envs/squidpy/lib/python3.11/site-packages/scanpy/plotting/_tools/scatterplots.py:392: UserWarning: No data for colormapping provided via 'c'. Parameters 'cmap' will be ignored\n",
      "  cax = scatter(\n",
      "/Users/carlosgarciaprieto/anaconda3/envs/squidpy/lib/python3.11/site-packages/scanpy/plotting/_tools/scatterplots.py:392: UserWarning: No data for colormapping provided via 'c'. Parameters 'cmap' will be ignored\n",
      "  cax = scatter(\n"
     ]
    }
   ],
   "source": [
    "with plt.rc_context():  \n",
    "    plt.rcParams[\"figure.figsize\"] = (4, 4)\n",
    "    sc.pl.tsne(adata_hdg,color=[\"batch\", \"condition_subtype\", \"sample\"], show=False, wspace=1)\n",
    "    plt.savefig(f\"{folder}/{folder}_tSNE_dimensionality_reduction_hdg_batch.png\",dpi=300, format=\"png\")\n",
    "    plt.close()"
   ]
  },
  {
   "cell_type": "code",
   "execution_count": 45,
   "id": "9f52d5a8-f29c-459d-bd14-942dc3e4e5e5",
   "metadata": {},
   "outputs": [
    {
     "name": "stderr",
     "output_type": "stream",
     "text": [
      "/Users/carlosgarciaprieto/anaconda3/envs/squidpy/lib/python3.11/site-packages/scanpy/plotting/_tools/scatterplots.py:392: UserWarning: No data for colormapping provided via 'c'. Parameters 'cmap' will be ignored\n",
      "  cax = scatter(\n",
      "/Users/carlosgarciaprieto/anaconda3/envs/squidpy/lib/python3.11/site-packages/scanpy/plotting/_tools/scatterplots.py:392: UserWarning: No data for colormapping provided via 'c'. Parameters 'cmap' will be ignored\n",
      "  cax = scatter(\n",
      "/Users/carlosgarciaprieto/anaconda3/envs/squidpy/lib/python3.11/site-packages/scanpy/plotting/_tools/scatterplots.py:392: UserWarning: No data for colormapping provided via 'c'. Parameters 'cmap' will be ignored\n",
      "  cax = scatter(\n"
     ]
    }
   ],
   "source": [
    "with plt.rc_context():  \n",
    "    plt.rcParams[\"figure.figsize\"] = (4, 4)\n",
    "    sc.pl.umap(adata_hdg,color=[\"batch\", \"condition_subtype\", \"sample\"], show=False, wspace=1)\n",
    "    plt.savefig(f\"{folder}/{folder}_UMAP_dimensionality_reduction_hdg_batch.png\",dpi=300, format=\"png\")\n",
    "    plt.close()"
   ]
  },
  {
   "cell_type": "markdown",
   "id": "d6c451e7-80a4-4507-980b-d29dc2ab2fbd",
   "metadata": {},
   "source": [
    "### CLUSTERING"
   ]
  },
  {
   "cell_type": "code",
   "execution_count": 46,
   "id": "2d9cbc2d-2707-43a6-b00f-7db94860487e",
   "metadata": {},
   "outputs": [],
   "source": [
    "#We call Leiden algorithm\n",
    "sc.tl.leiden(adata_hdg, key_added=\"leiden_concat_hdg_res1\", resolution=1.0)"
   ]
  },
  {
   "cell_type": "code",
   "execution_count": 47,
   "id": "9daa3b31-2a24-4b7f-92e8-98ec9b46f97d",
   "metadata": {},
   "outputs": [],
   "source": [
    "#The default resolution parameter in scanpy is 1.0. \n",
    "#However, in many cases the analyst may want to try different resolution parameters to control the coarseness of the clustering. \n",
    "sc.tl.leiden(adata_hdg, key_added=\"leiden_concat_hdg_res0_25\", resolution=0.25)\n",
    "sc.tl.leiden(adata_hdg, key_added=\"leiden_concat_hdg_res0_5\", resolution=0.5)\n",
    "#sc.tl.leiden(adata, key_added=\"leiden_res1\", resolution=1.0)"
   ]
  },
  {
   "cell_type": "code",
   "execution_count": 48,
   "id": "bc9e7d67-d93a-4093-b4d9-197de5c3deee",
   "metadata": {},
   "outputs": [
    {
     "name": "stderr",
     "output_type": "stream",
     "text": [
      "/Users/carlosgarciaprieto/anaconda3/envs/squidpy/lib/python3.11/site-packages/scanpy/plotting/_tools/scatterplots.py:392: UserWarning: No data for colormapping provided via 'c'. Parameters 'cmap' will be ignored\n",
      "  cax = scatter(\n",
      "/Users/carlosgarciaprieto/anaconda3/envs/squidpy/lib/python3.11/site-packages/scanpy/plotting/_tools/scatterplots.py:392: UserWarning: No data for colormapping provided via 'c'. Parameters 'cmap' will be ignored\n",
      "  cax = scatter(\n",
      "/Users/carlosgarciaprieto/anaconda3/envs/squidpy/lib/python3.11/site-packages/scanpy/plotting/_tools/scatterplots.py:392: UserWarning: No data for colormapping provided via 'c'. Parameters 'cmap' will be ignored\n",
      "  cax = scatter(\n"
     ]
    }
   ],
   "source": [
    "#Visualize clustering\n",
    "with plt.rc_context():  # Use this to set figure params like size and dpi\n",
    "    plt.rcParams[\"figure.figsize\"] = (4, 4)\n",
    "    sc.pl.umap(adata_hdg,color=[\"leiden_concat_hdg_res0_25\", \"leiden_concat_hdg_res0_5\", \"leiden_concat_hdg_res1\"],legend_loc=\"on data\", show=False)\n",
    "    plt.savefig(f\"{folder}/{folder}_leiden_community_res_hdg.png\",dpi=300, format=\"png\")\n",
    "    plt.close()"
   ]
  },
  {
   "cell_type": "markdown",
   "id": "e0d734b8-32de-4257-a7b9-53e52e79a366",
   "metadata": {},
   "source": [
    "### Save concatenated anndata object with highly deviant genes"
   ]
  },
  {
   "cell_type": "code",
   "execution_count": 49,
   "id": "62d24a17-2673-44f6-8741-004a9c823ad5",
   "metadata": {},
   "outputs": [],
   "source": [
    "adata_hdg.write_h5ad(f'{folder}/Concatenation_adata_hdg_6000.h5ad', compression='gzip')"
   ]
  }
 ],
 "metadata": {
  "kernelspec": {
   "display_name": "squidpy",
   "language": "python",
   "name": "squidpy"
  },
  "language_info": {
   "codemirror_mode": {
    "name": "ipython",
    "version": 3
   },
   "file_extension": ".py",
   "mimetype": "text/x-python",
   "name": "python",
   "nbconvert_exporter": "python",
   "pygments_lexer": "ipython3",
   "version": "3.11.3"
  }
 },
 "nbformat": 4,
 "nbformat_minor": 5
}
