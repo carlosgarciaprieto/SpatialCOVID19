{
 "cells": [
  {
   "cell_type": "markdown",
   "metadata": {},
   "source": [
    "# Spatial transcriptomics unveils the in situ cellular and molecular hallmarks of the lung in fatal COVID-19"
   ]
  },
  {
   "cell_type": "markdown",
   "metadata": {},
   "source": [
    "# Differential analysis of cell populations"
   ]
  },
  {
   "cell_type": "markdown",
   "metadata": {},
   "source": [
    "**Author:** Carlos A. Garcia-Prieto\n",
    "\n",
    "* This notebook explains how to evaluate cell population changes across biological conditions using [scCODA](https://github.com/theislab/scCODA) to perform compositional data analysis on the estimated cell-type abundances. The scCODA model determine statistically credible effects.\n",
    "* We followed scCODA [import and visualization](https://sccoda.readthedocs.io/en/latest/Data_import_and_visualization.html) and [compositional analysis](https://sccoda.readthedocs.io/en/latest/getting_started.html) tutorials."
   ]
  },
  {
   "cell_type": "markdown",
   "metadata": {},
   "source": [
    "## Import modules"
   ]
  },
  {
   "cell_type": "code",
   "execution_count": 1,
   "metadata": {
    "pycharm": {
     "name": "#%%\n"
    }
   },
   "outputs": [
    {
     "name": "stderr",
     "output_type": "stream",
     "text": [
      "2024-07-18 18:25:48.531238: I tensorflow/core/util/port.cc:153] oneDNN custom operations are on. You may see slightly different numerical results due to floating-point round-off errors from different computation orders. To turn them off, set the environment variable `TF_ENABLE_ONEDNN_OPTS=0`.\n",
      "2024-07-18 18:25:48.578237: I tensorflow/core/platform/cpu_feature_guard.cc:210] This TensorFlow binary is optimized to use available CPU instructions in performance-critical operations.\n",
      "To enable the following instructions: AVX2 AVX512F AVX512_VNNI AVX512_BF16 AVX512_FP16 AVX_VNNI AMX_TILE AMX_INT8 AMX_BF16 FMA, in other operations, rebuild TensorFlow with the appropriate compiler flags.\n",
      "2024-07-18 18:25:49.253467: W tensorflow/compiler/tf2tensorrt/utils/py_utils.cc:38] TF-TRT Warning: Could not find TensorRT\n"
     ]
    }
   ],
   "source": [
    "import warnings\n",
    "warnings.filterwarnings(\"ignore\")\n",
    "import pandas as pd\n",
    "import anndata as ad\n",
    "from sccoda.util import cell_composition_data as dat\n",
    "from sccoda.util import data_visualization as viz\n",
    "import scanpy as sc\n",
    "import numpy as np\n",
    "import tensorflow as tf\n",
    "import matplotlib.pyplot as plt\n",
    "import seaborn as sns\n",
    "#!pip install colorcet\n",
    "import colorcet as cc\n",
    "import matplotlib as mpl\n",
    "from matplotlib import cm\n",
    "from matplotlib.colors import ListedColormap,LinearSegmentedColormap\n",
    "import pickle as pkl\n",
    "from sccoda.util import comp_ana as mod\n",
    "import sccoda.datasets as scd\n",
    "pd.set_option('display.max_rows',50)\n",
    "pd.set_option('display.max_columns',50)"
   ]
  },
  {
   "cell_type": "markdown",
   "metadata": {
    "pycharm": {
     "name": "#%% md\n"
    }
   },
   "source": [
    "## Import exported cell type abundances estimated with cell2location\n",
    "### To export estimated cell type abundances to a pandas Dataframe for import with scCODA, we used the total abundance (columns) of each cell type (Figure 2A) or lineage (Figure 1D) per sample (row), including a column with disease condition group. \n",
    "### To import data from a pandas DataFrame (with each row representing a sample), it is sufficient to specify the names of the metadata (covariate columns)."
   ]
  },
  {
   "cell_type": "code",
   "execution_count": 2,
   "metadata": {},
   "outputs": [],
   "source": [
    "#Read data into pandas from csv\n",
    "counts_folder = \"/gpfs/scratch/bsc59/MN4/bsc59/bsc59829/Spatial/COVID/Jupyterlab/HLCA_publication/\"\n",
    "cell_counts = pd.read_csv(f\"{counts_folder}proportions_c2l_finest_format_scCODA_order_significance.csv\", index_col = 0) #For cell type abundance (Figure 2A)\n",
    "#cell_counts = pd.read_csv(f\"{counts_folder}proportions_c2l_finest_format_scCODA_order_significance_lineages.csv\", index_col = 0) #For lineage abundance (Figure 1D)"
   ]
  },
  {
   "cell_type": "code",
   "execution_count": 3,
   "metadata": {},
   "outputs": [],
   "source": [
    "#Import and select covariate columns\n",
    "data = dat.from_pandas(cell_counts, covariate_columns=[\"Sample\",\"Condition\",\"Condition2\"])"
   ]
  },
  {
   "cell_type": "markdown",
   "metadata": {},
   "source": [
    "## Create color palette for plotting"
   ]
  },
  {
   "cell_type": "code",
   "execution_count": 4,
   "metadata": {},
   "outputs": [],
   "source": [
    "#Set same color palette used in all figures for all 45 cell types:\n",
    "col_dict = {'AT1': '#8c3bff',\n",
    " 'AT2': '#018700',\n",
    " 'AT0': '#d60000',\n",
    " 'AT2 proliferating': '#00acc6',\n",
    " 'Basal resting': '#0000dd',\n",
    " 'Club (non-nasal)': '#95b577',\n",
    " 'Deuterosomal': '#790000',\n",
    " 'Multiciliated (non-nasal)': '#5900a3',\n",
    " 'Multiciliated (non-nasal)': '#5900a3', \n",
    " 'pre-TB secretory': '#93b8b5',\n",
    " 'Suprabasal': '#bde6bf',\n",
    " 'EC aerocyte capillary': '#0774d8',\n",
    " 'EC general capillary': '#004b00',\n",
    " 'EC arterial': '#fdf490',\n",
    " 'EC venous pulmonary': '#8e7900',\n",
    " 'EC venous systemic': '#ff7266',\n",
    " 'Lymphatic EC differentiating': '#790000', \n",
    " 'Lymphatic EC mature': '#5d7e66',\n",
    " 'NK cells': '#9e4b00',\n",
    " 'Interstitial Mph perivascular': '#edb8b8',\n",
    " 'Monocyte-derived Mph': '#a57bb8',\n",
    " 'Non-classical monocytes': '#9c3b4f',\n",
    " 'Alveolar Mph CCL3+': '#ff7ed1',\n",
    " 'Alveolar Mph MT-positive': '#6b004f',\n",
    " 'CD4 T cells': '#00fdcf',\n",
    " 'CD8 T cells': '#a17569',\n",
    " 'Alveolar macrophages': '#573b00',\n",
    " 'Alveolar Mph proliferating': '#645474', \n",
    " 'B cells': '#005659',\n",
    " 'Classical monocytes': '#bcb6ff',     \n",
    " 'DC1': '#bf03b8',\n",
    " 'DC2': '#645474',\n",
    " 'Mast cells': '#9ae4ff',\n",
    " 'Migratory DCs': '#eb0077',\n",
    " 'Plasma cells': '#00af89',\n",
    " 'Plasmacytoid DCs': '#8287ff',\n",
    " 'T cells proliferating': '#db6d01',\n",
    " 'Peribronchial fibroblasts': '#cac300',\n",
    " 'Alveolar fibroblasts': '#ffa52f',\n",
    " 'Pericytes': '#708297',\n",
    " 'Subpleural fibroblasts': '#fdbfff',\n",
    " 'Adventitial fibroblasts': '#97ff00',\n",
    " 'Mesothelium': '#e452ff', \n",
    " 'Myofibroblasts': '#03c600',\n",
    " 'SM activated stress response': '#5d363b',\n",
    " 'Smooth muscle': '#380000'}"
   ]
  },
  {
   "cell_type": "markdown",
   "metadata": {
    "pycharm": {
     "name": "#%% md\n"
    }
   },
   "source": [
    "## Compositional data visualization\n",
    "### Stacked barplot"
   ]
  },
  {
   "cell_type": "code",
   "execution_count": 5,
   "metadata": {},
   "outputs": [],
   "source": [
    "#Create color palette for lineage and cell types\n",
    "pal_celltype = sns.color_palette(col_dict.values(), n_colors=48) \n",
    "pal_celltype_hex = list(map(mpl.colors.rgb2hex, pal_celltype))\n",
    "\n",
    "pal_lineage = sns.color_palette(['#97ff00','#d60000','#ffa52f','#005659'], n_colors=4) \n",
    "pal_lineage_hex = list(map(mpl.colors.rgb2hex, pal_lineage))"
   ]
  },
  {
   "cell_type": "code",
   "execution_count": 6,
   "metadata": {},
   "outputs": [],
   "source": [
    "#Create the colormap\n",
    "cm = LinearSegmentedColormap.from_list('my_list_celltype', pal_celltype, N=45)\n",
    "#cm = LinearSegmentedColormap.from_list('my_list_lineage', pal_lineage, N=4) #For lineage abundances (Figure 1D)"
   ]
  },
  {
   "cell_type": "markdown",
   "metadata": {},
   "source": [
    "<div class=\"alert alert-info\">\n",
    "<b>Paper Figure!</b>\n",
    "Panel Figure 2A (cell types) and Figure 1D (lineage)\n",
    "</div>"
   ]
  },
  {
   "cell_type": "code",
   "execution_count": 7,
   "metadata": {},
   "outputs": [],
   "source": [
    "# Stacked barplot for the levels of \"Condition2\"\n",
    "viz.stacked_barplot(data, feature_name=\"Condition2\", figsize=[12,12], cmap=cm)\n",
    "#plt.show()\n",
    "plt.savefig(f\"{counts_folder}scCODA_stacked_boxplots_finest_Condition2_Paper.png\",dpi=300, format=\"png\",pad_inches=0.2,bbox_inches=\"tight\")\n",
    "plt.close()"
   ]
  },
  {
   "cell_type": "markdown",
   "metadata": {
    "pycharm": {
     "name": "#%% md\n"
    }
   },
   "source": [
    "### Grouped box plots by condition"
   ]
  },
  {
   "cell_type": "code",
   "execution_count": 8,
   "metadata": {},
   "outputs": [],
   "source": [
    "#Create color palette with same colors in all figures for each condition\n",
    "pal2 = sns.color_palette(['#ff7c00','#023eff','#1ac938'], n_colors=3) \n",
    "pal2_hex = list(map(mpl.colors.rgb2hex, pal2))"
   ]
  },
  {
   "cell_type": "code",
   "execution_count": 9,
   "metadata": {},
   "outputs": [],
   "source": [
    "#Create the colormap\n",
    "cm2 = LinearSegmentedColormap.from_list('my_list2', pal2, N=3)"
   ]
  },
  {
   "cell_type": "markdown",
   "metadata": {},
   "source": [
    "<div class=\"alert alert-info\">\n",
    "<b>Paper Figure!</b>\n",
    "Panel Figure 2A (cell types)\n",
    "</div>"
   ]
  },
  {
   "cell_type": "code",
   "execution_count": 10,
   "metadata": {},
   "outputs": [],
   "source": [
    "#Plot grouped boxplots\n",
    "viz.boxplots(\n",
    "    data,\n",
    "    feature_name=\"Condition2\",\n",
    "    plot_facets=False,\n",
    "    y_scale=\"relative\",\n",
    "    add_dots=False,\n",
    "    figsize=[8,4], \n",
    "    cmap=pal2 \n",
    ")\n",
    "plt.savefig(f\"{counts_folder}scCODA_boxplots_finest_Condition2_Paper.png\",dpi=300, format=\"png\",pad_inches=0.2,bbox_inches=\"tight\")\n",
    "plt.close()"
   ]
  },
  {
   "cell_type": "markdown",
   "metadata": {},
   "source": [
    "# Compositional data analysis\n",
    "## Model setup and inference\n",
    "### Finding a reference cell type\n",
    "The scCODA model requires a cell type to be set as the reference category. It is used to specify a cell type that is believed to be unchanged by the covariates. We used automatic reference cell type estimation. For the model formula parameter, we simply use the disease condition covariate of our dataset."
   ]
  },
  {
   "cell_type": "code",
   "execution_count": 11,
   "metadata": {
    "collapsed": false,
    "jupyter": {
     "outputs_hidden": false
    }
   },
   "outputs": [
    {
     "name": "stdout",
     "output_type": "stream",
     "text": [
      "Automatic reference selection! Reference cell type set to Migratory DCs\n"
     ]
    },
    {
     "name": "stderr",
     "output_type": "stream",
     "text": [
      "2024-07-18 18:25:53.069734: E external/local_xla/xla/stream_executor/cuda/cuda_driver.cc:266] failed call to cuInit: CUDA_ERROR_NO_DEVICE: no CUDA-capable device is detected\n"
     ]
    }
   ],
   "source": [
    "model_cond = mod.CompositionalAnalysis(data, formula=\"C(Condition2, Treatment('Control'))\", reference_cell_type=\"automatic\") #Control samples as control group (Ctl vs acute DAD & Ctl vs proliferative DAD)\n",
    "#model_cond = mod.CompositionalAnalysis(data, formula=\"C(Condition2, Treatment('COVID-19_acute'))\", reference_cell_type=\"automatic\") #Acute DAD samples as control group (Acute DAD vs proliferative DAD)"
   ]
  },
  {
   "cell_type": "code",
   "execution_count": 12,
   "metadata": {
    "collapsed": false,
    "jupyter": {
     "outputs_hidden": false
    }
   },
   "outputs": [
    {
     "name": "stderr",
     "output_type": "stream",
     "text": [
      "WARNING: All log messages before absl::InitializeLog() is called are written to STDERR\n",
      "I0000 00:00:1721319955.030685 1426100 service.cc:145] XLA service 0x7f9e88007630 initialized for platform Host (this does not guarantee that XLA will be used). Devices:\n",
      "I0000 00:00:1721319955.030770 1426100 service.cc:153]   StreamExecutor device (0): Host, Default Version\n",
      "  0%|                                                                                                                                   | 0/20000 [00:00<?, ?it/s]2024-07-18 18:25:55.090965: I tensorflow/compiler/mlir/tensorflow/utils/dump_mlir_util.cc:268] disabling MLIR crash reproducer, set env var `MLIR_CRASH_REPRODUCER_DIRECTORY` to enable.\n",
      "I0000 00:00:1721319955.704186 1426100 device_compiler.h:188] Compiled cluster using XLA!  This line is logged at most once for the lifetime of the process.\n",
      "100%|██████████████████████████████████████████████████████████████████████████████████████████████████████████████████████| 20000/20000 [01:29<00:00, 223.29it/s]\n"
     ]
    },
    {
     "name": "stdout",
     "output_type": "stream",
     "text": [
      "MCMC sampling finished. (113.877 sec)\n",
      "Acceptance rate: 56.1%\n"
     ]
    }
   ],
   "source": [
    "#Run scCODA model\n",
    "results = model_cond.sample_hmc()"
   ]
  },
  {
   "cell_type": "markdown",
   "metadata": {
    "pycharm": {
     "name": "#%% md\n"
    }
   },
   "source": [
    "### Save results"
   ]
  },
  {
   "cell_type": "code",
   "execution_count": 13,
   "metadata": {},
   "outputs": [],
   "source": [
    "#Save results\n",
    "results.intercept_df.to_csv(f\"{counts_folder}scCODA_results_intercept_MigratoryDCs_ControlasControlGroup_Paper.csv\", index=True)\n",
    "#results.intercept_df.to_csv(f\"{counts_folder}scCODA_results_intercept_MigratoryDCs_AcuteasControlGroup_Paper.csv\", index=True)"
   ]
  },
  {
   "cell_type": "code",
   "execution_count": 14,
   "metadata": {},
   "outputs": [],
   "source": [
    "#Save credible results (FDR < 0.05)\n",
    "results.credible_effects().to_csv(f\"{counts_folder}scCODA_results_credible_effect_MigratoryDCs_ControlasControlGroup_Paper.csv\", index=True)\n",
    "#results.credible_effects().to_csv(f\"{counts_folder}scCODA_results_credible_effect_MigratoryDCs_AcuteasControlGroup_Paper.csv\", index=True)"
   ]
  }
 ],
 "metadata": {
  "kernelspec": {
   "display_name": "scCODA2024",
   "language": "python",
   "name": "sccoda2024"
  },
  "language_info": {
   "codemirror_mode": {
    "name": "ipython",
    "version": 3
   },
   "file_extension": ".py",
   "mimetype": "text/x-python",
   "name": "python",
   "nbconvert_exporter": "python",
   "pygments_lexer": "ipython3",
   "version": "3.9.16"
  }
 },
 "nbformat": 4,
 "nbformat_minor": 4
}
